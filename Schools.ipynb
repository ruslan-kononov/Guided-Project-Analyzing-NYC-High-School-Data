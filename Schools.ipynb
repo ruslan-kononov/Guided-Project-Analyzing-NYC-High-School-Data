{
 "cells": [
  {
   "cell_type": "markdown",
   "metadata": {},
   "source": [
    "# Academic success in high schools: What drives differences in SAT-scores across NYC?\n",
    "## Motivation \n",
    "The results of the standardized \"SAT\"-exam is used by US-colleges to determine which high school graduates they admit. \n",
    "Understanding if there are any unintended patterns or reasons discriminating against certain groups of students is an important step to making the US education system more equal - something the US Department of Education states as a \"formidable challenge\".\n",
    "\n",
    "To be an informed citizen on this matter and to refine my python skills, I want to know:\n",
    "- Which factors drive differences in SAT-scores and thus opportunities to attend (selective) US-colleges?\n",
    "\n",
    "## Methodology\n",
    "\n",
    "This analysis will use descriptive statistics (e.g. mean, correlations) and data visualizations (e.g. scatter plots, bar charts, maps) to explore the following datasets on NYC high schools:\n",
    "\n",
    "- <a href='https://data.cityofnewyork.us/Education/2012-SAT-Results/f9bf-2cp4'>SAT scores by school - SAT scores for each high school in New York City</a>\n",
    "- <a href='https://data.cityofnewyork.us/Education/2010-2011-School-Attendance-and-Enrollment-Statist/7z8d-msnt'>School attendance - Attendance information for each school in New York City</a>\n",
    "- <a href='https://data.cityofnewyork.us/Education/2010-2011-Class-Size-School-level-detail/urz7-pzb3'>Class size - Information on class size for each school</a>\n",
    "- <a href='https://data.cityofnewyork.us/Education/2010-AP-College-Board-School-Level-Results/itfs-ms3e'>AP test results - Advanced Placement (AP) exam results for each high school (passing an optional AP exam in a particular subject can earn a student college credit in that subject)</a>\n",
    "- <a href='https://data.cityofnewyork.us/Education/2005-2010-Graduation-Outcomes-School-Level/vh2h-md7a'>Graduation outcomes - The percentage of students who graduated, and other outcome information</a>\n",
    "- <a href='https://data.cityofnewyork.us/Education/2006-2012-School-Demographics-and-Accountability-S/ihfw-zy9j'>Demographics - Demographic information for each school</a>\n",
    "- <a href='https://data.cityofnewyork.us/Education/2011-NYC-School-Survey/mnz3-dyi8'>School survey - Surveys of parents, teachers, and students at each school</a>\n",
    "\n",
    "__NB!This project is carried out according to the <a href='https://www.dataquest.io'>dataquest</a> instructions.__\n",
    "\n",
    "## Findings\n",
    "\n",
    "The main findings are:\n",
    "\n",
    "- Consistent with serious research, Hispanic and black students are at a disadvantage. They are schooled in less safe neighbourhoods and less often admitted to their borough's elite high schools.\n",
    "- There are no achievement gaps on the SAT between male and female students.\n",
    "- Advanced Placement (AP) courses are not always good preparation for SAT-tests.\n",
    "\n",
    "## Data Exploration\n",
    "### Read in the data"
   ]
  },
  {
   "cell_type": "code",
   "execution_count": 1,
   "metadata": {},
   "outputs": [
    {
     "data": {
      "text/html": [
       "        <script type=\"text/javascript\">\n",
       "        window.PlotlyConfig = {MathJaxConfig: 'local'};\n",
       "        if (window.MathJax) {MathJax.Hub.Config({SVG: {font: \"STIX-Web\"}});}\n",
       "        if (typeof require !== 'undefined') {\n",
       "        require.undef(\"plotly\");\n",
       "        requirejs.config({\n",
       "            paths: {\n",
       "                'plotly': ['https://cdn.plot.ly/plotly-latest.min']\n",
       "            }\n",
       "        });\n",
       "        require(['plotly'], function(Plotly) {\n",
       "            window._Plotly = Plotly;\n",
       "        });\n",
       "        }\n",
       "        </script>\n",
       "        "
      ]
     },
     "metadata": {},
     "output_type": "display_data"
    }
   ],
   "source": [
    "import pandas as pd\n",
    "import numpy\n",
    "import re\n",
    "\n",
    "# enable visualizations\n",
    "import matplotlib.pyplot as plt\n",
    "import seaborn as sns\n",
    "from mpl_toolkits.basemap import Basemap\n",
    "import plotly as py\n",
    "import plotly.express as px\n",
    "import plotly.graph_objs as go\n",
    "import plotly.offline as pyo\n",
    "from plotly.offline import download_plotlyjs, init_notebook_mode, plot, iplot\n",
    "\n",
    "# enable image export\n",
    "import os \n",
    "\n",
    "\n",
    "pyo.init_notebook_mode(connected=True)\n",
    "\n",
    "if not os.path.exists(\"images\"):\n",
    "    os.mkdir(\"images\")\n",
    "\n",
    "data_files = [\n",
    "    \"ap_2010.csv\",\n",
    "    \"class_size.csv\",\n",
    "    \"demographics.csv\",\n",
    "    \"graduation.csv\",\n",
    "    \"hs_directory.csv\",\n",
    "    \"sat_results.csv\"\n",
    "]\n",
    "\n",
    "data = {}\n",
    "\n",
    "for f in data_files:\n",
    "    d = pd.read_csv(\"schools/{0}\".format(f))\n",
    "    data[f.replace(\".csv\", \"\")] = d"
   ]
  },
  {
   "cell_type": "markdown",
   "metadata": {},
   "source": [
    "### Read in the surveys"
   ]
  },
  {
   "cell_type": "code",
   "execution_count": 2,
   "metadata": {},
   "outputs": [
    {
     "name": "stderr",
     "output_type": "stream",
     "text": [
      "/Applications/anaconda3/lib/python3.6/site-packages/ipykernel_launcher.py:3: FutureWarning:\n",
      "\n",
      "Sorting because non-concatenation axis is not aligned. A future version\n",
      "of pandas will change to not sort by default.\n",
      "\n",
      "To accept the future behavior, pass 'sort=True'.\n",
      "\n",
      "To retain the current behavior and silence the warning, pass sort=False\n",
      "\n",
      "\n"
     ]
    }
   ],
   "source": [
    "all_survey = pd.read_csv(\"schools/survey_all.txt\", delimiter=\"\\t\", encoding='windows-1252')\n",
    "d75_survey = pd.read_csv(\"schools/survey_d75.txt\", delimiter=\"\\t\", encoding='windows-1252')\n",
    "survey = pd.concat([all_survey, d75_survey], axis=0)\n",
    "\n",
    "survey[\"DBN\"] = survey[\"dbn\"]\n",
    "\n",
    "survey_fields = [\n",
    "    \"DBN\", \n",
    "    \"rr_s\", \n",
    "    \"rr_t\", \n",
    "    \"rr_p\", \n",
    "    \"N_s\", \n",
    "    \"N_t\", \n",
    "    \"N_p\", \n",
    "    \"saf_p_11\", \n",
    "    \"com_p_11\", \n",
    "    \"eng_p_11\", \n",
    "    \"aca_p_11\", \n",
    "    \"saf_t_11\", \n",
    "    \"com_t_11\", \n",
    "    \"eng_t_11\", \n",
    "    \"aca_t_11\", \n",
    "    \"saf_s_11\", \n",
    "    \"com_s_11\", \n",
    "    \"eng_s_11\", \n",
    "    \"aca_s_11\", \n",
    "    \"saf_tot_11\", \n",
    "    \"com_tot_11\", \n",
    "    \"eng_tot_11\", \n",
    "    \"aca_tot_11\",\n",
    "]\n",
    "survey = survey.loc[:,survey_fields]\n",
    "data[\"survey\"] = survey"
   ]
  },
  {
   "cell_type": "markdown",
   "metadata": {},
   "source": [
    "## Data Cleaning\n",
    "### Add DBN columns"
   ]
  },
  {
   "cell_type": "code",
   "execution_count": 3,
   "metadata": {},
   "outputs": [],
   "source": [
    "data[\"hs_directory\"][\"DBN\"] = data[\"hs_directory\"][\"dbn\"]\n",
    "\n",
    "def pad_csd(num):\n",
    "    string_representation = str(num)\n",
    "    if len(string_representation) > 1:\n",
    "        return string_representation\n",
    "    else:\n",
    "        return \"0\" + string_representation\n",
    "    \n",
    "data[\"class_size\"][\"padded_csd\"] = data[\"class_size\"][\"CSD\"].apply(pad_csd)\n",
    "data[\"class_size\"][\"DBN\"] = data[\"class_size\"][\"padded_csd\"] + data[\"class_size\"][\"SCHOOL CODE\"]"
   ]
  },
  {
   "cell_type": "markdown",
   "metadata": {},
   "source": [
    "### Convert columns to numeric"
   ]
  },
  {
   "cell_type": "code",
   "execution_count": 4,
   "metadata": {},
   "outputs": [],
   "source": [
    "cols = ['SAT Math Avg. Score', 'SAT Critical Reading Avg. Score', 'SAT Writing Avg. Score']\n",
    "for c in cols:\n",
    "    data[\"sat_results\"][c] = pd.to_numeric(data[\"sat_results\"][c], errors=\"coerce\")\n",
    "\n",
    "data['sat_results']['sat_score'] = data['sat_results'][cols[0]] + data['sat_results'][cols[1]] + data['sat_results'][cols[2]]\n",
    "\n",
    "def find_lat(loc):\n",
    "    coords = re.findall(\"\\(.+, .+\\)\", loc)\n",
    "    lat = coords[0].split(\",\")[0].replace(\"(\", \"\")\n",
    "    return lat\n",
    "\n",
    "def find_lon(loc):\n",
    "    coords = re.findall(\"\\(.+, .+\\)\", loc)\n",
    "    lon = coords[0].split(\",\")[1].replace(\")\", \"\").strip()\n",
    "    return lon\n",
    "\n",
    "data[\"hs_directory\"][\"lat\"] = data[\"hs_directory\"][\"Location 1\"].apply(find_lat)\n",
    "data[\"hs_directory\"][\"lon\"] = data[\"hs_directory\"][\"Location 1\"].apply(find_lon)\n",
    "\n",
    "data[\"hs_directory\"][\"lat\"] = pd.to_numeric(data[\"hs_directory\"][\"lat\"], errors=\"coerce\")\n",
    "data[\"hs_directory\"][\"lon\"] = pd.to_numeric(data[\"hs_directory\"][\"lon\"], errors=\"coerce\")"
   ]
  },
  {
   "cell_type": "markdown",
   "metadata": {},
   "source": [
    "### Condense datasets"
   ]
  },
  {
   "cell_type": "code",
   "execution_count": 5,
   "metadata": {},
   "outputs": [],
   "source": [
    "class_size = data[\"class_size\"]\n",
    "class_size = class_size[class_size[\"GRADE \"] == \"09-12\"]\n",
    "class_size = class_size[class_size[\"PROGRAM TYPE\"] == \"GEN ED\"]\n",
    "\n",
    "class_size = class_size.groupby(\"DBN\").agg(numpy.mean)\n",
    "class_size.reset_index(inplace=True)\n",
    "data[\"class_size\"] = class_size\n",
    "\n",
    "data[\"demographics\"] = data[\"demographics\"][data[\"demographics\"][\"schoolyear\"] == 20112012]\n",
    "\n",
    "data[\"graduation\"] = data[\"graduation\"][data[\"graduation\"][\"Cohort\"] == \"2006\"]\n",
    "data[\"graduation\"] = data[\"graduation\"][data[\"graduation\"][\"Demographic\"] == \"Total Cohort\"]"
   ]
  },
  {
   "cell_type": "markdown",
   "metadata": {},
   "source": [
    "### Convert AP scores to numeric"
   ]
  },
  {
   "cell_type": "code",
   "execution_count": 6,
   "metadata": {},
   "outputs": [],
   "source": [
    "cols = ['AP Test Takers ', 'Total Exams Taken', 'Number of Exams with scores 3 4 or 5']\n",
    "\n",
    "for col in cols:\n",
    "    data[\"ap_2010\"][col] = pd.to_numeric(data[\"ap_2010\"][col], errors=\"coerce\")"
   ]
  },
  {
   "cell_type": "markdown",
   "metadata": {},
   "source": [
    "### Combine the datasets"
   ]
  },
  {
   "cell_type": "code",
   "execution_count": 7,
   "metadata": {},
   "outputs": [],
   "source": [
    "combined = data[\"sat_results\"]\n",
    "\n",
    "combined = combined.merge(data[\"ap_2010\"], on=\"DBN\", how=\"left\")\n",
    "combined = combined.merge(data[\"graduation\"], on=\"DBN\", how=\"left\")\n",
    "\n",
    "to_merge = [\"class_size\", \"demographics\", \"survey\", \"hs_directory\"]\n",
    "\n",
    "for m in to_merge:\n",
    "    combined = combined.merge(data[m], on=\"DBN\", how=\"inner\")\n",
    "\n",
    "combined = combined.fillna(combined.mean())\n",
    "combined = combined.fillna(0)"
   ]
  },
  {
   "cell_type": "markdown",
   "metadata": {},
   "source": [
    "### Add a school district column for mapping"
   ]
  },
  {
   "cell_type": "code",
   "execution_count": 8,
   "metadata": {},
   "outputs": [],
   "source": [
    "def get_first_two_chars(dbn):\n",
    "    return dbn[0:2]\n",
    "\n",
    "combined[\"school_dist\"] = combined[\"DBN\"].apply(get_first_two_chars)"
   ]
  },
  {
   "cell_type": "markdown",
   "metadata": {},
   "source": [
    "## Data Analysis\n",
    "### Find correlations"
   ]
  },
  {
   "cell_type": "code",
   "execution_count": 9,
   "metadata": {},
   "outputs": [
    {
     "name": "stdout",
     "output_type": "stream",
     "text": [
      "frl_percent                            -0.722225\n",
      "sped_percent                           -0.448170\n",
      "ell_percent                            -0.398750\n",
      "hispanic_per                           -0.396985\n",
      "black_per                              -0.284139\n",
      "ell_num                                -0.153778\n",
      "lon                                    -0.132222\n",
      "lat                                    -0.121029\n",
      "com_p_11                               -0.115073\n",
      "male_per                               -0.112062\n",
      "zip                                    -0.063977\n",
      "rr_t                                   -0.023386\n",
      "eng_p_11                                0.020254\n",
      "hispanic_num                            0.025744\n",
      "black_num                               0.027979\n",
      "sped_num                                0.034933\n",
      "aca_p_11                                0.035155\n",
      "eng_t_11                                0.036906\n",
      "CSD                                     0.042948\n",
      "rr_p                                    0.047925\n",
      "com_tot_11                              0.077310\n",
      "com_t_11                                0.082419\n",
      "eng_tot_11                              0.100102\n",
      "female_per                              0.112108\n",
      "number_programs                         0.117012\n",
      "saf_p_11                                0.122913\n",
      "aca_t_11                                0.132348\n",
      "com_s_11                                0.187370\n",
      "aca_tot_11                              0.190966\n",
      "eng_s_11                                0.213822\n",
      "                                          ...   \n",
      "male_num                                0.325520\n",
      "saf_s_11                                0.337639\n",
      "aca_s_11                                0.339435\n",
      "NUMBER OF SECTIONS                      0.362673\n",
      "total_enrollment                        0.367857\n",
      "AVERAGE CLASS SIZE                      0.381014\n",
      "female_num                              0.388631\n",
      "NUMBER OF STUDENTS / SEATS FILLED       0.394626\n",
      "total_students                          0.407827\n",
      "N_p                                     0.421530\n",
      "N_s                                     0.423463\n",
      "white_num                               0.449559\n",
      "Number of Exams with scores 3 4 or 5    0.463245\n",
      "asian_num                               0.475445\n",
      "Total Exams Taken                       0.514333\n",
      "AP Test Takers                          0.523140\n",
      "asian_per                               0.570730\n",
      "white_per                               0.620718\n",
      "SAT Math Avg. Score                     0.972643\n",
      "SAT Critical Reading Avg. Score         0.986820\n",
      "SAT Writing Avg. Score                  0.987771\n",
      "sat_score                               1.000000\n",
      "SCHOOLWIDE PUPIL-TEACHER RATIO               NaN\n",
      "schoolyear                                   NaN\n",
      "fl_percent                                   NaN\n",
      "grade_span_max                               NaN\n",
      "expgrade_span_max                            NaN\n",
      "priority08                                   NaN\n",
      "priority09                                   NaN\n",
      "priority10                                   NaN\n",
      "Name: sat_score, Length: 67, dtype: float64\n"
     ]
    }
   ],
   "source": [
    "correlations = combined.corr()\n",
    "correlations = correlations[\"sat_score\"].sort_values()\n",
    "print(correlations)"
   ]
  },
  {
   "cell_type": "code",
   "execution_count": 10,
   "metadata": {},
   "outputs": [
    {
     "data": {
      "text/plain": [
       "frl_percent          -0.722225\n",
       "sped_percent         -0.448170\n",
       "ell_percent          -0.398750\n",
       "hispanic_per         -0.396985\n",
       "saf_tot_11            0.318753\n",
       "Total Cohort          0.325144\n",
       "aca_s_11              0.339435\n",
       "NUMBER OF SECTIONS    0.362673\n",
       "total_enrollment      0.367857\n",
       "AVERAGE CLASS SIZE    0.381014\n",
       "total_students        0.407827\n",
       "N_s                   0.423463\n",
       "Total Exams Taken     0.514333\n",
       "AP Test Takers        0.523140\n",
       "Name: sat_score, dtype: float64"
      ]
     },
     "execution_count": 10,
     "metadata": {},
     "output_type": "execute_result"
    }
   ],
   "source": [
    "# columns with considerable correlation\n",
    "corr_cols = ['saf_tot_11', 'Total Cohort', 'aca_s_11', 'NUMBER OF SECTIONS','total_enrollment', \n",
    "             'AVERAGE CLASS SIZE','total_students', 'N_s', 'Total Exams Taken', 'AP Test Takers ',\n",
    "             'frl_percent','sped_percent', 'ell_percent', 'hispanic_per']\n",
    "\n",
    "correlations[corr_cols].sort_values()"
   ]
  },
  {
   "cell_type": "code",
   "execution_count": 11,
   "metadata": {},
   "outputs": [
    {
     "data": {
      "text/plain": [
       "<matplotlib.axes._subplots.AxesSubplot at 0x7f95e2ce2ac8>"
      ]
     },
     "execution_count": 11,
     "metadata": {},
     "output_type": "execute_result"
    },
    {
     "data": {
      "image/png": "[encoded data removed]",
      "text/plain": [
       "<Figure size 432x288 with 2 Axes>"
      ]
     },
     "metadata": {},
     "output_type": "display_data"
    }
   ],
   "source": [
    "corr = combined[corr_cols].corr()\n",
    "\n",
    "# plot the correlation heatmap\n",
    "sns.heatmap(corr, xticklabels=corr.columns, yticklabels=corr.columns, cmap='RdBu')"
   ]
  },
  {
   "cell_type": "markdown",
   "metadata": {},
   "source": [
    "### Plotting survey correlations"
   ]
  },
  {
   "cell_type": "code",
   "execution_count": 12,
   "metadata": {},
   "outputs": [],
   "source": [
    "# Remove DBN since it's a unique identifier, not a useful numerical value for correlation.\n",
    "survey_fields.remove(\"DBN\")"
   ]
  },
  {
   "cell_type": "code",
   "execution_count": 13,
   "metadata": {},
   "outputs": [
    {
     "data": {
      "text/plain": [
       "Text(0.5,1.04,'Correlation of SAT score and \\nthe survey responses')"
      ]
     },
     "execution_count": 13,
     "metadata": {},
     "output_type": "execute_result"
    },
    {
     "data": {
      "image/png": "[encoded data removed]",
      "text/plain": [
       "<Figure size 720x576 with 1 Axes>"
      ]
     },
     "metadata": {},
     "output_type": "display_data"
    }
   ],
   "source": [
    "%matplotlib inline\n",
    "plt.style.use('fivethirtyeight')\n",
    "\n",
    "combined.corr()[\"sat_score\"][survey_fields].sort_values().plot.bar(figsize=(10,8))\n",
    "plt.title(\"Correlation of SAT score and \\nthe survey responses\", y = 1.04)"
   ]
  },
  {
   "cell_type": "markdown",
   "metadata": {},
   "source": [
    "There are high correlations between __N_s__ *(number of student respondents)*, __N_t__ *(number of teacher respondents)*, __N_p__ *(Number of parent respondents)* and __sat_score__. Since these columns are also correlated with __total_enrollment__, it is logical that they would be high.\n",
    "\n",
    "It is more interesting that __rr_s__, *the student response rate*, or the percentage of students that completed the survey, correlates with __sat_score__. Perhaps, students who filled out surveys tend to be more diligent and responsible, so these qualities help them do well academically.\n",
    "\n",
    "Safety perception among students and teachers (__saf_t_11__ and __saf_s_11__) also correlates with __sat_score__. This makes sense, as an unsafe learning environment creates hindrances both for teaching and learning.\n",
    "\n",
    "The last interesting correlation is between __aca_s_11__, which indicates how students perceive academic standards, __sat_score__ columns, but this is not true for __aca_t_11__ *(how teachers perceive academic standards)*, or __aca_p_11__ *(how parents perceive academic standards)*.\n",
    "\n",
    "### Exploring the impact of Safety Perception on the SAT\n",
    "\n",
    "The graph below vividly illustrates that __students from the NYC schools with low safety perception index are less likely to succeed on the SAT__. Moreover, the average SAT score at schools with the safety perception index equal to or lower than 6.5 does not go beyond 1333 (out of 2400). Meanwhile, the average SAT score at schools with relatively higher safety perception index can make up to 2096.\n",
    "\n",
    "Interestingly, __school size__ (total number of students) __does not affect performance on the SAT__. Therefore, students from both big and small schools have an equal chance either to pass or fail the test."
   ]
  },
  {
   "cell_type": "code",
   "execution_count": 14,
   "metadata": {},
   "outputs": [
    {
     "data": {
      "application/vnd.plotly.v1+json": {
       "config": {
        "plotlyServerURL": "https://plot.ly"
       },
       "data": [
        {
         "marker": {
          "color": [
           6.7,
           6.8,
           7.9,
           6.9,
           7.8,
           8.5,
           8.1,
           7,
           7.9,
           7.9,
           6.9,
           7.5,
           7.5,
           6.1,
           7.3,
           7.4,
           6.9,
           8,
           7.5,
           6.8,
           7,
           7.6,
           7.7,
           8.1,
           7.9,
           7.3,
           8.5,
           8.3,
           7.3,
           7.3,
           6.7,
           8.6,
           8.1,
           8.1,
           8.6,
           7.7,
           8.1,
           7.7,
           7.8,
           7.9,
           7.4,
           5.8,
           7.4,
           6.6,
           7.9,
           7.6,
           7.9,
           7.2,
           7.5,
           7.3,
           7.4,
           7.3,
           7.6,
           7,
           6.9,
           7.8,
           6.3,
           7.6,
           6.5,
           7.5,
           8,
           7.7,
           7.3,
           6.8,
           8,
           6.4,
           7.8,
           7.2,
           7.7,
           7.8,
           8.4,
           8.4,
           6.7,
           7.2,
           7.3,
           6.7,
           6,
           6.6,
           7.4,
           8.4,
           8.4,
           7.2,
           8.3,
           8.3,
           7.5,
           7.3,
           7.3,
           7.2,
           6.6,
           8.5,
           7.3,
           7.9,
           7.9,
           7.4,
           8,
           7.5,
           7,
           6.9,
           8.1,
           7.7,
           7,
           6.4,
           7,
           7.3,
           7.2,
           7.6,
           7,
           7.5,
           7.4,
           6.1,
           6.1,
           8.3,
           7,
           7.9,
           7.4,
           7,
           7.6,
           7.4,
           7.4,
           7.8,
           8,
           7.5,
           7.2,
           7.3,
           6.8,
           7.9,
           7.4,
           7.5,
           6.6,
           7.6,
           7.5,
           7,
           7.1,
           7.3,
           6.3,
           7.1,
           7.5,
           6.7,
           7.2,
           7.3,
           7,
           7.8,
           7.5,
           8,
           7.2,
           7.2,
           7.2,
           6.6,
           6.8,
           5.7,
           7.1,
           7.4,
           8,
           8,
           7.6,
           8.7,
           7.6,
           6.6,
           6.8,
           6.1,
           7.4,
           8,
           7,
           6.8,
           7.3,
           6.8,
           7.3,
           7.1,
           7.4,
           7.6,
           6.5,
           7.7,
           7.2,
           8.2,
           7.4,
           8.1,
           7.3,
           8.5,
           7.1,
           8.1,
           8.3,
           6.7,
           7.4,
           7.2,
           6.9,
           7,
           7.6,
           7.5,
           8.4,
           7.6,
           6.5,
           6.9,
           7.8,
           6.6,
           7.4,
           7.1,
           7.1,
           7.1,
           8.2,
           7.7,
           7.1,
           6.5,
           7.2,
           7.2,
           8.3,
           8.2,
           7.8,
           6,
           7.2,
           8.5,
           6.6,
           7.3,
           6.6,
           6.9,
           6.9,
           7.1,
           6.5,
           7.3,
           7.2,
           6.7,
           6.4,
           7.3,
           4.9,
           6.4,
           6.6,
           7.9,
           6.2,
           8.1,
           6,
           6.3,
           6.9,
           7.4,
           7.7,
           6.4,
           6.5,
           7.8,
           6.9,
           7.5,
           6.6,
           6.9,
           6.8,
           7.5,
           7.1,
           7.4,
           7,
           7.2,
           7.2,
           7,
           7.8,
           5.8,
           7.3,
           7.4,
           6.3,
           7,
           6.3,
           6.9,
           5.6,
           6.7,
           6.6,
           7.4,
           7.6,
           7.8,
           7.5,
           7.3,
           7.9,
           7.8,
           6.9,
           7,
           6.8,
           7.2,
           7.5,
           6.6,
           6.8,
           7.4,
           7,
           7,
           7.1,
           7.6,
           8.2,
           8.5,
           7.1,
           7,
           7.1,
           7.8,
           8,
           7.7,
           7.5,
           8.5,
           7,
           7.3,
           7.6,
           8.6,
           7.6,
           7.5,
           7.8,
           7.9,
           7.7,
           7.9,
           7.2,
           8,
           7.1,
           6.4,
           8.2,
           7.7,
           7,
           8.6,
           5.6,
           7.6,
           6.9,
           6.3,
           7.7,
           6.9,
           7.2,
           7.3,
           8.3,
           5.6,
           6.6,
           6.9,
           7.3,
           7.4,
           7.5,
           7.6,
           7.5,
           7.9,
           7.4,
           7.9,
           6.9,
           7.7,
           7.1,
           7.2,
           6.5,
           6.4,
           6.9,
           7,
           7.6,
           8.1,
           6.6,
           6.6,
           8.1,
           8.2,
           7.2,
           6.3,
           7.6,
           7.1,
           8,
           7.4,
           8.3,
           7.6,
           6.9,
           7.3,
           7.1,
           6.4,
           6.7,
           7.4,
           7.3,
           6.7,
           8.6,
           6.7,
           6.7,
           7.3,
           6.9,
           9.3,
           7.4
          ],
          "colorscale": [
           [
            0,
            "#440154"
           ],
           [
            0.1111111111111111,
            "#482878"
           ],
           [
            0.2222222222222222,
            "#3e4989"
           ],
           [
            0.3333333333333333,
            "#31688e"
           ],
           [
            0.4444444444444444,
            "#26828e"
           ],
           [
            0.5555555555555556,
            "#1f9e89"
           ],
           [
            0.6666666666666666,
            "#35b779"
           ],
           [
            0.7777777777777778,
            "#6ece58"
           ],
           [
            0.8888888888888888,
            "#b5de2b"
           ],
           [
            1,
            "#fde725"
           ]
          ],
          "showscale": true,
          "size": [
           3.12,
           4.96,
           3.6,
           3.36,
           1.84,
           5.56,
           1,
           4.08,
           3.56,
           3,
           3.68,
           3.2,
           2.84,
           2.44,
           2.72,
           2.88,
           3.72,
           7.754838709677419,
           7.754838709677419,
           7.754838709677419,
           7.754838709677419,
           14.08,
           3.2,
           4.2,
           4.96,
           4.24,
           5.08,
           6,
           3.76,
           13.64,
           5.76,
           7.754838709677419,
           7.754838709677419,
           7.754838709677419,
           4.4,
           3.56,
           2.76,
           31.48,
           7.08,
           2.12,
           5.44,
           25.48,
           5.92,
           1.96,
           4.44,
           4.04,
           2.16,
           3.08,
           5.36,
           16.64,
           1.92,
           6.92,
           12.8,
           4.72,
           3.56,
           4,
           7.754838709677419,
           7.754838709677419,
           5.08,
           7.754838709677419,
           10.76,
           25.84,
           4.28,
           5.48,
           3.6,
           2.16,
           3.04,
           15.24,
           3.68,
           2.52,
           2.2,
           2.2,
           3,
           3.84,
           7.754838709677419,
           7.754838709677419,
           2.48,
           10.36,
           3.8,
           4.24,
           7.754838709677419,
           7.754838709677419,
           7.754838709677419,
           7.754838709677419,
           7.4,
           6.44,
           6.84,
           6.32,
           10.68,
           3.64,
           3.2,
           0.4,
           3.24,
           2.76,
           7.754838709677419,
           2.44,
           5.44,
           4.08,
           3.24,
           3.28,
           3.04,
           10.68,
           5.36,
           7.754838709677419,
           3,
           4.68,
           4.04,
           4.32,
           3.56,
           7.754838709677419,
           43.68,
           7.754838709677419,
           3.96,
           4.32,
           3.84,
           4,
           7.754838709677419,
           2.4,
           4.28,
           4,
           4.8,
           2.68,
           3.96,
           7.754838709677419,
           3.72,
           7.754838709677419,
           3.52,
           4.32,
           4.4,
           4.12,
           4.88,
           3.48,
           7.12,
           1.88,
           5.4,
           2.92,
           2.48,
           2.68,
           2.88,
           4.72,
           3.96,
           3.32,
           4.6,
           0.08,
           5.36,
           3.84,
           3.28,
           5.76,
           4.6,
           40.52,
           3.28,
           26.72,
           4.28,
           4.32,
           3.84,
           3.12,
           2.32,
           4.72,
           3.76,
           2.6,
           3.6,
           4.84,
           3.96,
           4.44,
           3.8,
           22.6,
           2.48,
           2.64,
           4.44,
           4.72,
           2.8,
           4.16,
           2.76,
           0.08,
           2.96,
           3.84,
           7.754838709677419,
           7.754838709677419,
           7.754838709677419,
           2.08,
           4.76,
           4.64,
           4.48,
           3.24,
           3.84,
           3.12,
           9.24,
           43.88,
           4.6,
           4.36,
           6.76,
           7.754838709677419,
           3.04,
           9.84,
           9.36,
           7.754838709677419,
           4,
           2.4,
           2.04,
           3.84,
           8.28,
           5.84,
           6.44,
           3,
           3.88,
           4.32,
           0.16,
           9.32,
           7.754838709677419,
           1.64,
           3.64,
           3.04,
           3.56,
           3.76,
           3.48,
           2.6,
           5.68,
           4,
           7.754838709677419,
           2.84,
           21.2,
           7.754838709677419,
           7.754838709677419,
           2.76,
           3.24,
           3.36,
           4.16,
           2.4,
           2.96,
           4,
           4.64,
           3.04,
           3.72,
           4.4,
           3.52,
           6.24,
           19.52,
           0.16,
           0.16,
           0.12,
           0.2,
           0.12,
           0.16,
           7.754838709677419,
           0.08,
           7.754838709677419,
           7.754838709677419,
           7.754838709677419,
           3.64,
           3.48,
           4.44,
           4.44,
           3.8,
           0.12,
           13.84,
           0.04,
           0.04,
           4.24,
           9.04,
           7.754838709677419,
           24.84,
           11.88,
           39.44,
           34.36,
           7.754838709677419,
           2.84,
           4.52,
           2.6,
           24.8,
           7.754838709677419,
           37.52,
           24.12,
           0.04,
           0.12,
           11.24,
           5.6,
           34.88,
           43.04,
           10.12,
           4.8,
           2.8,
           3.68,
           3.96,
           3.6,
           4.04,
           7.754838709677419,
           0.04,
           2,
           30.92,
           28.12,
           3.76,
           4.96,
           7.48,
           3.8,
           10.84,
           14.72,
           7.754838709677419,
           3.44,
           3,
           3.28,
           27.52,
           23.52,
           11.12,
           6.36,
           39.24,
           48.36,
           30.2,
           36.08,
           11.24,
           3.8,
           2.84,
           0.08,
           7.754838709677419,
           7.754838709677419,
           7.754838709677419,
           11.52,
           34.68,
           32.32,
           7.08,
           7.754838709677419,
           7.754838709677419,
           7.754838709677419,
           38.36,
           30.64,
           32.76,
           4.68,
           7.754838709677419,
           4.28,
           5.04,
           7.754838709677419,
           3.8,
           2.56,
           3.64,
           4.12,
           1.44,
           7.754838709677419,
           4.32,
           3.76,
           7.754838709677419,
           7.754838709677419,
           32.4,
           28.72,
           6.84,
           10.68,
           8.56,
           6.2,
           2.88,
           3.2,
           7.754838709677419,
           4.52,
           20.36,
           20.76,
           25.96,
           42.76,
           36.48,
           7,
           11.52,
           3.96,
           6.44,
           3.88,
           4.6,
           1.72,
           4.68
          ]
         },
         "mode": "markers",
         "text": [
          "HENRY STREET SCHOOL FOR INTERNATIONAL STUDIES",
          "UNIVERSITY NEIGHBORHOOD HIGH SCHOOL",
          "EAST SIDE COMMUNITY SCHOOL",
          "MARTA VALLE HIGH SCHOOL",
          "NEW EXPLORATIONS INTO SCIENCE, TECHNOLOGY AND MATH HIGH SCHOOL",
          "BARD HIGH SCHOOL EARLY COLLEGE",
          "47 THE AMERICAN SIGN LANGUAGE AND ENGLISH SECONDARY SCHOOL",
          "FOOD AND FINANCE HIGH SCHOOL",
          "ESSEX STREET ACADEMY",
          "HIGH SCHOOL OF HOSPITALITY MANAGEMENT",
          "PACE HIGH SCHOOL",
          "URBAN ASSEMBLY SCHOOL OF DESIGN AND CONSTRUCTION, THE",
          "FACING HISTORY SCHOOL, THE",
          "URBAN ASSEMBLY ACADEMY OF GOVERNMENT AND LAW, THE",
          "LOWER MANHATTAN ARTS ACADEMY",
          "URBAN ASSEMBLY SCHOOL OF BUSINESS FOR YOUNG WOMEN, THE",
          "GRAMERCY ARTS HIGH SCHOOL",
          "NYC ISCHOOL",
          "MANHATTAN BUSINESS ACADEMY",
          "BUSINESS OF SPORTS SCHOOL",
          "THE HIGH SCHOOL FOR LANGUAGE AND DIPLOMACY",
          "HIGH SCHOOL FOR ENVIRONMENTAL STUDIES",
          "PROFESSIONAL PERFORMING ARTS HIGH SCHOOL",
          "BARUCH COLLEGE CAMPUS HIGH SCHOOL",
          "N.Y.C. LAB SCHOOL FOR COLLABORATIVE STUDIES",
          "N.Y.C. MUSEUM SCHOOL",
          "ELEANOR ROOSEVELT HIGH SCHOOL",
          "MILLENNIUM HIGH SCHOOL",
          "LANDMARK HIGH SCHOOL",
          "HIGH SCHOOL FOR HEALTH PROFESSIONS AND HUMAN SERVICES",
          "LEADERSHIP AND PUBLIC SERVICE HIGH SCHOOL",
          "MANHATTAN ACADEMY FOR ARTS & LANGUAGE",
          "HUDSON HIGH SCHOOL OF LEARNING TECHNOLOGIES",
          "INTERNATIONAL HIGH SCHOOL AT UNION SQUARE",
          "MANHATTAN VILLAGE ACADEMY",
          "VANGUARD HIGH SCHOOL",
          "MANHATTAN INTERNATIONAL HIGH SCHOOL",
          "STUYVESANT HIGH SCHOOL",
          "HIGH SCHOOL OF ECONOMICS AND FINANCE",
          "UNITY CENTER FOR URBAN TECHNOLOGIES",
          "TALENT UNLIMITED HIGH SCHOOL",
          "MURRY BERGTRAUM HIGH SCHOOL FOR BUSINESS CAREERS",
          "JACQUELINE KENNEDY ONASSIS HIGH SCHOOL",
          "REPERTORY COMPANY HIGH SCHOOL FOR THEATRE ARTS",
          "MANHATTAN BRIDGES HIGH SCHOOL",
          "NEW DESIGN HIGH SCHOOL",
          "HIGH SCHOOL FOR DUAL LANGUAGE AND ASIAN STUDIES",
          "THE URBAN ASSEMBLY NEW YORK HARBOR SCHOOL",
          "RICHARD R. GREEN HIGH SCHOOL OF TEACHING",
          "THE HIGH SCHOOL OF FASHION INDUSTRIES",
          "HUMANITIES PREPARATORY ACADEMY",
          "CHELSEA CAREER AND TECHNICAL EDUCATION HIGH SCHOOL",
          "ART AND DESIGN HIGH SCHOOL",
          "LIFE SCIENCES SECONDARY SCHOOL",
          "HIGH SCHOOL FOR ARTS, IMAGINATION AND INQUIRY",
          "URBAN ASSEMBLY SCHOOL FOR MEDIA STUDIES, THE",
          "THE URBAN ASSEMBLY SCHOOL FOR GREEN CAREERS",
          "THE GLOBAL LEARNING COLLABORATIVE",
          "WADLEIGH SECONDARY SCHOOL FOR THE PERFORMING & VISUAL ARTS",
          "FRANK MCCOURT HIGH SCHOOL",
          "BEACON HIGH SCHOOL",
          "FIORELLO H. LAGUARDIA HIGH SCHOOL OF MUSIC & ART AND PERFORMING ARTS",
          "HIGH SCHOOL FOR LAW, ADVOCACY AND COMMUNITY JUSTICE",
          "HIGH SCHOOL OF ARTS AND TECHNOLOGY",
          "MANHATTAN / HUNTER SCIENCE HIGH SCHOOL",
          "FREDERICK DOUGLASS ACADEMY II SECONDARY SCHOOL",
          "COALITION SCHOOL FOR SOCIAL CHANGE",
          "MANHATTAN CENTER FOR SCIENCE AND MATHEMATICS",
          "PARK EAST HIGH SCHOOL",
          "CENTRAL PARK EAST HIGH SCHOOL",
          "YOUNG WOMEN'S LEADERSHIP SCHOOL",
          "YOUNG WOMEN'S LEADERSHIP SCHOOL",
          "HERITAGE SCHOOL, THE",
          "MOTT HALL HIGH SCHOOL",
          "COLUMBIA SECONDARY SCHOOL FOR MATH, SCIENCE, AND ENGINEERING",
          "ACADEMY FOR SOCIAL ACTION: A COLLEGE BOARD SCHOOL",
          "URBAN ASSEMBLY SCHOOL FOR THE PERFORMING ARTS",
          "FREDERICK DOUGLASS ACADEMY",
          "THURGOOD MARSHALL ACADEMY FOR LEARNING AND SOCIAL CHANGE",
          "HIGH SCHOOL FOR MATHEMATICS, SCIENCE AND ENGINEERING AT CITY COLLEGE",
          "CITY COLLEGE ACADEMY OF THE ARTS",
          "COMMUNITY HEALTH ACADEMY OF THE HEIGHTS",
          "WASHINGTON HEIGHTS EXPEDITIONARY LEARNING SCHOOL",
          "HIGH SCHOOL FOR EXCELLENCE AND INNOVATION",
          "HIGH SCHOOL FOR INTERNATIONAL BUSINESS AND FINANCE",
          "HIGH SCHOOL FOR MEDIA AND COMMUNICATIONS",
          "HIGH SCHOOL FOR LAW AND PUBLIC SERVICE",
          "HIGH SCHOOL FOR HEALTH CAREERS AND SCIENCES",
          "A. PHILIP RANDOLPH CAMPUS HIGH SCHOOL",
          "GREGORIO LUPERON HIGH SCHOOL FOR SCIENCE AND MATHEMATICS",
          "SOUTH BRONX PREPARATORY: A COLLEGE BOARD SCHOOL",
          "INTERNATIONAL COMMUNITY HIGH SCHOOL",
          "COMMUNITY SCHOOL FOR SOCIAL JUSTICE",
          "MOTT HAVEN VILLAGE PREPARATORY HIGH SCHOOL",
          "UNIVERSITY HEIGHTS SECONDARY SCHOOL",
          "HOSTOSsLINCOLN ACADEMY OF SCIENCE",
          "FOREIGN LANGUAGE ACADEMY OF GLOBAL STUDIES",
          "BRONX LEADERSHIP ACADEMY II HIGH SCHOOL",
          "NEW EXPLORERS HIGH SCHOOL",
          "URBAN ASSEMBLY SCHOOL FOR CAREERS IN SPORTS",
          "BRONX ACADEMY OF LETTERS",
          "ALFRED E. SMITH CAREER AND TECHNICAL EDUCATION HIGH SCHOOL",
          "HEALTH OPPORTUNITIES HIGH SCHOOL",
          "BRONX STUDIO SCHOOL FOR WRITERS AND ARTISTS",
          "WOMEN'S ACADEMY OF EXCELLENCE",
          "RENAISSANCE HIGH SCHOOL FOR MUSICAL THEATER & TECHNOLOGY",
          "PABLO NERUDA ACADEMY FOR ARCHITECTURE AND WORLD STUDIES",
          "MILLENNIUM ART ACADEMY",
          "HOLCOMBE L. RUCKER SCHOOL OF COMMUNITY RESEARCH",
          "ANTONIA PANTOJA PREPARATORY ACADEMY, A COLLEGE BOARD SCHOOL",
          "HERBERT H. LEHMAN HIGH SCHOOL",
          "BRONX BRIDGES HIGH SCHOOL",
          "FELISA RINCON DE GAUTIER INSTITUTE FOR LAW AND PUBLIC POLICY, THE",
          "BANANA KELLY HIGH SCHOOL",
          "BRONX EXPEDITIONARY LEARNING HIGH SCHOOL",
          "EAGLE ACADEMY FOR YOUNG MEN",
          "URBAN ASSEMBLY SCHOOL FOR APPLIED MATH AND SCIENCE, THE",
          "EXIMIUS COLLEGE PREPARATORY ACADEMY: A COLLEGE BOARD SCHOOL",
          "MOTT HALL BRONX HIGH SCHOOL",
          "BRONX CENTER FOR SCIENCE AND MATHEMATICS",
          "VALIDUS PREPARATORY ACADEMY: AN EXPEDITIONARY LEARNING SCHOOL",
          "LEADERSHIP INSTITUTE",
          "MORRIS ACADEMY FOR COLLABORATIVE STUDIES",
          "BRONX EARLY COLLEGE ACADEMY FOR TEACHING & LEARNING",
          "DREAMYARD PREPARATORY SCHOOL",
          "ACADEMY FOR LANGUAGE AND TECHNOLOGY",
          "BRONX INTERNATIONAL HIGH SCHOOL",
          "SCHOOL FOR EXCELLENCE",
          "BRONX HIGH SCHOOL OF BUSINESS",
          "BRONX HIGH SCHOOL FOR MEDICAL SCIENCE",
          "BRONX SCHOOL FOR LAW, GOVERNMENT AND JUSTICE",
          "FREDERICK DOUGLASS ACADEMY III SECONDARY SCHOOL",
          "BRONX LEADERSHIP ACADEMY HIGH SCHOOL",
          "HIGH SCHOOL FOR VIOLIN AND DANCE",
          "RIVERDALE / KINGSBRIDGE ACADEMY (MIDDLE SCHOOL / HIGH SCHOOL 141)",
          "BRONX ENGINEERING AND TECHNOLOGY ACADEMY",
          "THEATRE ARTS PRODUCTION COMPANY SCHOOL",
          "THE MARIE CURIE SCHOOL FOR MEDICINE, NURSING, AND HEALTH PROFESSIONS",
          "WEST BRONX ACADEMY FOR THE FUTURE",
          "KINGSBRIDGE INTERNATIONAL HIGH SCHOOL",
          "BRONX SCHOOL OF LAW AND FINANCE",
          "INTERNATIONAL SCHOOL FOR LIBERAL ARTS",
          "INsTECH ACADEMY (M.S. / HIGH SCHOOL 368)",
          "KNOWLEDGE AND POWER PREPARATORY ACADEMY INTERNATIONAL HIGH SCHOOL (KAPPA)",
          "HIGH SCHOOL FOR TEACHING AND THE PROFESSIONS",
          "BELMONT PREPARATORY HIGH SCHOOL",
          "FORDHAM HIGH SCHOOL FOR THE ARTS",
          "FORDHAM LEADERSHIP ACADEMY FOR BUSINESS AND TECHNOLOGY",
          "BRONX HIGH SCHOOL FOR LAW AND COMMUNITY SERVICE",
          "DEWITT CLINTON HIGH SCHOOL",
          "CELIA CRUZ BRONX HIGH SCHOOL OF MUSIC, THE",
          "BRONX HIGH SCHOOL OF SCIENCE",
          "MARBLE HILL HIGH SCHOOL FOR INTERNATIONAL STUDIES",
          "BRONX THEATRE HIGH SCHOOL",
          "DISCOVERY HIGH SCHOOL",
          "HIGH SCHOOL OF AMERICAN STUDIES AT LEHMAN COLLEGE",
          "BRONX HEALTH SCIENCES HIGH SCHOOL",
          "BRONX HIGH SCHOOL FOR WRITING AND COMMUNICATION ARTS",
          "BRONX LAB SCHOOL",
          "ACADEMY FOR SCHOLARSHIP AND ENTREPRENEURSHIP: A COLLEGE BOARD SCHOOL",
          "HIGH SCHOOL OF COMPUTERS AND TECHNOLOGY",
          "COLLEGIATE INSTITUTE FOR MATH AND SCIENCE",
          "BRONX ACADEMY OF HEALTH CAREERS",
          "ASTOR COLLEGIATE ACADEMY",
          "BRONX HIGH SCHOOL FOR THE VISUAL ARTS",
          "HARRY S TRUMAN HIGH SCHOOL",
          "NEW WORLD HIGH SCHOOL",
          "THE BRONXWOOD PREPARATORY ACADEMY",
          "PELHAM PREPARATORY ACADEMY",
          "HIGH SCHOOL FOR CONTEMPORARY ARTS",
          "BRONX AEROSPACE HIGH SCHOOL",
          "METROPOLITAN HIGH SCHOOL, THE",
          "EXPLORATIONS ACADEMY",
          "BRONX LATIN",
          "EAST BRONX ACADEMY FOR THE FUTURE",
          "PEACE AND DIVERSITY ACADEMY",
          "PAN AMERICAN INTERNATIONAL HIGH SCHOOL AT MONROE",
          "THE CINEMA SCHOOL",
          "BRONX CAREER AND COLLEGE PREPARATORY HIGH SCHOOL",
          "HIGH SCHOOL OF WORLD CULTURES",
          "FANNIE LOU HAMER FREEDOM HIGH SCHOOL",
          "WINGS ACADEMY",
          "MONROE ACADEMY FOR VISUAL ARTS & DESIGN",
          "DR. SUSAN S. MCKINNEY SECONDARY SCHOOL OF THE ARTS",
          "URBAN ASSEMBLY HIGH SCHOOL OF MUSIC AND ART",
          "BROOKLYN COMMUNITY HIGH SCHOOL OF COMMUNICATION, ARTS AND MEDIA",
          "SCIENCE SKILLS CENTER HIGH SCHOOL FOR SCIENCE, TECHNOLOGY AND THE CREATIVE ARTS",
          "BROOKLYN TECHNICAL HIGH SCHOOL",
          "BROOKLYN INTERNATIONAL HIGH SCHOOL",
          "THE URBAN ASSEMBLY SCHOOL FOR LAW AND JUSTICE",
          "ACORN COMMUNITY HIGH SCHOOL",
          "URBAN ASSEMBLY INSTITUTE OF MATH AND SCIENCE FOR YOUNG WOMEN",
          "BEDFORD ACADEMY HIGH SCHOOL",
          "GEORGE WESTINGHOUSE CAREER AND TECHNICAL EDUCATION HIGH SCHOOL",
          "BENJAMIN BANNEKER ACADEMY",
          "CITY POLYTECHNIC HIGH SCHOOL OF ENGINEERING, ARCHITECTURE, AND TECHNOLOGY",
          "JUAN MOREL CAMPOS SECONDARY SCHOOL",
          "FOUNDATIONS ACADEMY",
          "BROOKLYN LATIN SCHOOL, THE",
          "GREEN SCHOOL: AN ACADEMY FOR ENVIRONMENTAL CAREERS",
          "PROGRESS HIGH SCHOOL FOR PROFESSIONAL CAREERS",
          "SCHOOL FOR LEGAL STUDIES",
          "THE HIGH SCHOOL FOR ENTERPRISE, BUSINESS AND TECHNOLOGY",
          "BROOKLYN PREPARATORY HIGH SCHOOL",
          "WILLIAMSBURG HIGH SCHOOL FOR ARCHITECTURE AND DESIGN",
          "WILLIAMSBURG PREPARATORY SCHOOL",
          "LYONS COMMUNITY SCHOOL",
          "AUTOMOTIVE HIGH SCHOOL",
          "FRANCES PERKINS ACADEMY",
          "EL PUENTE ACADEMY FOR PEACE AND JUSTICE",
          "BROOKLYN SCHOOL FOR GLOBAL STUDIES",
          "BROOKLYN SECONDARY SCHOOL FOR COLLABORATIVE STUDIES",
          "SECONDARY SCHOOL FOR LAW",
          "SECONDARY SCHOOL FOR JOURNALISM",
          "PARK SLOPE COLLEGIATE",
          "SCHOOL FOR INTERNATIONAL STUDIES",
          "COBBLE HILL SCHOOL OF AMERICAN STUDIES",
          "BROOKLYN HIGH SCHOOL OF THE ARTS",
          "SUNSET PARK HIGH SCHOOL",
          "FREDERICK DOUGLASS ACADEMY IV SECONDARY SCHOOL",
          "BOYS AND GIRLS HIGH SCHOOL",
          "BROOKLYN HIGH SCHOOL FOR LAW AND TECHNOLOGY",
          "THE BROOKLYN ACADEMY OF GLOBAL FINANCE",
          "ACADEMY FOR COLLEGE PREPARATION AND CAREER EXPLORATION: A COLLEGE BOARD SCHOOL",
          "ACADEMY OF HOSPITALITY AND TOURISM",
          "INTERNATIONAL HIGH SCHOOL AT PROSPECT HEIGHTS",
          "THE HIGH SCHOOL FOR GLOBAL CITIZENSHIP",
          "SCHOOL FOR HUMAN RIGHTS, THE",
          "SCHOOL FOR DEMOCRACY AND LEADERSHIP",
          "HIGH SCHOOL FOR YOUTH AND COMMUNITY DEVELOPMENT AT ERASMUS",
          "HIGH SCHOOL FOR SERVICE & LEARNING AT ERASMUS",
          "SCIENCE, TECHNOLOGY AND RESEARCH EARLY COLLEGE HIGH SCHOOL AT ERASMUS",
          "HIGH SCHOOL FOR PUBLIC SERVICE: HEROES OF TOMORROW",
          "BROOKLYN ACADEMY OF SCIENCE AND THE ENVIRONMENT",
          "BROOKLYN SCHOOL FOR MUSIC & THEATRE",
          "MEDGAR EVERS COLLEGE PREPARATORY SCHOOL",
          "CLARA BARTON HIGH SCHOOL",
          "IT TAKES A VILLAGE ACADEMY",
          "BROOKLYN GENERATION SCHOOL",
          "BROOKLYN THEATRE ARTS HIGH SCHOOL",
          "KURT HAHN EXPEDITIONARY LEARNING SCHOOL",
          "VICTORY COLLEGIATE HIGH SCHOOL",
          "ARTS & MEDIA PREPARATORY ACADEMY",
          "HIGH SCHOOL FOR INNOVATION IN ADVERTISING AND MEDIA",
          "CULTURAL ACADEMY FOR THE ARTS AND SCIENCES",
          "HIGH SCHOOL FOR MEDICAL PROFESSIONS",
          "ACADEMY FOR CONSERVATION AND THE ENVIRONMENT",
          "URBAN ACTION ACADEMY",
          "EAST NEW YORK FAMILY ACADEMY",
          "FDNY HIGH SCHOOL FOR FIRE AND LIFE SAFETY",
          "HIGH SCHOOL FOR CIVIL RIGHTS",
          "PERFORMING ARTS AND TECHNOLOGY HIGH SCHOOL",
          "WORLD ACADEMY FOR TOTAL COMMUNITY HEALTH HIGH SCHOOL",
          "MULTICULTURAL HIGH SCHOOL",
          "TRANSIT TECH CAREER AND TECHNICAL EDUCATION HIGH SCHOOL",
          "ACADEMY OF INNOVATIVE TECHNOLOGY",
          "BROOKLYN LAB SCHOOL",
          "CYPRESS HILLS COLLEGIATE PREPARATORY SCHOOL",
          "W. H. MAXWELL CAREER AND TECHNICAL EDUCATION HIGH SCHOOL",
          "THE SCHOOL FOR CLASSICS: AN ACADEMY OF THINKERS, WRITERS AND PERFORMERS",
          "NEW UTRECHT HIGH SCHOOL",
          "HIGH SCHOOL OF TELECOMMUNICATION ARTS AND TECHNOLOGY",
          "FORT HAMILTON HIGH SCHOOL",
          "FRANKLIN DELANO ROOSEVELT HIGH SCHOOL",
          "THE URBAN ASSEMBLY SCHOOL FOR CRIMINAL JUSTICE",
          "INTERNATIONAL HIGH SCHOOL AT LAFAYETTE",
          "RACHEL CARSON HIGH SCHOOL FOR COASTAL STUDIES",
          "HIGH SCHOOL OF SPORTS MANAGEMENT",
          "ABRAHAM LINCOLN HIGH SCHOOL",
          "KINGSBOROUGH EARLY COLLEGE SCHOOL",
          "EDWARD R. MURROW HIGH SCHOOL",
          "JOHN DEWEY HIGH SCHOOL",
          "LIFE ACADEMY HIGH SCHOOL FOR FILM AND MUSIC",
          "EXPEDITIONARY LEARNING SCHOOL FOR COMMUNITY LEADERS",
          "WILLIAM E. GRADY CAREER AND TECHNICAL EDUCATION HIGH SCHOOL",
          "BROOKLYN STUDIO SECONDARY SCHOOL",
          "MIDWOOD HIGH SCHOOL",
          "JAMES MADISON HIGH SCHOOL",
          "LEON M. GOLDSTEIN HIGH SCHOOL FOR THE SCIENCES",
          "BROOKLYN COLLEGE ACADEMY",
          "BROOKLYN COLLEGIATE: A COLLEGE BOARD SCHOOL",
          "FREDERICK DOUGLASS ACADEMY VII HIGH SCHOOL",
          "TEACHERS PREPARATORY HIGH SCHOOL",
          "ACADEMY OF FINANCE AND ENTERPRISE",
          "HIGH SCHOOL OF APPLIED COMMUNICATION",
          "CIVIC LEADERSHIP ACADEMY",
          "PAN AMERICAN INTERNATIONAL HIGH SCHOOL",
          "BARD HIGH SCHOOL EARLY COLLEGE II",
          "NEWTOWN HIGH SCHOOL",
          "GROVER CLEVELAND HIGH SCHOOL",
          "MIDDLE COLLEGE HIGH SCHOOL AT LAGUARDIA COMMUNITY COLLEGE",
          "INTERNATIONAL HIGH SCHOOL AT LAGUARDIA COMMUNITY COLLEGE",
          "HIGH SCHOOL FOR ARTS AND BUSINESS",
          "ROBERT F. WAGNER, JR. SECONDARY SCHOOL FOR ARTS AND TECHNOLOGY",
          "QUEENS VOCATIONAL AND TECHNICAL HIGH SCHOOL",
          "AVIATION CAREER & TECHNICAL EDUCATION HIGH SCHOOL",
          "QUEENS SCHOOL OF INQUIRY, THE",
          "FLUSHING INTERNATIONAL HIGH SCHOOL",
          "EASTsWEST SCHOOL OF INTERNATIONAL STUDIES",
          "WORLD JOURNALISM PREPARATORY: A COLLEGE BOARD SCHOOL",
          "JOHN BOWNE HIGH SCHOOL",
          "FLUSHING HIGH SCHOOL",
          "TOWNSEND HARRIS HIGH SCHOOL",
          "ROBERT F. KENNEDY COMMUNITY HIGH SCHOOL",
          "BENJAMIN N. CARDOZO HIGH SCHOOL",
          "FRANCIS LEWIS HIGH SCHOOL",
          "MARTIN VAN BUREN HIGH SCHOOL",
          "BAYSIDE HIGH SCHOOL",
          "QUEENS HIGH SCHOOL OF TEACHING, LIBERAL ARTS AND THE SCIENCES",
          "FREDERICK DOUGLASS ACADEMY VI HIGH SCHOOL",
          "CHANNEL VIEW SCHOOL FOR RESEARCH",
          "QUEENS HIGH SCHOOL FOR INFORMATION, RESEARCH, AND TECHNOLOGY",
          "ROBERT H. GODDARD HIGH SCHOOL OF COMMUNICATION ARTS AND TECHNOLOGY",
          "ACADEMY OF MEDICAL TECHNOLOGY: A COLLEGE BOARD SCHOOL",
          "SCHOLARS' ACADEMY",
          "AUGUST MARTIN HIGH SCHOOL",
          "RICHMOND HILL HIGH SCHOOL",
          "JOHN ADAMS HIGH SCHOOL",
          "HIGH SCHOOL FOR CONSTRUCTION TRADES, ENGINEERING AND ARCHITECTURE",
          "YORK EARLY COLLEGE ACADEMY",
          "QUEENS COLLEGIATE: A COLLEGE BOARD SCHOOL",
          "HILLSIDE ARTS & LETTERS ACADEMY",
          "FOREST HILLS HIGH SCHOOL",
          "HILLCREST HIGH SCHOOL",
          "THOMAS A. EDISON CAREER AND TECHNICAL EDUCATION HIGH SCHOOL",
          "QUEENS GATEWAY TO HEALTH SCIENCES SECONDARY SCHOOL",
          "QUEENS METROPOLITAN HIGH SCHOOL",
          "QUEENS HIGH SCHOOL FOR THE SCIENCES AT YORK COLLEGE",
          "HIGH SCHOOL FOR LAW ENFORCEMENT AND PUBLIC SAFETY",
          "YOUNG WOMEN'S LEADERSHIP SCHOOL, QUEENS",
          "QUEENS PREPARATORY ACADEMY",
          "PATHWAYS COLLEGE PREPARATORY SCHOOL: A COLLEGE BOARD SCHOOL",
          "EXCELSIOR PREPARATORY HIGH SCHOOL",
          "GEORGE WASHINGTON CARVER HIGH SCHOOL FOR THE SCIENCES",
          "PREPARATORY ACADEMY FOR WRITERS: A COLLEGE BOARD SCHOOL",
          "CAMBRIA HEIGHTS ACADEMY",
          "MATHEMATICS, SCIENCE RESEARCH AND TECHNOLOGY MAGNET HIGH SCHOOL",
          "HUMANITIES & ARTS MAGNET HIGH SCHOOL",
          "YOUNG WOMEN'S LEADERSHIP SCHOOL, ASTORIA",
          "ACADEMY FOR CAREERS IN TELEVISION AND FILM",
          "WILLIAM CULLEN BRYANT HIGH SCHOOL",
          "LONG ISLAND CITY HIGH SCHOOL",
          "FRANK SINATRA SCHOOL OF THE ARTS HIGH SCHOOL",
          "INFORMATION TECHNOLOGY HIGH SCHOOL",
          "NEWCOMERS HIGH SCHOOL",
          "ACADEMY OF AMERICAN STUDIES",
          "BACCALAUREATE SCHOOL FOR GLOBAL EDUCATION",
          "CSI HIGH SCHOOL FOR INTERNATIONAL STUDIES",
          "GAYNOR MCCOWN EXPEDITIONARY LEARNING SCHOOL",
          "THE MICHAEL J. PETRIDES SCHOOL",
          "NEW DORP HIGH SCHOOL",
          "PORT RICHMOND HIGH SCHOOL",
          "CURTIS HIGH SCHOOL",
          "TOTTENVILLE HIGH SCHOOL",
          "SUSAN E. WAGNER HIGH SCHOOL",
          "RALPH R. MCKEE CAREER AND TECHNICAL EDUCATION HIGH SCHOOL",
          "STATEN ISLAND TECHNICAL HIGH SCHOOL",
          "ACADEMY FOR ENVIRONMENTAL LEADERSHIP",
          "EBC HIGH SCHOOL FOR PUBLIC SERVICE–BUSHWICK",
          "BUSHWICK SCHOOL FOR SOCIAL JUSTICE",
          "ACADEMY OF URBAN PLANNING",
          "ALL CITY LEADERSHIP SECONDARY SCHOOL",
          "BUSHWICK LEADERS HIGH SCHOOL FOR ACADEMIC EXCELLENCE"
         ],
         "type": "scatter",
         "x": [
          6.7,
          6.8,
          7.9,
          6.9,
          7.8,
          8.5,
          8.1,
          7,
          7.9,
          7.9,
          6.9,
          7.5,
          7.5,
          6.1,
          7.3,
          7.4,
          6.9,
          8,
          7.5,
          6.8,
          7,
          7.6,
          7.7,
          8.1,
          7.9,
          7.3,
          8.5,
          8.3,
          7.3,
          7.3,
          6.7,
          8.6,
          8.1,
          8.1,
          8.6,
          7.7,
          8.1,
          7.7,
          7.8,
          7.9,
          7.4,
          5.8,
          7.4,
          6.6,
          7.9,
          7.6,
          7.9,
          7.2,
          7.5,
          7.3,
          7.4,
          7.3,
          7.6,
          7,
          6.9,
          7.8,
          6.3,
          7.6,
          6.5,
          7.5,
          8,
          7.7,
          7.3,
          6.8,
          8,
          6.4,
          7.8,
          7.2,
          7.7,
          7.8,
          8.4,
          8.4,
          6.7,
          7.2,
          7.3,
          6.7,
          6,
          6.6,
          7.4,
          8.4,
          8.4,
          7.2,
          8.3,
          8.3,
          7.5,
          7.3,
          7.3,
          7.2,
          6.6,
          8.5,
          7.3,
          7.9,
          7.9,
          7.4,
          8,
          7.5,
          7,
          6.9,
          8.1,
          7.7,
          7,
          6.4,
          7,
          7.3,
          7.2,
          7.6,
          7,
          7.5,
          7.4,
          6.1,
          6.1,
          8.3,
          7,
          7.9,
          7.4,
          7,
          7.6,
          7.4,
          7.4,
          7.8,
          8,
          7.5,
          7.2,
          7.3,
          6.8,
          7.9,
          7.4,
          7.5,
          6.6,
          7.6,
          7.5,
          7,
          7.1,
          7.3,
          6.3,
          7.1,
          7.5,
          6.7,
          7.2,
          7.3,
          7,
          7.8,
          7.5,
          8,
          7.2,
          7.2,
          7.2,
          6.6,
          6.8,
          5.7,
          7.1,
          7.4,
          8,
          8,
          7.6,
          8.7,
          7.6,
          6.6,
          6.8,
          6.1,
          7.4,
          8,
          7,
          6.8,
          7.3,
          6.8,
          7.3,
          7.1,
          7.4,
          7.6,
          6.5,
          7.7,
          7.2,
          8.2,
          7.4,
          8.1,
          7.3,
          8.5,
          7.1,
          8.1,
          8.3,
          6.7,
          7.4,
          7.2,
          6.9,
          7,
          7.6,
          7.5,
          8.4,
          7.6,
          6.5,
          6.9,
          7.8,
          6.6,
          7.4,
          7.1,
          7.1,
          7.1,
          8.2,
          7.7,
          7.1,
          6.5,
          7.2,
          7.2,
          8.3,
          8.2,
          7.8,
          6,
          7.2,
          8.5,
          6.6,
          7.3,
          6.6,
          6.9,
          6.9,
          7.1,
          6.5,
          7.3,
          7.2,
          6.7,
          6.4,
          7.3,
          4.9,
          6.4,
          6.6,
          7.9,
          6.2,
          8.1,
          6,
          6.3,
          6.9,
          7.4,
          7.7,
          6.4,
          6.5,
          7.8,
          6.9,
          7.5,
          6.6,
          6.9,
          6.8,
          7.5,
          7.1,
          7.4,
          7,
          7.2,
          7.2,
          7,
          7.8,
          5.8,
          7.3,
          7.4,
          6.3,
          7,
          6.3,
          6.9,
          5.6,
          6.7,
          6.6,
          7.4,
          7.6,
          7.8,
          7.5,
          7.3,
          7.9,
          7.8,
          6.9,
          7,
          6.8,
          7.2,
          7.5,
          6.6,
          6.8,
          7.4,
          7,
          7,
          7.1,
          7.6,
          8.2,
          8.5,
          7.1,
          7,
          7.1,
          7.8,
          8,
          7.7,
          7.5,
          8.5,
          7,
          7.3,
          7.6,
          8.6,
          7.6,
          7.5,
          7.8,
          7.9,
          7.7,
          7.9,
          7.2,
          8,
          7.1,
          6.4,
          8.2,
          7.7,
          7,
          8.6,
          5.6,
          7.6,
          6.9,
          6.3,
          7.7,
          6.9,
          7.2,
          7.3,
          8.3,
          5.6,
          6.6,
          6.9,
          7.3,
          7.4,
          7.5,
          7.6,
          7.5,
          7.9,
          7.4,
          7.9,
          6.9,
          7.7,
          7.1,
          7.2,
          6.5,
          6.4,
          6.9,
          7,
          7.6,
          8.1,
          6.6,
          6.6,
          8.1,
          8.2,
          7.2,
          6.3,
          7.6,
          7.1,
          8,
          7.4,
          8.3,
          7.6,
          6.9,
          7.3,
          7.1,
          6.4,
          6.7,
          7.4,
          7.3,
          6.7,
          8.6,
          6.7,
          6.7,
          7.3,
          6.9,
          9.3,
          7.4
         ],
         "y": [
          1122,
          1172,
          1149,
          1207,
          1621,
          1856,
          1182,
          1194,
          1156,
          1111,
          1293,
          1269,
          1051,
          1148,
          1200,
          1127,
          1176,
          1435,
          1223.4388059701494,
          1223.4388059701494,
          1223.4388059701494,
          1419,
          1522,
          1577,
          1677,
          1419,
          1758,
          1614,
          1170,
          1306,
          1233,
          1223.4388059701494,
          1223.4388059701494,
          1223.4388059701494,
          1372,
          1199,
          1227,
          2096,
          1374,
          1070,
          1416,
          1240,
          1239,
          1253,
          1058,
          1168,
          1424,
          1212,
          1195,
          1257,
          1255,
          1207,
          1315,
          1236,
          1132,
          1144,
          1223.4388059701494,
          1223.4388059701494,
          1109,
          1223.4388059701494,
          1744,
          1707,
          1196,
          1277,
          1446,
          1096,
          1084,
          1430,
          1128,
          1221,
          1326,
          1326,
          1054,
          1210,
          1223.4388059701494,
          1062,
          1077,
          1374,
          1202,
          1847,
          1270,
          1105,
          1174,
          1223.4388059701494,
          1127,
          1098,
          1102,
          1224,
          1309,
          1014,
          1090,
          945,
          1077,
          1097,
          1201,
          1257,
          1186,
          1103,
          1084,
          1181,
          1201,
          1158,
          1095,
          1223.4388059701494,
          1171,
          1158,
          1038,
          1164,
          1084,
          1223.4388059701494,
          1241,
          1223.4388059701494,
          1099,
          1131,
          1049,
          1134,
          1290,
          1169,
          1092,
          1396,
          1075,
          1081,
          1148,
          1223.4388059701494,
          1138,
          951,
          965,
          1074,
          1083,
          1221,
          1224,
          1121,
          1166,
          1039,
          1333,
          1150,
          1190,
          1157,
          1158,
          962,
          1182,
          934,
          1181,
          1180,
          1106,
          1222,
          1077,
          1119,
          1082,
          1255,
          1270,
          1969,
          1263,
          1064,
          1115,
          1920,
          1133,
          1147,
          1135,
          1141,
          1111,
          1348,
          1135,
          1169,
          1268,
          1151,
          1048,
          1112,
          1288,
          1126,
          1163,
          1055,
          1122,
          1251,
          1102,
          1155,
          970,
          1223.4388059701494,
          1223.4388059701494,
          939,
          1029,
          1114,
          1038,
          1074,
          1080,
          1114,
          1211,
          1833,
          981,
          1206,
          1116,
          1223.4388059701494,
          1312,
          1189,
          1391,
          1353,
          1085,
          1223.4388059701494,
          1740,
          1189,
          1114,
          1204,
          1215,
          1090,
          1112,
          1187,
          1103,
          1093,
          1122,
          1035,
          1111,
          1179,
          1203,
          1169,
          1175,
          1212,
          1185,
          1258,
          1223.4388059701494,
          1068,
          1097,
          1092,
          1223.4388059701494,
          1139,
          1045,
          913,
          1176,
          1088,
          1153,
          1027,
          1105,
          1360,
          1273,
          1143,
          1151,
          1436,
          1251,
          963,
          1145,
          1118,
          1092,
          1143,
          1080,
          1183,
          1169,
          1159,
          1111,
          1135,
          1242,
          1023,
          1054,
          1149,
          1106,
          887,
          1193,
          1096,
          1108,
          1129,
          1102,
          1157,
          1272,
          1323,
          1306,
          1244,
          1223.4388059701494,
          1026,
          1237,
          1164,
          1226,
          1223.4388059701494,
          1431,
          1262,
          1124,
          1079,
          1184,
          1313,
          1473,
          1350,
          1627,
          1352,
          1185,
          1091,
          1196,
          1280,
          1219,
          1240,
          951,
          1663,
          1203,
          1211,
          1177,
          1064,
          1174,
          1330,
          1270,
          1364,
          1396,
          1049,
          1271,
          1441,
          1243,
          1216,
          1910,
          1330,
          1514,
          1474,
          1172,
          1449,
          1279,
          1145,
          1252,
          1156,
          1265,
          1094,
          1532,
          1108,
          1154,
          1192,
          1345,
          1223.4388059701494,
          1265,
          1223.4388059701494,
          1407,
          1194,
          1372,
          1538,
          1223.4388059701494,
          1868,
          1196,
          1316,
          1099,
          1173,
          1202,
          1287,
          1100,
          1223.4388059701494,
          1220,
          1151,
          1223.4388059701494,
          1255,
          1275,
          1218,
          1494,
          1239,
          1127,
          1470,
          1636,
          1353,
          1195,
          1426,
          1277,
          1279,
          1301,
          1418,
          1388,
          1235,
          1953,
          1098,
          1154,
          1035,
          1060,
          1315,
          1055
         ]
        }
       ],
       "layout": {
        "shapes": [
         {
          "line": {
           "color": "grey",
           "dash": "dashdot",
           "width": 1
          },
          "type": "line",
          "x0": 4.7,
          "x1": 9.5,
          "y0": 1223.438805970149,
          "y1": 1223.438805970149
         },
         {
          "line": {
           "color": "grey",
           "dash": "dashdot",
           "width": 1
          },
          "type": "line",
          "x0": 7.31157024793388,
          "x1": 7.31157024793388,
          "y0": 830,
          "y1": 2220
         }
        ],
        "template": {
         "data": {
          "bar": [
           {
            "error_x": {
             "color": "#2a3f5f"
            },
            "error_y": {
             "color": "#2a3f5f"
            },
            "marker": {
             "line": {
              "color": "#E5ECF6",
              "width": 0.5
             }
            },
            "type": "bar"
           }
          ],
          "barpolar": [
           {
            "marker": {
             "line": {
              "color": "#E5ECF6",
              "width": 0.5
             }
            },
            "type": "barpolar"
           }
          ],
          "carpet": [
           {
            "aaxis": {
             "endlinecolor": "#2a3f5f",
             "gridcolor": "white",
             "linecolor": "white",
             "minorgridcolor": "white",
             "startlinecolor": "#2a3f5f"
            },
            "baxis": {
             "endlinecolor": "#2a3f5f",
             "gridcolor": "white",
             "linecolor": "white",
             "minorgridcolor": "white",
             "startlinecolor": "#2a3f5f"
            },
            "type": "carpet"
           }
          ],
          "choropleth": [
           {
            "colorbar": {
             "outlinewidth": 0,
             "ticks": ""
            },
            "type": "choropleth"
           }
          ],
          "contour": [
           {
            "colorbar": {
             "outlinewidth": 0,
             "ticks": ""
            },
            "colorscale": [
             [
              0,
              "#0d0887"
             ],
             [
              0.1111111111111111,
              "#46039f"
             ],
             [
              0.2222222222222222,
              "#7201a8"
             ],
             [
              0.3333333333333333,
              "#9c179e"
             ],
             [
              0.4444444444444444,
              "#bd3786"
             ],
             [
              0.5555555555555556,
              "#d8576b"
             ],
             [
              0.6666666666666666,
              "#ed7953"
             ],
             [
              0.7777777777777778,
              "#fb9f3a"
             ],
             [
              0.8888888888888888,
              "#fdca26"
             ],
             [
              1,
              "#f0f921"
             ]
            ],
            "type": "contour"
           }
          ],
          "contourcarpet": [
           {
            "colorbar": {
             "outlinewidth": 0,
             "ticks": ""
            },
            "type": "contourcarpet"
           }
          ],
          "heatmap": [
           {
            "colorbar": {
             "outlinewidth": 0,
             "ticks": ""
            },
            "colorscale": [
             [
              0,
              "#0d0887"
             ],
             [
              0.1111111111111111,
              "#46039f"
             ],
             [
              0.2222222222222222,
              "#7201a8"
             ],
             [
              0.3333333333333333,
              "#9c179e"
             ],
             [
              0.4444444444444444,
              "#bd3786"
             ],
             [
              0.5555555555555556,
              "#d8576b"
             ],
             [
              0.6666666666666666,
              "#ed7953"
             ],
             [
              0.7777777777777778,
              "#fb9f3a"
             ],
             [
              0.8888888888888888,
              "#fdca26"
             ],
             [
              1,
              "#f0f921"
             ]
            ],
            "type": "heatmap"
           }
          ],
          "heatmapgl": [
           {
            "colorbar": {
             "outlinewidth": 0,
             "ticks": ""
            },
            "colorscale": [
             [
              0,
              "#0d0887"
             ],
             [
              0.1111111111111111,
              "#46039f"
             ],
             [
              0.2222222222222222,
              "#7201a8"
             ],
             [
              0.3333333333333333,
              "#9c179e"
             ],
             [
              0.4444444444444444,
              "#bd3786"
             ],
             [
              0.5555555555555556,
              "#d8576b"
             ],
             [
              0.6666666666666666,
              "#ed7953"
             ],
             [
              0.7777777777777778,
              "#fb9f3a"
             ],
             [
              0.8888888888888888,
              "#fdca26"
             ],
             [
              1,
              "#f0f921"
             ]
            ],
            "type": "heatmapgl"
           }
          ],
          "histogram": [
           {
            "marker": {
             "colorbar": {
              "outlinewidth": 0,
              "ticks": ""
             }
            },
            "type": "histogram"
           }
          ],
          "histogram2d": [
           {
            "colorbar": {
             "outlinewidth": 0,
             "ticks": ""
            },
            "colorscale": [
             [
              0,
              "#0d0887"
             ],
             [
              0.1111111111111111,
              "#46039f"
             ],
             [
              0.2222222222222222,
              "#7201a8"
             ],
             [
              0.3333333333333333,
              "#9c179e"
             ],
             [
              0.4444444444444444,
              "#bd3786"
             ],
             [
              0.5555555555555556,
              "#d8576b"
             ],
             [
              0.6666666666666666,
              "#ed7953"
             ],
             [
              0.7777777777777778,
              "#fb9f3a"
             ],
             [
              0.8888888888888888,
              "#fdca26"
             ],
             [
              1,
              "#f0f921"
             ]
            ],
            "type": "histogram2d"
           }
          ],
          "histogram2dcontour": [
           {
            "colorbar": {
             "outlinewidth": 0,
             "ticks": ""
            },
            "colorscale": [
             [
              0,
              "#0d0887"
             ],
             [
              0.1111111111111111,
              "#46039f"
             ],
             [
              0.2222222222222222,
              "#7201a8"
             ],
             [
              0.3333333333333333,
              "#9c179e"
             ],
             [
              0.4444444444444444,
              "#bd3786"
             ],
             [
              0.5555555555555556,
              "#d8576b"
             ],
             [
              0.6666666666666666,
              "#ed7953"
             ],
             [
              0.7777777777777778,
              "#fb9f3a"
             ],
             [
              0.8888888888888888,
              "#fdca26"
             ],
             [
              1,
              "#f0f921"
             ]
            ],
            "type": "histogram2dcontour"
           }
          ],
          "mesh3d": [
           {
            "colorbar": {
             "outlinewidth": 0,
             "ticks": ""
            },
            "type": "mesh3d"
           }
          ],
          "parcoords": [
           {
            "line": {
             "colorbar": {
              "outlinewidth": 0,
              "ticks": ""
             }
            },
            "type": "parcoords"
           }
          ],
          "pie": [
           {
            "automargin": true,
            "type": "pie"
           }
          ],
          "scatter": [
           {
            "marker": {
             "colorbar": {
              "outlinewidth": 0,
              "ticks": ""
             }
            },
            "type": "scatter"
           }
          ],
          "scatter3d": [
           {
            "line": {
             "colorbar": {
              "outlinewidth": 0,
              "ticks": ""
             }
            },
            "marker": {
             "colorbar": {
              "outlinewidth": 0,
              "ticks": ""
             }
            },
            "type": "scatter3d"
           }
          ],
          "scattercarpet": [
           {
            "marker": {
             "colorbar": {
              "outlinewidth": 0,
              "ticks": ""
             }
            },
            "type": "scattercarpet"
           }
          ],
          "scattergeo": [
           {
            "marker": {
             "colorbar": {
              "outlinewidth": 0,
              "ticks": ""
             }
            },
            "type": "scattergeo"
           }
          ],
          "scattergl": [
           {
            "marker": {
             "colorbar": {
              "outlinewidth": 0,
              "ticks": ""
             }
            },
            "type": "scattergl"
           }
          ],
          "scattermapbox": [
           {
            "marker": {
             "colorbar": {
              "outlinewidth": 0,
              "ticks": ""
             }
            },
            "type": "scattermapbox"
           }
          ],
          "scatterpolar": [
           {
            "marker": {
             "colorbar": {
              "outlinewidth": 0,
              "ticks": ""
             }
            },
            "type": "scatterpolar"
           }
          ],
          "scatterpolargl": [
           {
            "marker": {
             "colorbar": {
              "outlinewidth": 0,
              "ticks": ""
             }
            },
            "type": "scatterpolargl"
           }
          ],
          "scatterternary": [
           {
            "marker": {
             "colorbar": {
              "outlinewidth": 0,
              "ticks": ""
             }
            },
            "type": "scatterternary"
           }
          ],
          "surface": [
           {
            "colorbar": {
             "outlinewidth": 0,
             "ticks": ""
            },
            "colorscale": [
             [
              0,
              "#0d0887"
             ],
             [
              0.1111111111111111,
              "#46039f"
             ],
             [
              0.2222222222222222,
              "#7201a8"
             ],
             [
              0.3333333333333333,
              "#9c179e"
             ],
             [
              0.4444444444444444,
              "#bd3786"
             ],
             [
              0.5555555555555556,
              "#d8576b"
             ],
             [
              0.6666666666666666,
              "#ed7953"
             ],
             [
              0.7777777777777778,
              "#fb9f3a"
             ],
             [
              0.8888888888888888,
              "#fdca26"
             ],
             [
              1,
              "#f0f921"
             ]
            ],
            "type": "surface"
           }
          ],
          "table": [
           {
            "cells": {
             "fill": {
              "color": "#EBF0F8"
             },
             "line": {
              "color": "white"
             }
            },
            "header": {
             "fill": {
              "color": "#C8D4E3"
             },
             "line": {
              "color": "white"
             }
            },
            "type": "table"
           }
          ]
         },
         "layout": {
          "annotationdefaults": {
           "arrowcolor": "#2a3f5f",
           "arrowhead": 0,
           "arrowwidth": 1
          },
          "coloraxis": {
           "colorbar": {
            "outlinewidth": 0,
            "ticks": ""
           }
          },
          "colorscale": {
           "diverging": [
            [
             0,
             "#8e0152"
            ],
            [
             0.1,
             "#c51b7d"
            ],
            [
             0.2,
             "#de77ae"
            ],
            [
             0.3,
             "#f1b6da"
            ],
            [
             0.4,
             "#fde0ef"
            ],
            [
             0.5,
             "#f7f7f7"
            ],
            [
             0.6,
             "#e6f5d0"
            ],
            [
             0.7,
             "#b8e186"
            ],
            [
             0.8,
             "#7fbc41"
            ],
            [
             0.9,
             "#4d9221"
            ],
            [
             1,
             "#276419"
            ]
           ],
           "sequential": [
            [
             0,
             "#0d0887"
            ],
            [
             0.1111111111111111,
             "#46039f"
            ],
            [
             0.2222222222222222,
             "#7201a8"
            ],
            [
             0.3333333333333333,
             "#9c179e"
            ],
            [
             0.4444444444444444,
             "#bd3786"
            ],
            [
             0.5555555555555556,
             "#d8576b"
            ],
            [
             0.6666666666666666,
             "#ed7953"
            ],
            [
             0.7777777777777778,
             "#fb9f3a"
            ],
            [
             0.8888888888888888,
             "#fdca26"
            ],
            [
             1,
             "#f0f921"
            ]
           ],
           "sequentialminus": [
            [
             0,
             "#0d0887"
            ],
            [
             0.1111111111111111,
             "#46039f"
            ],
            [
             0.2222222222222222,
             "#7201a8"
            ],
            [
             0.3333333333333333,
             "#9c179e"
            ],
            [
             0.4444444444444444,
             "#bd3786"
            ],
            [
             0.5555555555555556,
             "#d8576b"
            ],
            [
             0.6666666666666666,
             "#ed7953"
            ],
            [
             0.7777777777777778,
             "#fb9f3a"
            ],
            [
             0.8888888888888888,
             "#fdca26"
            ],
            [
             1,
             "#f0f921"
            ]
           ]
          },
          "colorway": [
           "#636efa",
           "#EF553B",
           "#00cc96",
           "#ab63fa",
           "#FFA15A",
           "#19d3f3",
           "#FF6692",
           "#B6E880",
           "#FF97FF",
           "#FECB52"
          ],
          "font": {
           "color": "#2a3f5f"
          },
          "geo": {
           "bgcolor": "white",
           "lakecolor": "white",
           "landcolor": "#E5ECF6",
           "showlakes": true,
           "showland": true,
           "subunitcolor": "white"
          },
          "hoverlabel": {
           "align": "left"
          },
          "hovermode": "closest",
          "mapbox": {
           "style": "light"
          },
          "paper_bgcolor": "white",
          "plot_bgcolor": "#E5ECF6",
          "polar": {
           "angularaxis": {
            "gridcolor": "white",
            "linecolor": "white",
            "ticks": ""
           },
           "bgcolor": "#E5ECF6",
           "radialaxis": {
            "gridcolor": "white",
            "linecolor": "white",
            "ticks": ""
           }
          },
          "scene": {
           "xaxis": {
            "backgroundcolor": "#E5ECF6",
            "gridcolor": "white",
            "gridwidth": 2,
            "linecolor": "white",
            "showbackground": true,
            "ticks": "",
            "zerolinecolor": "white"
           },
           "yaxis": {
            "backgroundcolor": "#E5ECF6",
            "gridcolor": "white",
            "gridwidth": 2,
            "linecolor": "white",
            "showbackground": true,
            "ticks": "",
            "zerolinecolor": "white"
           },
           "zaxis": {
            "backgroundcolor": "#E5ECF6",
            "gridcolor": "white",
            "gridwidth": 2,
            "linecolor": "white",
            "showbackground": true,
            "ticks": "",
            "zerolinecolor": "white"
           }
          },
          "shapedefaults": {
           "line": {
            "color": "#2a3f5f"
           }
          },
          "ternary": {
           "aaxis": {
            "gridcolor": "white",
            "linecolor": "white",
            "ticks": ""
           },
           "baxis": {
            "gridcolor": "white",
            "linecolor": "white",
            "ticks": ""
           },
           "bgcolor": "#E5ECF6",
           "caxis": {
            "gridcolor": "white",
            "linecolor": "white",
            "ticks": ""
           }
          },
          "title": {
           "x": 0.05
          },
          "xaxis": {
           "automargin": true,
           "gridcolor": "white",
           "linecolor": "white",
           "ticks": "",
           "title": {
            "standoff": 15
           },
           "zerolinecolor": "white",
           "zerolinewidth": 2
          },
          "yaxis": {
           "automargin": true,
           "gridcolor": "white",
           "linecolor": "white",
           "ticks": "",
           "title": {
            "standoff": 15
           },
           "zerolinecolor": "white",
           "zerolinewidth": 2
          }
         }
        },
        "title": {
         "text": "The NYC Schools: <br>SAT Score vs Safety and Respect Perception index"
        },
        "xaxis": {
         "title": {
          "text": "Safety and Respect Perception Index"
         }
        },
        "yaxis": {
         "title": {
          "text": "SAT score"
         }
        }
       }
      },
      "text/html": [
       "<div>\n",
       "        \n",
       "        \n",
       "            <div id=\"5d3b31bc-a741-4ea9-9d27-ad1271cdbc3f\" class=\"plotly-graph-div\" style=\"height:525px; width:100%;\"></div>\n",
       "            <script type=\"text/javascript\">\n",
       "                require([\"plotly\"], function(Plotly) {\n",
       "                    window.PLOTLYENV=window.PLOTLYENV || {};\n",
       "                    \n",
       "                if (document.getElementById(\"5d3b31bc-a741-4ea9-9d27-ad1271cdbc3f\")) {\n",
       "                    Plotly.newPlot(\n",
       "                        '5d3b31bc-a741-4ea9-9d27-ad1271cdbc3f',\n",
       "                        [{\"marker\": {\"color\": [6.7, 6.8, 7.9, 6.9, 7.8, 8.5, 8.1, 7.0, 7.9, 7.9, 6.9, 7.5, 7.5, 6.1, 7.3, 7.4, 6.9, 8.0, 7.5, 6.8, 7.0, 7.6, 7.7, 8.1, 7.9, 7.3, 8.5, 8.3, 7.3, 7.3, 6.7, 8.6, 8.1, 8.1, 8.6, 7.7, 8.1, 7.7, 7.8, 7.9, 7.4, 5.8, 7.4, 6.6, 7.9, 7.6, 7.9, 7.2, 7.5, 7.3, 7.4, 7.3, 7.6, 7.0, 6.9, 7.8, 6.3, 7.6, 6.5, 7.5, 8.0, 7.7, 7.3, 6.8, 8.0, 6.4, 7.8, 7.2, 7.7, 7.8, 8.4, 8.4, 6.7, 7.2, 7.3, 6.7, 6.0, 6.6, 7.4, 8.4, 8.4, 7.2, 8.3, 8.3, 7.5, 7.3, 7.3, 7.2, 6.6, 8.5, 7.3, 7.9, 7.9, 7.4, 8.0, 7.5, 7.0, 6.9, 8.1, 7.7, 7.0, 6.4, 7.0, 7.3, 7.2, 7.6, 7.0, 7.5, 7.4, 6.1, 6.1, 8.3, 7.0, 7.9, 7.4, 7.0, 7.6, 7.4, 7.4, 7.8, 8.0, 7.5, 7.2, 7.3, 6.8, 7.9, 7.4, 7.5, 6.6, 7.6, 7.5, 7.0, 7.1, 7.3, 6.3, 7.1, 7.5, 6.7, 7.2, 7.3, 7.0, 7.8, 7.5, 8.0, 7.2, 7.2, 7.2, 6.6, 6.8, 5.7, 7.1, 7.4, 8.0, 8.0, 7.6, 8.7, 7.6, 6.6, 6.8, 6.1, 7.4, 8.0, 7.0, 6.8, 7.3, 6.8, 7.3, 7.1, 7.4, 7.6, 6.5, 7.7, 7.2, 8.2, 7.4, 8.1, 7.3, 8.5, 7.1, 8.1, 8.3, 6.7, 7.4, 7.2, 6.9, 7.0, 7.6, 7.5, 8.4, 7.6, 6.5, 6.9, 7.8, 6.6, 7.4, 7.1, 7.1, 7.1, 8.2, 7.7, 7.1, 6.5, 7.2, 7.2, 8.3, 8.2, 7.8, 6.0, 7.2, 8.5, 6.6, 7.3, 6.6, 6.9, 6.9, 7.1, 6.5, 7.3, 7.2, 6.7, 6.4, 7.3, 4.9, 6.4, 6.6, 7.9, 6.2, 8.1, 6.0, 6.3, 6.9, 7.4, 7.7, 6.4, 6.5, 7.8, 6.9, 7.5, 6.6, 6.9, 6.8, 7.5, 7.1, 7.4, 7.0, 7.2, 7.2, 7.0, 7.8, 5.8, 7.3, 7.4, 6.3, 7.0, 6.3, 6.9, 5.6, 6.7, 6.6, 7.4, 7.6, 7.8, 7.5, 7.3, 7.9, 7.8, 6.9, 7.0, 6.8, 7.2, 7.5, 6.6, 6.8, 7.4, 7.0, 7.0, 7.1, 7.6, 8.2, 8.5, 7.1, 7.0, 7.1, 7.8, 8.0, 7.7, 7.5, 8.5, 7.0, 7.3, 7.6, 8.6, 7.6, 7.5, 7.8, 7.9, 7.7, 7.9, 7.2, 8.0, 7.1, 6.4, 8.2, 7.7, 7.0, 8.6, 5.6, 7.6, 6.9, 6.3, 7.7, 6.9, 7.2, 7.3, 8.3, 5.6, 6.6, 6.9, 7.3, 7.4, 7.5, 7.6, 7.5, 7.9, 7.4, 7.9, 6.9, 7.7, 7.1, 7.2, 6.5, 6.4, 6.9, 7.0, 7.6, 8.1, 6.6, 6.6, 8.1, 8.2, 7.2, 6.3, 7.6, 7.1, 8.0, 7.4, 8.3, 7.6, 6.9, 7.3, 7.1, 6.4, 6.7, 7.4, 7.3, 6.7, 8.6, 6.7, 6.7, 7.3, 6.9, 9.3, 7.4], \"colorscale\": [[0.0, \"#440154\"], [0.1111111111111111, \"#482878\"], [0.2222222222222222, \"#3e4989\"], [0.3333333333333333, \"#31688e\"], [0.4444444444444444, \"#26828e\"], [0.5555555555555556, \"#1f9e89\"], [0.6666666666666666, \"#35b779\"], [0.7777777777777778, \"#6ece58\"], [0.8888888888888888, \"#b5de2b\"], [1.0, \"#fde725\"]], \"showscale\": true, \"size\": [3.12, 4.96, 3.6, 3.36, 1.84, 5.56, 1.0, 4.08, 3.56, 3.0, 3.68, 3.2, 2.84, 2.44, 2.72, 2.88, 3.72, 7.754838709677419, 7.754838709677419, 7.754838709677419, 7.754838709677419, 14.08, 3.2, 4.2, 4.96, 4.24, 5.08, 6.0, 3.76, 13.64, 5.76, 7.754838709677419, 7.754838709677419, 7.754838709677419, 4.4, 3.56, 2.76, 31.48, 7.08, 2.12, 5.44, 25.48, 5.92, 1.96, 4.44, 4.04, 2.16, 3.08, 5.36, 16.64, 1.92, 6.92, 12.8, 4.72, 3.56, 4.0, 7.754838709677419, 7.754838709677419, 5.08, 7.754838709677419, 10.76, 25.84, 4.28, 5.48, 3.6, 2.16, 3.04, 15.24, 3.68, 2.52, 2.2, 2.2, 3.0, 3.84, 7.754838709677419, 7.754838709677419, 2.48, 10.36, 3.8, 4.24, 7.754838709677419, 7.754838709677419, 7.754838709677419, 7.754838709677419, 7.4, 6.44, 6.84, 6.32, 10.68, 3.64, 3.2, 0.4, 3.24, 2.76, 7.754838709677419, 2.44, 5.44, 4.08, 3.24, 3.28, 3.04, 10.68, 5.36, 7.754838709677419, 3.0, 4.68, 4.04, 4.32, 3.56, 7.754838709677419, 43.68, 7.754838709677419, 3.96, 4.32, 3.84, 4.0, 7.754838709677419, 2.4, 4.28, 4.0, 4.8, 2.68, 3.96, 7.754838709677419, 3.72, 7.754838709677419, 3.52, 4.32, 4.4, 4.12, 4.88, 3.48, 7.12, 1.88, 5.4, 2.92, 2.48, 2.68, 2.88, 4.72, 3.96, 3.32, 4.6, 0.08, 5.36, 3.84, 3.28, 5.76, 4.6, 40.52, 3.28, 26.72, 4.28, 4.32, 3.84, 3.12, 2.32, 4.72, 3.76, 2.6, 3.6, 4.84, 3.96, 4.44, 3.8, 22.6, 2.48, 2.64, 4.44, 4.72, 2.8, 4.16, 2.76, 0.08, 2.96, 3.84, 7.754838709677419, 7.754838709677419, 7.754838709677419, 2.08, 4.76, 4.64, 4.48, 3.24, 3.84, 3.12, 9.24, 43.88, 4.6, 4.36, 6.76, 7.754838709677419, 3.04, 9.84, 9.36, 7.754838709677419, 4.0, 2.4, 2.04, 3.84, 8.28, 5.84, 6.44, 3.0, 3.88, 4.32, 0.16, 9.32, 7.754838709677419, 1.64, 3.64, 3.04, 3.56, 3.76, 3.48, 2.6, 5.68, 4.0, 7.754838709677419, 2.84, 21.2, 7.754838709677419, 7.754838709677419, 2.76, 3.24, 3.36, 4.16, 2.4, 2.96, 4.0, 4.64, 3.04, 3.72, 4.4, 3.52, 6.24, 19.52, 0.16, 0.16, 0.12, 0.2, 0.12, 0.16, 7.754838709677419, 0.08, 7.754838709677419, 7.754838709677419, 7.754838709677419, 3.64, 3.48, 4.44, 4.44, 3.8, 0.12, 13.84, 0.04, 0.04, 4.24, 9.04, 7.754838709677419, 24.84, 11.88, 39.44, 34.36, 7.754838709677419, 2.84, 4.52, 2.6, 24.8, 7.754838709677419, 37.52, 24.12, 0.04, 0.12, 11.24, 5.6, 34.88, 43.04, 10.12, 4.8, 2.8, 3.68, 3.96, 3.6, 4.04, 7.754838709677419, 0.04, 2.0, 30.92, 28.12, 3.76, 4.96, 7.48, 3.8, 10.84, 14.72, 7.754838709677419, 3.44, 3.0, 3.28, 27.52, 23.52, 11.12, 6.36, 39.24, 48.36, 30.2, 36.08, 11.24, 3.8, 2.84, 0.08, 7.754838709677419, 7.754838709677419, 7.754838709677419, 11.52, 34.68, 32.32, 7.08, 7.754838709677419, 7.754838709677419, 7.754838709677419, 38.36, 30.64, 32.76, 4.68, 7.754838709677419, 4.28, 5.04, 7.754838709677419, 3.8, 2.56, 3.64, 4.12, 1.44, 7.754838709677419, 4.32, 3.76, 7.754838709677419, 7.754838709677419, 32.4, 28.72, 6.84, 10.68, 8.56, 6.2, 2.88, 3.2, 7.754838709677419, 4.52, 20.36, 20.76, 25.96, 42.76, 36.48, 7.0, 11.52, 3.96, 6.44, 3.88, 4.6, 1.72, 4.68]}, \"mode\": \"markers\", \"text\": [\"HENRY STREET SCHOOL FOR INTERNATIONAL STUDIES\", \"UNIVERSITY NEIGHBORHOOD HIGH SCHOOL\", \"EAST SIDE COMMUNITY SCHOOL\", \"MARTA VALLE HIGH SCHOOL\", \"NEW EXPLORATIONS INTO SCIENCE, TECHNOLOGY AND MATH HIGH SCHOOL\", \"BARD HIGH SCHOOL EARLY COLLEGE\", \"47 THE AMERICAN SIGN LANGUAGE AND ENGLISH SECONDARY SCHOOL\", \"FOOD AND FINANCE HIGH SCHOOL\", \"ESSEX STREET ACADEMY\", \"HIGH SCHOOL OF HOSPITALITY MANAGEMENT\", \"PACE HIGH SCHOOL\", \"URBAN ASSEMBLY SCHOOL OF DESIGN AND CONSTRUCTION, THE\", \"FACING HISTORY SCHOOL, THE\", \"URBAN ASSEMBLY ACADEMY OF GOVERNMENT AND LAW, THE\", \"LOWER MANHATTAN ARTS ACADEMY\", \"URBAN ASSEMBLY SCHOOL OF BUSINESS FOR YOUNG WOMEN, THE\", \"GRAMERCY ARTS HIGH SCHOOL\", \"NYC ISCHOOL\", \"MANHATTAN BUSINESS ACADEMY\", \"BUSINESS OF SPORTS SCHOOL\", \"THE HIGH SCHOOL FOR LANGUAGE AND DIPLOMACY\", \"HIGH SCHOOL FOR ENVIRONMENTAL STUDIES\", \"PROFESSIONAL PERFORMING ARTS HIGH SCHOOL\", \"BARUCH COLLEGE CAMPUS HIGH SCHOOL\", \"N.Y.C. LAB SCHOOL FOR COLLABORATIVE STUDIES\", \"N.Y.C. MUSEUM SCHOOL\", \"ELEANOR ROOSEVELT HIGH SCHOOL\", \"MILLENNIUM HIGH SCHOOL\", \"LANDMARK HIGH SCHOOL\", \"HIGH SCHOOL FOR HEALTH PROFESSIONS AND HUMAN SERVICES\", \"LEADERSHIP AND PUBLIC SERVICE HIGH SCHOOL\", \"MANHATTAN ACADEMY FOR ARTS & LANGUAGE\", \"HUDSON HIGH SCHOOL OF LEARNING TECHNOLOGIES\", \"INTERNATIONAL HIGH SCHOOL AT UNION SQUARE\", \"MANHATTAN VILLAGE ACADEMY\", \"VANGUARD HIGH SCHOOL\", \"MANHATTAN INTERNATIONAL HIGH SCHOOL\", \"STUYVESANT HIGH SCHOOL\", \"HIGH SCHOOL OF ECONOMICS AND FINANCE\", \"UNITY CENTER FOR URBAN TECHNOLOGIES\", \"TALENT UNLIMITED HIGH SCHOOL\", \"MURRY BERGTRAUM HIGH SCHOOL FOR BUSINESS CAREERS\", \"JACQUELINE KENNEDY ONASSIS HIGH SCHOOL\", \"REPERTORY COMPANY HIGH SCHOOL FOR THEATRE ARTS\", \"MANHATTAN BRIDGES HIGH SCHOOL\", \"NEW DESIGN HIGH SCHOOL\", \"HIGH SCHOOL FOR DUAL LANGUAGE AND ASIAN STUDIES\", \"THE URBAN ASSEMBLY NEW YORK HARBOR SCHOOL\", \"RICHARD R. GREEN HIGH SCHOOL OF TEACHING\", \"THE HIGH SCHOOL OF FASHION INDUSTRIES\", \"HUMANITIES PREPARATORY ACADEMY\", \"CHELSEA CAREER AND TECHNICAL EDUCATION HIGH SCHOOL\", \"ART AND DESIGN HIGH SCHOOL\", \"LIFE SCIENCES SECONDARY SCHOOL\", \"HIGH SCHOOL FOR ARTS, IMAGINATION AND INQUIRY\", \"URBAN ASSEMBLY SCHOOL FOR MEDIA STUDIES, THE\", \"THE URBAN ASSEMBLY SCHOOL FOR GREEN CAREERS\", \"THE GLOBAL LEARNING COLLABORATIVE\", \"WADLEIGH SECONDARY SCHOOL FOR THE PERFORMING & VISUAL ARTS\", \"FRANK MCCOURT HIGH SCHOOL\", \"BEACON HIGH SCHOOL\", \"FIORELLO H. LAGUARDIA HIGH SCHOOL OF MUSIC & ART AND PERFORMING ARTS\", \"HIGH SCHOOL FOR LAW, ADVOCACY AND COMMUNITY JUSTICE\", \"HIGH SCHOOL OF ARTS AND TECHNOLOGY\", \"MANHATTAN / HUNTER SCIENCE HIGH SCHOOL\", \"FREDERICK DOUGLASS ACADEMY II SECONDARY SCHOOL\", \"COALITION SCHOOL FOR SOCIAL CHANGE\", \"MANHATTAN CENTER FOR SCIENCE AND MATHEMATICS\", \"PARK EAST HIGH SCHOOL\", \"CENTRAL PARK EAST HIGH SCHOOL\", \"YOUNG WOMEN'S LEADERSHIP SCHOOL\", \"YOUNG WOMEN'S LEADERSHIP SCHOOL\", \"HERITAGE SCHOOL, THE\", \"MOTT HALL HIGH SCHOOL\", \"COLUMBIA SECONDARY SCHOOL FOR MATH, SCIENCE, AND ENGINEERING\", \"ACADEMY FOR SOCIAL ACTION: A COLLEGE BOARD SCHOOL\", \"URBAN ASSEMBLY SCHOOL FOR THE PERFORMING ARTS\", \"FREDERICK DOUGLASS ACADEMY\", \"THURGOOD MARSHALL ACADEMY FOR LEARNING AND SOCIAL CHANGE\", \"HIGH SCHOOL FOR MATHEMATICS, SCIENCE AND ENGINEERING AT CITY COLLEGE\", \"CITY COLLEGE ACADEMY OF THE ARTS\", \"COMMUNITY HEALTH ACADEMY OF THE HEIGHTS\", \"WASHINGTON HEIGHTS EXPEDITIONARY LEARNING SCHOOL\", \"HIGH SCHOOL FOR EXCELLENCE AND INNOVATION\", \"HIGH SCHOOL FOR INTERNATIONAL BUSINESS AND FINANCE\", \"HIGH SCHOOL FOR MEDIA AND COMMUNICATIONS\", \"HIGH SCHOOL FOR LAW AND PUBLIC SERVICE\", \"HIGH SCHOOL FOR HEALTH CAREERS AND SCIENCES\", \"A. PHILIP RANDOLPH CAMPUS HIGH SCHOOL\", \"GREGORIO LUPERON HIGH SCHOOL FOR SCIENCE AND MATHEMATICS\", \"SOUTH BRONX PREPARATORY: A COLLEGE BOARD SCHOOL\", \"INTERNATIONAL COMMUNITY HIGH SCHOOL\", \"COMMUNITY SCHOOL FOR SOCIAL JUSTICE\", \"MOTT HAVEN VILLAGE PREPARATORY HIGH SCHOOL\", \"UNIVERSITY HEIGHTS SECONDARY SCHOOL\", \"HOSTOSsLINCOLN ACADEMY OF SCIENCE\", \"FOREIGN LANGUAGE ACADEMY OF GLOBAL STUDIES\", \"BRONX LEADERSHIP ACADEMY II HIGH SCHOOL\", \"NEW EXPLORERS HIGH SCHOOL\", \"URBAN ASSEMBLY SCHOOL FOR CAREERS IN SPORTS\", \"BRONX ACADEMY OF LETTERS\", \"ALFRED E. SMITH CAREER AND TECHNICAL EDUCATION HIGH SCHOOL\", \"HEALTH OPPORTUNITIES HIGH SCHOOL\", \"BRONX STUDIO SCHOOL FOR WRITERS AND ARTISTS\", \"WOMEN'S ACADEMY OF EXCELLENCE\", \"RENAISSANCE HIGH SCHOOL FOR MUSICAL THEATER & TECHNOLOGY\", \"PABLO NERUDA ACADEMY FOR ARCHITECTURE AND WORLD STUDIES\", \"MILLENNIUM ART ACADEMY\", \"HOLCOMBE L. RUCKER SCHOOL OF COMMUNITY RESEARCH\", \"ANTONIA PANTOJA PREPARATORY ACADEMY, A COLLEGE BOARD SCHOOL\", \"HERBERT H. LEHMAN HIGH SCHOOL\", \"BRONX BRIDGES HIGH SCHOOL\", \"FELISA RINCON DE GAUTIER INSTITUTE FOR LAW AND PUBLIC POLICY, THE\", \"BANANA KELLY HIGH SCHOOL\", \"BRONX EXPEDITIONARY LEARNING HIGH SCHOOL\", \"EAGLE ACADEMY FOR YOUNG MEN\", \"URBAN ASSEMBLY SCHOOL FOR APPLIED MATH AND SCIENCE, THE\", \"EXIMIUS COLLEGE PREPARATORY ACADEMY: A COLLEGE BOARD SCHOOL\", \"MOTT HALL BRONX HIGH SCHOOL\", \"BRONX CENTER FOR SCIENCE AND MATHEMATICS\", \"VALIDUS PREPARATORY ACADEMY: AN EXPEDITIONARY LEARNING SCHOOL\", \"LEADERSHIP INSTITUTE\", \"MORRIS ACADEMY FOR COLLABORATIVE STUDIES\", \"BRONX EARLY COLLEGE ACADEMY FOR TEACHING & LEARNING\", \"DREAMYARD PREPARATORY SCHOOL\", \"ACADEMY FOR LANGUAGE AND TECHNOLOGY\", \"BRONX INTERNATIONAL HIGH SCHOOL\", \"SCHOOL FOR EXCELLENCE\", \"BRONX HIGH SCHOOL OF BUSINESS\", \"BRONX HIGH SCHOOL FOR MEDICAL SCIENCE\", \"BRONX SCHOOL FOR LAW, GOVERNMENT AND JUSTICE\", \"FREDERICK DOUGLASS ACADEMY III SECONDARY SCHOOL\", \"BRONX LEADERSHIP ACADEMY HIGH SCHOOL\", \"HIGH SCHOOL FOR VIOLIN AND DANCE\", \"RIVERDALE / KINGSBRIDGE ACADEMY (MIDDLE SCHOOL / HIGH SCHOOL 141)\", \"BRONX ENGINEERING AND TECHNOLOGY ACADEMY\", \"THEATRE ARTS PRODUCTION COMPANY SCHOOL\", \"THE MARIE CURIE SCHOOL FOR MEDICINE, NURSING, AND HEALTH PROFESSIONS\", \"WEST BRONX ACADEMY FOR THE FUTURE\", \"KINGSBRIDGE INTERNATIONAL HIGH SCHOOL\", \"BRONX SCHOOL OF LAW AND FINANCE\", \"INTERNATIONAL SCHOOL FOR LIBERAL ARTS\", \"INsTECH ACADEMY (M.S. / HIGH SCHOOL 368)\", \"KNOWLEDGE AND POWER PREPARATORY ACADEMY INTERNATIONAL HIGH SCHOOL (KAPPA)\", \"HIGH SCHOOL FOR TEACHING AND THE PROFESSIONS\", \"BELMONT PREPARATORY HIGH SCHOOL\", \"FORDHAM HIGH SCHOOL FOR THE ARTS\", \"FORDHAM LEADERSHIP ACADEMY FOR BUSINESS AND TECHNOLOGY\", \"BRONX HIGH SCHOOL FOR LAW AND COMMUNITY SERVICE\", \"DEWITT CLINTON HIGH SCHOOL\", \"CELIA CRUZ BRONX HIGH SCHOOL OF MUSIC, THE\", \"BRONX HIGH SCHOOL OF SCIENCE\", \"MARBLE HILL HIGH SCHOOL FOR INTERNATIONAL STUDIES\", \"BRONX THEATRE HIGH SCHOOL\", \"DISCOVERY HIGH SCHOOL\", \"HIGH SCHOOL OF AMERICAN STUDIES AT LEHMAN COLLEGE\", \"BRONX HEALTH SCIENCES HIGH SCHOOL\", \"BRONX HIGH SCHOOL FOR WRITING AND COMMUNICATION ARTS\", \"BRONX LAB SCHOOL\", \"ACADEMY FOR SCHOLARSHIP AND ENTREPRENEURSHIP: A COLLEGE BOARD SCHOOL\", \"HIGH SCHOOL OF COMPUTERS AND TECHNOLOGY\", \"COLLEGIATE INSTITUTE FOR MATH AND SCIENCE\", \"BRONX ACADEMY OF HEALTH CAREERS\", \"ASTOR COLLEGIATE ACADEMY\", \"BRONX HIGH SCHOOL FOR THE VISUAL ARTS\", \"HARRY S TRUMAN HIGH SCHOOL\", \"NEW WORLD HIGH SCHOOL\", \"THE BRONXWOOD PREPARATORY ACADEMY\", \"PELHAM PREPARATORY ACADEMY\", \"HIGH SCHOOL FOR CONTEMPORARY ARTS\", \"BRONX AEROSPACE HIGH SCHOOL\", \"METROPOLITAN HIGH SCHOOL, THE\", \"EXPLORATIONS ACADEMY\", \"BRONX LATIN\", \"EAST BRONX ACADEMY FOR THE FUTURE\", \"PEACE AND DIVERSITY ACADEMY\", \"PAN AMERICAN INTERNATIONAL HIGH SCHOOL AT MONROE\", \"THE CINEMA SCHOOL\", \"BRONX CAREER AND COLLEGE PREPARATORY HIGH SCHOOL\", \"HIGH SCHOOL OF WORLD CULTURES\", \"FANNIE LOU HAMER FREEDOM HIGH SCHOOL\", \"WINGS ACADEMY\", \"MONROE ACADEMY FOR VISUAL ARTS & DESIGN\", \"DR. SUSAN S. MCKINNEY SECONDARY SCHOOL OF THE ARTS\", \"URBAN ASSEMBLY HIGH SCHOOL OF MUSIC AND ART\", \"BROOKLYN COMMUNITY HIGH SCHOOL OF COMMUNICATION, ARTS AND MEDIA\", \"SCIENCE SKILLS CENTER HIGH SCHOOL FOR SCIENCE, TECHNOLOGY AND THE CREATIVE ARTS\", \"BROOKLYN TECHNICAL HIGH SCHOOL\", \"BROOKLYN INTERNATIONAL HIGH SCHOOL\", \"THE URBAN ASSEMBLY SCHOOL FOR LAW AND JUSTICE\", \"ACORN COMMUNITY HIGH SCHOOL\", \"URBAN ASSEMBLY INSTITUTE OF MATH AND SCIENCE FOR YOUNG WOMEN\", \"BEDFORD ACADEMY HIGH SCHOOL\", \"GEORGE WESTINGHOUSE CAREER AND TECHNICAL EDUCATION HIGH SCHOOL\", \"BENJAMIN BANNEKER ACADEMY\", \"CITY POLYTECHNIC HIGH SCHOOL OF ENGINEERING, ARCHITECTURE, AND TECHNOLOGY\", \"JUAN MOREL CAMPOS SECONDARY SCHOOL\", \"FOUNDATIONS ACADEMY\", \"BROOKLYN LATIN SCHOOL, THE\", \"GREEN SCHOOL: AN ACADEMY FOR ENVIRONMENTAL CAREERS\", \"PROGRESS HIGH SCHOOL FOR PROFESSIONAL CAREERS\", \"SCHOOL FOR LEGAL STUDIES\", \"THE HIGH SCHOOL FOR ENTERPRISE, BUSINESS AND TECHNOLOGY\", \"BROOKLYN PREPARATORY HIGH SCHOOL\", \"WILLIAMSBURG HIGH SCHOOL FOR ARCHITECTURE AND DESIGN\", \"WILLIAMSBURG PREPARATORY SCHOOL\", \"LYONS COMMUNITY SCHOOL\", \"AUTOMOTIVE HIGH SCHOOL\", \"FRANCES PERKINS ACADEMY\", \"EL PUENTE ACADEMY FOR PEACE AND JUSTICE\", \"BROOKLYN SCHOOL FOR GLOBAL STUDIES\", \"BROOKLYN SECONDARY SCHOOL FOR COLLABORATIVE STUDIES\", \"SECONDARY SCHOOL FOR LAW\", \"SECONDARY SCHOOL FOR JOURNALISM\", \"PARK SLOPE COLLEGIATE\", \"SCHOOL FOR INTERNATIONAL STUDIES\", \"COBBLE HILL SCHOOL OF AMERICAN STUDIES\", \"BROOKLYN HIGH SCHOOL OF THE ARTS\", \"SUNSET PARK HIGH SCHOOL\", \"FREDERICK DOUGLASS ACADEMY IV SECONDARY SCHOOL\", \"BOYS AND GIRLS HIGH SCHOOL\", \"BROOKLYN HIGH SCHOOL FOR LAW AND TECHNOLOGY\", \"THE BROOKLYN ACADEMY OF GLOBAL FINANCE\", \"ACADEMY FOR COLLEGE PREPARATION AND CAREER EXPLORATION: A COLLEGE BOARD SCHOOL\", \"ACADEMY OF HOSPITALITY AND TOURISM\", \"INTERNATIONAL HIGH SCHOOL AT PROSPECT HEIGHTS\", \"THE HIGH SCHOOL FOR GLOBAL CITIZENSHIP\", \"SCHOOL FOR HUMAN RIGHTS, THE\", \"SCHOOL FOR DEMOCRACY AND LEADERSHIP\", \"HIGH SCHOOL FOR YOUTH AND COMMUNITY DEVELOPMENT AT ERASMUS\", \"HIGH SCHOOL FOR SERVICE & LEARNING AT ERASMUS\", \"SCIENCE, TECHNOLOGY AND RESEARCH EARLY COLLEGE HIGH SCHOOL AT ERASMUS\", \"HIGH SCHOOL FOR PUBLIC SERVICE: HEROES OF TOMORROW\", \"BROOKLYN ACADEMY OF SCIENCE AND THE ENVIRONMENT\", \"BROOKLYN SCHOOL FOR MUSIC & THEATRE\", \"MEDGAR EVERS COLLEGE PREPARATORY SCHOOL\", \"CLARA BARTON HIGH SCHOOL\", \"IT TAKES A VILLAGE ACADEMY\", \"BROOKLYN GENERATION SCHOOL\", \"BROOKLYN THEATRE ARTS HIGH SCHOOL\", \"KURT HAHN EXPEDITIONARY LEARNING SCHOOL\", \"VICTORY COLLEGIATE HIGH SCHOOL\", \"ARTS & MEDIA PREPARATORY ACADEMY\", \"HIGH SCHOOL FOR INNOVATION IN ADVERTISING AND MEDIA\", \"CULTURAL ACADEMY FOR THE ARTS AND SCIENCES\", \"HIGH SCHOOL FOR MEDICAL PROFESSIONS\", \"ACADEMY FOR CONSERVATION AND THE ENVIRONMENT\", \"URBAN ACTION ACADEMY\", \"EAST NEW YORK FAMILY ACADEMY\", \"FDNY HIGH SCHOOL FOR FIRE AND LIFE SAFETY\", \"HIGH SCHOOL FOR CIVIL RIGHTS\", \"PERFORMING ARTS AND TECHNOLOGY HIGH SCHOOL\", \"WORLD ACADEMY FOR TOTAL COMMUNITY HEALTH HIGH SCHOOL\", \"MULTICULTURAL HIGH SCHOOL\", \"TRANSIT TECH CAREER AND TECHNICAL EDUCATION HIGH SCHOOL\", \"ACADEMY OF INNOVATIVE TECHNOLOGY\", \"BROOKLYN LAB SCHOOL\", \"CYPRESS HILLS COLLEGIATE PREPARATORY SCHOOL\", \"W. H. MAXWELL CAREER AND TECHNICAL EDUCATION HIGH SCHOOL\", \"THE SCHOOL FOR CLASSICS: AN ACADEMY OF THINKERS, WRITERS AND PERFORMERS\", \"NEW UTRECHT HIGH SCHOOL\", \"HIGH SCHOOL OF TELECOMMUNICATION ARTS AND TECHNOLOGY\", \"FORT HAMILTON HIGH SCHOOL\", \"FRANKLIN DELANO ROOSEVELT HIGH SCHOOL\", \"THE URBAN ASSEMBLY SCHOOL FOR CRIMINAL JUSTICE\", \"INTERNATIONAL HIGH SCHOOL AT LAFAYETTE\", \"RACHEL CARSON HIGH SCHOOL FOR COASTAL STUDIES\", \"HIGH SCHOOL OF SPORTS MANAGEMENT\", \"ABRAHAM LINCOLN HIGH SCHOOL\", \"KINGSBOROUGH EARLY COLLEGE SCHOOL\", \"EDWARD R. MURROW HIGH SCHOOL\", \"JOHN DEWEY HIGH SCHOOL\", \"LIFE ACADEMY HIGH SCHOOL FOR FILM AND MUSIC\", \"EXPEDITIONARY LEARNING SCHOOL FOR COMMUNITY LEADERS\", \"WILLIAM E. GRADY CAREER AND TECHNICAL EDUCATION HIGH SCHOOL\", \"BROOKLYN STUDIO SECONDARY SCHOOL\", \"MIDWOOD HIGH SCHOOL\", \"JAMES MADISON HIGH SCHOOL\", \"LEON M. GOLDSTEIN HIGH SCHOOL FOR THE SCIENCES\", \"BROOKLYN COLLEGE ACADEMY\", \"BROOKLYN COLLEGIATE: A COLLEGE BOARD SCHOOL\", \"FREDERICK DOUGLASS ACADEMY VII HIGH SCHOOL\", \"TEACHERS PREPARATORY HIGH SCHOOL\", \"ACADEMY OF FINANCE AND ENTERPRISE\", \"HIGH SCHOOL OF APPLIED COMMUNICATION\", \"CIVIC LEADERSHIP ACADEMY\", \"PAN AMERICAN INTERNATIONAL HIGH SCHOOL\", \"BARD HIGH SCHOOL EARLY COLLEGE II\", \"NEWTOWN HIGH SCHOOL\", \"GROVER CLEVELAND HIGH SCHOOL\", \"MIDDLE COLLEGE HIGH SCHOOL AT LAGUARDIA COMMUNITY COLLEGE\", \"INTERNATIONAL HIGH SCHOOL AT LAGUARDIA COMMUNITY COLLEGE\", \"HIGH SCHOOL FOR ARTS AND BUSINESS\", \"ROBERT F. WAGNER, JR. SECONDARY SCHOOL FOR ARTS AND TECHNOLOGY\", \"QUEENS VOCATIONAL AND TECHNICAL HIGH SCHOOL\", \"AVIATION CAREER & TECHNICAL EDUCATION HIGH SCHOOL\", \"QUEENS SCHOOL OF INQUIRY, THE\", \"FLUSHING INTERNATIONAL HIGH SCHOOL\", \"EASTsWEST SCHOOL OF INTERNATIONAL STUDIES\", \"WORLD JOURNALISM PREPARATORY: A COLLEGE BOARD SCHOOL\", \"JOHN BOWNE HIGH SCHOOL\", \"FLUSHING HIGH SCHOOL\", \"TOWNSEND HARRIS HIGH SCHOOL\", \"ROBERT F. KENNEDY COMMUNITY HIGH SCHOOL\", \"BENJAMIN N. CARDOZO HIGH SCHOOL\", \"FRANCIS LEWIS HIGH SCHOOL\", \"MARTIN VAN BUREN HIGH SCHOOL\", \"BAYSIDE HIGH SCHOOL\", \"QUEENS HIGH SCHOOL OF TEACHING, LIBERAL ARTS AND THE SCIENCES\", \"FREDERICK DOUGLASS ACADEMY VI HIGH SCHOOL\", \"CHANNEL VIEW SCHOOL FOR RESEARCH\", \"QUEENS HIGH SCHOOL FOR INFORMATION, RESEARCH, AND TECHNOLOGY\", \"ROBERT H. GODDARD HIGH SCHOOL OF COMMUNICATION ARTS AND TECHNOLOGY\", \"ACADEMY OF MEDICAL TECHNOLOGY: A COLLEGE BOARD SCHOOL\", \"SCHOLARS' ACADEMY\", \"AUGUST MARTIN HIGH SCHOOL\", \"RICHMOND HILL HIGH SCHOOL\", \"JOHN ADAMS HIGH SCHOOL\", \"HIGH SCHOOL FOR CONSTRUCTION TRADES, ENGINEERING AND ARCHITECTURE\", \"YORK EARLY COLLEGE ACADEMY\", \"QUEENS COLLEGIATE: A COLLEGE BOARD SCHOOL\", \"HILLSIDE ARTS & LETTERS ACADEMY\", \"FOREST HILLS HIGH SCHOOL\", \"HILLCREST HIGH SCHOOL\", \"THOMAS A. EDISON CAREER AND TECHNICAL EDUCATION HIGH SCHOOL\", \"QUEENS GATEWAY TO HEALTH SCIENCES SECONDARY SCHOOL\", \"QUEENS METROPOLITAN HIGH SCHOOL\", \"QUEENS HIGH SCHOOL FOR THE SCIENCES AT YORK COLLEGE\", \"HIGH SCHOOL FOR LAW ENFORCEMENT AND PUBLIC SAFETY\", \"YOUNG WOMEN'S LEADERSHIP SCHOOL, QUEENS\", \"QUEENS PREPARATORY ACADEMY\", \"PATHWAYS COLLEGE PREPARATORY SCHOOL: A COLLEGE BOARD SCHOOL\", \"EXCELSIOR PREPARATORY HIGH SCHOOL\", \"GEORGE WASHINGTON CARVER HIGH SCHOOL FOR THE SCIENCES\", \"PREPARATORY ACADEMY FOR WRITERS: A COLLEGE BOARD SCHOOL\", \"CAMBRIA HEIGHTS ACADEMY\", \"MATHEMATICS, SCIENCE RESEARCH AND TECHNOLOGY MAGNET HIGH SCHOOL\", \"HUMANITIES & ARTS MAGNET HIGH SCHOOL\", \"YOUNG WOMEN'S LEADERSHIP SCHOOL, ASTORIA\", \"ACADEMY FOR CAREERS IN TELEVISION AND FILM\", \"WILLIAM CULLEN BRYANT HIGH SCHOOL\", \"LONG ISLAND CITY HIGH SCHOOL\", \"FRANK SINATRA SCHOOL OF THE ARTS HIGH SCHOOL\", \"INFORMATION TECHNOLOGY HIGH SCHOOL\", \"NEWCOMERS HIGH SCHOOL\", \"ACADEMY OF AMERICAN STUDIES\", \"BACCALAUREATE SCHOOL FOR GLOBAL EDUCATION\", \"CSI HIGH SCHOOL FOR INTERNATIONAL STUDIES\", \"GAYNOR MCCOWN EXPEDITIONARY LEARNING SCHOOL\", \"THE MICHAEL J. PETRIDES SCHOOL\", \"NEW DORP HIGH SCHOOL\", \"PORT RICHMOND HIGH SCHOOL\", \"CURTIS HIGH SCHOOL\", \"TOTTENVILLE HIGH SCHOOL\", \"SUSAN E. WAGNER HIGH SCHOOL\", \"RALPH R. MCKEE CAREER AND TECHNICAL EDUCATION HIGH SCHOOL\", \"STATEN ISLAND TECHNICAL HIGH SCHOOL\", \"ACADEMY FOR ENVIRONMENTAL LEADERSHIP\", \"EBC HIGH SCHOOL FOR PUBLIC SERVICE\\u2013BUSHWICK\", \"BUSHWICK SCHOOL FOR SOCIAL JUSTICE\", \"ACADEMY OF URBAN PLANNING\", \"ALL CITY LEADERSHIP SECONDARY SCHOOL\", \"BUSHWICK LEADERS HIGH SCHOOL FOR ACADEMIC EXCELLENCE\"], \"type\": \"scatter\", \"x\": [6.7, 6.8, 7.9, 6.9, 7.8, 8.5, 8.1, 7.0, 7.9, 7.9, 6.9, 7.5, 7.5, 6.1, 7.3, 7.4, 6.9, 8.0, 7.5, 6.8, 7.0, 7.6, 7.7, 8.1, 7.9, 7.3, 8.5, 8.3, 7.3, 7.3, 6.7, 8.6, 8.1, 8.1, 8.6, 7.7, 8.1, 7.7, 7.8, 7.9, 7.4, 5.8, 7.4, 6.6, 7.9, 7.6, 7.9, 7.2, 7.5, 7.3, 7.4, 7.3, 7.6, 7.0, 6.9, 7.8, 6.3, 7.6, 6.5, 7.5, 8.0, 7.7, 7.3, 6.8, 8.0, 6.4, 7.8, 7.2, 7.7, 7.8, 8.4, 8.4, 6.7, 7.2, 7.3, 6.7, 6.0, 6.6, 7.4, 8.4, 8.4, 7.2, 8.3, 8.3, 7.5, 7.3, 7.3, 7.2, 6.6, 8.5, 7.3, 7.9, 7.9, 7.4, 8.0, 7.5, 7.0, 6.9, 8.1, 7.7, 7.0, 6.4, 7.0, 7.3, 7.2, 7.6, 7.0, 7.5, 7.4, 6.1, 6.1, 8.3, 7.0, 7.9, 7.4, 7.0, 7.6, 7.4, 7.4, 7.8, 8.0, 7.5, 7.2, 7.3, 6.8, 7.9, 7.4, 7.5, 6.6, 7.6, 7.5, 7.0, 7.1, 7.3, 6.3, 7.1, 7.5, 6.7, 7.2, 7.3, 7.0, 7.8, 7.5, 8.0, 7.2, 7.2, 7.2, 6.6, 6.8, 5.7, 7.1, 7.4, 8.0, 8.0, 7.6, 8.7, 7.6, 6.6, 6.8, 6.1, 7.4, 8.0, 7.0, 6.8, 7.3, 6.8, 7.3, 7.1, 7.4, 7.6, 6.5, 7.7, 7.2, 8.2, 7.4, 8.1, 7.3, 8.5, 7.1, 8.1, 8.3, 6.7, 7.4, 7.2, 6.9, 7.0, 7.6, 7.5, 8.4, 7.6, 6.5, 6.9, 7.8, 6.6, 7.4, 7.1, 7.1, 7.1, 8.2, 7.7, 7.1, 6.5, 7.2, 7.2, 8.3, 8.2, 7.8, 6.0, 7.2, 8.5, 6.6, 7.3, 6.6, 6.9, 6.9, 7.1, 6.5, 7.3, 7.2, 6.7, 6.4, 7.3, 4.9, 6.4, 6.6, 7.9, 6.2, 8.1, 6.0, 6.3, 6.9, 7.4, 7.7, 6.4, 6.5, 7.8, 6.9, 7.5, 6.6, 6.9, 6.8, 7.5, 7.1, 7.4, 7.0, 7.2, 7.2, 7.0, 7.8, 5.8, 7.3, 7.4, 6.3, 7.0, 6.3, 6.9, 5.6, 6.7, 6.6, 7.4, 7.6, 7.8, 7.5, 7.3, 7.9, 7.8, 6.9, 7.0, 6.8, 7.2, 7.5, 6.6, 6.8, 7.4, 7.0, 7.0, 7.1, 7.6, 8.2, 8.5, 7.1, 7.0, 7.1, 7.8, 8.0, 7.7, 7.5, 8.5, 7.0, 7.3, 7.6, 8.6, 7.6, 7.5, 7.8, 7.9, 7.7, 7.9, 7.2, 8.0, 7.1, 6.4, 8.2, 7.7, 7.0, 8.6, 5.6, 7.6, 6.9, 6.3, 7.7, 6.9, 7.2, 7.3, 8.3, 5.6, 6.6, 6.9, 7.3, 7.4, 7.5, 7.6, 7.5, 7.9, 7.4, 7.9, 6.9, 7.7, 7.1, 7.2, 6.5, 6.4, 6.9, 7.0, 7.6, 8.1, 6.6, 6.6, 8.1, 8.2, 7.2, 6.3, 7.6, 7.1, 8.0, 7.4, 8.3, 7.6, 6.9, 7.3, 7.1, 6.4, 6.7, 7.4, 7.3, 6.7, 8.6, 6.7, 6.7, 7.3, 6.9, 9.3, 7.4], \"y\": [1122.0, 1172.0, 1149.0, 1207.0, 1621.0, 1856.0, 1182.0, 1194.0, 1156.0, 1111.0, 1293.0, 1269.0, 1051.0, 1148.0, 1200.0, 1127.0, 1176.0, 1435.0, 1223.4388059701494, 1223.4388059701494, 1223.4388059701494, 1419.0, 1522.0, 1577.0, 1677.0, 1419.0, 1758.0, 1614.0, 1170.0, 1306.0, 1233.0, 1223.4388059701494, 1223.4388059701494, 1223.4388059701494, 1372.0, 1199.0, 1227.0, 2096.0, 1374.0, 1070.0, 1416.0, 1240.0, 1239.0, 1253.0, 1058.0, 1168.0, 1424.0, 1212.0, 1195.0, 1257.0, 1255.0, 1207.0, 1315.0, 1236.0, 1132.0, 1144.0, 1223.4388059701494, 1223.4388059701494, 1109.0, 1223.4388059701494, 1744.0, 1707.0, 1196.0, 1277.0, 1446.0, 1096.0, 1084.0, 1430.0, 1128.0, 1221.0, 1326.0, 1326.0, 1054.0, 1210.0, 1223.4388059701494, 1062.0, 1077.0, 1374.0, 1202.0, 1847.0, 1270.0, 1105.0, 1174.0, 1223.4388059701494, 1127.0, 1098.0, 1102.0, 1224.0, 1309.0, 1014.0, 1090.0, 945.0, 1077.0, 1097.0, 1201.0, 1257.0, 1186.0, 1103.0, 1084.0, 1181.0, 1201.0, 1158.0, 1095.0, 1223.4388059701494, 1171.0, 1158.0, 1038.0, 1164.0, 1084.0, 1223.4388059701494, 1241.0, 1223.4388059701494, 1099.0, 1131.0, 1049.0, 1134.0, 1290.0, 1169.0, 1092.0, 1396.0, 1075.0, 1081.0, 1148.0, 1223.4388059701494, 1138.0, 951.0, 965.0, 1074.0, 1083.0, 1221.0, 1224.0, 1121.0, 1166.0, 1039.0, 1333.0, 1150.0, 1190.0, 1157.0, 1158.0, 962.0, 1182.0, 934.0, 1181.0, 1180.0, 1106.0, 1222.0, 1077.0, 1119.0, 1082.0, 1255.0, 1270.0, 1969.0, 1263.0, 1064.0, 1115.0, 1920.0, 1133.0, 1147.0, 1135.0, 1141.0, 1111.0, 1348.0, 1135.0, 1169.0, 1268.0, 1151.0, 1048.0, 1112.0, 1288.0, 1126.0, 1163.0, 1055.0, 1122.0, 1251.0, 1102.0, 1155.0, 970.0, 1223.4388059701494, 1223.4388059701494, 939.0, 1029.0, 1114.0, 1038.0, 1074.0, 1080.0, 1114.0, 1211.0, 1833.0, 981.0, 1206.0, 1116.0, 1223.4388059701494, 1312.0, 1189.0, 1391.0, 1353.0, 1085.0, 1223.4388059701494, 1740.0, 1189.0, 1114.0, 1204.0, 1215.0, 1090.0, 1112.0, 1187.0, 1103.0, 1093.0, 1122.0, 1035.0, 1111.0, 1179.0, 1203.0, 1169.0, 1175.0, 1212.0, 1185.0, 1258.0, 1223.4388059701494, 1068.0, 1097.0, 1092.0, 1223.4388059701494, 1139.0, 1045.0, 913.0, 1176.0, 1088.0, 1153.0, 1027.0, 1105.0, 1360.0, 1273.0, 1143.0, 1151.0, 1436.0, 1251.0, 963.0, 1145.0, 1118.0, 1092.0, 1143.0, 1080.0, 1183.0, 1169.0, 1159.0, 1111.0, 1135.0, 1242.0, 1023.0, 1054.0, 1149.0, 1106.0, 887.0, 1193.0, 1096.0, 1108.0, 1129.0, 1102.0, 1157.0, 1272.0, 1323.0, 1306.0, 1244.0, 1223.4388059701494, 1026.0, 1237.0, 1164.0, 1226.0, 1223.4388059701494, 1431.0, 1262.0, 1124.0, 1079.0, 1184.0, 1313.0, 1473.0, 1350.0, 1627.0, 1352.0, 1185.0, 1091.0, 1196.0, 1280.0, 1219.0, 1240.0, 951.0, 1663.0, 1203.0, 1211.0, 1177.0, 1064.0, 1174.0, 1330.0, 1270.0, 1364.0, 1396.0, 1049.0, 1271.0, 1441.0, 1243.0, 1216.0, 1910.0, 1330.0, 1514.0, 1474.0, 1172.0, 1449.0, 1279.0, 1145.0, 1252.0, 1156.0, 1265.0, 1094.0, 1532.0, 1108.0, 1154.0, 1192.0, 1345.0, 1223.4388059701494, 1265.0, 1223.4388059701494, 1407.0, 1194.0, 1372.0, 1538.0, 1223.4388059701494, 1868.0, 1196.0, 1316.0, 1099.0, 1173.0, 1202.0, 1287.0, 1100.0, 1223.4388059701494, 1220.0, 1151.0, 1223.4388059701494, 1255.0, 1275.0, 1218.0, 1494.0, 1239.0, 1127.0, 1470.0, 1636.0, 1353.0, 1195.0, 1426.0, 1277.0, 1279.0, 1301.0, 1418.0, 1388.0, 1235.0, 1953.0, 1098.0, 1154.0, 1035.0, 1060.0, 1315.0, 1055.0]}],\n",
       "                        {\"shapes\": [{\"line\": {\"color\": \"grey\", \"dash\": \"dashdot\", \"width\": 1}, \"type\": \"line\", \"x0\": 4.7, \"x1\": 9.5, \"y0\": 1223.438805970149, \"y1\": 1223.438805970149}, {\"line\": {\"color\": \"grey\", \"dash\": \"dashdot\", \"width\": 1}, \"type\": \"line\", \"x0\": 7.31157024793388, \"x1\": 7.31157024793388, \"y0\": 830, \"y1\": 2220}], \"template\": {\"data\": {\"bar\": [{\"error_x\": {\"color\": \"#2a3f5f\"}, \"error_y\": {\"color\": \"#2a3f5f\"}, \"marker\": {\"line\": {\"color\": \"#E5ECF6\", \"width\": 0.5}}, \"type\": \"bar\"}], \"barpolar\": [{\"marker\": {\"line\": {\"color\": \"#E5ECF6\", \"width\": 0.5}}, \"type\": \"barpolar\"}], \"carpet\": [{\"aaxis\": {\"endlinecolor\": \"#2a3f5f\", \"gridcolor\": \"white\", \"linecolor\": \"white\", \"minorgridcolor\": \"white\", \"startlinecolor\": \"#2a3f5f\"}, \"baxis\": {\"endlinecolor\": \"#2a3f5f\", \"gridcolor\": \"white\", \"linecolor\": \"white\", \"minorgridcolor\": \"white\", \"startlinecolor\": \"#2a3f5f\"}, \"type\": \"carpet\"}], \"choropleth\": [{\"colorbar\": {\"outlinewidth\": 0, \"ticks\": \"\"}, \"type\": \"choropleth\"}], \"contour\": [{\"colorbar\": {\"outlinewidth\": 0, \"ticks\": \"\"}, \"colorscale\": [[0.0, \"#0d0887\"], [0.1111111111111111, \"#46039f\"], [0.2222222222222222, \"#7201a8\"], [0.3333333333333333, \"#9c179e\"], [0.4444444444444444, \"#bd3786\"], [0.5555555555555556, \"#d8576b\"], [0.6666666666666666, \"#ed7953\"], [0.7777777777777778, \"#fb9f3a\"], [0.8888888888888888, \"#fdca26\"], [1.0, \"#f0f921\"]], \"type\": \"contour\"}], \"contourcarpet\": [{\"colorbar\": {\"outlinewidth\": 0, \"ticks\": \"\"}, \"type\": \"contourcarpet\"}], \"heatmap\": [{\"colorbar\": {\"outlinewidth\": 0, \"ticks\": \"\"}, \"colorscale\": [[0.0, \"#0d0887\"], [0.1111111111111111, \"#46039f\"], [0.2222222222222222, \"#7201a8\"], [0.3333333333333333, \"#9c179e\"], [0.4444444444444444, \"#bd3786\"], [0.5555555555555556, \"#d8576b\"], [0.6666666666666666, \"#ed7953\"], [0.7777777777777778, \"#fb9f3a\"], [0.8888888888888888, \"#fdca26\"], [1.0, \"#f0f921\"]], \"type\": \"heatmap\"}], \"heatmapgl\": [{\"colorbar\": {\"outlinewidth\": 0, \"ticks\": \"\"}, \"colorscale\": [[0.0, \"#0d0887\"], [0.1111111111111111, \"#46039f\"], [0.2222222222222222, \"#7201a8\"], [0.3333333333333333, \"#9c179e\"], [0.4444444444444444, \"#bd3786\"], [0.5555555555555556, \"#d8576b\"], [0.6666666666666666, \"#ed7953\"], [0.7777777777777778, \"#fb9f3a\"], [0.8888888888888888, \"#fdca26\"], [1.0, \"#f0f921\"]], \"type\": \"heatmapgl\"}], \"histogram\": [{\"marker\": {\"colorbar\": {\"outlinewidth\": 0, \"ticks\": \"\"}}, \"type\": \"histogram\"}], \"histogram2d\": [{\"colorbar\": {\"outlinewidth\": 0, \"ticks\": \"\"}, \"colorscale\": [[0.0, \"#0d0887\"], [0.1111111111111111, \"#46039f\"], [0.2222222222222222, \"#7201a8\"], [0.3333333333333333, \"#9c179e\"], [0.4444444444444444, \"#bd3786\"], [0.5555555555555556, \"#d8576b\"], [0.6666666666666666, \"#ed7953\"], [0.7777777777777778, \"#fb9f3a\"], [0.8888888888888888, \"#fdca26\"], [1.0, \"#f0f921\"]], \"type\": \"histogram2d\"}], \"histogram2dcontour\": [{\"colorbar\": {\"outlinewidth\": 0, \"ticks\": \"\"}, \"colorscale\": [[0.0, \"#0d0887\"], [0.1111111111111111, \"#46039f\"], [0.2222222222222222, \"#7201a8\"], [0.3333333333333333, \"#9c179e\"], [0.4444444444444444, \"#bd3786\"], [0.5555555555555556, \"#d8576b\"], [0.6666666666666666, \"#ed7953\"], [0.7777777777777778, \"#fb9f3a\"], [0.8888888888888888, \"#fdca26\"], [1.0, \"#f0f921\"]], \"type\": \"histogram2dcontour\"}], \"mesh3d\": [{\"colorbar\": {\"outlinewidth\": 0, \"ticks\": \"\"}, \"type\": \"mesh3d\"}], \"parcoords\": [{\"line\": {\"colorbar\": {\"outlinewidth\": 0, \"ticks\": \"\"}}, \"type\": \"parcoords\"}], \"pie\": [{\"automargin\": true, \"type\": \"pie\"}], \"scatter\": [{\"marker\": {\"colorbar\": {\"outlinewidth\": 0, \"ticks\": \"\"}}, \"type\": \"scatter\"}], \"scatter3d\": [{\"line\": {\"colorbar\": {\"outlinewidth\": 0, \"ticks\": \"\"}}, \"marker\": {\"colorbar\": {\"outlinewidth\": 0, \"ticks\": \"\"}}, \"type\": \"scatter3d\"}], \"scattercarpet\": [{\"marker\": {\"colorbar\": {\"outlinewidth\": 0, \"ticks\": \"\"}}, \"type\": \"scattercarpet\"}], \"scattergeo\": [{\"marker\": {\"colorbar\": {\"outlinewidth\": 0, \"ticks\": \"\"}}, \"type\": \"scattergeo\"}], \"scattergl\": [{\"marker\": {\"colorbar\": {\"outlinewidth\": 0, \"ticks\": \"\"}}, \"type\": \"scattergl\"}], \"scattermapbox\": [{\"marker\": {\"colorbar\": {\"outlinewidth\": 0, \"ticks\": \"\"}}, \"type\": \"scattermapbox\"}], \"scatterpolar\": [{\"marker\": {\"colorbar\": {\"outlinewidth\": 0, \"ticks\": \"\"}}, \"type\": \"scatterpolar\"}], \"scatterpolargl\": [{\"marker\": {\"colorbar\": {\"outlinewidth\": 0, \"ticks\": \"\"}}, \"type\": \"scatterpolargl\"}], \"scatterternary\": [{\"marker\": {\"colorbar\": {\"outlinewidth\": 0, \"ticks\": \"\"}}, \"type\": \"scatterternary\"}], \"surface\": [{\"colorbar\": {\"outlinewidth\": 0, \"ticks\": \"\"}, \"colorscale\": [[0.0, \"#0d0887\"], [0.1111111111111111, \"#46039f\"], [0.2222222222222222, \"#7201a8\"], [0.3333333333333333, \"#9c179e\"], [0.4444444444444444, \"#bd3786\"], [0.5555555555555556, \"#d8576b\"], [0.6666666666666666, \"#ed7953\"], [0.7777777777777778, \"#fb9f3a\"], [0.8888888888888888, \"#fdca26\"], [1.0, \"#f0f921\"]], \"type\": \"surface\"}], \"table\": [{\"cells\": {\"fill\": {\"color\": \"#EBF0F8\"}, \"line\": {\"color\": \"white\"}}, \"header\": {\"fill\": {\"color\": \"#C8D4E3\"}, \"line\": {\"color\": \"white\"}}, \"type\": \"table\"}]}, \"layout\": {\"annotationdefaults\": {\"arrowcolor\": \"#2a3f5f\", \"arrowhead\": 0, \"arrowwidth\": 1}, \"coloraxis\": {\"colorbar\": {\"outlinewidth\": 0, \"ticks\": \"\"}}, \"colorscale\": {\"diverging\": [[0, \"#8e0152\"], [0.1, \"#c51b7d\"], [0.2, \"#de77ae\"], [0.3, \"#f1b6da\"], [0.4, \"#fde0ef\"], [0.5, \"#f7f7f7\"], [0.6, \"#e6f5d0\"], [0.7, \"#b8e186\"], [0.8, \"#7fbc41\"], [0.9, \"#4d9221\"], [1, \"#276419\"]], \"sequential\": [[0.0, \"#0d0887\"], [0.1111111111111111, \"#46039f\"], [0.2222222222222222, \"#7201a8\"], [0.3333333333333333, \"#9c179e\"], [0.4444444444444444, \"#bd3786\"], [0.5555555555555556, \"#d8576b\"], [0.6666666666666666, \"#ed7953\"], [0.7777777777777778, \"#fb9f3a\"], [0.8888888888888888, \"#fdca26\"], [1.0, \"#f0f921\"]], \"sequentialminus\": [[0.0, \"#0d0887\"], [0.1111111111111111, \"#46039f\"], [0.2222222222222222, \"#7201a8\"], [0.3333333333333333, \"#9c179e\"], [0.4444444444444444, \"#bd3786\"], [0.5555555555555556, \"#d8576b\"], [0.6666666666666666, \"#ed7953\"], [0.7777777777777778, \"#fb9f3a\"], [0.8888888888888888, \"#fdca26\"], [1.0, \"#f0f921\"]]}, \"colorway\": [\"#636efa\", \"#EF553B\", \"#00cc96\", \"#ab63fa\", \"#FFA15A\", \"#19d3f3\", \"#FF6692\", \"#B6E880\", \"#FF97FF\", \"#FECB52\"], \"font\": {\"color\": \"#2a3f5f\"}, \"geo\": {\"bgcolor\": \"white\", \"lakecolor\": \"white\", \"landcolor\": \"#E5ECF6\", \"showlakes\": true, \"showland\": true, \"subunitcolor\": \"white\"}, \"hoverlabel\": {\"align\": \"left\"}, \"hovermode\": \"closest\", \"mapbox\": {\"style\": \"light\"}, \"paper_bgcolor\": \"white\", \"plot_bgcolor\": \"#E5ECF6\", \"polar\": {\"angularaxis\": {\"gridcolor\": \"white\", \"linecolor\": \"white\", \"ticks\": \"\"}, \"bgcolor\": \"#E5ECF6\", \"radialaxis\": {\"gridcolor\": \"white\", \"linecolor\": \"white\", \"ticks\": \"\"}}, \"scene\": {\"xaxis\": {\"backgroundcolor\": \"#E5ECF6\", \"gridcolor\": \"white\", \"gridwidth\": 2, \"linecolor\": \"white\", \"showbackground\": true, \"ticks\": \"\", \"zerolinecolor\": \"white\"}, \"yaxis\": {\"backgroundcolor\": \"#E5ECF6\", \"gridcolor\": \"white\", \"gridwidth\": 2, \"linecolor\": \"white\", \"showbackground\": true, \"ticks\": \"\", \"zerolinecolor\": \"white\"}, \"zaxis\": {\"backgroundcolor\": \"#E5ECF6\", \"gridcolor\": \"white\", \"gridwidth\": 2, \"linecolor\": \"white\", \"showbackground\": true, \"ticks\": \"\", \"zerolinecolor\": \"white\"}}, \"shapedefaults\": {\"line\": {\"color\": \"#2a3f5f\"}}, \"ternary\": {\"aaxis\": {\"gridcolor\": \"white\", \"linecolor\": \"white\", \"ticks\": \"\"}, \"baxis\": {\"gridcolor\": \"white\", \"linecolor\": \"white\", \"ticks\": \"\"}, \"bgcolor\": \"#E5ECF6\", \"caxis\": {\"gridcolor\": \"white\", \"linecolor\": \"white\", \"ticks\": \"\"}}, \"title\": {\"x\": 0.05}, \"xaxis\": {\"automargin\": true, \"gridcolor\": \"white\", \"linecolor\": \"white\", \"ticks\": \"\", \"title\": {\"standoff\": 15}, \"zerolinecolor\": \"white\", \"zerolinewidth\": 2}, \"yaxis\": {\"automargin\": true, \"gridcolor\": \"white\", \"linecolor\": \"white\", \"ticks\": \"\", \"title\": {\"standoff\": 15}, \"zerolinecolor\": \"white\", \"zerolinewidth\": 2}}}, \"title\": {\"text\": \"The NYC Schools: <br>SAT Score vs Safety and Respect Perception index\"}, \"xaxis\": {\"title\": {\"text\": \"Safety and Respect Perception Index\"}}, \"yaxis\": {\"title\": {\"text\": \"SAT score\"}}},\n",
       "                        {\"responsive\": true}\n",
       "                    ).then(function(){\n",
       "                            \n",
       "var gd = document.getElementById('5d3b31bc-a741-4ea9-9d27-ad1271cdbc3f');\n",
       "var x = new MutationObserver(function (mutations, observer) {{\n",
       "        var display = window.getComputedStyle(gd).display;\n",
       "        if (!display || display === 'none') {{\n",
       "            console.log([gd, 'removed!']);\n",
       "            Plotly.purge(gd);\n",
       "            observer.disconnect();\n",
       "        }}\n",
       "}});\n",
       "\n",
       "// Listen for the removal of the full notebook cells\n",
       "var notebookContainer = gd.closest('#notebook-container');\n",
       "if (notebookContainer) {{\n",
       "    x.observe(notebookContainer, {childList: true});\n",
       "}}\n",
       "\n",
       "// Listen for the clearing of the current output cell\n",
       "var outputEl = gd.closest('.output');\n",
       "if (outputEl) {{\n",
       "    x.observe(outputEl, {childList: true});\n",
       "}}\n",
       "\n",
       "                        })\n",
       "                };\n",
       "                });\n",
       "            </script>\n",
       "        </div>"
      ]
     },
     "metadata": {},
     "output_type": "display_data"
    }
   ],
   "source": [
    "# build scatter plot to map average SAT score and Safety Perception index in each school\n",
    "fig = go.Figure(data=go.Scatter(x=combined['saf_tot_11'], y=combined['sat_score'], \n",
    "                   marker=dict(\n",
    "                       size=combined['Total Cohort']/25,\n",
    "                       color=combined['saf_tot_11'], #set color equal to a variable\n",
    "                       colorscale='Viridis',\n",
    "                       showscale=True), \n",
    "                   mode='markers', text=combined['SCHOOL NAME']))\n",
    "\n",
    "fig.add_shape(\n",
    "        # add horizontal line\n",
    "        dict(\n",
    "            type=\"line\",\n",
    "            x0=4.7,\n",
    "            y0=combined['sat_score'].mean(),\n",
    "            x1=9.5,\n",
    "            y1=combined['sat_score'].mean(),\n",
    "            line=dict(\n",
    "                color=\"grey\",\n",
    "                width=1,\n",
    "                dash=\"dashdot\"\n",
    "            )\n",
    "))\n",
    "\n",
    "fig.add_shape(\n",
    "        # add vertical line\n",
    "        dict(\n",
    "            type=\"line\",\n",
    "            x0=combined['saf_tot_11'].mean(),\n",
    "            y0=830,\n",
    "            x1=combined['saf_tot_11'].mean(),\n",
    "            y1=2220,\n",
    "            line=dict(\n",
    "                color=\"grey\",\n",
    "                width=1,\n",
    "                dash=\"dashdot\"\n",
    "            )\n",
    "))\n",
    "\n",
    "fig.update_layout(\n",
    "    title=\"The NYC Schools: <br>SAT Score vs Safety and Respect Perception index\",\n",
    "    xaxis_title=\"Safety and Respect Perception Index\",\n",
    "    yaxis_title=\"SAT score\"\n",
    ")\n",
    "fig.show()\n",
    "fig.write_image(\"images/safety_sat.png\")"
   ]
  },
  {
   "cell_type": "code",
   "execution_count": 15,
   "metadata": {},
   "outputs": [
    {
     "name": "stdout",
     "output_type": "stream",
     "text": [
      "Average SAT Score for schools with low safety perception index: 1333\n",
      "Average SAT Score for schools with adequate safety perception index: 2096\n"
     ]
    }
   ],
   "source": [
    "unsafe_schools = combined[combined['saf_tot_11']<=6.5]\n",
    "safe_schools = combined[combined['saf_tot_11']>6.5]\n",
    "print(\"Average SAT Score for schools with low safety perception index: {:04.0f}\".format(unsafe_schools['sat_score'].max()))\n",
    "print(\"Average SAT Score for schools with adequate safety perception index: {:04.0f}\".format(safe_schools['sat_score'].max()))"
   ]
  },
  {
   "cell_type": "markdown",
   "metadata": {},
   "source": [
    "### Exploring racial differences on the SAT \n",
    "There are a few columns in our dataframe that indicate the percentage of each race at a given school:\n",
    "\n",
    "- white_per\n",
    "- asian_per\n",
    "- black_per\n",
    "- hispanic_per\n",
    "\n",
    "By plotting out the correlations between these columns and sat_score, we can determine whether there are any racial differences in SAT performance."
   ]
  },
  {
   "cell_type": "code",
   "execution_count": 16,
   "metadata": {},
   "outputs": [
    {
     "data": {
      "application/vnd.plotly.v1+json": {
       "config": {
        "plotlyServerURL": "https://plot.ly"
       },
       "data": [
        {
         "hovertext": [
          "% of white students",
          "% of asian students",
          "% of black students",
          "% of Hispanic students"
         ],
         "marker": {
          "color": [
           0.6207177638526802,
           0.5707302200214872,
           -0.2841394684581478,
           -0.39698493078147196
          ],
          "colorscale": [
           [
            0,
            "#440154"
           ],
           [
            0.1111111111111111,
            "#482878"
           ],
           [
            0.2222222222222222,
            "#3e4989"
           ],
           [
            0.3333333333333333,
            "#31688e"
           ],
           [
            0.4444444444444444,
            "#26828e"
           ],
           [
            0.5555555555555556,
            "#1f9e89"
           ],
           [
            0.6666666666666666,
            "#35b779"
           ],
           [
            0.7777777777777778,
            "#6ece58"
           ],
           [
            0.8888888888888888,
            "#b5de2b"
           ],
           [
            1,
            "#fde725"
           ]
          ]
         },
         "type": "bar",
         "x": [
          "white_per",
          "asian_per",
          "black_per",
          "hispanic_per"
         ],
         "y": [
          0.6207177638526802,
          0.5707302200214872,
          -0.2841394684581478,
          -0.39698493078147196
         ]
        }
       ],
       "layout": {
        "template": {
         "data": {
          "bar": [
           {
            "error_x": {
             "color": "#2a3f5f"
            },
            "error_y": {
             "color": "#2a3f5f"
            },
            "marker": {
             "line": {
              "color": "#E5ECF6",
              "width": 0.5
             }
            },
            "type": "bar"
           }
          ],
          "barpolar": [
           {
            "marker": {
             "line": {
              "color": "#E5ECF6",
              "width": 0.5
             }
            },
            "type": "barpolar"
           }
          ],
          "carpet": [
           {
            "aaxis": {
             "endlinecolor": "#2a3f5f",
             "gridcolor": "white",
             "linecolor": "white",
             "minorgridcolor": "white",
             "startlinecolor": "#2a3f5f"
            },
            "baxis": {
             "endlinecolor": "#2a3f5f",
             "gridcolor": "white",
             "linecolor": "white",
             "minorgridcolor": "white",
             "startlinecolor": "#2a3f5f"
            },
            "type": "carpet"
           }
          ],
          "choropleth": [
           {
            "colorbar": {
             "outlinewidth": 0,
             "ticks": ""
            },
            "type": "choropleth"
           }
          ],
          "contour": [
           {
            "colorbar": {
             "outlinewidth": 0,
             "ticks": ""
            },
            "colorscale": [
             [
              0,
              "#0d0887"
             ],
             [
              0.1111111111111111,
              "#46039f"
             ],
             [
              0.2222222222222222,
              "#7201a8"
             ],
             [
              0.3333333333333333,
              "#9c179e"
             ],
             [
              0.4444444444444444,
              "#bd3786"
             ],
             [
              0.5555555555555556,
              "#d8576b"
             ],
             [
              0.6666666666666666,
              "#ed7953"
             ],
             [
              0.7777777777777778,
              "#fb9f3a"
             ],
             [
              0.8888888888888888,
              "#fdca26"
             ],
             [
              1,
              "#f0f921"
             ]
            ],
            "type": "contour"
           }
          ],
          "contourcarpet": [
           {
            "colorbar": {
             "outlinewidth": 0,
             "ticks": ""
            },
            "type": "contourcarpet"
           }
          ],
          "heatmap": [
           {
            "colorbar": {
             "outlinewidth": 0,
             "ticks": ""
            },
            "colorscale": [
             [
              0,
              "#0d0887"
             ],
             [
              0.1111111111111111,
              "#46039f"
             ],
             [
              0.2222222222222222,
              "#7201a8"
             ],
             [
              0.3333333333333333,
              "#9c179e"
             ],
             [
              0.4444444444444444,
              "#bd3786"
             ],
             [
              0.5555555555555556,
              "#d8576b"
             ],
             [
              0.6666666666666666,
              "#ed7953"
             ],
             [
              0.7777777777777778,
              "#fb9f3a"
             ],
             [
              0.8888888888888888,
              "#fdca26"
             ],
             [
              1,
              "#f0f921"
             ]
            ],
            "type": "heatmap"
           }
          ],
          "heatmapgl": [
           {
            "colorbar": {
             "outlinewidth": 0,
             "ticks": ""
            },
            "colorscale": [
             [
              0,
              "#0d0887"
             ],
             [
              0.1111111111111111,
              "#46039f"
             ],
             [
              0.2222222222222222,
              "#7201a8"
             ],
             [
              0.3333333333333333,
              "#9c179e"
             ],
             [
              0.4444444444444444,
              "#bd3786"
             ],
             [
              0.5555555555555556,
              "#d8576b"
             ],
             [
              0.6666666666666666,
              "#ed7953"
             ],
             [
              0.7777777777777778,
              "#fb9f3a"
             ],
             [
              0.8888888888888888,
              "#fdca26"
             ],
             [
              1,
              "#f0f921"
             ]
            ],
            "type": "heatmapgl"
           }
          ],
          "histogram": [
           {
            "marker": {
             "colorbar": {
              "outlinewidth": 0,
              "ticks": ""
             }
            },
            "type": "histogram"
           }
          ],
          "histogram2d": [
           {
            "colorbar": {
             "outlinewidth": 0,
             "ticks": ""
            },
            "colorscale": [
             [
              0,
              "#0d0887"
             ],
             [
              0.1111111111111111,
              "#46039f"
             ],
             [
              0.2222222222222222,
              "#7201a8"
             ],
             [
              0.3333333333333333,
              "#9c179e"
             ],
             [
              0.4444444444444444,
              "#bd3786"
             ],
             [
              0.5555555555555556,
              "#d8576b"
             ],
             [
              0.6666666666666666,
              "#ed7953"
             ],
             [
              0.7777777777777778,
              "#fb9f3a"
             ],
             [
              0.8888888888888888,
              "#fdca26"
             ],
             [
              1,
              "#f0f921"
             ]
            ],
            "type": "histogram2d"
           }
          ],
          "histogram2dcontour": [
           {
            "colorbar": {
             "outlinewidth": 0,
             "ticks": ""
            },
            "colorscale": [
             [
              0,
              "#0d0887"
             ],
             [
              0.1111111111111111,
              "#46039f"
             ],
             [
              0.2222222222222222,
              "#7201a8"
             ],
             [
              0.3333333333333333,
              "#9c179e"
             ],
             [
              0.4444444444444444,
              "#bd3786"
             ],
             [
              0.5555555555555556,
              "#d8576b"
             ],
             [
              0.6666666666666666,
              "#ed7953"
             ],
             [
              0.7777777777777778,
              "#fb9f3a"
             ],
             [
              0.8888888888888888,
              "#fdca26"
             ],
             [
              1,
              "#f0f921"
             ]
            ],
            "type": "histogram2dcontour"
           }
          ],
          "mesh3d": [
           {
            "colorbar": {
             "outlinewidth": 0,
             "ticks": ""
            },
            "type": "mesh3d"
           }
          ],
          "parcoords": [
           {
            "line": {
             "colorbar": {
              "outlinewidth": 0,
              "ticks": ""
             }
            },
            "type": "parcoords"
           }
          ],
          "pie": [
           {
            "automargin": true,
            "type": "pie"
           }
          ],
          "scatter": [
           {
            "marker": {
             "colorbar": {
              "outlinewidth": 0,
              "ticks": ""
             }
            },
            "type": "scatter"
           }
          ],
          "scatter3d": [
           {
            "line": {
             "colorbar": {
              "outlinewidth": 0,
              "ticks": ""
             }
            },
            "marker": {
             "colorbar": {
              "outlinewidth": 0,
              "ticks": ""
             }
            },
            "type": "scatter3d"
           }
          ],
          "scattercarpet": [
           {
            "marker": {
             "colorbar": {
              "outlinewidth": 0,
              "ticks": ""
             }
            },
            "type": "scattercarpet"
           }
          ],
          "scattergeo": [
           {
            "marker": {
             "colorbar": {
              "outlinewidth": 0,
              "ticks": ""
             }
            },
            "type": "scattergeo"
           }
          ],
          "scattergl": [
           {
            "marker": {
             "colorbar": {
              "outlinewidth": 0,
              "ticks": ""
             }
            },
            "type": "scattergl"
           }
          ],
          "scattermapbox": [
           {
            "marker": {
             "colorbar": {
              "outlinewidth": 0,
              "ticks": ""
             }
            },
            "type": "scattermapbox"
           }
          ],
          "scatterpolar": [
           {
            "marker": {
             "colorbar": {
              "outlinewidth": 0,
              "ticks": ""
             }
            },
            "type": "scatterpolar"
           }
          ],
          "scatterpolargl": [
           {
            "marker": {
             "colorbar": {
              "outlinewidth": 0,
              "ticks": ""
             }
            },
            "type": "scatterpolargl"
           }
          ],
          "scatterternary": [
           {
            "marker": {
             "colorbar": {
              "outlinewidth": 0,
              "ticks": ""
             }
            },
            "type": "scatterternary"
           }
          ],
          "surface": [
           {
            "colorbar": {
             "outlinewidth": 0,
             "ticks": ""
            },
            "colorscale": [
             [
              0,
              "#0d0887"
             ],
             [
              0.1111111111111111,
              "#46039f"
             ],
             [
              0.2222222222222222,
              "#7201a8"
             ],
             [
              0.3333333333333333,
              "#9c179e"
             ],
             [
              0.4444444444444444,
              "#bd3786"
             ],
             [
              0.5555555555555556,
              "#d8576b"
             ],
             [
              0.6666666666666666,
              "#ed7953"
             ],
             [
              0.7777777777777778,
              "#fb9f3a"
             ],
             [
              0.8888888888888888,
              "#fdca26"
             ],
             [
              1,
              "#f0f921"
             ]
            ],
            "type": "surface"
           }
          ],
          "table": [
           {
            "cells": {
             "fill": {
              "color": "#EBF0F8"
             },
             "line": {
              "color": "white"
             }
            },
            "header": {
             "fill": {
              "color": "#C8D4E3"
             },
             "line": {
              "color": "white"
             }
            },
            "type": "table"
           }
          ]
         },
         "layout": {
          "annotationdefaults": {
           "arrowcolor": "#2a3f5f",
           "arrowhead": 0,
           "arrowwidth": 1
          },
          "coloraxis": {
           "colorbar": {
            "outlinewidth": 0,
            "ticks": ""
           }
          },
          "colorscale": {
           "diverging": [
            [
             0,
             "#8e0152"
            ],
            [
             0.1,
             "#c51b7d"
            ],
            [
             0.2,
             "#de77ae"
            ],
            [
             0.3,
             "#f1b6da"
            ],
            [
             0.4,
             "#fde0ef"
            ],
            [
             0.5,
             "#f7f7f7"
            ],
            [
             0.6,
             "#e6f5d0"
            ],
            [
             0.7,
             "#b8e186"
            ],
            [
             0.8,
             "#7fbc41"
            ],
            [
             0.9,
             "#4d9221"
            ],
            [
             1,
             "#276419"
            ]
           ],
           "sequential": [
            [
             0,
             "#0d0887"
            ],
            [
             0.1111111111111111,
             "#46039f"
            ],
            [
             0.2222222222222222,
             "#7201a8"
            ],
            [
             0.3333333333333333,
             "#9c179e"
            ],
            [
             0.4444444444444444,
             "#bd3786"
            ],
            [
             0.5555555555555556,
             "#d8576b"
            ],
            [
             0.6666666666666666,
             "#ed7953"
            ],
            [
             0.7777777777777778,
             "#fb9f3a"
            ],
            [
             0.8888888888888888,
             "#fdca26"
            ],
            [
             1,
             "#f0f921"
            ]
           ],
           "sequentialminus": [
            [
             0,
             "#0d0887"
            ],
            [
             0.1111111111111111,
             "#46039f"
            ],
            [
             0.2222222222222222,
             "#7201a8"
            ],
            [
             0.3333333333333333,
             "#9c179e"
            ],
            [
             0.4444444444444444,
             "#bd3786"
            ],
            [
             0.5555555555555556,
             "#d8576b"
            ],
            [
             0.6666666666666666,
             "#ed7953"
            ],
            [
             0.7777777777777778,
             "#fb9f3a"
            ],
            [
             0.8888888888888888,
             "#fdca26"
            ],
            [
             1,
             "#f0f921"
            ]
           ]
          },
          "colorway": [
           "#636efa",
           "#EF553B",
           "#00cc96",
           "#ab63fa",
           "#FFA15A",
           "#19d3f3",
           "#FF6692",
           "#B6E880",
           "#FF97FF",
           "#FECB52"
          ],
          "font": {
           "color": "#2a3f5f"
          },
          "geo": {
           "bgcolor": "white",
           "lakecolor": "white",
           "landcolor": "#E5ECF6",
           "showlakes": true,
           "showland": true,
           "subunitcolor": "white"
          },
          "hoverlabel": {
           "align": "left"
          },
          "hovermode": "closest",
          "mapbox": {
           "style": "light"
          },
          "paper_bgcolor": "white",
          "plot_bgcolor": "#E5ECF6",
          "polar": {
           "angularaxis": {
            "gridcolor": "white",
            "linecolor": "white",
            "ticks": ""
           },
           "bgcolor": "#E5ECF6",
           "radialaxis": {
            "gridcolor": "white",
            "linecolor": "white",
            "ticks": ""
           }
          },
          "scene": {
           "xaxis": {
            "backgroundcolor": "#E5ECF6",
            "gridcolor": "white",
            "gridwidth": 2,
            "linecolor": "white",
            "showbackground": true,
            "ticks": "",
            "zerolinecolor": "white"
           },
           "yaxis": {
            "backgroundcolor": "#E5ECF6",
            "gridcolor": "white",
            "gridwidth": 2,
            "linecolor": "white",
            "showbackground": true,
            "ticks": "",
            "zerolinecolor": "white"
           },
           "zaxis": {
            "backgroundcolor": "#E5ECF6",
            "gridcolor": "white",
            "gridwidth": 2,
            "linecolor": "white",
            "showbackground": true,
            "ticks": "",
            "zerolinecolor": "white"
           }
          },
          "shapedefaults": {
           "line": {
            "color": "#2a3f5f"
           }
          },
          "ternary": {
           "aaxis": {
            "gridcolor": "white",
            "linecolor": "white",
            "ticks": ""
           },
           "baxis": {
            "gridcolor": "white",
            "linecolor": "white",
            "ticks": ""
           },
           "bgcolor": "#E5ECF6",
           "caxis": {
            "gridcolor": "white",
            "linecolor": "white",
            "ticks": ""
           }
          },
          "title": {
           "x": 0.05
          },
          "xaxis": {
           "automargin": true,
           "gridcolor": "white",
           "linecolor": "white",
           "ticks": "",
           "title": {
            "standoff": 15
           },
           "zerolinecolor": "white",
           "zerolinewidth": 2
          },
          "yaxis": {
           "automargin": true,
           "gridcolor": "white",
           "linecolor": "white",
           "ticks": "",
           "title": {
            "standoff": 15
           },
           "zerolinecolor": "white",
           "zerolinewidth": 2
          }
         }
        },
        "title": {
         "text": "The NYC Schools: <br>Correlation of SAT score and shares of various races/ethnicities"
        }
       }
      },
      "text/html": [
       "<div>\n",
       "        \n",
       "        \n",
       "            <div id=\"a3a24e96-0f2b-4f45-880d-4062af20a4d8\" class=\"plotly-graph-div\" style=\"height:525px; width:100%;\"></div>\n",
       "            <script type=\"text/javascript\">\n",
       "                require([\"plotly\"], function(Plotly) {\n",
       "                    window.PLOTLYENV=window.PLOTLYENV || {};\n",
       "                    \n",
       "                if (document.getElementById(\"a3a24e96-0f2b-4f45-880d-4062af20a4d8\")) {\n",
       "                    Plotly.newPlot(\n",
       "                        'a3a24e96-0f2b-4f45-880d-4062af20a4d8',\n",
       "                        [{\"hovertext\": [\"% of white students\", \"% of asian students\", \"% of black students\", \"% of Hispanic students\"], \"marker\": {\"color\": [0.6207177638526802, 0.5707302200214872, -0.2841394684581478, -0.39698493078147196], \"colorscale\": [[0.0, \"#440154\"], [0.1111111111111111, \"#482878\"], [0.2222222222222222, \"#3e4989\"], [0.3333333333333333, \"#31688e\"], [0.4444444444444444, \"#26828e\"], [0.5555555555555556, \"#1f9e89\"], [0.6666666666666666, \"#35b779\"], [0.7777777777777778, \"#6ece58\"], [0.8888888888888888, \"#b5de2b\"], [1.0, \"#fde725\"]]}, \"type\": \"bar\", \"x\": [\"white_per\", \"asian_per\", \"black_per\", \"hispanic_per\"], \"y\": [0.6207177638526802, 0.5707302200214872, -0.2841394684581478, -0.39698493078147196]}],\n",
       "                        {\"template\": {\"data\": {\"bar\": [{\"error_x\": {\"color\": \"#2a3f5f\"}, \"error_y\": {\"color\": \"#2a3f5f\"}, \"marker\": {\"line\": {\"color\": \"#E5ECF6\", \"width\": 0.5}}, \"type\": \"bar\"}], \"barpolar\": [{\"marker\": {\"line\": {\"color\": \"#E5ECF6\", \"width\": 0.5}}, \"type\": \"barpolar\"}], \"carpet\": [{\"aaxis\": {\"endlinecolor\": \"#2a3f5f\", \"gridcolor\": \"white\", \"linecolor\": \"white\", \"minorgridcolor\": \"white\", \"startlinecolor\": \"#2a3f5f\"}, \"baxis\": {\"endlinecolor\": \"#2a3f5f\", \"gridcolor\": \"white\", \"linecolor\": \"white\", \"minorgridcolor\": \"white\", \"startlinecolor\": \"#2a3f5f\"}, \"type\": \"carpet\"}], \"choropleth\": [{\"colorbar\": {\"outlinewidth\": 0, \"ticks\": \"\"}, \"type\": \"choropleth\"}], \"contour\": [{\"colorbar\": {\"outlinewidth\": 0, \"ticks\": \"\"}, \"colorscale\": [[0.0, \"#0d0887\"], [0.1111111111111111, \"#46039f\"], [0.2222222222222222, \"#7201a8\"], [0.3333333333333333, \"#9c179e\"], [0.4444444444444444, \"#bd3786\"], [0.5555555555555556, \"#d8576b\"], [0.6666666666666666, \"#ed7953\"], [0.7777777777777778, \"#fb9f3a\"], [0.8888888888888888, \"#fdca26\"], [1.0, \"#f0f921\"]], \"type\": \"contour\"}], \"contourcarpet\": [{\"colorbar\": {\"outlinewidth\": 0, \"ticks\": \"\"}, \"type\": \"contourcarpet\"}], \"heatmap\": [{\"colorbar\": {\"outlinewidth\": 0, \"ticks\": \"\"}, \"colorscale\": [[0.0, \"#0d0887\"], [0.1111111111111111, \"#46039f\"], [0.2222222222222222, \"#7201a8\"], [0.3333333333333333, \"#9c179e\"], [0.4444444444444444, \"#bd3786\"], [0.5555555555555556, \"#d8576b\"], [0.6666666666666666, \"#ed7953\"], [0.7777777777777778, \"#fb9f3a\"], [0.8888888888888888, \"#fdca26\"], [1.0, \"#f0f921\"]], \"type\": \"heatmap\"}], \"heatmapgl\": [{\"colorbar\": {\"outlinewidth\": 0, \"ticks\": \"\"}, \"colorscale\": [[0.0, \"#0d0887\"], [0.1111111111111111, \"#46039f\"], [0.2222222222222222, \"#7201a8\"], [0.3333333333333333, \"#9c179e\"], [0.4444444444444444, \"#bd3786\"], [0.5555555555555556, \"#d8576b\"], [0.6666666666666666, \"#ed7953\"], [0.7777777777777778, \"#fb9f3a\"], [0.8888888888888888, \"#fdca26\"], [1.0, \"#f0f921\"]], \"type\": \"heatmapgl\"}], \"histogram\": [{\"marker\": {\"colorbar\": {\"outlinewidth\": 0, \"ticks\": \"\"}}, \"type\": \"histogram\"}], \"histogram2d\": [{\"colorbar\": {\"outlinewidth\": 0, \"ticks\": \"\"}, \"colorscale\": [[0.0, \"#0d0887\"], [0.1111111111111111, \"#46039f\"], [0.2222222222222222, \"#7201a8\"], [0.3333333333333333, \"#9c179e\"], [0.4444444444444444, \"#bd3786\"], [0.5555555555555556, \"#d8576b\"], [0.6666666666666666, \"#ed7953\"], [0.7777777777777778, \"#fb9f3a\"], [0.8888888888888888, \"#fdca26\"], [1.0, \"#f0f921\"]], \"type\": \"histogram2d\"}], \"histogram2dcontour\": [{\"colorbar\": {\"outlinewidth\": 0, \"ticks\": \"\"}, \"colorscale\": [[0.0, \"#0d0887\"], [0.1111111111111111, \"#46039f\"], [0.2222222222222222, \"#7201a8\"], [0.3333333333333333, \"#9c179e\"], [0.4444444444444444, \"#bd3786\"], [0.5555555555555556, \"#d8576b\"], [0.6666666666666666, \"#ed7953\"], [0.7777777777777778, \"#fb9f3a\"], [0.8888888888888888, \"#fdca26\"], [1.0, \"#f0f921\"]], \"type\": \"histogram2dcontour\"}], \"mesh3d\": [{\"colorbar\": {\"outlinewidth\": 0, \"ticks\": \"\"}, \"type\": \"mesh3d\"}], \"parcoords\": [{\"line\": {\"colorbar\": {\"outlinewidth\": 0, \"ticks\": \"\"}}, \"type\": \"parcoords\"}], \"pie\": [{\"automargin\": true, \"type\": \"pie\"}], \"scatter\": [{\"marker\": {\"colorbar\": {\"outlinewidth\": 0, \"ticks\": \"\"}}, \"type\": \"scatter\"}], \"scatter3d\": [{\"line\": {\"colorbar\": {\"outlinewidth\": 0, \"ticks\": \"\"}}, \"marker\": {\"colorbar\": {\"outlinewidth\": 0, \"ticks\": \"\"}}, \"type\": \"scatter3d\"}], \"scattercarpet\": [{\"marker\": {\"colorbar\": {\"outlinewidth\": 0, \"ticks\": \"\"}}, \"type\": \"scattercarpet\"}], \"scattergeo\": [{\"marker\": {\"colorbar\": {\"outlinewidth\": 0, \"ticks\": \"\"}}, \"type\": \"scattergeo\"}], \"scattergl\": [{\"marker\": {\"colorbar\": {\"outlinewidth\": 0, \"ticks\": \"\"}}, \"type\": \"scattergl\"}], \"scattermapbox\": [{\"marker\": {\"colorbar\": {\"outlinewidth\": 0, \"ticks\": \"\"}}, \"type\": \"scattermapbox\"}], \"scatterpolar\": [{\"marker\": {\"colorbar\": {\"outlinewidth\": 0, \"ticks\": \"\"}}, \"type\": \"scatterpolar\"}], \"scatterpolargl\": [{\"marker\": {\"colorbar\": {\"outlinewidth\": 0, \"ticks\": \"\"}}, \"type\": \"scatterpolargl\"}], \"scatterternary\": [{\"marker\": {\"colorbar\": {\"outlinewidth\": 0, \"ticks\": \"\"}}, \"type\": \"scatterternary\"}], \"surface\": [{\"colorbar\": {\"outlinewidth\": 0, \"ticks\": \"\"}, \"colorscale\": [[0.0, \"#0d0887\"], [0.1111111111111111, \"#46039f\"], [0.2222222222222222, \"#7201a8\"], [0.3333333333333333, \"#9c179e\"], [0.4444444444444444, \"#bd3786\"], [0.5555555555555556, \"#d8576b\"], [0.6666666666666666, \"#ed7953\"], [0.7777777777777778, \"#fb9f3a\"], [0.8888888888888888, \"#fdca26\"], [1.0, \"#f0f921\"]], \"type\": \"surface\"}], \"table\": [{\"cells\": {\"fill\": {\"color\": \"#EBF0F8\"}, \"line\": {\"color\": \"white\"}}, \"header\": {\"fill\": {\"color\": \"#C8D4E3\"}, \"line\": {\"color\": \"white\"}}, \"type\": \"table\"}]}, \"layout\": {\"annotationdefaults\": {\"arrowcolor\": \"#2a3f5f\", \"arrowhead\": 0, \"arrowwidth\": 1}, \"coloraxis\": {\"colorbar\": {\"outlinewidth\": 0, \"ticks\": \"\"}}, \"colorscale\": {\"diverging\": [[0, \"#8e0152\"], [0.1, \"#c51b7d\"], [0.2, \"#de77ae\"], [0.3, \"#f1b6da\"], [0.4, \"#fde0ef\"], [0.5, \"#f7f7f7\"], [0.6, \"#e6f5d0\"], [0.7, \"#b8e186\"], [0.8, \"#7fbc41\"], [0.9, \"#4d9221\"], [1, \"#276419\"]], \"sequential\": [[0.0, \"#0d0887\"], [0.1111111111111111, \"#46039f\"], [0.2222222222222222, \"#7201a8\"], [0.3333333333333333, \"#9c179e\"], [0.4444444444444444, \"#bd3786\"], [0.5555555555555556, \"#d8576b\"], [0.6666666666666666, \"#ed7953\"], [0.7777777777777778, \"#fb9f3a\"], [0.8888888888888888, \"#fdca26\"], [1.0, \"#f0f921\"]], \"sequentialminus\": [[0.0, \"#0d0887\"], [0.1111111111111111, \"#46039f\"], [0.2222222222222222, \"#7201a8\"], [0.3333333333333333, \"#9c179e\"], [0.4444444444444444, \"#bd3786\"], [0.5555555555555556, \"#d8576b\"], [0.6666666666666666, \"#ed7953\"], [0.7777777777777778, \"#fb9f3a\"], [0.8888888888888888, \"#fdca26\"], [1.0, \"#f0f921\"]]}, \"colorway\": [\"#636efa\", \"#EF553B\", \"#00cc96\", \"#ab63fa\", \"#FFA15A\", \"#19d3f3\", \"#FF6692\", \"#B6E880\", \"#FF97FF\", \"#FECB52\"], \"font\": {\"color\": \"#2a3f5f\"}, \"geo\": {\"bgcolor\": \"white\", \"lakecolor\": \"white\", \"landcolor\": \"#E5ECF6\", \"showlakes\": true, \"showland\": true, \"subunitcolor\": \"white\"}, \"hoverlabel\": {\"align\": \"left\"}, \"hovermode\": \"closest\", \"mapbox\": {\"style\": \"light\"}, \"paper_bgcolor\": \"white\", \"plot_bgcolor\": \"#E5ECF6\", \"polar\": {\"angularaxis\": {\"gridcolor\": \"white\", \"linecolor\": \"white\", \"ticks\": \"\"}, \"bgcolor\": \"#E5ECF6\", \"radialaxis\": {\"gridcolor\": \"white\", \"linecolor\": \"white\", \"ticks\": \"\"}}, \"scene\": {\"xaxis\": {\"backgroundcolor\": \"#E5ECF6\", \"gridcolor\": \"white\", \"gridwidth\": 2, \"linecolor\": \"white\", \"showbackground\": true, \"ticks\": \"\", \"zerolinecolor\": \"white\"}, \"yaxis\": {\"backgroundcolor\": \"#E5ECF6\", \"gridcolor\": \"white\", \"gridwidth\": 2, \"linecolor\": \"white\", \"showbackground\": true, \"ticks\": \"\", \"zerolinecolor\": \"white\"}, \"zaxis\": {\"backgroundcolor\": \"#E5ECF6\", \"gridcolor\": \"white\", \"gridwidth\": 2, \"linecolor\": \"white\", \"showbackground\": true, \"ticks\": \"\", \"zerolinecolor\": \"white\"}}, \"shapedefaults\": {\"line\": {\"color\": \"#2a3f5f\"}}, \"ternary\": {\"aaxis\": {\"gridcolor\": \"white\", \"linecolor\": \"white\", \"ticks\": \"\"}, \"baxis\": {\"gridcolor\": \"white\", \"linecolor\": \"white\", \"ticks\": \"\"}, \"bgcolor\": \"#E5ECF6\", \"caxis\": {\"gridcolor\": \"white\", \"linecolor\": \"white\", \"ticks\": \"\"}}, \"title\": {\"x\": 0.05}, \"xaxis\": {\"automargin\": true, \"gridcolor\": \"white\", \"linecolor\": \"white\", \"ticks\": \"\", \"title\": {\"standoff\": 15}, \"zerolinecolor\": \"white\", \"zerolinewidth\": 2}, \"yaxis\": {\"automargin\": true, \"gridcolor\": \"white\", \"linecolor\": \"white\", \"ticks\": \"\", \"title\": {\"standoff\": 15}, \"zerolinecolor\": \"white\", \"zerolinewidth\": 2}}}, \"title\": {\"text\": \"The NYC Schools: <br>Correlation of SAT score and shares of various races/ethnicities\"}},\n",
       "                        {\"responsive\": true}\n",
       "                    ).then(function(){\n",
       "                            \n",
       "var gd = document.getElementById('a3a24e96-0f2b-4f45-880d-4062af20a4d8');\n",
       "var x = new MutationObserver(function (mutations, observer) {{\n",
       "        var display = window.getComputedStyle(gd).display;\n",
       "        if (!display || display === 'none') {{\n",
       "            console.log([gd, 'removed!']);\n",
       "            Plotly.purge(gd);\n",
       "            observer.disconnect();\n",
       "        }}\n",
       "}});\n",
       "\n",
       "// Listen for the removal of the full notebook cells\n",
       "var notebookContainer = gd.closest('#notebook-container');\n",
       "if (notebookContainer) {{\n",
       "    x.observe(notebookContainer, {childList: true});\n",
       "}}\n",
       "\n",
       "// Listen for the clearing of the current output cell\n",
       "var outputEl = gd.closest('.output');\n",
       "if (outputEl) {{\n",
       "    x.observe(outputEl, {childList: true});\n",
       "}}\n",
       "\n",
       "                        })\n",
       "                };\n",
       "                });\n",
       "            </script>\n",
       "        </div>"
      ]
     },
     "metadata": {},
     "output_type": "display_data"
    }
   ],
   "source": [
    "race_cols = ['white_per','asian_per','black_per','hispanic_per']\n",
    "\n",
    "# build scatter plot to visualize correlation between SAT score and race of students\n",
    "corr_race = combined[['sat_score','white_per','asian_per','black_per','hispanic_per']].corr()['sat_score'][race_cols]\n",
    "x = corr_race.index\n",
    "y = corr_race.values\n",
    "fig = go.Figure(data=[go.Bar(x=x, y=y,\n",
    "            hovertext=['% of white students','% of asian students','% of black students','% of Hispanic students'],\n",
    "            marker={'color':y,'colorscale': 'Viridis'})])\n",
    "fig.update_layout(title_text='The NYC Schools: <br>Correlation of SAT score and shares of various races/ethnicities')\n",
    "fig.show()"
   ]
  },
  {
   "cell_type": "markdown",
   "metadata": {},
   "source": [
    "As we see, strong correlation between __white_per__, __asian_per__ and __sat_score__ may suggest that white and asian students tend to have higher SAT scores compared to the students from the other racial groups. \n",
    "\n",
    "Negative correlation between __black_per__, __hispanic_per__ and __sat_score__ confirms particularly high achievement gaps for these two group of students.  \n",
    "\n",
    "We can also explore distribution by race across"
   ]
  },
  {
   "cell_type": "code",
   "execution_count": 17,
   "metadata": {},
   "outputs": [
    {
     "data": {
      "application/vnd.plotly.v1+json": {
       "config": {
        "plotlyServerURL": "https://plot.ly"
       },
       "data": [
        {
         "name": "White students",
         "type": "bar",
         "x": [
          "Elite schools",
          "All schools"
         ],
         "y": [
          27,
          13
         ]
        },
        {
         "name": "Asian students",
         "type": "bar",
         "x": [
          "Elite schools",
          "All schools"
         ],
         "y": [
          57,
          17
         ]
        },
        {
         "name": "Black students",
         "type": "bar",
         "x": [
          "Elite schools",
          "All schools"
         ],
         "y": [
          6,
          29
         ]
        },
        {
         "name": "Hispanic students",
         "type": "bar",
         "x": [
          "Elite schools",
          "All schools"
         ],
         "y": [
          7,
          38
         ]
        }
       ],
       "layout": {
        "barmode": "stack",
        "template": {
         "data": {
          "bar": [
           {
            "error_x": {
             "color": "#2a3f5f"
            },
            "error_y": {
             "color": "#2a3f5f"
            },
            "marker": {
             "line": {
              "color": "#E5ECF6",
              "width": 0.5
             }
            },
            "type": "bar"
           }
          ],
          "barpolar": [
           {
            "marker": {
             "line": {
              "color": "#E5ECF6",
              "width": 0.5
             }
            },
            "type": "barpolar"
           }
          ],
          "carpet": [
           {
            "aaxis": {
             "endlinecolor": "#2a3f5f",
             "gridcolor": "white",
             "linecolor": "white",
             "minorgridcolor": "white",
             "startlinecolor": "#2a3f5f"
            },
            "baxis": {
             "endlinecolor": "#2a3f5f",
             "gridcolor": "white",
             "linecolor": "white",
             "minorgridcolor": "white",
             "startlinecolor": "#2a3f5f"
            },
            "type": "carpet"
           }
          ],
          "choropleth": [
           {
            "colorbar": {
             "outlinewidth": 0,
             "ticks": ""
            },
            "type": "choropleth"
           }
          ],
          "contour": [
           {
            "colorbar": {
             "outlinewidth": 0,
             "ticks": ""
            },
            "colorscale": [
             [
              0,
              "#0d0887"
             ],
             [
              0.1111111111111111,
              "#46039f"
             ],
             [
              0.2222222222222222,
              "#7201a8"
             ],
             [
              0.3333333333333333,
              "#9c179e"
             ],
             [
              0.4444444444444444,
              "#bd3786"
             ],
             [
              0.5555555555555556,
              "#d8576b"
             ],
             [
              0.6666666666666666,
              "#ed7953"
             ],
             [
              0.7777777777777778,
              "#fb9f3a"
             ],
             [
              0.8888888888888888,
              "#fdca26"
             ],
             [
              1,
              "#f0f921"
             ]
            ],
            "type": "contour"
           }
          ],
          "contourcarpet": [
           {
            "colorbar": {
             "outlinewidth": 0,
             "ticks": ""
            },
            "type": "contourcarpet"
           }
          ],
          "heatmap": [
           {
            "colorbar": {
             "outlinewidth": 0,
             "ticks": ""
            },
            "colorscale": [
             [
              0,
              "#0d0887"
             ],
             [
              0.1111111111111111,
              "#46039f"
             ],
             [
              0.2222222222222222,
              "#7201a8"
             ],
             [
              0.3333333333333333,
              "#9c179e"
             ],
             [
              0.4444444444444444,
              "#bd3786"
             ],
             [
              0.5555555555555556,
              "#d8576b"
             ],
             [
              0.6666666666666666,
              "#ed7953"
             ],
             [
              0.7777777777777778,
              "#fb9f3a"
             ],
             [
              0.8888888888888888,
              "#fdca26"
             ],
             [
              1,
              "#f0f921"
             ]
            ],
            "type": "heatmap"
           }
          ],
          "heatmapgl": [
           {
            "colorbar": {
             "outlinewidth": 0,
             "ticks": ""
            },
            "colorscale": [
             [
              0,
              "#0d0887"
             ],
             [
              0.1111111111111111,
              "#46039f"
             ],
             [
              0.2222222222222222,
              "#7201a8"
             ],
             [
              0.3333333333333333,
              "#9c179e"
             ],
             [
              0.4444444444444444,
              "#bd3786"
             ],
             [
              0.5555555555555556,
              "#d8576b"
             ],
             [
              0.6666666666666666,
              "#ed7953"
             ],
             [
              0.7777777777777778,
              "#fb9f3a"
             ],
             [
              0.8888888888888888,
              "#fdca26"
             ],
             [
              1,
              "#f0f921"
             ]
            ],
            "type": "heatmapgl"
           }
          ],
          "histogram": [
           {
            "marker": {
             "colorbar": {
              "outlinewidth": 0,
              "ticks": ""
             }
            },
            "type": "histogram"
           }
          ],
          "histogram2d": [
           {
            "colorbar": {
             "outlinewidth": 0,
             "ticks": ""
            },
            "colorscale": [
             [
              0,
              "#0d0887"
             ],
             [
              0.1111111111111111,
              "#46039f"
             ],
             [
              0.2222222222222222,
              "#7201a8"
             ],
             [
              0.3333333333333333,
              "#9c179e"
             ],
             [
              0.4444444444444444,
              "#bd3786"
             ],
             [
              0.5555555555555556,
              "#d8576b"
             ],
             [
              0.6666666666666666,
              "#ed7953"
             ],
             [
              0.7777777777777778,
              "#fb9f3a"
             ],
             [
              0.8888888888888888,
              "#fdca26"
             ],
             [
              1,
              "#f0f921"
             ]
            ],
            "type": "histogram2d"
           }
          ],
          "histogram2dcontour": [
           {
            "colorbar": {
             "outlinewidth": 0,
             "ticks": ""
            },
            "colorscale": [
             [
              0,
              "#0d0887"
             ],
             [
              0.1111111111111111,
              "#46039f"
             ],
             [
              0.2222222222222222,
              "#7201a8"
             ],
             [
              0.3333333333333333,
              "#9c179e"
             ],
             [
              0.4444444444444444,
              "#bd3786"
             ],
             [
              0.5555555555555556,
              "#d8576b"
             ],
             [
              0.6666666666666666,
              "#ed7953"
             ],
             [
              0.7777777777777778,
              "#fb9f3a"
             ],
             [
              0.8888888888888888,
              "#fdca26"
             ],
             [
              1,
              "#f0f921"
             ]
            ],
            "type": "histogram2dcontour"
           }
          ],
          "mesh3d": [
           {
            "colorbar": {
             "outlinewidth": 0,
             "ticks": ""
            },
            "type": "mesh3d"
           }
          ],
          "parcoords": [
           {
            "line": {
             "colorbar": {
              "outlinewidth": 0,
              "ticks": ""
             }
            },
            "type": "parcoords"
           }
          ],
          "pie": [
           {
            "automargin": true,
            "type": "pie"
           }
          ],
          "scatter": [
           {
            "marker": {
             "colorbar": {
              "outlinewidth": 0,
              "ticks": ""
             }
            },
            "type": "scatter"
           }
          ],
          "scatter3d": [
           {
            "line": {
             "colorbar": {
              "outlinewidth": 0,
              "ticks": ""
             }
            },
            "marker": {
             "colorbar": {
              "outlinewidth": 0,
              "ticks": ""
             }
            },
            "type": "scatter3d"
           }
          ],
          "scattercarpet": [
           {
            "marker": {
             "colorbar": {
              "outlinewidth": 0,
              "ticks": ""
             }
            },
            "type": "scattercarpet"
           }
          ],
          "scattergeo": [
           {
            "marker": {
             "colorbar": {
              "outlinewidth": 0,
              "ticks": ""
             }
            },
            "type": "scattergeo"
           }
          ],
          "scattergl": [
           {
            "marker": {
             "colorbar": {
              "outlinewidth": 0,
              "ticks": ""
             }
            },
            "type": "scattergl"
           }
          ],
          "scattermapbox": [
           {
            "marker": {
             "colorbar": {
              "outlinewidth": 0,
              "ticks": ""
             }
            },
            "type": "scattermapbox"
           }
          ],
          "scatterpolar": [
           {
            "marker": {
             "colorbar": {
              "outlinewidth": 0,
              "ticks": ""
             }
            },
            "type": "scatterpolar"
           }
          ],
          "scatterpolargl": [
           {
            "marker": {
             "colorbar": {
              "outlinewidth": 0,
              "ticks": ""
             }
            },
            "type": "scatterpolargl"
           }
          ],
          "scatterternary": [
           {
            "marker": {
             "colorbar": {
              "outlinewidth": 0,
              "ticks": ""
             }
            },
            "type": "scatterternary"
           }
          ],
          "surface": [
           {
            "colorbar": {
             "outlinewidth": 0,
             "ticks": ""
            },
            "colorscale": [
             [
              0,
              "#0d0887"
             ],
             [
              0.1111111111111111,
              "#46039f"
             ],
             [
              0.2222222222222222,
              "#7201a8"
             ],
             [
              0.3333333333333333,
              "#9c179e"
             ],
             [
              0.4444444444444444,
              "#bd3786"
             ],
             [
              0.5555555555555556,
              "#d8576b"
             ],
             [
              0.6666666666666666,
              "#ed7953"
             ],
             [
              0.7777777777777778,
              "#fb9f3a"
             ],
             [
              0.8888888888888888,
              "#fdca26"
             ],
             [
              1,
              "#f0f921"
             ]
            ],
            "type": "surface"
           }
          ],
          "table": [
           {
            "cells": {
             "fill": {
              "color": "#EBF0F8"
             },
             "line": {
              "color": "white"
             }
            },
            "header": {
             "fill": {
              "color": "#C8D4E3"
             },
             "line": {
              "color": "white"
             }
            },
            "type": "table"
           }
          ]
         },
         "layout": {
          "annotationdefaults": {
           "arrowcolor": "#2a3f5f",
           "arrowhead": 0,
           "arrowwidth": 1
          },
          "coloraxis": {
           "colorbar": {
            "outlinewidth": 0,
            "ticks": ""
           }
          },
          "colorscale": {
           "diverging": [
            [
             0,
             "#8e0152"
            ],
            [
             0.1,
             "#c51b7d"
            ],
            [
             0.2,
             "#de77ae"
            ],
            [
             0.3,
             "#f1b6da"
            ],
            [
             0.4,
             "#fde0ef"
            ],
            [
             0.5,
             "#f7f7f7"
            ],
            [
             0.6,
             "#e6f5d0"
            ],
            [
             0.7,
             "#b8e186"
            ],
            [
             0.8,
             "#7fbc41"
            ],
            [
             0.9,
             "#4d9221"
            ],
            [
             1,
             "#276419"
            ]
           ],
           "sequential": [
            [
             0,
             "#0d0887"
            ],
            [
             0.1111111111111111,
             "#46039f"
            ],
            [
             0.2222222222222222,
             "#7201a8"
            ],
            [
             0.3333333333333333,
             "#9c179e"
            ],
            [
             0.4444444444444444,
             "#bd3786"
            ],
            [
             0.5555555555555556,
             "#d8576b"
            ],
            [
             0.6666666666666666,
             "#ed7953"
            ],
            [
             0.7777777777777778,
             "#fb9f3a"
            ],
            [
             0.8888888888888888,
             "#fdca26"
            ],
            [
             1,
             "#f0f921"
            ]
           ],
           "sequentialminus": [
            [
             0,
             "#0d0887"
            ],
            [
             0.1111111111111111,
             "#46039f"
            ],
            [
             0.2222222222222222,
             "#7201a8"
            ],
            [
             0.3333333333333333,
             "#9c179e"
            ],
            [
             0.4444444444444444,
             "#bd3786"
            ],
            [
             0.5555555555555556,
             "#d8576b"
            ],
            [
             0.6666666666666666,
             "#ed7953"
            ],
            [
             0.7777777777777778,
             "#fb9f3a"
            ],
            [
             0.8888888888888888,
             "#fdca26"
            ],
            [
             1,
             "#f0f921"
            ]
           ]
          },
          "colorway": [
           "#636efa",
           "#EF553B",
           "#00cc96",
           "#ab63fa",
           "#FFA15A",
           "#19d3f3",
           "#FF6692",
           "#B6E880",
           "#FF97FF",
           "#FECB52"
          ],
          "font": {
           "color": "#2a3f5f"
          },
          "geo": {
           "bgcolor": "white",
           "lakecolor": "white",
           "landcolor": "#E5ECF6",
           "showlakes": true,
           "showland": true,
           "subunitcolor": "white"
          },
          "hoverlabel": {
           "align": "left"
          },
          "hovermode": "closest",
          "mapbox": {
           "style": "light"
          },
          "paper_bgcolor": "white",
          "plot_bgcolor": "#E5ECF6",
          "polar": {
           "angularaxis": {
            "gridcolor": "white",
            "linecolor": "white",
            "ticks": ""
           },
           "bgcolor": "#E5ECF6",
           "radialaxis": {
            "gridcolor": "white",
            "linecolor": "white",
            "ticks": ""
           }
          },
          "scene": {
           "xaxis": {
            "backgroundcolor": "#E5ECF6",
            "gridcolor": "white",
            "gridwidth": 2,
            "linecolor": "white",
            "showbackground": true,
            "ticks": "",
            "zerolinecolor": "white"
           },
           "yaxis": {
            "backgroundcolor": "#E5ECF6",
            "gridcolor": "white",
            "gridwidth": 2,
            "linecolor": "white",
            "showbackground": true,
            "ticks": "",
            "zerolinecolor": "white"
           },
           "zaxis": {
            "backgroundcolor": "#E5ECF6",
            "gridcolor": "white",
            "gridwidth": 2,
            "linecolor": "white",
            "showbackground": true,
            "ticks": "",
            "zerolinecolor": "white"
           }
          },
          "shapedefaults": {
           "line": {
            "color": "#2a3f5f"
           }
          },
          "ternary": {
           "aaxis": {
            "gridcolor": "white",
            "linecolor": "white",
            "ticks": ""
           },
           "baxis": {
            "gridcolor": "white",
            "linecolor": "white",
            "ticks": ""
           },
           "bgcolor": "#E5ECF6",
           "caxis": {
            "gridcolor": "white",
            "linecolor": "white",
            "ticks": ""
           }
          },
          "title": {
           "x": 0.05
          },
          "xaxis": {
           "automargin": true,
           "gridcolor": "white",
           "linecolor": "white",
           "ticks": "",
           "title": {
            "standoff": 15
           },
           "zerolinecolor": "white",
           "zerolinewidth": 2
          },
          "yaxis": {
           "automargin": true,
           "gridcolor": "white",
           "linecolor": "white",
           "ticks": "",
           "title": {
            "standoff": 15
           },
           "zerolinecolor": "white",
           "zerolinewidth": 2
          }
         }
        },
        "title": {
         "text": "The NYC schools: <br> Distribution by race/ethnicity. <br>All VS Elite schools (average SAT score > 1800)"
        },
        "xaxis": {
         "categoryorder": "category ascending"
        },
        "yaxis": {
         "title": {
          "text": "Percentage of certain racial/ethnic group"
         }
        }
       }
      },
      "text/html": [
       "<div>\n",
       "        \n",
       "        \n",
       "            <div id=\"acad11c7-0e04-45e3-b6c6-aacc6298edee\" class=\"plotly-graph-div\" style=\"height:525px; width:100%;\"></div>\n",
       "            <script type=\"text/javascript\">\n",
       "                require([\"plotly\"], function(Plotly) {\n",
       "                    window.PLOTLYENV=window.PLOTLYENV || {};\n",
       "                    \n",
       "                if (document.getElementById(\"acad11c7-0e04-45e3-b6c6-aacc6298edee\")) {\n",
       "                    Plotly.newPlot(\n",
       "                        'acad11c7-0e04-45e3-b6c6-aacc6298edee',\n",
       "                        [{\"name\": \"White students\", \"type\": \"bar\", \"x\": [\"Elite schools\", \"All schools\"], \"y\": [27, 13]}, {\"name\": \"Asian students\", \"type\": \"bar\", \"x\": [\"Elite schools\", \"All schools\"], \"y\": [57, 17]}, {\"name\": \"Black students\", \"type\": \"bar\", \"x\": [\"Elite schools\", \"All schools\"], \"y\": [6, 29]}, {\"name\": \"Hispanic students\", \"type\": \"bar\", \"x\": [\"Elite schools\", \"All schools\"], \"y\": [7, 38]}],\n",
       "                        {\"barmode\": \"stack\", \"template\": {\"data\": {\"bar\": [{\"error_x\": {\"color\": \"#2a3f5f\"}, \"error_y\": {\"color\": \"#2a3f5f\"}, \"marker\": {\"line\": {\"color\": \"#E5ECF6\", \"width\": 0.5}}, \"type\": \"bar\"}], \"barpolar\": [{\"marker\": {\"line\": {\"color\": \"#E5ECF6\", \"width\": 0.5}}, \"type\": \"barpolar\"}], \"carpet\": [{\"aaxis\": {\"endlinecolor\": \"#2a3f5f\", \"gridcolor\": \"white\", \"linecolor\": \"white\", \"minorgridcolor\": \"white\", \"startlinecolor\": \"#2a3f5f\"}, \"baxis\": {\"endlinecolor\": \"#2a3f5f\", \"gridcolor\": \"white\", \"linecolor\": \"white\", \"minorgridcolor\": \"white\", \"startlinecolor\": \"#2a3f5f\"}, \"type\": \"carpet\"}], \"choropleth\": [{\"colorbar\": {\"outlinewidth\": 0, \"ticks\": \"\"}, \"type\": \"choropleth\"}], \"contour\": [{\"colorbar\": {\"outlinewidth\": 0, \"ticks\": \"\"}, \"colorscale\": [[0.0, \"#0d0887\"], [0.1111111111111111, \"#46039f\"], [0.2222222222222222, \"#7201a8\"], [0.3333333333333333, \"#9c179e\"], [0.4444444444444444, \"#bd3786\"], [0.5555555555555556, \"#d8576b\"], [0.6666666666666666, \"#ed7953\"], [0.7777777777777778, \"#fb9f3a\"], [0.8888888888888888, \"#fdca26\"], [1.0, \"#f0f921\"]], \"type\": \"contour\"}], \"contourcarpet\": [{\"colorbar\": {\"outlinewidth\": 0, \"ticks\": \"\"}, \"type\": \"contourcarpet\"}], \"heatmap\": [{\"colorbar\": {\"outlinewidth\": 0, \"ticks\": \"\"}, \"colorscale\": [[0.0, \"#0d0887\"], [0.1111111111111111, \"#46039f\"], [0.2222222222222222, \"#7201a8\"], [0.3333333333333333, \"#9c179e\"], [0.4444444444444444, \"#bd3786\"], [0.5555555555555556, \"#d8576b\"], [0.6666666666666666, \"#ed7953\"], [0.7777777777777778, \"#fb9f3a\"], [0.8888888888888888, \"#fdca26\"], [1.0, \"#f0f921\"]], \"type\": \"heatmap\"}], \"heatmapgl\": [{\"colorbar\": {\"outlinewidth\": 0, \"ticks\": \"\"}, \"colorscale\": [[0.0, \"#0d0887\"], [0.1111111111111111, \"#46039f\"], [0.2222222222222222, \"#7201a8\"], [0.3333333333333333, \"#9c179e\"], [0.4444444444444444, \"#bd3786\"], [0.5555555555555556, \"#d8576b\"], [0.6666666666666666, \"#ed7953\"], [0.7777777777777778, \"#fb9f3a\"], [0.8888888888888888, \"#fdca26\"], [1.0, \"#f0f921\"]], \"type\": \"heatmapgl\"}], \"histogram\": [{\"marker\": {\"colorbar\": {\"outlinewidth\": 0, \"ticks\": \"\"}}, \"type\": \"histogram\"}], \"histogram2d\": [{\"colorbar\": {\"outlinewidth\": 0, \"ticks\": \"\"}, \"colorscale\": [[0.0, \"#0d0887\"], [0.1111111111111111, \"#46039f\"], [0.2222222222222222, \"#7201a8\"], [0.3333333333333333, \"#9c179e\"], [0.4444444444444444, \"#bd3786\"], [0.5555555555555556, \"#d8576b\"], [0.6666666666666666, \"#ed7953\"], [0.7777777777777778, \"#fb9f3a\"], [0.8888888888888888, \"#fdca26\"], [1.0, \"#f0f921\"]], \"type\": \"histogram2d\"}], \"histogram2dcontour\": [{\"colorbar\": {\"outlinewidth\": 0, \"ticks\": \"\"}, \"colorscale\": [[0.0, \"#0d0887\"], [0.1111111111111111, \"#46039f\"], [0.2222222222222222, \"#7201a8\"], [0.3333333333333333, \"#9c179e\"], [0.4444444444444444, \"#bd3786\"], [0.5555555555555556, \"#d8576b\"], [0.6666666666666666, \"#ed7953\"], [0.7777777777777778, \"#fb9f3a\"], [0.8888888888888888, \"#fdca26\"], [1.0, \"#f0f921\"]], \"type\": \"histogram2dcontour\"}], \"mesh3d\": [{\"colorbar\": {\"outlinewidth\": 0, \"ticks\": \"\"}, \"type\": \"mesh3d\"}], \"parcoords\": [{\"line\": {\"colorbar\": {\"outlinewidth\": 0, \"ticks\": \"\"}}, \"type\": \"parcoords\"}], \"pie\": [{\"automargin\": true, \"type\": \"pie\"}], \"scatter\": [{\"marker\": {\"colorbar\": {\"outlinewidth\": 0, \"ticks\": \"\"}}, \"type\": \"scatter\"}], \"scatter3d\": [{\"line\": {\"colorbar\": {\"outlinewidth\": 0, \"ticks\": \"\"}}, \"marker\": {\"colorbar\": {\"outlinewidth\": 0, \"ticks\": \"\"}}, \"type\": \"scatter3d\"}], \"scattercarpet\": [{\"marker\": {\"colorbar\": {\"outlinewidth\": 0, \"ticks\": \"\"}}, \"type\": \"scattercarpet\"}], \"scattergeo\": [{\"marker\": {\"colorbar\": {\"outlinewidth\": 0, \"ticks\": \"\"}}, \"type\": \"scattergeo\"}], \"scattergl\": [{\"marker\": {\"colorbar\": {\"outlinewidth\": 0, \"ticks\": \"\"}}, \"type\": \"scattergl\"}], \"scattermapbox\": [{\"marker\": {\"colorbar\": {\"outlinewidth\": 0, \"ticks\": \"\"}}, \"type\": \"scattermapbox\"}], \"scatterpolar\": [{\"marker\": {\"colorbar\": {\"outlinewidth\": 0, \"ticks\": \"\"}}, \"type\": \"scatterpolar\"}], \"scatterpolargl\": [{\"marker\": {\"colorbar\": {\"outlinewidth\": 0, \"ticks\": \"\"}}, \"type\": \"scatterpolargl\"}], \"scatterternary\": [{\"marker\": {\"colorbar\": {\"outlinewidth\": 0, \"ticks\": \"\"}}, \"type\": \"scatterternary\"}], \"surface\": [{\"colorbar\": {\"outlinewidth\": 0, \"ticks\": \"\"}, \"colorscale\": [[0.0, \"#0d0887\"], [0.1111111111111111, \"#46039f\"], [0.2222222222222222, \"#7201a8\"], [0.3333333333333333, \"#9c179e\"], [0.4444444444444444, \"#bd3786\"], [0.5555555555555556, \"#d8576b\"], [0.6666666666666666, \"#ed7953\"], [0.7777777777777778, \"#fb9f3a\"], [0.8888888888888888, \"#fdca26\"], [1.0, \"#f0f921\"]], \"type\": \"surface\"}], \"table\": [{\"cells\": {\"fill\": {\"color\": \"#EBF0F8\"}, \"line\": {\"color\": \"white\"}}, \"header\": {\"fill\": {\"color\": \"#C8D4E3\"}, \"line\": {\"color\": \"white\"}}, \"type\": \"table\"}]}, \"layout\": {\"annotationdefaults\": {\"arrowcolor\": \"#2a3f5f\", \"arrowhead\": 0, \"arrowwidth\": 1}, \"coloraxis\": {\"colorbar\": {\"outlinewidth\": 0, \"ticks\": \"\"}}, \"colorscale\": {\"diverging\": [[0, \"#8e0152\"], [0.1, \"#c51b7d\"], [0.2, \"#de77ae\"], [0.3, \"#f1b6da\"], [0.4, \"#fde0ef\"], [0.5, \"#f7f7f7\"], [0.6, \"#e6f5d0\"], [0.7, \"#b8e186\"], [0.8, \"#7fbc41\"], [0.9, \"#4d9221\"], [1, \"#276419\"]], \"sequential\": [[0.0, \"#0d0887\"], [0.1111111111111111, \"#46039f\"], [0.2222222222222222, \"#7201a8\"], [0.3333333333333333, \"#9c179e\"], [0.4444444444444444, \"#bd3786\"], [0.5555555555555556, \"#d8576b\"], [0.6666666666666666, \"#ed7953\"], [0.7777777777777778, \"#fb9f3a\"], [0.8888888888888888, \"#fdca26\"], [1.0, \"#f0f921\"]], \"sequentialminus\": [[0.0, \"#0d0887\"], [0.1111111111111111, \"#46039f\"], [0.2222222222222222, \"#7201a8\"], [0.3333333333333333, \"#9c179e\"], [0.4444444444444444, \"#bd3786\"], [0.5555555555555556, \"#d8576b\"], [0.6666666666666666, \"#ed7953\"], [0.7777777777777778, \"#fb9f3a\"], [0.8888888888888888, \"#fdca26\"], [1.0, \"#f0f921\"]]}, \"colorway\": [\"#636efa\", \"#EF553B\", \"#00cc96\", \"#ab63fa\", \"#FFA15A\", \"#19d3f3\", \"#FF6692\", \"#B6E880\", \"#FF97FF\", \"#FECB52\"], \"font\": {\"color\": \"#2a3f5f\"}, \"geo\": {\"bgcolor\": \"white\", \"lakecolor\": \"white\", \"landcolor\": \"#E5ECF6\", \"showlakes\": true, \"showland\": true, \"subunitcolor\": \"white\"}, \"hoverlabel\": {\"align\": \"left\"}, \"hovermode\": \"closest\", \"mapbox\": {\"style\": \"light\"}, \"paper_bgcolor\": \"white\", \"plot_bgcolor\": \"#E5ECF6\", \"polar\": {\"angularaxis\": {\"gridcolor\": \"white\", \"linecolor\": \"white\", \"ticks\": \"\"}, \"bgcolor\": \"#E5ECF6\", \"radialaxis\": {\"gridcolor\": \"white\", \"linecolor\": \"white\", \"ticks\": \"\"}}, \"scene\": {\"xaxis\": {\"backgroundcolor\": \"#E5ECF6\", \"gridcolor\": \"white\", \"gridwidth\": 2, \"linecolor\": \"white\", \"showbackground\": true, \"ticks\": \"\", \"zerolinecolor\": \"white\"}, \"yaxis\": {\"backgroundcolor\": \"#E5ECF6\", \"gridcolor\": \"white\", \"gridwidth\": 2, \"linecolor\": \"white\", \"showbackground\": true, \"ticks\": \"\", \"zerolinecolor\": \"white\"}, \"zaxis\": {\"backgroundcolor\": \"#E5ECF6\", \"gridcolor\": \"white\", \"gridwidth\": 2, \"linecolor\": \"white\", \"showbackground\": true, \"ticks\": \"\", \"zerolinecolor\": \"white\"}}, \"shapedefaults\": {\"line\": {\"color\": \"#2a3f5f\"}}, \"ternary\": {\"aaxis\": {\"gridcolor\": \"white\", \"linecolor\": \"white\", \"ticks\": \"\"}, \"baxis\": {\"gridcolor\": \"white\", \"linecolor\": \"white\", \"ticks\": \"\"}, \"bgcolor\": \"#E5ECF6\", \"caxis\": {\"gridcolor\": \"white\", \"linecolor\": \"white\", \"ticks\": \"\"}}, \"title\": {\"x\": 0.05}, \"xaxis\": {\"automargin\": true, \"gridcolor\": \"white\", \"linecolor\": \"white\", \"ticks\": \"\", \"title\": {\"standoff\": 15}, \"zerolinecolor\": \"white\", \"zerolinewidth\": 2}, \"yaxis\": {\"automargin\": true, \"gridcolor\": \"white\", \"linecolor\": \"white\", \"ticks\": \"\", \"title\": {\"standoff\": 15}, \"zerolinecolor\": \"white\", \"zerolinewidth\": 2}}}, \"title\": {\"text\": \"The NYC schools: <br> Distribution by race/ethnicity. <br>All VS Elite schools (average SAT score > 1800)\"}, \"xaxis\": {\"categoryorder\": \"category ascending\"}, \"yaxis\": {\"title\": {\"text\": \"Percentage of certain racial/ethnic group\"}}},\n",
       "                        {\"responsive\": true}\n",
       "                    ).then(function(){\n",
       "                            \n",
       "var gd = document.getElementById('acad11c7-0e04-45e3-b6c6-aacc6298edee');\n",
       "var x = new MutationObserver(function (mutations, observer) {{\n",
       "        var display = window.getComputedStyle(gd).display;\n",
       "        if (!display || display === 'none') {{\n",
       "            console.log([gd, 'removed!']);\n",
       "            Plotly.purge(gd);\n",
       "            observer.disconnect();\n",
       "        }}\n",
       "}});\n",
       "\n",
       "// Listen for the removal of the full notebook cells\n",
       "var notebookContainer = gd.closest('#notebook-container');\n",
       "if (notebookContainer) {{\n",
       "    x.observe(notebookContainer, {childList: true});\n",
       "}}\n",
       "\n",
       "// Listen for the clearing of the current output cell\n",
       "var outputEl = gd.closest('.output');\n",
       "if (outputEl) {{\n",
       "    x.observe(outputEl, {childList: true});\n",
       "}}\n",
       "\n",
       "                        })\n",
       "                };\n",
       "                });\n",
       "            </script>\n",
       "        </div>"
      ]
     },
     "metadata": {},
     "output_type": "display_data"
    }
   ],
   "source": [
    "# assume that 'elite schools' are those with an average SAT score higher than 1800 \n",
    "elite_schools = combined[combined['sat_score']>1800] \n",
    "\n",
    "# build bar plot to visualize racial makeup of elite schools vs all the NYC schools \n",
    "num_race = ['white_per','asian_per','black_per','hispanic_per']\n",
    "\n",
    "elite_distr = {}\n",
    "ordinary_disrt = {}\n",
    "\n",
    "for i in num_race:\n",
    "    elite_distr[i] = int(((elite_schools[i]/100)*elite_schools['Total Cohort']).sum()/(elite_schools['Total Cohort'].sum())*100)\n",
    "    ordinary_disrt[i] = int(((combined[i]/100)*combined['Total Cohort']).sum()/(combined['Total Cohort'].sum())*100)\n",
    "\n",
    "\n",
    "x=['Elite schools','All schools']\n",
    "fig = go.Figure(go.Bar(x=x, y=[elite_distr['white_per'],ordinary_disrt['white_per']], name='White students'))\n",
    "fig.add_trace(go.Bar(x=x, y=[elite_distr['asian_per'],ordinary_disrt['asian_per']], name='Asian students'))\n",
    "fig.add_trace(go.Bar(x=x, y=[elite_distr['black_per'],ordinary_disrt['black_per']], name='Black students'))\n",
    "fig.add_trace(go.Bar(x=x, y=[elite_distr['hispanic_per'],ordinary_disrt['hispanic_per']], name='Hispanic students'))\n",
    "\n",
    "fig.update_layout(barmode='stack', xaxis={'categoryorder':'category ascending'},\n",
    "                  title='The NYC schools: <br> Distribution by race/ethnicity. <br>All VS Elite schools (average SAT score > 1800)',\n",
    "                  yaxis_title=\"Percentage of certain racial/ethnic group\")\n",
    "fig.show()"
   ]
  },
  {
   "cell_type": "code",
   "execution_count": 18,
   "metadata": {},
   "outputs": [
    {
     "data": {
      "application/vnd.plotly.v1+json": {
       "config": {
        "plotlyServerURL": "https://plot.ly"
       },
       "data": [
        {
         "marker": {
          "color": [
           53.8,
           45.9,
           55.4,
           56.9,
           14.2,
           18.2,
           59.2,
           47.6,
           60.6,
           66.1,
           42,
           59.2,
           73.2,
           50.6,
           55.7,
           48.4,
           45.1,
           43,
           58.7,
           57.2,
           32.8,
           57.2,
           23.7,
           14.6,
           14,
           39.9,
           11.6,
           21.7,
           74.8,
           49.7,
           54.2,
           84.6,
           62.4,
           43.2,
           71.8,
           59,
           36.9,
           2.4,
           43.5,
           55.3,
           39.3,
           46.6,
           69.9,
           42.4,
           99.8,
           62.2,
           4,
           49.3,
           59.3,
           52.3,
           57.8,
           60.5,
           51,
           64.3,
           58.9,
           56,
           76,
           62.6,
           38.8,
           37,
           22.8,
           16.6,
           48.1,
           57.2,
           41.5,
           18.9,
           58.7,
           57.4,
           59.6,
           64.5,
           60.1,
           60.1,
           69.4,
           63.8,
           48.5,
           38.1,
           38.2,
           22.8,
           20.9,
           21.2,
           92,
           93.8,
           96.7,
           72.5,
           91.4,
           87.1,
           84.4,
           83.8,
           62.3,
           99.8,
           68.8,
           71.8,
           65.5,
           76,
           78.1,
           72.7,
           68.8,
           56,
           68.1,
           70.4,
           64.3,
           61.5,
           56.9,
           74.8,
           46.4,
           63.8,
           69.9,
           64.3,
           56.8,
           66,
           60.6,
           83.2,
           76,
           65.4,
           69.3,
           33.8,
           63.4,
           58.1,
           73.7,
           68.7,
           63.8,
           63.5,
           73.1,
           64.5,
           69.9,
           99.4,
           72.2,
           64.5,
           59.9,
           57.8,
           66.2,
           41.4,
           57,
           62.5,
           53,
           64.2,
           69.7,
           57.4,
           69.5,
           84.7,
           65.2,
           99.8,
           81.9,
           59.9,
           70.4,
           65.6,
           61.5,
           67.8,
           64.6,
           59.6,
           69.5,
           7.2,
           57.9,
           69,
           75.6,
           18,
           36.3,
           47.6,
           57.3,
           32,
           59.5,
           46.8,
           41.2,
           46,
           62.3,
           43.8,
           70.4,
           37.3,
           49.7,
           59.9,
           72.6,
           72.9,
           65.5,
           73.2,
           68.3,
           53.7,
           99.8,
           65,
           59.8,
           84.6,
           68.8,
           42.2,
           77.5,
           24.6,
           22.7,
           17.1,
           12.2,
           7.9,
           28.6,
           17.1,
           12.2,
           11.7,
           7.1,
           15.3,
           8.8,
           26.3,
           80.6,
           29.8,
           17.9,
           46.9,
           65.4,
           39.3,
           55.4,
           37.7,
           57.2,
           61.5,
           54.6,
           30.2,
           31.2,
           87.6,
           39,
           48.1,
           29.6,
           43.2,
           51.8,
           38.9,
           21,
           19,
           80.8,
           14.1,
           7.8,
           24.9,
           20.8,
           6.7,
           12.9,
           27.9,
           7.3,
           8.3,
           8.4,
           9.1,
           9,
           9.4,
           12.2,
           14.2,
           15.3,
           2.8,
           5.8,
           4.5,
           8.5,
           12.8,
           8.8,
           5.8,
           9.6,
           10.6,
           11.4,
           12.4,
           12,
           10.5,
           30.3,
           23.4,
           22.2,
           17.4,
           14.2,
           99.8,
           23.2,
           50.2,
           65,
           73.2,
           25.4,
           34.7,
           28,
           54.1,
           30.2,
           27.3,
           21.9,
           21,
           25.8,
           23,
           20.1,
           22.7,
           17.6,
           19.1,
           29.9,
           41.2,
           14,
           23.1,
           11.7,
           14.5,
           10.8,
           12.4,
           8.3,
           10.4,
           13.1,
           56.4,
           57.2,
           79.3,
           100,
           21.2,
           60.3,
           63.5,
           71.4,
           44,
           79.2,
           62.4,
           74.2,
           55.3,
           24.2,
           32.7,
           17.9,
           20.3,
           40.7,
           49.8,
           12.9,
           35.4,
           18.6,
           24.1,
           15.1,
           22.3,
           16.8,
           27,
           27.5,
           30,
           42.6,
           34.2,
           15.9,
           11.5,
           46.4,
           37.1,
           41.6,
           10.2,
           18.5,
           21,
           30.2,
           22.8,
           21.1,
           15.7,
           38.6,
           7.9,
           15.1,
           18.4,
           8.2,
           2.9,
           9.7,
           14.1,
           10.4,
           7.5,
           11.9,
           8.5,
           40.4,
           53.5,
           48.8,
           62.7,
           27.2,
           56.6,
           43.5,
           34.7,
           24.3,
           17.9,
           17.6,
           16.9,
           27.3,
           37.6,
           31.9,
           9.9,
           24.1,
           33.2,
           5.3,
           77.1,
           88.1,
           68.7,
           70.4,
           79.5,
           77.3
          ],
          "colorscale": [
           [
            0,
            "#440154"
           ],
           [
            0.1111111111111111,
            "#482878"
           ],
           [
            0.2222222222222222,
            "#3e4989"
           ],
           [
            0.3333333333333333,
            "#31688e"
           ],
           [
            0.4444444444444444,
            "#26828e"
           ],
           [
            0.5555555555555556,
            "#1f9e89"
           ],
           [
            0.6666666666666666,
            "#35b779"
           ],
           [
            0.7777777777777778,
            "#6ece58"
           ],
           [
            0.8888888888888888,
            "#b5de2b"
           ],
           [
            1,
            "#fde725"
           ]
          ],
          "showscale": true,
          "size": [
           3.12,
           4.96,
           3.6,
           3.36,
           1.84,
           5.56,
           1,
           4.08,
           3.56,
           3,
           3.68,
           3.2,
           2.84,
           2.44,
           2.72,
           2.88,
           3.72,
           7.754838709677419,
           7.754838709677419,
           7.754838709677419,
           7.754838709677419,
           14.08,
           3.2,
           4.2,
           4.96,
           4.24,
           5.08,
           6,
           3.76,
           13.64,
           5.76,
           7.754838709677419,
           7.754838709677419,
           7.754838709677419,
           4.4,
           3.56,
           2.76,
           31.48,
           7.08,
           2.12,
           5.44,
           25.48,
           5.92,
           1.96,
           4.44,
           4.04,
           2.16,
           3.08,
           5.36,
           16.64,
           1.92,
           6.92,
           12.8,
           4.72,
           3.56,
           4,
           7.754838709677419,
           7.754838709677419,
           5.08,
           7.754838709677419,
           10.76,
           25.84,
           4.28,
           5.48,
           3.6,
           2.16,
           3.04,
           15.24,
           3.68,
           2.52,
           2.2,
           2.2,
           3,
           3.84,
           7.754838709677419,
           7.754838709677419,
           2.48,
           10.36,
           3.8,
           4.24,
           7.754838709677419,
           7.754838709677419,
           7.754838709677419,
           7.754838709677419,
           7.4,
           6.44,
           6.84,
           6.32,
           10.68,
           3.64,
           3.2,
           0.4,
           3.24,
           2.76,
           7.754838709677419,
           2.44,
           5.44,
           4.08,
           3.24,
           3.28,
           3.04,
           10.68,
           5.36,
           7.754838709677419,
           3,
           4.68,
           4.04,
           4.32,
           3.56,
           7.754838709677419,
           43.68,
           7.754838709677419,
           3.96,
           4.32,
           3.84,
           4,
           7.754838709677419,
           2.4,
           4.28,
           4,
           4.8,
           2.68,
           3.96,
           7.754838709677419,
           3.72,
           7.754838709677419,
           3.52,
           4.32,
           4.4,
           4.12,
           4.88,
           3.48,
           7.12,
           1.88,
           5.4,
           2.92,
           2.48,
           2.68,
           2.88,
           4.72,
           3.96,
           3.32,
           4.6,
           0.08,
           5.36,
           3.84,
           3.28,
           5.76,
           4.6,
           40.52,
           3.28,
           26.72,
           4.28,
           4.32,
           3.84,
           3.12,
           2.32,
           4.72,
           3.76,
           2.6,
           3.6,
           4.84,
           3.96,
           4.44,
           3.8,
           22.6,
           2.48,
           2.64,
           4.44,
           4.72,
           2.8,
           4.16,
           2.76,
           0.08,
           2.96,
           3.84,
           7.754838709677419,
           7.754838709677419,
           7.754838709677419,
           2.08,
           4.76,
           4.64,
           4.48,
           3.24,
           3.84,
           3.12,
           9.24,
           43.88,
           4.6,
           4.36,
           6.76,
           7.754838709677419,
           3.04,
           9.84,
           9.36,
           7.754838709677419,
           4,
           2.4,
           2.04,
           3.84,
           8.28,
           5.84,
           6.44,
           3,
           3.88,
           4.32,
           0.16,
           9.32,
           7.754838709677419,
           1.64,
           3.64,
           3.04,
           3.56,
           3.76,
           3.48,
           2.6,
           5.68,
           4,
           7.754838709677419,
           2.84,
           21.2,
           7.754838709677419,
           7.754838709677419,
           2.76,
           3.24,
           3.36,
           4.16,
           2.4,
           2.96,
           4,
           4.64,
           3.04,
           3.72,
           4.4,
           3.52,
           6.24,
           19.52,
           0.16,
           0.16,
           0.12,
           0.2,
           0.12,
           0.16,
           7.754838709677419,
           0.08,
           7.754838709677419,
           7.754838709677419,
           7.754838709677419,
           3.64,
           3.48,
           4.44,
           4.44,
           3.8,
           0.12,
           13.84,
           0.04,
           0.04,
           4.24,
           9.04,
           7.754838709677419,
           24.84,
           11.88,
           39.44,
           34.36,
           7.754838709677419,
           2.84,
           4.52,
           2.6,
           24.8,
           7.754838709677419,
           37.52,
           24.12,
           0.04,
           0.12,
           11.24,
           5.6,
           34.88,
           43.04,
           10.12,
           4.8,
           2.8,
           3.68,
           3.96,
           3.6,
           4.04,
           7.754838709677419,
           0.04,
           2,
           30.92,
           28.12,
           3.76,
           4.96,
           7.48,
           3.8,
           10.84,
           14.72,
           7.754838709677419,
           3.44,
           3,
           3.28,
           27.52,
           23.52,
           11.12,
           6.36,
           39.24,
           48.36,
           30.2,
           36.08,
           11.24,
           3.8,
           2.84,
           0.08,
           7.754838709677419,
           7.754838709677419,
           7.754838709677419,
           11.52,
           34.68,
           32.32,
           7.08,
           7.754838709677419,
           7.754838709677419,
           7.754838709677419,
           38.36,
           30.64,
           32.76,
           4.68,
           7.754838709677419,
           4.28,
           5.04,
           7.754838709677419,
           3.8,
           2.56,
           3.64,
           4.12,
           1.44,
           7.754838709677419,
           4.32,
           3.76,
           7.754838709677419,
           7.754838709677419,
           32.4,
           28.72,
           6.84,
           10.68,
           8.56,
           6.2,
           2.88,
           3.2,
           7.754838709677419,
           4.52,
           20.36,
           20.76,
           25.96,
           42.76,
           36.48,
           7,
           11.52,
           3.96,
           6.44,
           3.88,
           4.6,
           1.72,
           4.68
          ]
         },
         "mode": "markers",
         "text": [
          "HENRY STREET SCHOOL FOR INTERNATIONAL STUDIES",
          "UNIVERSITY NEIGHBORHOOD HIGH SCHOOL",
          "EAST SIDE COMMUNITY SCHOOL",
          "MARTA VALLE HIGH SCHOOL",
          "NEW EXPLORATIONS INTO SCIENCE, TECHNOLOGY AND MATH HIGH SCHOOL",
          "BARD HIGH SCHOOL EARLY COLLEGE",
          "47 THE AMERICAN SIGN LANGUAGE AND ENGLISH SECONDARY SCHOOL",
          "FOOD AND FINANCE HIGH SCHOOL",
          "ESSEX STREET ACADEMY",
          "HIGH SCHOOL OF HOSPITALITY MANAGEMENT",
          "PACE HIGH SCHOOL",
          "URBAN ASSEMBLY SCHOOL OF DESIGN AND CONSTRUCTION, THE",
          "FACING HISTORY SCHOOL, THE",
          "URBAN ASSEMBLY ACADEMY OF GOVERNMENT AND LAW, THE",
          "LOWER MANHATTAN ARTS ACADEMY",
          "URBAN ASSEMBLY SCHOOL OF BUSINESS FOR YOUNG WOMEN, THE",
          "GRAMERCY ARTS HIGH SCHOOL",
          "NYC ISCHOOL",
          "MANHATTAN BUSINESS ACADEMY",
          "BUSINESS OF SPORTS SCHOOL",
          "THE HIGH SCHOOL FOR LANGUAGE AND DIPLOMACY",
          "HIGH SCHOOL FOR ENVIRONMENTAL STUDIES",
          "PROFESSIONAL PERFORMING ARTS HIGH SCHOOL",
          "BARUCH COLLEGE CAMPUS HIGH SCHOOL",
          "N.Y.C. LAB SCHOOL FOR COLLABORATIVE STUDIES",
          "N.Y.C. MUSEUM SCHOOL",
          "ELEANOR ROOSEVELT HIGH SCHOOL",
          "MILLENNIUM HIGH SCHOOL",
          "LANDMARK HIGH SCHOOL",
          "HIGH SCHOOL FOR HEALTH PROFESSIONS AND HUMAN SERVICES",
          "LEADERSHIP AND PUBLIC SERVICE HIGH SCHOOL",
          "MANHATTAN ACADEMY FOR ARTS & LANGUAGE",
          "HUDSON HIGH SCHOOL OF LEARNING TECHNOLOGIES",
          "INTERNATIONAL HIGH SCHOOL AT UNION SQUARE",
          "MANHATTAN VILLAGE ACADEMY",
          "VANGUARD HIGH SCHOOL",
          "MANHATTAN INTERNATIONAL HIGH SCHOOL",
          "STUYVESANT HIGH SCHOOL",
          "HIGH SCHOOL OF ECONOMICS AND FINANCE",
          "UNITY CENTER FOR URBAN TECHNOLOGIES",
          "TALENT UNLIMITED HIGH SCHOOL",
          "MURRY BERGTRAUM HIGH SCHOOL FOR BUSINESS CAREERS",
          "JACQUELINE KENNEDY ONASSIS HIGH SCHOOL",
          "REPERTORY COMPANY HIGH SCHOOL FOR THEATRE ARTS",
          "MANHATTAN BRIDGES HIGH SCHOOL",
          "NEW DESIGN HIGH SCHOOL",
          "HIGH SCHOOL FOR DUAL LANGUAGE AND ASIAN STUDIES",
          "THE URBAN ASSEMBLY NEW YORK HARBOR SCHOOL",
          "RICHARD R. GREEN HIGH SCHOOL OF TEACHING",
          "THE HIGH SCHOOL OF FASHION INDUSTRIES",
          "HUMANITIES PREPARATORY ACADEMY",
          "CHELSEA CAREER AND TECHNICAL EDUCATION HIGH SCHOOL",
          "ART AND DESIGN HIGH SCHOOL",
          "LIFE SCIENCES SECONDARY SCHOOL",
          "HIGH SCHOOL FOR ARTS, IMAGINATION AND INQUIRY",
          "URBAN ASSEMBLY SCHOOL FOR MEDIA STUDIES, THE",
          "THE URBAN ASSEMBLY SCHOOL FOR GREEN CAREERS",
          "THE GLOBAL LEARNING COLLABORATIVE",
          "WADLEIGH SECONDARY SCHOOL FOR THE PERFORMING & VISUAL ARTS",
          "FRANK MCCOURT HIGH SCHOOL",
          "BEACON HIGH SCHOOL",
          "FIORELLO H. LAGUARDIA HIGH SCHOOL OF MUSIC & ART AND PERFORMING ARTS",
          "HIGH SCHOOL FOR LAW, ADVOCACY AND COMMUNITY JUSTICE",
          "HIGH SCHOOL OF ARTS AND TECHNOLOGY",
          "MANHATTAN / HUNTER SCIENCE HIGH SCHOOL",
          "FREDERICK DOUGLASS ACADEMY II SECONDARY SCHOOL",
          "COALITION SCHOOL FOR SOCIAL CHANGE",
          "MANHATTAN CENTER FOR SCIENCE AND MATHEMATICS",
          "PARK EAST HIGH SCHOOL",
          "CENTRAL PARK EAST HIGH SCHOOL",
          "YOUNG WOMEN'S LEADERSHIP SCHOOL",
          "YOUNG WOMEN'S LEADERSHIP SCHOOL",
          "HERITAGE SCHOOL, THE",
          "MOTT HALL HIGH SCHOOL",
          "COLUMBIA SECONDARY SCHOOL FOR MATH, SCIENCE, AND ENGINEERING",
          "ACADEMY FOR SOCIAL ACTION: A COLLEGE BOARD SCHOOL",
          "URBAN ASSEMBLY SCHOOL FOR THE PERFORMING ARTS",
          "FREDERICK DOUGLASS ACADEMY",
          "THURGOOD MARSHALL ACADEMY FOR LEARNING AND SOCIAL CHANGE",
          "HIGH SCHOOL FOR MATHEMATICS, SCIENCE AND ENGINEERING AT CITY COLLEGE",
          "CITY COLLEGE ACADEMY OF THE ARTS",
          "COMMUNITY HEALTH ACADEMY OF THE HEIGHTS",
          "WASHINGTON HEIGHTS EXPEDITIONARY LEARNING SCHOOL",
          "HIGH SCHOOL FOR EXCELLENCE AND INNOVATION",
          "HIGH SCHOOL FOR INTERNATIONAL BUSINESS AND FINANCE",
          "HIGH SCHOOL FOR MEDIA AND COMMUNICATIONS",
          "HIGH SCHOOL FOR LAW AND PUBLIC SERVICE",
          "HIGH SCHOOL FOR HEALTH CAREERS AND SCIENCES",
          "A. PHILIP RANDOLPH CAMPUS HIGH SCHOOL",
          "GREGORIO LUPERON HIGH SCHOOL FOR SCIENCE AND MATHEMATICS",
          "SOUTH BRONX PREPARATORY: A COLLEGE BOARD SCHOOL",
          "INTERNATIONAL COMMUNITY HIGH SCHOOL",
          "COMMUNITY SCHOOL FOR SOCIAL JUSTICE",
          "MOTT HAVEN VILLAGE PREPARATORY HIGH SCHOOL",
          "UNIVERSITY HEIGHTS SECONDARY SCHOOL",
          "HOSTOSsLINCOLN ACADEMY OF SCIENCE",
          "FOREIGN LANGUAGE ACADEMY OF GLOBAL STUDIES",
          "BRONX LEADERSHIP ACADEMY II HIGH SCHOOL",
          "NEW EXPLORERS HIGH SCHOOL",
          "URBAN ASSEMBLY SCHOOL FOR CAREERS IN SPORTS",
          "BRONX ACADEMY OF LETTERS",
          "ALFRED E. SMITH CAREER AND TECHNICAL EDUCATION HIGH SCHOOL",
          "HEALTH OPPORTUNITIES HIGH SCHOOL",
          "BRONX STUDIO SCHOOL FOR WRITERS AND ARTISTS",
          "WOMEN'S ACADEMY OF EXCELLENCE",
          "RENAISSANCE HIGH SCHOOL FOR MUSICAL THEATER & TECHNOLOGY",
          "PABLO NERUDA ACADEMY FOR ARCHITECTURE AND WORLD STUDIES",
          "MILLENNIUM ART ACADEMY",
          "HOLCOMBE L. RUCKER SCHOOL OF COMMUNITY RESEARCH",
          "ANTONIA PANTOJA PREPARATORY ACADEMY, A COLLEGE BOARD SCHOOL",
          "HERBERT H. LEHMAN HIGH SCHOOL",
          "BRONX BRIDGES HIGH SCHOOL",
          "FELISA RINCON DE GAUTIER INSTITUTE FOR LAW AND PUBLIC POLICY, THE",
          "BANANA KELLY HIGH SCHOOL",
          "BRONX EXPEDITIONARY LEARNING HIGH SCHOOL",
          "EAGLE ACADEMY FOR YOUNG MEN",
          "URBAN ASSEMBLY SCHOOL FOR APPLIED MATH AND SCIENCE, THE",
          "EXIMIUS COLLEGE PREPARATORY ACADEMY: A COLLEGE BOARD SCHOOL",
          "MOTT HALL BRONX HIGH SCHOOL",
          "BRONX CENTER FOR SCIENCE AND MATHEMATICS",
          "VALIDUS PREPARATORY ACADEMY: AN EXPEDITIONARY LEARNING SCHOOL",
          "LEADERSHIP INSTITUTE",
          "MORRIS ACADEMY FOR COLLABORATIVE STUDIES",
          "BRONX EARLY COLLEGE ACADEMY FOR TEACHING & LEARNING",
          "DREAMYARD PREPARATORY SCHOOL",
          "ACADEMY FOR LANGUAGE AND TECHNOLOGY",
          "BRONX INTERNATIONAL HIGH SCHOOL",
          "SCHOOL FOR EXCELLENCE",
          "BRONX HIGH SCHOOL OF BUSINESS",
          "BRONX HIGH SCHOOL FOR MEDICAL SCIENCE",
          "BRONX SCHOOL FOR LAW, GOVERNMENT AND JUSTICE",
          "FREDERICK DOUGLASS ACADEMY III SECONDARY SCHOOL",
          "BRONX LEADERSHIP ACADEMY HIGH SCHOOL",
          "HIGH SCHOOL FOR VIOLIN AND DANCE",
          "RIVERDALE / KINGSBRIDGE ACADEMY (MIDDLE SCHOOL / HIGH SCHOOL 141)",
          "BRONX ENGINEERING AND TECHNOLOGY ACADEMY",
          "THEATRE ARTS PRODUCTION COMPANY SCHOOL",
          "THE MARIE CURIE SCHOOL FOR MEDICINE, NURSING, AND HEALTH PROFESSIONS",
          "WEST BRONX ACADEMY FOR THE FUTURE",
          "KINGSBRIDGE INTERNATIONAL HIGH SCHOOL",
          "BRONX SCHOOL OF LAW AND FINANCE",
          "INTERNATIONAL SCHOOL FOR LIBERAL ARTS",
          "INsTECH ACADEMY (M.S. / HIGH SCHOOL 368)",
          "KNOWLEDGE AND POWER PREPARATORY ACADEMY INTERNATIONAL HIGH SCHOOL (KAPPA)",
          "HIGH SCHOOL FOR TEACHING AND THE PROFESSIONS",
          "BELMONT PREPARATORY HIGH SCHOOL",
          "FORDHAM HIGH SCHOOL FOR THE ARTS",
          "FORDHAM LEADERSHIP ACADEMY FOR BUSINESS AND TECHNOLOGY",
          "BRONX HIGH SCHOOL FOR LAW AND COMMUNITY SERVICE",
          "DEWITT CLINTON HIGH SCHOOL",
          "CELIA CRUZ BRONX HIGH SCHOOL OF MUSIC, THE",
          "BRONX HIGH SCHOOL OF SCIENCE",
          "MARBLE HILL HIGH SCHOOL FOR INTERNATIONAL STUDIES",
          "BRONX THEATRE HIGH SCHOOL",
          "DISCOVERY HIGH SCHOOL",
          "HIGH SCHOOL OF AMERICAN STUDIES AT LEHMAN COLLEGE",
          "BRONX HEALTH SCIENCES HIGH SCHOOL",
          "BRONX HIGH SCHOOL FOR WRITING AND COMMUNICATION ARTS",
          "BRONX LAB SCHOOL",
          "ACADEMY FOR SCHOLARSHIP AND ENTREPRENEURSHIP: A COLLEGE BOARD SCHOOL",
          "HIGH SCHOOL OF COMPUTERS AND TECHNOLOGY",
          "COLLEGIATE INSTITUTE FOR MATH AND SCIENCE",
          "BRONX ACADEMY OF HEALTH CAREERS",
          "ASTOR COLLEGIATE ACADEMY",
          "BRONX HIGH SCHOOL FOR THE VISUAL ARTS",
          "HARRY S TRUMAN HIGH SCHOOL",
          "NEW WORLD HIGH SCHOOL",
          "THE BRONXWOOD PREPARATORY ACADEMY",
          "PELHAM PREPARATORY ACADEMY",
          "HIGH SCHOOL FOR CONTEMPORARY ARTS",
          "BRONX AEROSPACE HIGH SCHOOL",
          "METROPOLITAN HIGH SCHOOL, THE",
          "EXPLORATIONS ACADEMY",
          "BRONX LATIN",
          "EAST BRONX ACADEMY FOR THE FUTURE",
          "PEACE AND DIVERSITY ACADEMY",
          "PAN AMERICAN INTERNATIONAL HIGH SCHOOL AT MONROE",
          "THE CINEMA SCHOOL",
          "BRONX CAREER AND COLLEGE PREPARATORY HIGH SCHOOL",
          "HIGH SCHOOL OF WORLD CULTURES",
          "FANNIE LOU HAMER FREEDOM HIGH SCHOOL",
          "WINGS ACADEMY",
          "MONROE ACADEMY FOR VISUAL ARTS & DESIGN",
          "DR. SUSAN S. MCKINNEY SECONDARY SCHOOL OF THE ARTS",
          "URBAN ASSEMBLY HIGH SCHOOL OF MUSIC AND ART",
          "BROOKLYN COMMUNITY HIGH SCHOOL OF COMMUNICATION, ARTS AND MEDIA",
          "SCIENCE SKILLS CENTER HIGH SCHOOL FOR SCIENCE, TECHNOLOGY AND THE CREATIVE ARTS",
          "BROOKLYN TECHNICAL HIGH SCHOOL",
          "BROOKLYN INTERNATIONAL HIGH SCHOOL",
          "THE URBAN ASSEMBLY SCHOOL FOR LAW AND JUSTICE",
          "ACORN COMMUNITY HIGH SCHOOL",
          "URBAN ASSEMBLY INSTITUTE OF MATH AND SCIENCE FOR YOUNG WOMEN",
          "BEDFORD ACADEMY HIGH SCHOOL",
          "GEORGE WESTINGHOUSE CAREER AND TECHNICAL EDUCATION HIGH SCHOOL",
          "BENJAMIN BANNEKER ACADEMY",
          "CITY POLYTECHNIC HIGH SCHOOL OF ENGINEERING, ARCHITECTURE, AND TECHNOLOGY",
          "JUAN MOREL CAMPOS SECONDARY SCHOOL",
          "FOUNDATIONS ACADEMY",
          "BROOKLYN LATIN SCHOOL, THE",
          "GREEN SCHOOL: AN ACADEMY FOR ENVIRONMENTAL CAREERS",
          "PROGRESS HIGH SCHOOL FOR PROFESSIONAL CAREERS",
          "SCHOOL FOR LEGAL STUDIES",
          "THE HIGH SCHOOL FOR ENTERPRISE, BUSINESS AND TECHNOLOGY",
          "BROOKLYN PREPARATORY HIGH SCHOOL",
          "WILLIAMSBURG HIGH SCHOOL FOR ARCHITECTURE AND DESIGN",
          "WILLIAMSBURG PREPARATORY SCHOOL",
          "LYONS COMMUNITY SCHOOL",
          "AUTOMOTIVE HIGH SCHOOL",
          "FRANCES PERKINS ACADEMY",
          "EL PUENTE ACADEMY FOR PEACE AND JUSTICE",
          "BROOKLYN SCHOOL FOR GLOBAL STUDIES",
          "BROOKLYN SECONDARY SCHOOL FOR COLLABORATIVE STUDIES",
          "SECONDARY SCHOOL FOR LAW",
          "SECONDARY SCHOOL FOR JOURNALISM",
          "PARK SLOPE COLLEGIATE",
          "SCHOOL FOR INTERNATIONAL STUDIES",
          "COBBLE HILL SCHOOL OF AMERICAN STUDIES",
          "BROOKLYN HIGH SCHOOL OF THE ARTS",
          "SUNSET PARK HIGH SCHOOL",
          "FREDERICK DOUGLASS ACADEMY IV SECONDARY SCHOOL",
          "BOYS AND GIRLS HIGH SCHOOL",
          "BROOKLYN HIGH SCHOOL FOR LAW AND TECHNOLOGY",
          "THE BROOKLYN ACADEMY OF GLOBAL FINANCE",
          "ACADEMY FOR COLLEGE PREPARATION AND CAREER EXPLORATION: A COLLEGE BOARD SCHOOL",
          "ACADEMY OF HOSPITALITY AND TOURISM",
          "INTERNATIONAL HIGH SCHOOL AT PROSPECT HEIGHTS",
          "THE HIGH SCHOOL FOR GLOBAL CITIZENSHIP",
          "SCHOOL FOR HUMAN RIGHTS, THE",
          "SCHOOL FOR DEMOCRACY AND LEADERSHIP",
          "HIGH SCHOOL FOR YOUTH AND COMMUNITY DEVELOPMENT AT ERASMUS",
          "HIGH SCHOOL FOR SERVICE & LEARNING AT ERASMUS",
          "SCIENCE, TECHNOLOGY AND RESEARCH EARLY COLLEGE HIGH SCHOOL AT ERASMUS",
          "HIGH SCHOOL FOR PUBLIC SERVICE: HEROES OF TOMORROW",
          "BROOKLYN ACADEMY OF SCIENCE AND THE ENVIRONMENT",
          "BROOKLYN SCHOOL FOR MUSIC & THEATRE",
          "MEDGAR EVERS COLLEGE PREPARATORY SCHOOL",
          "CLARA BARTON HIGH SCHOOL",
          "IT TAKES A VILLAGE ACADEMY",
          "BROOKLYN GENERATION SCHOOL",
          "BROOKLYN THEATRE ARTS HIGH SCHOOL",
          "KURT HAHN EXPEDITIONARY LEARNING SCHOOL",
          "VICTORY COLLEGIATE HIGH SCHOOL",
          "ARTS & MEDIA PREPARATORY ACADEMY",
          "HIGH SCHOOL FOR INNOVATION IN ADVERTISING AND MEDIA",
          "CULTURAL ACADEMY FOR THE ARTS AND SCIENCES",
          "HIGH SCHOOL FOR MEDICAL PROFESSIONS",
          "ACADEMY FOR CONSERVATION AND THE ENVIRONMENT",
          "URBAN ACTION ACADEMY",
          "EAST NEW YORK FAMILY ACADEMY",
          "FDNY HIGH SCHOOL FOR FIRE AND LIFE SAFETY",
          "HIGH SCHOOL FOR CIVIL RIGHTS",
          "PERFORMING ARTS AND TECHNOLOGY HIGH SCHOOL",
          "WORLD ACADEMY FOR TOTAL COMMUNITY HEALTH HIGH SCHOOL",
          "MULTICULTURAL HIGH SCHOOL",
          "TRANSIT TECH CAREER AND TECHNICAL EDUCATION HIGH SCHOOL",
          "ACADEMY OF INNOVATIVE TECHNOLOGY",
          "BROOKLYN LAB SCHOOL",
          "CYPRESS HILLS COLLEGIATE PREPARATORY SCHOOL",
          "W. H. MAXWELL CAREER AND TECHNICAL EDUCATION HIGH SCHOOL",
          "THE SCHOOL FOR CLASSICS: AN ACADEMY OF THINKERS, WRITERS AND PERFORMERS",
          "NEW UTRECHT HIGH SCHOOL",
          "HIGH SCHOOL OF TELECOMMUNICATION ARTS AND TECHNOLOGY",
          "FORT HAMILTON HIGH SCHOOL",
          "FRANKLIN DELANO ROOSEVELT HIGH SCHOOL",
          "THE URBAN ASSEMBLY SCHOOL FOR CRIMINAL JUSTICE",
          "INTERNATIONAL HIGH SCHOOL AT LAFAYETTE",
          "RACHEL CARSON HIGH SCHOOL FOR COASTAL STUDIES",
          "HIGH SCHOOL OF SPORTS MANAGEMENT",
          "ABRAHAM LINCOLN HIGH SCHOOL",
          "KINGSBOROUGH EARLY COLLEGE SCHOOL",
          "EDWARD R. MURROW HIGH SCHOOL",
          "JOHN DEWEY HIGH SCHOOL",
          "LIFE ACADEMY HIGH SCHOOL FOR FILM AND MUSIC",
          "EXPEDITIONARY LEARNING SCHOOL FOR COMMUNITY LEADERS",
          "WILLIAM E. GRADY CAREER AND TECHNICAL EDUCATION HIGH SCHOOL",
          "BROOKLYN STUDIO SECONDARY SCHOOL",
          "MIDWOOD HIGH SCHOOL",
          "JAMES MADISON HIGH SCHOOL",
          "LEON M. GOLDSTEIN HIGH SCHOOL FOR THE SCIENCES",
          "BROOKLYN COLLEGE ACADEMY",
          "BROOKLYN COLLEGIATE: A COLLEGE BOARD SCHOOL",
          "FREDERICK DOUGLASS ACADEMY VII HIGH SCHOOL",
          "TEACHERS PREPARATORY HIGH SCHOOL",
          "ACADEMY OF FINANCE AND ENTERPRISE",
          "HIGH SCHOOL OF APPLIED COMMUNICATION",
          "CIVIC LEADERSHIP ACADEMY",
          "PAN AMERICAN INTERNATIONAL HIGH SCHOOL",
          "BARD HIGH SCHOOL EARLY COLLEGE II",
          "NEWTOWN HIGH SCHOOL",
          "GROVER CLEVELAND HIGH SCHOOL",
          "MIDDLE COLLEGE HIGH SCHOOL AT LAGUARDIA COMMUNITY COLLEGE",
          "INTERNATIONAL HIGH SCHOOL AT LAGUARDIA COMMUNITY COLLEGE",
          "HIGH SCHOOL FOR ARTS AND BUSINESS",
          "ROBERT F. WAGNER, JR. SECONDARY SCHOOL FOR ARTS AND TECHNOLOGY",
          "QUEENS VOCATIONAL AND TECHNICAL HIGH SCHOOL",
          "AVIATION CAREER & TECHNICAL EDUCATION HIGH SCHOOL",
          "QUEENS SCHOOL OF INQUIRY, THE",
          "FLUSHING INTERNATIONAL HIGH SCHOOL",
          "EASTsWEST SCHOOL OF INTERNATIONAL STUDIES",
          "WORLD JOURNALISM PREPARATORY: A COLLEGE BOARD SCHOOL",
          "JOHN BOWNE HIGH SCHOOL",
          "FLUSHING HIGH SCHOOL",
          "TOWNSEND HARRIS HIGH SCHOOL",
          "ROBERT F. KENNEDY COMMUNITY HIGH SCHOOL",
          "BENJAMIN N. CARDOZO HIGH SCHOOL",
          "FRANCIS LEWIS HIGH SCHOOL",
          "MARTIN VAN BUREN HIGH SCHOOL",
          "BAYSIDE HIGH SCHOOL",
          "QUEENS HIGH SCHOOL OF TEACHING, LIBERAL ARTS AND THE SCIENCES",
          "FREDERICK DOUGLASS ACADEMY VI HIGH SCHOOL",
          "CHANNEL VIEW SCHOOL FOR RESEARCH",
          "QUEENS HIGH SCHOOL FOR INFORMATION, RESEARCH, AND TECHNOLOGY",
          "ROBERT H. GODDARD HIGH SCHOOL OF COMMUNICATION ARTS AND TECHNOLOGY",
          "ACADEMY OF MEDICAL TECHNOLOGY: A COLLEGE BOARD SCHOOL",
          "SCHOLARS' ACADEMY",
          "AUGUST MARTIN HIGH SCHOOL",
          "RICHMOND HILL HIGH SCHOOL",
          "JOHN ADAMS HIGH SCHOOL",
          "HIGH SCHOOL FOR CONSTRUCTION TRADES, ENGINEERING AND ARCHITECTURE",
          "YORK EARLY COLLEGE ACADEMY",
          "QUEENS COLLEGIATE: A COLLEGE BOARD SCHOOL",
          "HILLSIDE ARTS & LETTERS ACADEMY",
          "FOREST HILLS HIGH SCHOOL",
          "HILLCREST HIGH SCHOOL",
          "THOMAS A. EDISON CAREER AND TECHNICAL EDUCATION HIGH SCHOOL",
          "QUEENS GATEWAY TO HEALTH SCIENCES SECONDARY SCHOOL",
          "QUEENS METROPOLITAN HIGH SCHOOL",
          "QUEENS HIGH SCHOOL FOR THE SCIENCES AT YORK COLLEGE",
          "HIGH SCHOOL FOR LAW ENFORCEMENT AND PUBLIC SAFETY",
          "YOUNG WOMEN'S LEADERSHIP SCHOOL, QUEENS",
          "QUEENS PREPARATORY ACADEMY",
          "PATHWAYS COLLEGE PREPARATORY SCHOOL: A COLLEGE BOARD SCHOOL",
          "EXCELSIOR PREPARATORY HIGH SCHOOL",
          "GEORGE WASHINGTON CARVER HIGH SCHOOL FOR THE SCIENCES",
          "PREPARATORY ACADEMY FOR WRITERS: A COLLEGE BOARD SCHOOL",
          "CAMBRIA HEIGHTS ACADEMY",
          "MATHEMATICS, SCIENCE RESEARCH AND TECHNOLOGY MAGNET HIGH SCHOOL",
          "HUMANITIES & ARTS MAGNET HIGH SCHOOL",
          "YOUNG WOMEN'S LEADERSHIP SCHOOL, ASTORIA",
          "ACADEMY FOR CAREERS IN TELEVISION AND FILM",
          "WILLIAM CULLEN BRYANT HIGH SCHOOL",
          "LONG ISLAND CITY HIGH SCHOOL",
          "FRANK SINATRA SCHOOL OF THE ARTS HIGH SCHOOL",
          "INFORMATION TECHNOLOGY HIGH SCHOOL",
          "NEWCOMERS HIGH SCHOOL",
          "ACADEMY OF AMERICAN STUDIES",
          "BACCALAUREATE SCHOOL FOR GLOBAL EDUCATION",
          "CSI HIGH SCHOOL FOR INTERNATIONAL STUDIES",
          "GAYNOR MCCOWN EXPEDITIONARY LEARNING SCHOOL",
          "THE MICHAEL J. PETRIDES SCHOOL",
          "NEW DORP HIGH SCHOOL",
          "PORT RICHMOND HIGH SCHOOL",
          "CURTIS HIGH SCHOOL",
          "TOTTENVILLE HIGH SCHOOL",
          "SUSAN E. WAGNER HIGH SCHOOL",
          "RALPH R. MCKEE CAREER AND TECHNICAL EDUCATION HIGH SCHOOL",
          "STATEN ISLAND TECHNICAL HIGH SCHOOL",
          "ACADEMY FOR ENVIRONMENTAL LEADERSHIP",
          "EBC HIGH SCHOOL FOR PUBLIC SERVICE–BUSHWICK",
          "BUSHWICK SCHOOL FOR SOCIAL JUSTICE",
          "ACADEMY OF URBAN PLANNING",
          "ALL CITY LEADERSHIP SECONDARY SCHOOL",
          "BUSHWICK LEADERS HIGH SCHOOL FOR ACADEMIC EXCELLENCE"
         ],
         "type": "scatter",
         "x": [
          53.8,
          45.9,
          55.4,
          56.9,
          14.2,
          18.2,
          59.2,
          47.6,
          60.6,
          66.1,
          42,
          59.2,
          73.2,
          50.6,
          55.7,
          48.4,
          45.1,
          43,
          58.7,
          57.2,
          32.8,
          57.2,
          23.7,
          14.6,
          14,
          39.9,
          11.6,
          21.7,
          74.8,
          49.7,
          54.2,
          84.6,
          62.4,
          43.2,
          71.8,
          59,
          36.9,
          2.4,
          43.5,
          55.3,
          39.3,
          46.6,
          69.9,
          42.4,
          99.8,
          62.2,
          4,
          49.3,
          59.3,
          52.3,
          57.8,
          60.5,
          51,
          64.3,
          58.9,
          56,
          76,
          62.6,
          38.8,
          37,
          22.8,
          16.6,
          48.1,
          57.2,
          41.5,
          18.9,
          58.7,
          57.4,
          59.6,
          64.5,
          60.1,
          60.1,
          69.4,
          63.8,
          48.5,
          38.1,
          38.2,
          22.8,
          20.9,
          21.2,
          92,
          93.8,
          96.7,
          72.5,
          91.4,
          87.1,
          84.4,
          83.8,
          62.3,
          99.8,
          68.8,
          71.8,
          65.5,
          76,
          78.1,
          72.7,
          68.8,
          56,
          68.1,
          70.4,
          64.3,
          61.5,
          56.9,
          74.8,
          46.4,
          63.8,
          69.9,
          64.3,
          56.8,
          66,
          60.6,
          83.2,
          76,
          65.4,
          69.3,
          33.8,
          63.4,
          58.1,
          73.7,
          68.7,
          63.8,
          63.5,
          73.1,
          64.5,
          69.9,
          99.4,
          72.2,
          64.5,
          59.9,
          57.8,
          66.2,
          41.4,
          57,
          62.5,
          53,
          64.2,
          69.7,
          57.4,
          69.5,
          84.7,
          65.2,
          99.8,
          81.9,
          59.9,
          70.4,
          65.6,
          61.5,
          67.8,
          64.6,
          59.6,
          69.5,
          7.2,
          57.9,
          69,
          75.6,
          18,
          36.3,
          47.6,
          57.3,
          32,
          59.5,
          46.8,
          41.2,
          46,
          62.3,
          43.8,
          70.4,
          37.3,
          49.7,
          59.9,
          72.6,
          72.9,
          65.5,
          73.2,
          68.3,
          53.7,
          99.8,
          65,
          59.8,
          84.6,
          68.8,
          42.2,
          77.5,
          24.6,
          22.7,
          17.1,
          12.2,
          7.9,
          28.6,
          17.1,
          12.2,
          11.7,
          7.1,
          15.3,
          8.8,
          26.3,
          80.6,
          29.8,
          17.9,
          46.9,
          65.4,
          39.3,
          55.4,
          37.7,
          57.2,
          61.5,
          54.6,
          30.2,
          31.2,
          87.6,
          39,
          48.1,
          29.6,
          43.2,
          51.8,
          38.9,
          21,
          19,
          80.8,
          14.1,
          7.8,
          24.9,
          20.8,
          6.7,
          12.9,
          27.9,
          7.3,
          8.3,
          8.4,
          9.1,
          9,
          9.4,
          12.2,
          14.2,
          15.3,
          2.8,
          5.8,
          4.5,
          8.5,
          12.8,
          8.8,
          5.8,
          9.6,
          10.6,
          11.4,
          12.4,
          12,
          10.5,
          30.3,
          23.4,
          22.2,
          17.4,
          14.2,
          99.8,
          23.2,
          50.2,
          65,
          73.2,
          25.4,
          34.7,
          28,
          54.1,
          30.2,
          27.3,
          21.9,
          21,
          25.8,
          23,
          20.1,
          22.7,
          17.6,
          19.1,
          29.9,
          41.2,
          14,
          23.1,
          11.7,
          14.5,
          10.8,
          12.4,
          8.3,
          10.4,
          13.1,
          56.4,
          57.2,
          79.3,
          100,
          21.2,
          60.3,
          63.5,
          71.4,
          44,
          79.2,
          62.4,
          74.2,
          55.3,
          24.2,
          32.7,
          17.9,
          20.3,
          40.7,
          49.8,
          12.9,
          35.4,
          18.6,
          24.1,
          15.1,
          22.3,
          16.8,
          27,
          27.5,
          30,
          42.6,
          34.2,
          15.9,
          11.5,
          46.4,
          37.1,
          41.6,
          10.2,
          18.5,
          21,
          30.2,
          22.8,
          21.1,
          15.7,
          38.6,
          7.9,
          15.1,
          18.4,
          8.2,
          2.9,
          9.7,
          14.1,
          10.4,
          7.5,
          11.9,
          8.5,
          40.4,
          53.5,
          48.8,
          62.7,
          27.2,
          56.6,
          43.5,
          34.7,
          24.3,
          17.9,
          17.6,
          16.9,
          27.3,
          37.6,
          31.9,
          9.9,
          24.1,
          33.2,
          5.3,
          77.1,
          88.1,
          68.7,
          70.4,
          79.5,
          77.3
         ],
         "y": [
          1122,
          1172,
          1149,
          1207,
          1621,
          1856,
          1182,
          1194,
          1156,
          1111,
          1293,
          1269,
          1051,
          1148,
          1200,
          1127,
          1176,
          1435,
          1223.4388059701494,
          1223.4388059701494,
          1223.4388059701494,
          1419,
          1522,
          1577,
          1677,
          1419,
          1758,
          1614,
          1170,
          1306,
          1233,
          1223.4388059701494,
          1223.4388059701494,
          1223.4388059701494,
          1372,
          1199,
          1227,
          2096,
          1374,
          1070,
          1416,
          1240,
          1239,
          1253,
          1058,
          1168,
          1424,
          1212,
          1195,
          1257,
          1255,
          1207,
          1315,
          1236,
          1132,
          1144,
          1223.4388059701494,
          1223.4388059701494,
          1109,
          1223.4388059701494,
          1744,
          1707,
          1196,
          1277,
          1446,
          1096,
          1084,
          1430,
          1128,
          1221,
          1326,
          1326,
          1054,
          1210,
          1223.4388059701494,
          1062,
          1077,
          1374,
          1202,
          1847,
          1270,
          1105,
          1174,
          1223.4388059701494,
          1127,
          1098,
          1102,
          1224,
          1309,
          1014,
          1090,
          945,
          1077,
          1097,
          1201,
          1257,
          1186,
          1103,
          1084,
          1181,
          1201,
          1158,
          1095,
          1223.4388059701494,
          1171,
          1158,
          1038,
          1164,
          1084,
          1223.4388059701494,
          1241,
          1223.4388059701494,
          1099,
          1131,
          1049,
          1134,
          1290,
          1169,
          1092,
          1396,
          1075,
          1081,
          1148,
          1223.4388059701494,
          1138,
          951,
          965,
          1074,
          1083,
          1221,
          1224,
          1121,
          1166,
          1039,
          1333,
          1150,
          1190,
          1157,
          1158,
          962,
          1182,
          934,
          1181,
          1180,
          1106,
          1222,
          1077,
          1119,
          1082,
          1255,
          1270,
          1969,
          1263,
          1064,
          1115,
          1920,
          1133,
          1147,
          1135,
          1141,
          1111,
          1348,
          1135,
          1169,
          1268,
          1151,
          1048,
          1112,
          1288,
          1126,
          1163,
          1055,
          1122,
          1251,
          1102,
          1155,
          970,
          1223.4388059701494,
          1223.4388059701494,
          939,
          1029,
          1114,
          1038,
          1074,
          1080,
          1114,
          1211,
          1833,
          981,
          1206,
          1116,
          1223.4388059701494,
          1312,
          1189,
          1391,
          1353,
          1085,
          1223.4388059701494,
          1740,
          1189,
          1114,
          1204,
          1215,
          1090,
          1112,
          1187,
          1103,
          1093,
          1122,
          1035,
          1111,
          1179,
          1203,
          1169,
          1175,
          1212,
          1185,
          1258,
          1223.4388059701494,
          1068,
          1097,
          1092,
          1223.4388059701494,
          1139,
          1045,
          913,
          1176,
          1088,
          1153,
          1027,
          1105,
          1360,
          1273,
          1143,
          1151,
          1436,
          1251,
          963,
          1145,
          1118,
          1092,
          1143,
          1080,
          1183,
          1169,
          1159,
          1111,
          1135,
          1242,
          1023,
          1054,
          1149,
          1106,
          887,
          1193,
          1096,
          1108,
          1129,
          1102,
          1157,
          1272,
          1323,
          1306,
          1244,
          1223.4388059701494,
          1026,
          1237,
          1164,
          1226,
          1223.4388059701494,
          1431,
          1262,
          1124,
          1079,
          1184,
          1313,
          1473,
          1350,
          1627,
          1352,
          1185,
          1091,
          1196,
          1280,
          1219,
          1240,
          951,
          1663,
          1203,
          1211,
          1177,
          1064,
          1174,
          1330,
          1270,
          1364,
          1396,
          1049,
          1271,
          1441,
          1243,
          1216,
          1910,
          1330,
          1514,
          1474,
          1172,
          1449,
          1279,
          1145,
          1252,
          1156,
          1265,
          1094,
          1532,
          1108,
          1154,
          1192,
          1345,
          1223.4388059701494,
          1265,
          1223.4388059701494,
          1407,
          1194,
          1372,
          1538,
          1223.4388059701494,
          1868,
          1196,
          1316,
          1099,
          1173,
          1202,
          1287,
          1100,
          1223.4388059701494,
          1220,
          1151,
          1223.4388059701494,
          1255,
          1275,
          1218,
          1494,
          1239,
          1127,
          1470,
          1636,
          1353,
          1195,
          1426,
          1277,
          1279,
          1301,
          1418,
          1388,
          1235,
          1953,
          1098,
          1154,
          1035,
          1060,
          1315,
          1055
         ]
        }
       ],
       "layout": {
        "shapes": [
         {
          "line": {
           "color": "grey",
           "dash": "dashdot",
           "width": 1
          },
          "type": "line",
          "x0": -10,
          "x1": 110,
          "y0": 1223.438805970149,
          "y1": 1223.438805970149
         },
         {
          "line": {
           "color": "grey",
           "dash": "dashdot",
           "width": 1
          },
          "type": "line",
          "x0": 44.06831955922865,
          "x1": 44.06831955922865,
          "y0": 800,
          "y1": 2240
         }
        ],
        "template": {
         "data": {
          "bar": [
           {
            "error_x": {
             "color": "#2a3f5f"
            },
            "error_y": {
             "color": "#2a3f5f"
            },
            "marker": {
             "line": {
              "color": "#E5ECF6",
              "width": 0.5
             }
            },
            "type": "bar"
           }
          ],
          "barpolar": [
           {
            "marker": {
             "line": {
              "color": "#E5ECF6",
              "width": 0.5
             }
            },
            "type": "barpolar"
           }
          ],
          "carpet": [
           {
            "aaxis": {
             "endlinecolor": "#2a3f5f",
             "gridcolor": "white",
             "linecolor": "white",
             "minorgridcolor": "white",
             "startlinecolor": "#2a3f5f"
            },
            "baxis": {
             "endlinecolor": "#2a3f5f",
             "gridcolor": "white",
             "linecolor": "white",
             "minorgridcolor": "white",
             "startlinecolor": "#2a3f5f"
            },
            "type": "carpet"
           }
          ],
          "choropleth": [
           {
            "colorbar": {
             "outlinewidth": 0,
             "ticks": ""
            },
            "type": "choropleth"
           }
          ],
          "contour": [
           {
            "colorbar": {
             "outlinewidth": 0,
             "ticks": ""
            },
            "colorscale": [
             [
              0,
              "#0d0887"
             ],
             [
              0.1111111111111111,
              "#46039f"
             ],
             [
              0.2222222222222222,
              "#7201a8"
             ],
             [
              0.3333333333333333,
              "#9c179e"
             ],
             [
              0.4444444444444444,
              "#bd3786"
             ],
             [
              0.5555555555555556,
              "#d8576b"
             ],
             [
              0.6666666666666666,
              "#ed7953"
             ],
             [
              0.7777777777777778,
              "#fb9f3a"
             ],
             [
              0.8888888888888888,
              "#fdca26"
             ],
             [
              1,
              "#f0f921"
             ]
            ],
            "type": "contour"
           }
          ],
          "contourcarpet": [
           {
            "colorbar": {
             "outlinewidth": 0,
             "ticks": ""
            },
            "type": "contourcarpet"
           }
          ],
          "heatmap": [
           {
            "colorbar": {
             "outlinewidth": 0,
             "ticks": ""
            },
            "colorscale": [
             [
              0,
              "#0d0887"
             ],
             [
              0.1111111111111111,
              "#46039f"
             ],
             [
              0.2222222222222222,
              "#7201a8"
             ],
             [
              0.3333333333333333,
              "#9c179e"
             ],
             [
              0.4444444444444444,
              "#bd3786"
             ],
             [
              0.5555555555555556,
              "#d8576b"
             ],
             [
              0.6666666666666666,
              "#ed7953"
             ],
             [
              0.7777777777777778,
              "#fb9f3a"
             ],
             [
              0.8888888888888888,
              "#fdca26"
             ],
             [
              1,
              "#f0f921"
             ]
            ],
            "type": "heatmap"
           }
          ],
          "heatmapgl": [
           {
            "colorbar": {
             "outlinewidth": 0,
             "ticks": ""
            },
            "colorscale": [
             [
              0,
              "#0d0887"
             ],
             [
              0.1111111111111111,
              "#46039f"
             ],
             [
              0.2222222222222222,
              "#7201a8"
             ],
             [
              0.3333333333333333,
              "#9c179e"
             ],
             [
              0.4444444444444444,
              "#bd3786"
             ],
             [
              0.5555555555555556,
              "#d8576b"
             ],
             [
              0.6666666666666666,
              "#ed7953"
             ],
             [
              0.7777777777777778,
              "#fb9f3a"
             ],
             [
              0.8888888888888888,
              "#fdca26"
             ],
             [
              1,
              "#f0f921"
             ]
            ],
            "type": "heatmapgl"
           }
          ],
          "histogram": [
           {
            "marker": {
             "colorbar": {
              "outlinewidth": 0,
              "ticks": ""
             }
            },
            "type": "histogram"
           }
          ],
          "histogram2d": [
           {
            "colorbar": {
             "outlinewidth": 0,
             "ticks": ""
            },
            "colorscale": [
             [
              0,
              "#0d0887"
             ],
             [
              0.1111111111111111,
              "#46039f"
             ],
             [
              0.2222222222222222,
              "#7201a8"
             ],
             [
              0.3333333333333333,
              "#9c179e"
             ],
             [
              0.4444444444444444,
              "#bd3786"
             ],
             [
              0.5555555555555556,
              "#d8576b"
             ],
             [
              0.6666666666666666,
              "#ed7953"
             ],
             [
              0.7777777777777778,
              "#fb9f3a"
             ],
             [
              0.8888888888888888,
              "#fdca26"
             ],
             [
              1,
              "#f0f921"
             ]
            ],
            "type": "histogram2d"
           }
          ],
          "histogram2dcontour": [
           {
            "colorbar": {
             "outlinewidth": 0,
             "ticks": ""
            },
            "colorscale": [
             [
              0,
              "#0d0887"
             ],
             [
              0.1111111111111111,
              "#46039f"
             ],
             [
              0.2222222222222222,
              "#7201a8"
             ],
             [
              0.3333333333333333,
              "#9c179e"
             ],
             [
              0.4444444444444444,
              "#bd3786"
             ],
             [
              0.5555555555555556,
              "#d8576b"
             ],
             [
              0.6666666666666666,
              "#ed7953"
             ],
             [
              0.7777777777777778,
              "#fb9f3a"
             ],
             [
              0.8888888888888888,
              "#fdca26"
             ],
             [
              1,
              "#f0f921"
             ]
            ],
            "type": "histogram2dcontour"
           }
          ],
          "mesh3d": [
           {
            "colorbar": {
             "outlinewidth": 0,
             "ticks": ""
            },
            "type": "mesh3d"
           }
          ],
          "parcoords": [
           {
            "line": {
             "colorbar": {
              "outlinewidth": 0,
              "ticks": ""
             }
            },
            "type": "parcoords"
           }
          ],
          "pie": [
           {
            "automargin": true,
            "type": "pie"
           }
          ],
          "scatter": [
           {
            "marker": {
             "colorbar": {
              "outlinewidth": 0,
              "ticks": ""
             }
            },
            "type": "scatter"
           }
          ],
          "scatter3d": [
           {
            "line": {
             "colorbar": {
              "outlinewidth": 0,
              "ticks": ""
             }
            },
            "marker": {
             "colorbar": {
              "outlinewidth": 0,
              "ticks": ""
             }
            },
            "type": "scatter3d"
           }
          ],
          "scattercarpet": [
           {
            "marker": {
             "colorbar": {
              "outlinewidth": 0,
              "ticks": ""
             }
            },
            "type": "scattercarpet"
           }
          ],
          "scattergeo": [
           {
            "marker": {
             "colorbar": {
              "outlinewidth": 0,
              "ticks": ""
             }
            },
            "type": "scattergeo"
           }
          ],
          "scattergl": [
           {
            "marker": {
             "colorbar": {
              "outlinewidth": 0,
              "ticks": ""
             }
            },
            "type": "scattergl"
           }
          ],
          "scattermapbox": [
           {
            "marker": {
             "colorbar": {
              "outlinewidth": 0,
              "ticks": ""
             }
            },
            "type": "scattermapbox"
           }
          ],
          "scatterpolar": [
           {
            "marker": {
             "colorbar": {
              "outlinewidth": 0,
              "ticks": ""
             }
            },
            "type": "scatterpolar"
           }
          ],
          "scatterpolargl": [
           {
            "marker": {
             "colorbar": {
              "outlinewidth": 0,
              "ticks": ""
             }
            },
            "type": "scatterpolargl"
           }
          ],
          "scatterternary": [
           {
            "marker": {
             "colorbar": {
              "outlinewidth": 0,
              "ticks": ""
             }
            },
            "type": "scatterternary"
           }
          ],
          "surface": [
           {
            "colorbar": {
             "outlinewidth": 0,
             "ticks": ""
            },
            "colorscale": [
             [
              0,
              "#0d0887"
             ],
             [
              0.1111111111111111,
              "#46039f"
             ],
             [
              0.2222222222222222,
              "#7201a8"
             ],
             [
              0.3333333333333333,
              "#9c179e"
             ],
             [
              0.4444444444444444,
              "#bd3786"
             ],
             [
              0.5555555555555556,
              "#d8576b"
             ],
             [
              0.6666666666666666,
              "#ed7953"
             ],
             [
              0.7777777777777778,
              "#fb9f3a"
             ],
             [
              0.8888888888888888,
              "#fdca26"
             ],
             [
              1,
              "#f0f921"
             ]
            ],
            "type": "surface"
           }
          ],
          "table": [
           {
            "cells": {
             "fill": {
              "color": "#EBF0F8"
             },
             "line": {
              "color": "white"
             }
            },
            "header": {
             "fill": {
              "color": "#C8D4E3"
             },
             "line": {
              "color": "white"
             }
            },
            "type": "table"
           }
          ]
         },
         "layout": {
          "annotationdefaults": {
           "arrowcolor": "#2a3f5f",
           "arrowhead": 0,
           "arrowwidth": 1
          },
          "coloraxis": {
           "colorbar": {
            "outlinewidth": 0,
            "ticks": ""
           }
          },
          "colorscale": {
           "diverging": [
            [
             0,
             "#8e0152"
            ],
            [
             0.1,
             "#c51b7d"
            ],
            [
             0.2,
             "#de77ae"
            ],
            [
             0.3,
             "#f1b6da"
            ],
            [
             0.4,
             "#fde0ef"
            ],
            [
             0.5,
             "#f7f7f7"
            ],
            [
             0.6,
             "#e6f5d0"
            ],
            [
             0.7,
             "#b8e186"
            ],
            [
             0.8,
             "#7fbc41"
            ],
            [
             0.9,
             "#4d9221"
            ],
            [
             1,
             "#276419"
            ]
           ],
           "sequential": [
            [
             0,
             "#0d0887"
            ],
            [
             0.1111111111111111,
             "#46039f"
            ],
            [
             0.2222222222222222,
             "#7201a8"
            ],
            [
             0.3333333333333333,
             "#9c179e"
            ],
            [
             0.4444444444444444,
             "#bd3786"
            ],
            [
             0.5555555555555556,
             "#d8576b"
            ],
            [
             0.6666666666666666,
             "#ed7953"
            ],
            [
             0.7777777777777778,
             "#fb9f3a"
            ],
            [
             0.8888888888888888,
             "#fdca26"
            ],
            [
             1,
             "#f0f921"
            ]
           ],
           "sequentialminus": [
            [
             0,
             "#0d0887"
            ],
            [
             0.1111111111111111,
             "#46039f"
            ],
            [
             0.2222222222222222,
             "#7201a8"
            ],
            [
             0.3333333333333333,
             "#9c179e"
            ],
            [
             0.4444444444444444,
             "#bd3786"
            ],
            [
             0.5555555555555556,
             "#d8576b"
            ],
            [
             0.6666666666666666,
             "#ed7953"
            ],
            [
             0.7777777777777778,
             "#fb9f3a"
            ],
            [
             0.8888888888888888,
             "#fdca26"
            ],
            [
             1,
             "#f0f921"
            ]
           ]
          },
          "colorway": [
           "#636efa",
           "#EF553B",
           "#00cc96",
           "#ab63fa",
           "#FFA15A",
           "#19d3f3",
           "#FF6692",
           "#B6E880",
           "#FF97FF",
           "#FECB52"
          ],
          "font": {
           "color": "#2a3f5f"
          },
          "geo": {
           "bgcolor": "white",
           "lakecolor": "white",
           "landcolor": "#E5ECF6",
           "showlakes": true,
           "showland": true,
           "subunitcolor": "white"
          },
          "hoverlabel": {
           "align": "left"
          },
          "hovermode": "closest",
          "mapbox": {
           "style": "light"
          },
          "paper_bgcolor": "white",
          "plot_bgcolor": "#E5ECF6",
          "polar": {
           "angularaxis": {
            "gridcolor": "white",
            "linecolor": "white",
            "ticks": ""
           },
           "bgcolor": "#E5ECF6",
           "radialaxis": {
            "gridcolor": "white",
            "linecolor": "white",
            "ticks": ""
           }
          },
          "scene": {
           "xaxis": {
            "backgroundcolor": "#E5ECF6",
            "gridcolor": "white",
            "gridwidth": 2,
            "linecolor": "white",
            "showbackground": true,
            "ticks": "",
            "zerolinecolor": "white"
           },
           "yaxis": {
            "backgroundcolor": "#E5ECF6",
            "gridcolor": "white",
            "gridwidth": 2,
            "linecolor": "white",
            "showbackground": true,
            "ticks": "",
            "zerolinecolor": "white"
           },
           "zaxis": {
            "backgroundcolor": "#E5ECF6",
            "gridcolor": "white",
            "gridwidth": 2,
            "linecolor": "white",
            "showbackground": true,
            "ticks": "",
            "zerolinecolor": "white"
           }
          },
          "shapedefaults": {
           "line": {
            "color": "#2a3f5f"
           }
          },
          "ternary": {
           "aaxis": {
            "gridcolor": "white",
            "linecolor": "white",
            "ticks": ""
           },
           "baxis": {
            "gridcolor": "white",
            "linecolor": "white",
            "ticks": ""
           },
           "bgcolor": "#E5ECF6",
           "caxis": {
            "gridcolor": "white",
            "linecolor": "white",
            "ticks": ""
           }
          },
          "title": {
           "x": 0.05
          },
          "xaxis": {
           "automargin": true,
           "gridcolor": "white",
           "linecolor": "white",
           "ticks": "",
           "title": {
            "standoff": 15
           },
           "zerolinecolor": "white",
           "zerolinewidth": 2
          },
          "yaxis": {
           "automargin": true,
           "gridcolor": "white",
           "linecolor": "white",
           "ticks": "",
           "title": {
            "standoff": 15
           },
           "zerolinecolor": "white",
           "zerolinewidth": 2
          }
         }
        },
        "title": {
         "text": "The NYC schools: <br>SAT score VS share of Hispanics"
        },
        "xaxis": {
         "title": {
          "text": "Percentage of Hispanic students"
         }
        },
        "yaxis": {
         "title": {
          "text": "SAT score"
         }
        }
       }
      },
      "text/html": [
       "<div>\n",
       "        \n",
       "        \n",
       "            <div id=\"7fb8dea9-1f4a-4fa0-9252-c7f3bb499a6b\" class=\"plotly-graph-div\" style=\"height:525px; width:100%;\"></div>\n",
       "            <script type=\"text/javascript\">\n",
       "                require([\"plotly\"], function(Plotly) {\n",
       "                    window.PLOTLYENV=window.PLOTLYENV || {};\n",
       "                    \n",
       "                if (document.getElementById(\"7fb8dea9-1f4a-4fa0-9252-c7f3bb499a6b\")) {\n",
       "                    Plotly.newPlot(\n",
       "                        '7fb8dea9-1f4a-4fa0-9252-c7f3bb499a6b',\n",
       "                        [{\"marker\": {\"color\": [53.8, 45.9, 55.4, 56.9, 14.2, 18.2, 59.2, 47.6, 60.6, 66.1, 42.0, 59.2, 73.2, 50.6, 55.7, 48.4, 45.1, 43.0, 58.7, 57.2, 32.8, 57.2, 23.7, 14.6, 14.0, 39.9, 11.6, 21.7, 74.8, 49.7, 54.2, 84.6, 62.4, 43.2, 71.8, 59.0, 36.9, 2.4, 43.5, 55.3, 39.3, 46.6, 69.9, 42.4, 99.8, 62.2, 4.0, 49.3, 59.3, 52.3, 57.8, 60.5, 51.0, 64.3, 58.9, 56.0, 76.0, 62.6, 38.8, 37.0, 22.8, 16.6, 48.1, 57.2, 41.5, 18.9, 58.7, 57.4, 59.6, 64.5, 60.1, 60.1, 69.4, 63.8, 48.5, 38.1, 38.2, 22.8, 20.9, 21.2, 92.0, 93.8, 96.7, 72.5, 91.4, 87.1, 84.4, 83.8, 62.3, 99.8, 68.8, 71.8, 65.5, 76.0, 78.1, 72.7, 68.8, 56.0, 68.1, 70.4, 64.3, 61.5, 56.9, 74.8, 46.4, 63.8, 69.9, 64.3, 56.8, 66.0, 60.6, 83.2, 76.0, 65.4, 69.3, 33.8, 63.4, 58.1, 73.7, 68.7, 63.8, 63.5, 73.1, 64.5, 69.9, 99.4, 72.2, 64.5, 59.9, 57.8, 66.2, 41.4, 57.0, 62.5, 53.0, 64.2, 69.7, 57.4, 69.5, 84.7, 65.2, 99.8, 81.9, 59.9, 70.4, 65.6, 61.5, 67.8, 64.6, 59.6, 69.5, 7.2, 57.9, 69.0, 75.6, 18.0, 36.3, 47.6, 57.3, 32.0, 59.5, 46.8, 41.2, 46.0, 62.3, 43.8, 70.4, 37.3, 49.7, 59.9, 72.6, 72.9, 65.5, 73.2, 68.3, 53.7, 99.8, 65.0, 59.8, 84.6, 68.8, 42.2, 77.5, 24.6, 22.7, 17.1, 12.2, 7.9, 28.6, 17.1, 12.2, 11.7, 7.1, 15.3, 8.8, 26.3, 80.6, 29.8, 17.9, 46.9, 65.4, 39.3, 55.4, 37.7, 57.2, 61.5, 54.6, 30.2, 31.2, 87.6, 39.0, 48.1, 29.6, 43.2, 51.8, 38.9, 21.0, 19.0, 80.8, 14.1, 7.8, 24.9, 20.8, 6.7, 12.9, 27.9, 7.3, 8.3, 8.4, 9.1, 9.0, 9.4, 12.2, 14.2, 15.3, 2.8, 5.8, 4.5, 8.5, 12.8, 8.8, 5.8, 9.6, 10.6, 11.4, 12.4, 12.0, 10.5, 30.3, 23.4, 22.2, 17.4, 14.2, 99.8, 23.2, 50.2, 65.0, 73.2, 25.4, 34.7, 28.0, 54.1, 30.2, 27.3, 21.9, 21.0, 25.8, 23.0, 20.1, 22.7, 17.6, 19.1, 29.9, 41.2, 14.0, 23.1, 11.7, 14.5, 10.8, 12.4, 8.3, 10.4, 13.1, 56.4, 57.2, 79.3, 100.0, 21.2, 60.3, 63.5, 71.4, 44.0, 79.2, 62.4, 74.2, 55.3, 24.2, 32.7, 17.9, 20.3, 40.7, 49.8, 12.9, 35.4, 18.6, 24.1, 15.1, 22.3, 16.8, 27.0, 27.5, 30.0, 42.6, 34.2, 15.9, 11.5, 46.4, 37.1, 41.6, 10.2, 18.5, 21.0, 30.2, 22.8, 21.1, 15.7, 38.6, 7.9, 15.1, 18.4, 8.2, 2.9, 9.7, 14.1, 10.4, 7.5, 11.9, 8.5, 40.4, 53.5, 48.8, 62.7, 27.2, 56.6, 43.5, 34.7, 24.3, 17.9, 17.6, 16.9, 27.3, 37.6, 31.9, 9.9, 24.1, 33.2, 5.3, 77.1, 88.1, 68.7, 70.4, 79.5, 77.3], \"colorscale\": [[0.0, \"#440154\"], [0.1111111111111111, \"#482878\"], [0.2222222222222222, \"#3e4989\"], [0.3333333333333333, \"#31688e\"], [0.4444444444444444, \"#26828e\"], [0.5555555555555556, \"#1f9e89\"], [0.6666666666666666, \"#35b779\"], [0.7777777777777778, \"#6ece58\"], [0.8888888888888888, \"#b5de2b\"], [1.0, \"#fde725\"]], \"showscale\": true, \"size\": [3.12, 4.96, 3.6, 3.36, 1.84, 5.56, 1.0, 4.08, 3.56, 3.0, 3.68, 3.2, 2.84, 2.44, 2.72, 2.88, 3.72, 7.754838709677419, 7.754838709677419, 7.754838709677419, 7.754838709677419, 14.08, 3.2, 4.2, 4.96, 4.24, 5.08, 6.0, 3.76, 13.64, 5.76, 7.754838709677419, 7.754838709677419, 7.754838709677419, 4.4, 3.56, 2.76, 31.48, 7.08, 2.12, 5.44, 25.48, 5.92, 1.96, 4.44, 4.04, 2.16, 3.08, 5.36, 16.64, 1.92, 6.92, 12.8, 4.72, 3.56, 4.0, 7.754838709677419, 7.754838709677419, 5.08, 7.754838709677419, 10.76, 25.84, 4.28, 5.48, 3.6, 2.16, 3.04, 15.24, 3.68, 2.52, 2.2, 2.2, 3.0, 3.84, 7.754838709677419, 7.754838709677419, 2.48, 10.36, 3.8, 4.24, 7.754838709677419, 7.754838709677419, 7.754838709677419, 7.754838709677419, 7.4, 6.44, 6.84, 6.32, 10.68, 3.64, 3.2, 0.4, 3.24, 2.76, 7.754838709677419, 2.44, 5.44, 4.08, 3.24, 3.28, 3.04, 10.68, 5.36, 7.754838709677419, 3.0, 4.68, 4.04, 4.32, 3.56, 7.754838709677419, 43.68, 7.754838709677419, 3.96, 4.32, 3.84, 4.0, 7.754838709677419, 2.4, 4.28, 4.0, 4.8, 2.68, 3.96, 7.754838709677419, 3.72, 7.754838709677419, 3.52, 4.32, 4.4, 4.12, 4.88, 3.48, 7.12, 1.88, 5.4, 2.92, 2.48, 2.68, 2.88, 4.72, 3.96, 3.32, 4.6, 0.08, 5.36, 3.84, 3.28, 5.76, 4.6, 40.52, 3.28, 26.72, 4.28, 4.32, 3.84, 3.12, 2.32, 4.72, 3.76, 2.6, 3.6, 4.84, 3.96, 4.44, 3.8, 22.6, 2.48, 2.64, 4.44, 4.72, 2.8, 4.16, 2.76, 0.08, 2.96, 3.84, 7.754838709677419, 7.754838709677419, 7.754838709677419, 2.08, 4.76, 4.64, 4.48, 3.24, 3.84, 3.12, 9.24, 43.88, 4.6, 4.36, 6.76, 7.754838709677419, 3.04, 9.84, 9.36, 7.754838709677419, 4.0, 2.4, 2.04, 3.84, 8.28, 5.84, 6.44, 3.0, 3.88, 4.32, 0.16, 9.32, 7.754838709677419, 1.64, 3.64, 3.04, 3.56, 3.76, 3.48, 2.6, 5.68, 4.0, 7.754838709677419, 2.84, 21.2, 7.754838709677419, 7.754838709677419, 2.76, 3.24, 3.36, 4.16, 2.4, 2.96, 4.0, 4.64, 3.04, 3.72, 4.4, 3.52, 6.24, 19.52, 0.16, 0.16, 0.12, 0.2, 0.12, 0.16, 7.754838709677419, 0.08, 7.754838709677419, 7.754838709677419, 7.754838709677419, 3.64, 3.48, 4.44, 4.44, 3.8, 0.12, 13.84, 0.04, 0.04, 4.24, 9.04, 7.754838709677419, 24.84, 11.88, 39.44, 34.36, 7.754838709677419, 2.84, 4.52, 2.6, 24.8, 7.754838709677419, 37.52, 24.12, 0.04, 0.12, 11.24, 5.6, 34.88, 43.04, 10.12, 4.8, 2.8, 3.68, 3.96, 3.6, 4.04, 7.754838709677419, 0.04, 2.0, 30.92, 28.12, 3.76, 4.96, 7.48, 3.8, 10.84, 14.72, 7.754838709677419, 3.44, 3.0, 3.28, 27.52, 23.52, 11.12, 6.36, 39.24, 48.36, 30.2, 36.08, 11.24, 3.8, 2.84, 0.08, 7.754838709677419, 7.754838709677419, 7.754838709677419, 11.52, 34.68, 32.32, 7.08, 7.754838709677419, 7.754838709677419, 7.754838709677419, 38.36, 30.64, 32.76, 4.68, 7.754838709677419, 4.28, 5.04, 7.754838709677419, 3.8, 2.56, 3.64, 4.12, 1.44, 7.754838709677419, 4.32, 3.76, 7.754838709677419, 7.754838709677419, 32.4, 28.72, 6.84, 10.68, 8.56, 6.2, 2.88, 3.2, 7.754838709677419, 4.52, 20.36, 20.76, 25.96, 42.76, 36.48, 7.0, 11.52, 3.96, 6.44, 3.88, 4.6, 1.72, 4.68]}, \"mode\": \"markers\", \"text\": [\"HENRY STREET SCHOOL FOR INTERNATIONAL STUDIES\", \"UNIVERSITY NEIGHBORHOOD HIGH SCHOOL\", \"EAST SIDE COMMUNITY SCHOOL\", \"MARTA VALLE HIGH SCHOOL\", \"NEW EXPLORATIONS INTO SCIENCE, TECHNOLOGY AND MATH HIGH SCHOOL\", \"BARD HIGH SCHOOL EARLY COLLEGE\", \"47 THE AMERICAN SIGN LANGUAGE AND ENGLISH SECONDARY SCHOOL\", \"FOOD AND FINANCE HIGH SCHOOL\", \"ESSEX STREET ACADEMY\", \"HIGH SCHOOL OF HOSPITALITY MANAGEMENT\", \"PACE HIGH SCHOOL\", \"URBAN ASSEMBLY SCHOOL OF DESIGN AND CONSTRUCTION, THE\", \"FACING HISTORY SCHOOL, THE\", \"URBAN ASSEMBLY ACADEMY OF GOVERNMENT AND LAW, THE\", \"LOWER MANHATTAN ARTS ACADEMY\", \"URBAN ASSEMBLY SCHOOL OF BUSINESS FOR YOUNG WOMEN, THE\", \"GRAMERCY ARTS HIGH SCHOOL\", \"NYC ISCHOOL\", \"MANHATTAN BUSINESS ACADEMY\", \"BUSINESS OF SPORTS SCHOOL\", \"THE HIGH SCHOOL FOR LANGUAGE AND DIPLOMACY\", \"HIGH SCHOOL FOR ENVIRONMENTAL STUDIES\", \"PROFESSIONAL PERFORMING ARTS HIGH SCHOOL\", \"BARUCH COLLEGE CAMPUS HIGH SCHOOL\", \"N.Y.C. LAB SCHOOL FOR COLLABORATIVE STUDIES\", \"N.Y.C. MUSEUM SCHOOL\", \"ELEANOR ROOSEVELT HIGH SCHOOL\", \"MILLENNIUM HIGH SCHOOL\", \"LANDMARK HIGH SCHOOL\", \"HIGH SCHOOL FOR HEALTH PROFESSIONS AND HUMAN SERVICES\", \"LEADERSHIP AND PUBLIC SERVICE HIGH SCHOOL\", \"MANHATTAN ACADEMY FOR ARTS & LANGUAGE\", \"HUDSON HIGH SCHOOL OF LEARNING TECHNOLOGIES\", \"INTERNATIONAL HIGH SCHOOL AT UNION SQUARE\", \"MANHATTAN VILLAGE ACADEMY\", \"VANGUARD HIGH SCHOOL\", \"MANHATTAN INTERNATIONAL HIGH SCHOOL\", \"STUYVESANT HIGH SCHOOL\", \"HIGH SCHOOL OF ECONOMICS AND FINANCE\", \"UNITY CENTER FOR URBAN TECHNOLOGIES\", \"TALENT UNLIMITED HIGH SCHOOL\", \"MURRY BERGTRAUM HIGH SCHOOL FOR BUSINESS CAREERS\", \"JACQUELINE KENNEDY ONASSIS HIGH SCHOOL\", \"REPERTORY COMPANY HIGH SCHOOL FOR THEATRE ARTS\", \"MANHATTAN BRIDGES HIGH SCHOOL\", \"NEW DESIGN HIGH SCHOOL\", \"HIGH SCHOOL FOR DUAL LANGUAGE AND ASIAN STUDIES\", \"THE URBAN ASSEMBLY NEW YORK HARBOR SCHOOL\", \"RICHARD R. GREEN HIGH SCHOOL OF TEACHING\", \"THE HIGH SCHOOL OF FASHION INDUSTRIES\", \"HUMANITIES PREPARATORY ACADEMY\", \"CHELSEA CAREER AND TECHNICAL EDUCATION HIGH SCHOOL\", \"ART AND DESIGN HIGH SCHOOL\", \"LIFE SCIENCES SECONDARY SCHOOL\", \"HIGH SCHOOL FOR ARTS, IMAGINATION AND INQUIRY\", \"URBAN ASSEMBLY SCHOOL FOR MEDIA STUDIES, THE\", \"THE URBAN ASSEMBLY SCHOOL FOR GREEN CAREERS\", \"THE GLOBAL LEARNING COLLABORATIVE\", \"WADLEIGH SECONDARY SCHOOL FOR THE PERFORMING & VISUAL ARTS\", \"FRANK MCCOURT HIGH SCHOOL\", \"BEACON HIGH SCHOOL\", \"FIORELLO H. LAGUARDIA HIGH SCHOOL OF MUSIC & ART AND PERFORMING ARTS\", \"HIGH SCHOOL FOR LAW, ADVOCACY AND COMMUNITY JUSTICE\", \"HIGH SCHOOL OF ARTS AND TECHNOLOGY\", \"MANHATTAN / HUNTER SCIENCE HIGH SCHOOL\", \"FREDERICK DOUGLASS ACADEMY II SECONDARY SCHOOL\", \"COALITION SCHOOL FOR SOCIAL CHANGE\", \"MANHATTAN CENTER FOR SCIENCE AND MATHEMATICS\", \"PARK EAST HIGH SCHOOL\", \"CENTRAL PARK EAST HIGH SCHOOL\", \"YOUNG WOMEN'S LEADERSHIP SCHOOL\", \"YOUNG WOMEN'S LEADERSHIP SCHOOL\", \"HERITAGE SCHOOL, THE\", \"MOTT HALL HIGH SCHOOL\", \"COLUMBIA SECONDARY SCHOOL FOR MATH, SCIENCE, AND ENGINEERING\", \"ACADEMY FOR SOCIAL ACTION: A COLLEGE BOARD SCHOOL\", \"URBAN ASSEMBLY SCHOOL FOR THE PERFORMING ARTS\", \"FREDERICK DOUGLASS ACADEMY\", \"THURGOOD MARSHALL ACADEMY FOR LEARNING AND SOCIAL CHANGE\", \"HIGH SCHOOL FOR MATHEMATICS, SCIENCE AND ENGINEERING AT CITY COLLEGE\", \"CITY COLLEGE ACADEMY OF THE ARTS\", \"COMMUNITY HEALTH ACADEMY OF THE HEIGHTS\", \"WASHINGTON HEIGHTS EXPEDITIONARY LEARNING SCHOOL\", \"HIGH SCHOOL FOR EXCELLENCE AND INNOVATION\", \"HIGH SCHOOL FOR INTERNATIONAL BUSINESS AND FINANCE\", \"HIGH SCHOOL FOR MEDIA AND COMMUNICATIONS\", \"HIGH SCHOOL FOR LAW AND PUBLIC SERVICE\", \"HIGH SCHOOL FOR HEALTH CAREERS AND SCIENCES\", \"A. PHILIP RANDOLPH CAMPUS HIGH SCHOOL\", \"GREGORIO LUPERON HIGH SCHOOL FOR SCIENCE AND MATHEMATICS\", \"SOUTH BRONX PREPARATORY: A COLLEGE BOARD SCHOOL\", \"INTERNATIONAL COMMUNITY HIGH SCHOOL\", \"COMMUNITY SCHOOL FOR SOCIAL JUSTICE\", \"MOTT HAVEN VILLAGE PREPARATORY HIGH SCHOOL\", \"UNIVERSITY HEIGHTS SECONDARY SCHOOL\", \"HOSTOSsLINCOLN ACADEMY OF SCIENCE\", \"FOREIGN LANGUAGE ACADEMY OF GLOBAL STUDIES\", \"BRONX LEADERSHIP ACADEMY II HIGH SCHOOL\", \"NEW EXPLORERS HIGH SCHOOL\", \"URBAN ASSEMBLY SCHOOL FOR CAREERS IN SPORTS\", \"BRONX ACADEMY OF LETTERS\", \"ALFRED E. SMITH CAREER AND TECHNICAL EDUCATION HIGH SCHOOL\", \"HEALTH OPPORTUNITIES HIGH SCHOOL\", \"BRONX STUDIO SCHOOL FOR WRITERS AND ARTISTS\", \"WOMEN'S ACADEMY OF EXCELLENCE\", \"RENAISSANCE HIGH SCHOOL FOR MUSICAL THEATER & TECHNOLOGY\", \"PABLO NERUDA ACADEMY FOR ARCHITECTURE AND WORLD STUDIES\", \"MILLENNIUM ART ACADEMY\", \"HOLCOMBE L. RUCKER SCHOOL OF COMMUNITY RESEARCH\", \"ANTONIA PANTOJA PREPARATORY ACADEMY, A COLLEGE BOARD SCHOOL\", \"HERBERT H. LEHMAN HIGH SCHOOL\", \"BRONX BRIDGES HIGH SCHOOL\", \"FELISA RINCON DE GAUTIER INSTITUTE FOR LAW AND PUBLIC POLICY, THE\", \"BANANA KELLY HIGH SCHOOL\", \"BRONX EXPEDITIONARY LEARNING HIGH SCHOOL\", \"EAGLE ACADEMY FOR YOUNG MEN\", \"URBAN ASSEMBLY SCHOOL FOR APPLIED MATH AND SCIENCE, THE\", \"EXIMIUS COLLEGE PREPARATORY ACADEMY: A COLLEGE BOARD SCHOOL\", \"MOTT HALL BRONX HIGH SCHOOL\", \"BRONX CENTER FOR SCIENCE AND MATHEMATICS\", \"VALIDUS PREPARATORY ACADEMY: AN EXPEDITIONARY LEARNING SCHOOL\", \"LEADERSHIP INSTITUTE\", \"MORRIS ACADEMY FOR COLLABORATIVE STUDIES\", \"BRONX EARLY COLLEGE ACADEMY FOR TEACHING & LEARNING\", \"DREAMYARD PREPARATORY SCHOOL\", \"ACADEMY FOR LANGUAGE AND TECHNOLOGY\", \"BRONX INTERNATIONAL HIGH SCHOOL\", \"SCHOOL FOR EXCELLENCE\", \"BRONX HIGH SCHOOL OF BUSINESS\", \"BRONX HIGH SCHOOL FOR MEDICAL SCIENCE\", \"BRONX SCHOOL FOR LAW, GOVERNMENT AND JUSTICE\", \"FREDERICK DOUGLASS ACADEMY III SECONDARY SCHOOL\", \"BRONX LEADERSHIP ACADEMY HIGH SCHOOL\", \"HIGH SCHOOL FOR VIOLIN AND DANCE\", \"RIVERDALE / KINGSBRIDGE ACADEMY (MIDDLE SCHOOL / HIGH SCHOOL 141)\", \"BRONX ENGINEERING AND TECHNOLOGY ACADEMY\", \"THEATRE ARTS PRODUCTION COMPANY SCHOOL\", \"THE MARIE CURIE SCHOOL FOR MEDICINE, NURSING, AND HEALTH PROFESSIONS\", \"WEST BRONX ACADEMY FOR THE FUTURE\", \"KINGSBRIDGE INTERNATIONAL HIGH SCHOOL\", \"BRONX SCHOOL OF LAW AND FINANCE\", \"INTERNATIONAL SCHOOL FOR LIBERAL ARTS\", \"INsTECH ACADEMY (M.S. / HIGH SCHOOL 368)\", \"KNOWLEDGE AND POWER PREPARATORY ACADEMY INTERNATIONAL HIGH SCHOOL (KAPPA)\", \"HIGH SCHOOL FOR TEACHING AND THE PROFESSIONS\", \"BELMONT PREPARATORY HIGH SCHOOL\", \"FORDHAM HIGH SCHOOL FOR THE ARTS\", \"FORDHAM LEADERSHIP ACADEMY FOR BUSINESS AND TECHNOLOGY\", \"BRONX HIGH SCHOOL FOR LAW AND COMMUNITY SERVICE\", \"DEWITT CLINTON HIGH SCHOOL\", \"CELIA CRUZ BRONX HIGH SCHOOL OF MUSIC, THE\", \"BRONX HIGH SCHOOL OF SCIENCE\", \"MARBLE HILL HIGH SCHOOL FOR INTERNATIONAL STUDIES\", \"BRONX THEATRE HIGH SCHOOL\", \"DISCOVERY HIGH SCHOOL\", \"HIGH SCHOOL OF AMERICAN STUDIES AT LEHMAN COLLEGE\", \"BRONX HEALTH SCIENCES HIGH SCHOOL\", \"BRONX HIGH SCHOOL FOR WRITING AND COMMUNICATION ARTS\", \"BRONX LAB SCHOOL\", \"ACADEMY FOR SCHOLARSHIP AND ENTREPRENEURSHIP: A COLLEGE BOARD SCHOOL\", \"HIGH SCHOOL OF COMPUTERS AND TECHNOLOGY\", \"COLLEGIATE INSTITUTE FOR MATH AND SCIENCE\", \"BRONX ACADEMY OF HEALTH CAREERS\", \"ASTOR COLLEGIATE ACADEMY\", \"BRONX HIGH SCHOOL FOR THE VISUAL ARTS\", \"HARRY S TRUMAN HIGH SCHOOL\", \"NEW WORLD HIGH SCHOOL\", \"THE BRONXWOOD PREPARATORY ACADEMY\", \"PELHAM PREPARATORY ACADEMY\", \"HIGH SCHOOL FOR CONTEMPORARY ARTS\", \"BRONX AEROSPACE HIGH SCHOOL\", \"METROPOLITAN HIGH SCHOOL, THE\", \"EXPLORATIONS ACADEMY\", \"BRONX LATIN\", \"EAST BRONX ACADEMY FOR THE FUTURE\", \"PEACE AND DIVERSITY ACADEMY\", \"PAN AMERICAN INTERNATIONAL HIGH SCHOOL AT MONROE\", \"THE CINEMA SCHOOL\", \"BRONX CAREER AND COLLEGE PREPARATORY HIGH SCHOOL\", \"HIGH SCHOOL OF WORLD CULTURES\", \"FANNIE LOU HAMER FREEDOM HIGH SCHOOL\", \"WINGS ACADEMY\", \"MONROE ACADEMY FOR VISUAL ARTS & DESIGN\", \"DR. SUSAN S. MCKINNEY SECONDARY SCHOOL OF THE ARTS\", \"URBAN ASSEMBLY HIGH SCHOOL OF MUSIC AND ART\", \"BROOKLYN COMMUNITY HIGH SCHOOL OF COMMUNICATION, ARTS AND MEDIA\", \"SCIENCE SKILLS CENTER HIGH SCHOOL FOR SCIENCE, TECHNOLOGY AND THE CREATIVE ARTS\", \"BROOKLYN TECHNICAL HIGH SCHOOL\", \"BROOKLYN INTERNATIONAL HIGH SCHOOL\", \"THE URBAN ASSEMBLY SCHOOL FOR LAW AND JUSTICE\", \"ACORN COMMUNITY HIGH SCHOOL\", \"URBAN ASSEMBLY INSTITUTE OF MATH AND SCIENCE FOR YOUNG WOMEN\", \"BEDFORD ACADEMY HIGH SCHOOL\", \"GEORGE WESTINGHOUSE CAREER AND TECHNICAL EDUCATION HIGH SCHOOL\", \"BENJAMIN BANNEKER ACADEMY\", \"CITY POLYTECHNIC HIGH SCHOOL OF ENGINEERING, ARCHITECTURE, AND TECHNOLOGY\", \"JUAN MOREL CAMPOS SECONDARY SCHOOL\", \"FOUNDATIONS ACADEMY\", \"BROOKLYN LATIN SCHOOL, THE\", \"GREEN SCHOOL: AN ACADEMY FOR ENVIRONMENTAL CAREERS\", \"PROGRESS HIGH SCHOOL FOR PROFESSIONAL CAREERS\", \"SCHOOL FOR LEGAL STUDIES\", \"THE HIGH SCHOOL FOR ENTERPRISE, BUSINESS AND TECHNOLOGY\", \"BROOKLYN PREPARATORY HIGH SCHOOL\", \"WILLIAMSBURG HIGH SCHOOL FOR ARCHITECTURE AND DESIGN\", \"WILLIAMSBURG PREPARATORY SCHOOL\", \"LYONS COMMUNITY SCHOOL\", \"AUTOMOTIVE HIGH SCHOOL\", \"FRANCES PERKINS ACADEMY\", \"EL PUENTE ACADEMY FOR PEACE AND JUSTICE\", \"BROOKLYN SCHOOL FOR GLOBAL STUDIES\", \"BROOKLYN SECONDARY SCHOOL FOR COLLABORATIVE STUDIES\", \"SECONDARY SCHOOL FOR LAW\", \"SECONDARY SCHOOL FOR JOURNALISM\", \"PARK SLOPE COLLEGIATE\", \"SCHOOL FOR INTERNATIONAL STUDIES\", \"COBBLE HILL SCHOOL OF AMERICAN STUDIES\", \"BROOKLYN HIGH SCHOOL OF THE ARTS\", \"SUNSET PARK HIGH SCHOOL\", \"FREDERICK DOUGLASS ACADEMY IV SECONDARY SCHOOL\", \"BOYS AND GIRLS HIGH SCHOOL\", \"BROOKLYN HIGH SCHOOL FOR LAW AND TECHNOLOGY\", \"THE BROOKLYN ACADEMY OF GLOBAL FINANCE\", \"ACADEMY FOR COLLEGE PREPARATION AND CAREER EXPLORATION: A COLLEGE BOARD SCHOOL\", \"ACADEMY OF HOSPITALITY AND TOURISM\", \"INTERNATIONAL HIGH SCHOOL AT PROSPECT HEIGHTS\", \"THE HIGH SCHOOL FOR GLOBAL CITIZENSHIP\", \"SCHOOL FOR HUMAN RIGHTS, THE\", \"SCHOOL FOR DEMOCRACY AND LEADERSHIP\", \"HIGH SCHOOL FOR YOUTH AND COMMUNITY DEVELOPMENT AT ERASMUS\", \"HIGH SCHOOL FOR SERVICE & LEARNING AT ERASMUS\", \"SCIENCE, TECHNOLOGY AND RESEARCH EARLY COLLEGE HIGH SCHOOL AT ERASMUS\", \"HIGH SCHOOL FOR PUBLIC SERVICE: HEROES OF TOMORROW\", \"BROOKLYN ACADEMY OF SCIENCE AND THE ENVIRONMENT\", \"BROOKLYN SCHOOL FOR MUSIC & THEATRE\", \"MEDGAR EVERS COLLEGE PREPARATORY SCHOOL\", \"CLARA BARTON HIGH SCHOOL\", \"IT TAKES A VILLAGE ACADEMY\", \"BROOKLYN GENERATION SCHOOL\", \"BROOKLYN THEATRE ARTS HIGH SCHOOL\", \"KURT HAHN EXPEDITIONARY LEARNING SCHOOL\", \"VICTORY COLLEGIATE HIGH SCHOOL\", \"ARTS & MEDIA PREPARATORY ACADEMY\", \"HIGH SCHOOL FOR INNOVATION IN ADVERTISING AND MEDIA\", \"CULTURAL ACADEMY FOR THE ARTS AND SCIENCES\", \"HIGH SCHOOL FOR MEDICAL PROFESSIONS\", \"ACADEMY FOR CONSERVATION AND THE ENVIRONMENT\", \"URBAN ACTION ACADEMY\", \"EAST NEW YORK FAMILY ACADEMY\", \"FDNY HIGH SCHOOL FOR FIRE AND LIFE SAFETY\", \"HIGH SCHOOL FOR CIVIL RIGHTS\", \"PERFORMING ARTS AND TECHNOLOGY HIGH SCHOOL\", \"WORLD ACADEMY FOR TOTAL COMMUNITY HEALTH HIGH SCHOOL\", \"MULTICULTURAL HIGH SCHOOL\", \"TRANSIT TECH CAREER AND TECHNICAL EDUCATION HIGH SCHOOL\", \"ACADEMY OF INNOVATIVE TECHNOLOGY\", \"BROOKLYN LAB SCHOOL\", \"CYPRESS HILLS COLLEGIATE PREPARATORY SCHOOL\", \"W. H. MAXWELL CAREER AND TECHNICAL EDUCATION HIGH SCHOOL\", \"THE SCHOOL FOR CLASSICS: AN ACADEMY OF THINKERS, WRITERS AND PERFORMERS\", \"NEW UTRECHT HIGH SCHOOL\", \"HIGH SCHOOL OF TELECOMMUNICATION ARTS AND TECHNOLOGY\", \"FORT HAMILTON HIGH SCHOOL\", \"FRANKLIN DELANO ROOSEVELT HIGH SCHOOL\", \"THE URBAN ASSEMBLY SCHOOL FOR CRIMINAL JUSTICE\", \"INTERNATIONAL HIGH SCHOOL AT LAFAYETTE\", \"RACHEL CARSON HIGH SCHOOL FOR COASTAL STUDIES\", \"HIGH SCHOOL OF SPORTS MANAGEMENT\", \"ABRAHAM LINCOLN HIGH SCHOOL\", \"KINGSBOROUGH EARLY COLLEGE SCHOOL\", \"EDWARD R. MURROW HIGH SCHOOL\", \"JOHN DEWEY HIGH SCHOOL\", \"LIFE ACADEMY HIGH SCHOOL FOR FILM AND MUSIC\", \"EXPEDITIONARY LEARNING SCHOOL FOR COMMUNITY LEADERS\", \"WILLIAM E. GRADY CAREER AND TECHNICAL EDUCATION HIGH SCHOOL\", \"BROOKLYN STUDIO SECONDARY SCHOOL\", \"MIDWOOD HIGH SCHOOL\", \"JAMES MADISON HIGH SCHOOL\", \"LEON M. GOLDSTEIN HIGH SCHOOL FOR THE SCIENCES\", \"BROOKLYN COLLEGE ACADEMY\", \"BROOKLYN COLLEGIATE: A COLLEGE BOARD SCHOOL\", \"FREDERICK DOUGLASS ACADEMY VII HIGH SCHOOL\", \"TEACHERS PREPARATORY HIGH SCHOOL\", \"ACADEMY OF FINANCE AND ENTERPRISE\", \"HIGH SCHOOL OF APPLIED COMMUNICATION\", \"CIVIC LEADERSHIP ACADEMY\", \"PAN AMERICAN INTERNATIONAL HIGH SCHOOL\", \"BARD HIGH SCHOOL EARLY COLLEGE II\", \"NEWTOWN HIGH SCHOOL\", \"GROVER CLEVELAND HIGH SCHOOL\", \"MIDDLE COLLEGE HIGH SCHOOL AT LAGUARDIA COMMUNITY COLLEGE\", \"INTERNATIONAL HIGH SCHOOL AT LAGUARDIA COMMUNITY COLLEGE\", \"HIGH SCHOOL FOR ARTS AND BUSINESS\", \"ROBERT F. WAGNER, JR. SECONDARY SCHOOL FOR ARTS AND TECHNOLOGY\", \"QUEENS VOCATIONAL AND TECHNICAL HIGH SCHOOL\", \"AVIATION CAREER & TECHNICAL EDUCATION HIGH SCHOOL\", \"QUEENS SCHOOL OF INQUIRY, THE\", \"FLUSHING INTERNATIONAL HIGH SCHOOL\", \"EASTsWEST SCHOOL OF INTERNATIONAL STUDIES\", \"WORLD JOURNALISM PREPARATORY: A COLLEGE BOARD SCHOOL\", \"JOHN BOWNE HIGH SCHOOL\", \"FLUSHING HIGH SCHOOL\", \"TOWNSEND HARRIS HIGH SCHOOL\", \"ROBERT F. KENNEDY COMMUNITY HIGH SCHOOL\", \"BENJAMIN N. CARDOZO HIGH SCHOOL\", \"FRANCIS LEWIS HIGH SCHOOL\", \"MARTIN VAN BUREN HIGH SCHOOL\", \"BAYSIDE HIGH SCHOOL\", \"QUEENS HIGH SCHOOL OF TEACHING, LIBERAL ARTS AND THE SCIENCES\", \"FREDERICK DOUGLASS ACADEMY VI HIGH SCHOOL\", \"CHANNEL VIEW SCHOOL FOR RESEARCH\", \"QUEENS HIGH SCHOOL FOR INFORMATION, RESEARCH, AND TECHNOLOGY\", \"ROBERT H. GODDARD HIGH SCHOOL OF COMMUNICATION ARTS AND TECHNOLOGY\", \"ACADEMY OF MEDICAL TECHNOLOGY: A COLLEGE BOARD SCHOOL\", \"SCHOLARS' ACADEMY\", \"AUGUST MARTIN HIGH SCHOOL\", \"RICHMOND HILL HIGH SCHOOL\", \"JOHN ADAMS HIGH SCHOOL\", \"HIGH SCHOOL FOR CONSTRUCTION TRADES, ENGINEERING AND ARCHITECTURE\", \"YORK EARLY COLLEGE ACADEMY\", \"QUEENS COLLEGIATE: A COLLEGE BOARD SCHOOL\", \"HILLSIDE ARTS & LETTERS ACADEMY\", \"FOREST HILLS HIGH SCHOOL\", \"HILLCREST HIGH SCHOOL\", \"THOMAS A. EDISON CAREER AND TECHNICAL EDUCATION HIGH SCHOOL\", \"QUEENS GATEWAY TO HEALTH SCIENCES SECONDARY SCHOOL\", \"QUEENS METROPOLITAN HIGH SCHOOL\", \"QUEENS HIGH SCHOOL FOR THE SCIENCES AT YORK COLLEGE\", \"HIGH SCHOOL FOR LAW ENFORCEMENT AND PUBLIC SAFETY\", \"YOUNG WOMEN'S LEADERSHIP SCHOOL, QUEENS\", \"QUEENS PREPARATORY ACADEMY\", \"PATHWAYS COLLEGE PREPARATORY SCHOOL: A COLLEGE BOARD SCHOOL\", \"EXCELSIOR PREPARATORY HIGH SCHOOL\", \"GEORGE WASHINGTON CARVER HIGH SCHOOL FOR THE SCIENCES\", \"PREPARATORY ACADEMY FOR WRITERS: A COLLEGE BOARD SCHOOL\", \"CAMBRIA HEIGHTS ACADEMY\", \"MATHEMATICS, SCIENCE RESEARCH AND TECHNOLOGY MAGNET HIGH SCHOOL\", \"HUMANITIES & ARTS MAGNET HIGH SCHOOL\", \"YOUNG WOMEN'S LEADERSHIP SCHOOL, ASTORIA\", \"ACADEMY FOR CAREERS IN TELEVISION AND FILM\", \"WILLIAM CULLEN BRYANT HIGH SCHOOL\", \"LONG ISLAND CITY HIGH SCHOOL\", \"FRANK SINATRA SCHOOL OF THE ARTS HIGH SCHOOL\", \"INFORMATION TECHNOLOGY HIGH SCHOOL\", \"NEWCOMERS HIGH SCHOOL\", \"ACADEMY OF AMERICAN STUDIES\", \"BACCALAUREATE SCHOOL FOR GLOBAL EDUCATION\", \"CSI HIGH SCHOOL FOR INTERNATIONAL STUDIES\", \"GAYNOR MCCOWN EXPEDITIONARY LEARNING SCHOOL\", \"THE MICHAEL J. PETRIDES SCHOOL\", \"NEW DORP HIGH SCHOOL\", \"PORT RICHMOND HIGH SCHOOL\", \"CURTIS HIGH SCHOOL\", \"TOTTENVILLE HIGH SCHOOL\", \"SUSAN E. WAGNER HIGH SCHOOL\", \"RALPH R. MCKEE CAREER AND TECHNICAL EDUCATION HIGH SCHOOL\", \"STATEN ISLAND TECHNICAL HIGH SCHOOL\", \"ACADEMY FOR ENVIRONMENTAL LEADERSHIP\", \"EBC HIGH SCHOOL FOR PUBLIC SERVICE\\u2013BUSHWICK\", \"BUSHWICK SCHOOL FOR SOCIAL JUSTICE\", \"ACADEMY OF URBAN PLANNING\", \"ALL CITY LEADERSHIP SECONDARY SCHOOL\", \"BUSHWICK LEADERS HIGH SCHOOL FOR ACADEMIC EXCELLENCE\"], \"type\": \"scatter\", \"x\": [53.8, 45.9, 55.4, 56.9, 14.2, 18.2, 59.2, 47.6, 60.6, 66.1, 42.0, 59.2, 73.2, 50.6, 55.7, 48.4, 45.1, 43.0, 58.7, 57.2, 32.8, 57.2, 23.7, 14.6, 14.0, 39.9, 11.6, 21.7, 74.8, 49.7, 54.2, 84.6, 62.4, 43.2, 71.8, 59.0, 36.9, 2.4, 43.5, 55.3, 39.3, 46.6, 69.9, 42.4, 99.8, 62.2, 4.0, 49.3, 59.3, 52.3, 57.8, 60.5, 51.0, 64.3, 58.9, 56.0, 76.0, 62.6, 38.8, 37.0, 22.8, 16.6, 48.1, 57.2, 41.5, 18.9, 58.7, 57.4, 59.6, 64.5, 60.1, 60.1, 69.4, 63.8, 48.5, 38.1, 38.2, 22.8, 20.9, 21.2, 92.0, 93.8, 96.7, 72.5, 91.4, 87.1, 84.4, 83.8, 62.3, 99.8, 68.8, 71.8, 65.5, 76.0, 78.1, 72.7, 68.8, 56.0, 68.1, 70.4, 64.3, 61.5, 56.9, 74.8, 46.4, 63.8, 69.9, 64.3, 56.8, 66.0, 60.6, 83.2, 76.0, 65.4, 69.3, 33.8, 63.4, 58.1, 73.7, 68.7, 63.8, 63.5, 73.1, 64.5, 69.9, 99.4, 72.2, 64.5, 59.9, 57.8, 66.2, 41.4, 57.0, 62.5, 53.0, 64.2, 69.7, 57.4, 69.5, 84.7, 65.2, 99.8, 81.9, 59.9, 70.4, 65.6, 61.5, 67.8, 64.6, 59.6, 69.5, 7.2, 57.9, 69.0, 75.6, 18.0, 36.3, 47.6, 57.3, 32.0, 59.5, 46.8, 41.2, 46.0, 62.3, 43.8, 70.4, 37.3, 49.7, 59.9, 72.6, 72.9, 65.5, 73.2, 68.3, 53.7, 99.8, 65.0, 59.8, 84.6, 68.8, 42.2, 77.5, 24.6, 22.7, 17.1, 12.2, 7.9, 28.6, 17.1, 12.2, 11.7, 7.1, 15.3, 8.8, 26.3, 80.6, 29.8, 17.9, 46.9, 65.4, 39.3, 55.4, 37.7, 57.2, 61.5, 54.6, 30.2, 31.2, 87.6, 39.0, 48.1, 29.6, 43.2, 51.8, 38.9, 21.0, 19.0, 80.8, 14.1, 7.8, 24.9, 20.8, 6.7, 12.9, 27.9, 7.3, 8.3, 8.4, 9.1, 9.0, 9.4, 12.2, 14.2, 15.3, 2.8, 5.8, 4.5, 8.5, 12.8, 8.8, 5.8, 9.6, 10.6, 11.4, 12.4, 12.0, 10.5, 30.3, 23.4, 22.2, 17.4, 14.2, 99.8, 23.2, 50.2, 65.0, 73.2, 25.4, 34.7, 28.0, 54.1, 30.2, 27.3, 21.9, 21.0, 25.8, 23.0, 20.1, 22.7, 17.6, 19.1, 29.9, 41.2, 14.0, 23.1, 11.7, 14.5, 10.8, 12.4, 8.3, 10.4, 13.1, 56.4, 57.2, 79.3, 100.0, 21.2, 60.3, 63.5, 71.4, 44.0, 79.2, 62.4, 74.2, 55.3, 24.2, 32.7, 17.9, 20.3, 40.7, 49.8, 12.9, 35.4, 18.6, 24.1, 15.1, 22.3, 16.8, 27.0, 27.5, 30.0, 42.6, 34.2, 15.9, 11.5, 46.4, 37.1, 41.6, 10.2, 18.5, 21.0, 30.2, 22.8, 21.1, 15.7, 38.6, 7.9, 15.1, 18.4, 8.2, 2.9, 9.7, 14.1, 10.4, 7.5, 11.9, 8.5, 40.4, 53.5, 48.8, 62.7, 27.2, 56.6, 43.5, 34.7, 24.3, 17.9, 17.6, 16.9, 27.3, 37.6, 31.9, 9.9, 24.1, 33.2, 5.3, 77.1, 88.1, 68.7, 70.4, 79.5, 77.3], \"y\": [1122.0, 1172.0, 1149.0, 1207.0, 1621.0, 1856.0, 1182.0, 1194.0, 1156.0, 1111.0, 1293.0, 1269.0, 1051.0, 1148.0, 1200.0, 1127.0, 1176.0, 1435.0, 1223.4388059701494, 1223.4388059701494, 1223.4388059701494, 1419.0, 1522.0, 1577.0, 1677.0, 1419.0, 1758.0, 1614.0, 1170.0, 1306.0, 1233.0, 1223.4388059701494, 1223.4388059701494, 1223.4388059701494, 1372.0, 1199.0, 1227.0, 2096.0, 1374.0, 1070.0, 1416.0, 1240.0, 1239.0, 1253.0, 1058.0, 1168.0, 1424.0, 1212.0, 1195.0, 1257.0, 1255.0, 1207.0, 1315.0, 1236.0, 1132.0, 1144.0, 1223.4388059701494, 1223.4388059701494, 1109.0, 1223.4388059701494, 1744.0, 1707.0, 1196.0, 1277.0, 1446.0, 1096.0, 1084.0, 1430.0, 1128.0, 1221.0, 1326.0, 1326.0, 1054.0, 1210.0, 1223.4388059701494, 1062.0, 1077.0, 1374.0, 1202.0, 1847.0, 1270.0, 1105.0, 1174.0, 1223.4388059701494, 1127.0, 1098.0, 1102.0, 1224.0, 1309.0, 1014.0, 1090.0, 945.0, 1077.0, 1097.0, 1201.0, 1257.0, 1186.0, 1103.0, 1084.0, 1181.0, 1201.0, 1158.0, 1095.0, 1223.4388059701494, 1171.0, 1158.0, 1038.0, 1164.0, 1084.0, 1223.4388059701494, 1241.0, 1223.4388059701494, 1099.0, 1131.0, 1049.0, 1134.0, 1290.0, 1169.0, 1092.0, 1396.0, 1075.0, 1081.0, 1148.0, 1223.4388059701494, 1138.0, 951.0, 965.0, 1074.0, 1083.0, 1221.0, 1224.0, 1121.0, 1166.0, 1039.0, 1333.0, 1150.0, 1190.0, 1157.0, 1158.0, 962.0, 1182.0, 934.0, 1181.0, 1180.0, 1106.0, 1222.0, 1077.0, 1119.0, 1082.0, 1255.0, 1270.0, 1969.0, 1263.0, 1064.0, 1115.0, 1920.0, 1133.0, 1147.0, 1135.0, 1141.0, 1111.0, 1348.0, 1135.0, 1169.0, 1268.0, 1151.0, 1048.0, 1112.0, 1288.0, 1126.0, 1163.0, 1055.0, 1122.0, 1251.0, 1102.0, 1155.0, 970.0, 1223.4388059701494, 1223.4388059701494, 939.0, 1029.0, 1114.0, 1038.0, 1074.0, 1080.0, 1114.0, 1211.0, 1833.0, 981.0, 1206.0, 1116.0, 1223.4388059701494, 1312.0, 1189.0, 1391.0, 1353.0, 1085.0, 1223.4388059701494, 1740.0, 1189.0, 1114.0, 1204.0, 1215.0, 1090.0, 1112.0, 1187.0, 1103.0, 1093.0, 1122.0, 1035.0, 1111.0, 1179.0, 1203.0, 1169.0, 1175.0, 1212.0, 1185.0, 1258.0, 1223.4388059701494, 1068.0, 1097.0, 1092.0, 1223.4388059701494, 1139.0, 1045.0, 913.0, 1176.0, 1088.0, 1153.0, 1027.0, 1105.0, 1360.0, 1273.0, 1143.0, 1151.0, 1436.0, 1251.0, 963.0, 1145.0, 1118.0, 1092.0, 1143.0, 1080.0, 1183.0, 1169.0, 1159.0, 1111.0, 1135.0, 1242.0, 1023.0, 1054.0, 1149.0, 1106.0, 887.0, 1193.0, 1096.0, 1108.0, 1129.0, 1102.0, 1157.0, 1272.0, 1323.0, 1306.0, 1244.0, 1223.4388059701494, 1026.0, 1237.0, 1164.0, 1226.0, 1223.4388059701494, 1431.0, 1262.0, 1124.0, 1079.0, 1184.0, 1313.0, 1473.0, 1350.0, 1627.0, 1352.0, 1185.0, 1091.0, 1196.0, 1280.0, 1219.0, 1240.0, 951.0, 1663.0, 1203.0, 1211.0, 1177.0, 1064.0, 1174.0, 1330.0, 1270.0, 1364.0, 1396.0, 1049.0, 1271.0, 1441.0, 1243.0, 1216.0, 1910.0, 1330.0, 1514.0, 1474.0, 1172.0, 1449.0, 1279.0, 1145.0, 1252.0, 1156.0, 1265.0, 1094.0, 1532.0, 1108.0, 1154.0, 1192.0, 1345.0, 1223.4388059701494, 1265.0, 1223.4388059701494, 1407.0, 1194.0, 1372.0, 1538.0, 1223.4388059701494, 1868.0, 1196.0, 1316.0, 1099.0, 1173.0, 1202.0, 1287.0, 1100.0, 1223.4388059701494, 1220.0, 1151.0, 1223.4388059701494, 1255.0, 1275.0, 1218.0, 1494.0, 1239.0, 1127.0, 1470.0, 1636.0, 1353.0, 1195.0, 1426.0, 1277.0, 1279.0, 1301.0, 1418.0, 1388.0, 1235.0, 1953.0, 1098.0, 1154.0, 1035.0, 1060.0, 1315.0, 1055.0]}],\n",
       "                        {\"shapes\": [{\"line\": {\"color\": \"grey\", \"dash\": \"dashdot\", \"width\": 1}, \"type\": \"line\", \"x0\": -10, \"x1\": 110, \"y0\": 1223.438805970149, \"y1\": 1223.438805970149}, {\"line\": {\"color\": \"grey\", \"dash\": \"dashdot\", \"width\": 1}, \"type\": \"line\", \"x0\": 44.06831955922865, \"x1\": 44.06831955922865, \"y0\": 800, \"y1\": 2240}], \"template\": {\"data\": {\"bar\": [{\"error_x\": {\"color\": \"#2a3f5f\"}, \"error_y\": {\"color\": \"#2a3f5f\"}, \"marker\": {\"line\": {\"color\": \"#E5ECF6\", \"width\": 0.5}}, \"type\": \"bar\"}], \"barpolar\": [{\"marker\": {\"line\": {\"color\": \"#E5ECF6\", \"width\": 0.5}}, \"type\": \"barpolar\"}], \"carpet\": [{\"aaxis\": {\"endlinecolor\": \"#2a3f5f\", \"gridcolor\": \"white\", \"linecolor\": \"white\", \"minorgridcolor\": \"white\", \"startlinecolor\": \"#2a3f5f\"}, \"baxis\": {\"endlinecolor\": \"#2a3f5f\", \"gridcolor\": \"white\", \"linecolor\": \"white\", \"minorgridcolor\": \"white\", \"startlinecolor\": \"#2a3f5f\"}, \"type\": \"carpet\"}], \"choropleth\": [{\"colorbar\": {\"outlinewidth\": 0, \"ticks\": \"\"}, \"type\": \"choropleth\"}], \"contour\": [{\"colorbar\": {\"outlinewidth\": 0, \"ticks\": \"\"}, \"colorscale\": [[0.0, \"#0d0887\"], [0.1111111111111111, \"#46039f\"], [0.2222222222222222, \"#7201a8\"], [0.3333333333333333, \"#9c179e\"], [0.4444444444444444, \"#bd3786\"], [0.5555555555555556, \"#d8576b\"], [0.6666666666666666, \"#ed7953\"], [0.7777777777777778, \"#fb9f3a\"], [0.8888888888888888, \"#fdca26\"], [1.0, \"#f0f921\"]], \"type\": \"contour\"}], \"contourcarpet\": [{\"colorbar\": {\"outlinewidth\": 0, \"ticks\": \"\"}, \"type\": \"contourcarpet\"}], \"heatmap\": [{\"colorbar\": {\"outlinewidth\": 0, \"ticks\": \"\"}, \"colorscale\": [[0.0, \"#0d0887\"], [0.1111111111111111, \"#46039f\"], [0.2222222222222222, \"#7201a8\"], [0.3333333333333333, \"#9c179e\"], [0.4444444444444444, \"#bd3786\"], [0.5555555555555556, \"#d8576b\"], [0.6666666666666666, \"#ed7953\"], [0.7777777777777778, \"#fb9f3a\"], [0.8888888888888888, \"#fdca26\"], [1.0, \"#f0f921\"]], \"type\": \"heatmap\"}], \"heatmapgl\": [{\"colorbar\": {\"outlinewidth\": 0, \"ticks\": \"\"}, \"colorscale\": [[0.0, \"#0d0887\"], [0.1111111111111111, \"#46039f\"], [0.2222222222222222, \"#7201a8\"], [0.3333333333333333, \"#9c179e\"], [0.4444444444444444, \"#bd3786\"], [0.5555555555555556, \"#d8576b\"], [0.6666666666666666, \"#ed7953\"], [0.7777777777777778, \"#fb9f3a\"], [0.8888888888888888, \"#fdca26\"], [1.0, \"#f0f921\"]], \"type\": \"heatmapgl\"}], \"histogram\": [{\"marker\": {\"colorbar\": {\"outlinewidth\": 0, \"ticks\": \"\"}}, \"type\": \"histogram\"}], \"histogram2d\": [{\"colorbar\": {\"outlinewidth\": 0, \"ticks\": \"\"}, \"colorscale\": [[0.0, \"#0d0887\"], [0.1111111111111111, \"#46039f\"], [0.2222222222222222, \"#7201a8\"], [0.3333333333333333, \"#9c179e\"], [0.4444444444444444, \"#bd3786\"], [0.5555555555555556, \"#d8576b\"], [0.6666666666666666, \"#ed7953\"], [0.7777777777777778, \"#fb9f3a\"], [0.8888888888888888, \"#fdca26\"], [1.0, \"#f0f921\"]], \"type\": \"histogram2d\"}], \"histogram2dcontour\": [{\"colorbar\": {\"outlinewidth\": 0, \"ticks\": \"\"}, \"colorscale\": [[0.0, \"#0d0887\"], [0.1111111111111111, \"#46039f\"], [0.2222222222222222, \"#7201a8\"], [0.3333333333333333, \"#9c179e\"], [0.4444444444444444, \"#bd3786\"], [0.5555555555555556, \"#d8576b\"], [0.6666666666666666, \"#ed7953\"], [0.7777777777777778, \"#fb9f3a\"], [0.8888888888888888, \"#fdca26\"], [1.0, \"#f0f921\"]], \"type\": \"histogram2dcontour\"}], \"mesh3d\": [{\"colorbar\": {\"outlinewidth\": 0, \"ticks\": \"\"}, \"type\": \"mesh3d\"}], \"parcoords\": [{\"line\": {\"colorbar\": {\"outlinewidth\": 0, \"ticks\": \"\"}}, \"type\": \"parcoords\"}], \"pie\": [{\"automargin\": true, \"type\": \"pie\"}], \"scatter\": [{\"marker\": {\"colorbar\": {\"outlinewidth\": 0, \"ticks\": \"\"}}, \"type\": \"scatter\"}], \"scatter3d\": [{\"line\": {\"colorbar\": {\"outlinewidth\": 0, \"ticks\": \"\"}}, \"marker\": {\"colorbar\": {\"outlinewidth\": 0, \"ticks\": \"\"}}, \"type\": \"scatter3d\"}], \"scattercarpet\": [{\"marker\": {\"colorbar\": {\"outlinewidth\": 0, \"ticks\": \"\"}}, \"type\": \"scattercarpet\"}], \"scattergeo\": [{\"marker\": {\"colorbar\": {\"outlinewidth\": 0, \"ticks\": \"\"}}, \"type\": \"scattergeo\"}], \"scattergl\": [{\"marker\": {\"colorbar\": {\"outlinewidth\": 0, \"ticks\": \"\"}}, \"type\": \"scattergl\"}], \"scattermapbox\": [{\"marker\": {\"colorbar\": {\"outlinewidth\": 0, \"ticks\": \"\"}}, \"type\": \"scattermapbox\"}], \"scatterpolar\": [{\"marker\": {\"colorbar\": {\"outlinewidth\": 0, \"ticks\": \"\"}}, \"type\": \"scatterpolar\"}], \"scatterpolargl\": [{\"marker\": {\"colorbar\": {\"outlinewidth\": 0, \"ticks\": \"\"}}, \"type\": \"scatterpolargl\"}], \"scatterternary\": [{\"marker\": {\"colorbar\": {\"outlinewidth\": 0, \"ticks\": \"\"}}, \"type\": \"scatterternary\"}], \"surface\": [{\"colorbar\": {\"outlinewidth\": 0, \"ticks\": \"\"}, \"colorscale\": [[0.0, \"#0d0887\"], [0.1111111111111111, \"#46039f\"], [0.2222222222222222, \"#7201a8\"], [0.3333333333333333, \"#9c179e\"], [0.4444444444444444, \"#bd3786\"], [0.5555555555555556, \"#d8576b\"], [0.6666666666666666, \"#ed7953\"], [0.7777777777777778, \"#fb9f3a\"], [0.8888888888888888, \"#fdca26\"], [1.0, \"#f0f921\"]], \"type\": \"surface\"}], \"table\": [{\"cells\": {\"fill\": {\"color\": \"#EBF0F8\"}, \"line\": {\"color\": \"white\"}}, \"header\": {\"fill\": {\"color\": \"#C8D4E3\"}, \"line\": {\"color\": \"white\"}}, \"type\": \"table\"}]}, \"layout\": {\"annotationdefaults\": {\"arrowcolor\": \"#2a3f5f\", \"arrowhead\": 0, \"arrowwidth\": 1}, \"coloraxis\": {\"colorbar\": {\"outlinewidth\": 0, \"ticks\": \"\"}}, \"colorscale\": {\"diverging\": [[0, \"#8e0152\"], [0.1, \"#c51b7d\"], [0.2, \"#de77ae\"], [0.3, \"#f1b6da\"], [0.4, \"#fde0ef\"], [0.5, \"#f7f7f7\"], [0.6, \"#e6f5d0\"], [0.7, \"#b8e186\"], [0.8, \"#7fbc41\"], [0.9, \"#4d9221\"], [1, \"#276419\"]], \"sequential\": [[0.0, \"#0d0887\"], [0.1111111111111111, \"#46039f\"], [0.2222222222222222, \"#7201a8\"], [0.3333333333333333, \"#9c179e\"], [0.4444444444444444, \"#bd3786\"], [0.5555555555555556, \"#d8576b\"], [0.6666666666666666, \"#ed7953\"], [0.7777777777777778, \"#fb9f3a\"], [0.8888888888888888, \"#fdca26\"], [1.0, \"#f0f921\"]], \"sequentialminus\": [[0.0, \"#0d0887\"], [0.1111111111111111, \"#46039f\"], [0.2222222222222222, \"#7201a8\"], [0.3333333333333333, \"#9c179e\"], [0.4444444444444444, \"#bd3786\"], [0.5555555555555556, \"#d8576b\"], [0.6666666666666666, \"#ed7953\"], [0.7777777777777778, \"#fb9f3a\"], [0.8888888888888888, \"#fdca26\"], [1.0, \"#f0f921\"]]}, \"colorway\": [\"#636efa\", \"#EF553B\", \"#00cc96\", \"#ab63fa\", \"#FFA15A\", \"#19d3f3\", \"#FF6692\", \"#B6E880\", \"#FF97FF\", \"#FECB52\"], \"font\": {\"color\": \"#2a3f5f\"}, \"geo\": {\"bgcolor\": \"white\", \"lakecolor\": \"white\", \"landcolor\": \"#E5ECF6\", \"showlakes\": true, \"showland\": true, \"subunitcolor\": \"white\"}, \"hoverlabel\": {\"align\": \"left\"}, \"hovermode\": \"closest\", \"mapbox\": {\"style\": \"light\"}, \"paper_bgcolor\": \"white\", \"plot_bgcolor\": \"#E5ECF6\", \"polar\": {\"angularaxis\": {\"gridcolor\": \"white\", \"linecolor\": \"white\", \"ticks\": \"\"}, \"bgcolor\": \"#E5ECF6\", \"radialaxis\": {\"gridcolor\": \"white\", \"linecolor\": \"white\", \"ticks\": \"\"}}, \"scene\": {\"xaxis\": {\"backgroundcolor\": \"#E5ECF6\", \"gridcolor\": \"white\", \"gridwidth\": 2, \"linecolor\": \"white\", \"showbackground\": true, \"ticks\": \"\", \"zerolinecolor\": \"white\"}, \"yaxis\": {\"backgroundcolor\": \"#E5ECF6\", \"gridcolor\": \"white\", \"gridwidth\": 2, \"linecolor\": \"white\", \"showbackground\": true, \"ticks\": \"\", \"zerolinecolor\": \"white\"}, \"zaxis\": {\"backgroundcolor\": \"#E5ECF6\", \"gridcolor\": \"white\", \"gridwidth\": 2, \"linecolor\": \"white\", \"showbackground\": true, \"ticks\": \"\", \"zerolinecolor\": \"white\"}}, \"shapedefaults\": {\"line\": {\"color\": \"#2a3f5f\"}}, \"ternary\": {\"aaxis\": {\"gridcolor\": \"white\", \"linecolor\": \"white\", \"ticks\": \"\"}, \"baxis\": {\"gridcolor\": \"white\", \"linecolor\": \"white\", \"ticks\": \"\"}, \"bgcolor\": \"#E5ECF6\", \"caxis\": {\"gridcolor\": \"white\", \"linecolor\": \"white\", \"ticks\": \"\"}}, \"title\": {\"x\": 0.05}, \"xaxis\": {\"automargin\": true, \"gridcolor\": \"white\", \"linecolor\": \"white\", \"ticks\": \"\", \"title\": {\"standoff\": 15}, \"zerolinecolor\": \"white\", \"zerolinewidth\": 2}, \"yaxis\": {\"automargin\": true, \"gridcolor\": \"white\", \"linecolor\": \"white\", \"ticks\": \"\", \"title\": {\"standoff\": 15}, \"zerolinecolor\": \"white\", \"zerolinewidth\": 2}}}, \"title\": {\"text\": \"The NYC schools: <br>SAT score VS share of Hispanics\"}, \"xaxis\": {\"title\": {\"text\": \"Percentage of Hispanic students\"}}, \"yaxis\": {\"title\": {\"text\": \"SAT score\"}}},\n",
       "                        {\"responsive\": true}\n",
       "                    ).then(function(){\n",
       "                            \n",
       "var gd = document.getElementById('7fb8dea9-1f4a-4fa0-9252-c7f3bb499a6b');\n",
       "var x = new MutationObserver(function (mutations, observer) {{\n",
       "        var display = window.getComputedStyle(gd).display;\n",
       "        if (!display || display === 'none') {{\n",
       "            console.log([gd, 'removed!']);\n",
       "            Plotly.purge(gd);\n",
       "            observer.disconnect();\n",
       "        }}\n",
       "}});\n",
       "\n",
       "// Listen for the removal of the full notebook cells\n",
       "var notebookContainer = gd.closest('#notebook-container');\n",
       "if (notebookContainer) {{\n",
       "    x.observe(notebookContainer, {childList: true});\n",
       "}}\n",
       "\n",
       "// Listen for the clearing of the current output cell\n",
       "var outputEl = gd.closest('.output');\n",
       "if (outputEl) {{\n",
       "    x.observe(outputEl, {childList: true});\n",
       "}}\n",
       "\n",
       "                        })\n",
       "                };\n",
       "                });\n",
       "            </script>\n",
       "        </div>"
      ]
     },
     "metadata": {},
     "output_type": "display_data"
    }
   ],
   "source": [
    "# build scatter plot to map SAT score and share of Hispanics in each school \n",
    "\n",
    "fig = go.Figure(data=go.Scatter(x=combined['hispanic_per'], y=combined['sat_score'], \n",
    "                   marker=dict(\n",
    "                       size=combined['Total Cohort']/25,\n",
    "                       color=combined['hispanic_per'], \n",
    "                       colorscale='Viridis',\n",
    "                       showscale=True), \n",
    "                   mode='markers', text=combined['SCHOOL NAME']))\n",
    "\n",
    "fig.add_shape(\n",
    "        # add horizontal line\n",
    "        dict(\n",
    "            type=\"line\",\n",
    "            x0=-10,\n",
    "            y0=combined['sat_score'].mean(),\n",
    "            x1=110,\n",
    "            y1=combined['sat_score'].mean(),\n",
    "            line=dict(\n",
    "                color=\"grey\",\n",
    "                width=1,\n",
    "                dash=\"dashdot\"\n",
    "            )\n",
    "))\n",
    "\n",
    "fig.add_shape(\n",
    "        # add vertical line\n",
    "        dict(\n",
    "            type=\"line\",\n",
    "            x0=combined['hispanic_per'].mean(),\n",
    "            y0=800,\n",
    "            x1=combined['hispanic_per'].mean(),\n",
    "            y1=2240,\n",
    "            line=dict(\n",
    "                color=\"grey\",\n",
    "                width=1,\n",
    "                dash=\"dashdot\"\n",
    "            )\n",
    "))\n",
    "\n",
    "fig.update_layout(\n",
    "    title=\"The NYC schools: <br>SAT score VS share of Hispanics\",\n",
    "    xaxis_title=\"Percentage of Hispanic students\",\n",
    "    yaxis_title=\"SAT score\"\n",
    ")\n",
    "fig.show()"
   ]
  },
  {
   "cell_type": "markdown",
   "metadata": {},
   "source": [
    "- The __schools in the far right corner__ appear to be primarily geared towards recent immigrants to the US. These schools have a lot of students who are learning English, which would explain the lower SAT scores. \n",
    "\n",
    "- Many of the __schools on the upper left side__ appear to be specialized science and technology schools that receive extra funding, and only admit students who pass an entrance exam. This doesn't explain the low share of Hispanics at those schools, but it does tell us why their students tend to do better on the SAT –– they are students from all over New York City who did well on a standardized test."
   ]
  },
  {
   "cell_type": "markdown",
   "metadata": {},
   "source": [
    "### Exploring gender differences on the SAT \n",
    "There are two columns in our dataset that indicate percentage of students by gender:\n",
    "\n",
    "- male_per\n",
    "- female_per\n",
    "\n",
    "We will plot out the correlations between the percentage of students by gender and SAT score to determine if there are any achievement gaps."
   ]
  },
  {
   "cell_type": "code",
   "execution_count": 19,
   "metadata": {},
   "outputs": [
    {
     "name": "stdout",
     "output_type": "stream",
     "text": [
      "AxesSubplot(0.08,0.07;0.87x0.81)\n"
     ]
    },
    {
     "data": {
      "text/plain": [
       "Text(0.5,1.04,'Correlation of SAT score and \\nstudents by gender')"
      ]
     },
     "execution_count": 19,
     "metadata": {},
     "output_type": "execute_result"
    },
    {
     "data": {
      "image/png": "[encoded data removed]",
      "text/plain": [
       "<Figure size 504x432 with 1 Axes>"
      ]
     },
     "metadata": {},
     "output_type": "display_data"
    }
   ],
   "source": [
    "print(combined[['sat_score','male_per','female_per']].corr()['sat_score'][['male_per','female_per']].plot.bar(figsize=(7,6)))\n",
    "plt.title(\"Correlation of SAT score and \\nstudents by gender\", y = 1.04)"
   ]
  },
  {
   "cell_type": "markdown",
   "metadata": {},
   "source": [
    "The graph above indicates that __correlation of SAT score and students by gender is weak__. That leads us to the conclusion that gender does not determine success on the SAT.  \n",
    "\n",
    "However, it may be worth looking at schools with high share of female or male students. To achieve that, I will build a scatter plot to see if there are any NYC high schools with gender imbalances. "
   ]
  },
  {
   "cell_type": "code",
   "execution_count": 20,
   "metadata": {},
   "outputs": [
    {
     "data": {
      "application/vnd.plotly.v1+json": {
       "config": {
        "plotlyServerURL": "https://plot.ly"
       },
       "data": [
        {
         "marker": {
          "color": [
           38.6,
           42.6,
           45.3,
           53.7,
           50.8,
           68.7,
           57.5,
           55,
           46.6,
           67.8,
           56.3,
           25.1,
           49.4,
           56.1,
           60.1,
           100,
           73.7,
           51.3,
           41,
           27.6,
           52,
           49.6,
           74.7,
           56,
           53,
           57.6,
           67.5,
           61.8,
           51.5,
           70.6,
           53.9,
           45.1,
           39.4,
           38.6,
           61.5,
           53.8,
           55.7,
           40.7,
           45.5,
           37.6,
           78.6,
           50.9,
           59.4,
           78.8,
           48.6,
           61.7,
           48.7,
           39.1,
           67.4,
           92.7,
           57.3,
           35,
           53.3,
           48.4,
           44.3,
           42.1,
           43.1,
           48.6,
           61.6,
           53.4,
           61,
           73.6,
           59.9,
           32.3,
           58.9,
           45.8,
           55.6,
           53.6,
           57.9,
           67.9,
           100,
           100,
           51.4,
           46.5,
           50.4,
           51.3,
           74.6,
           47.8,
           55.9,
           34.2,
           60.4,
           47.7,
           44.2,
           47.2,
           36.2,
           36.5,
           41.4,
           47.3,
           50.1,
           51.1,
           52.6,
           51.4,
           50.8,
           49.9,
           56.8,
           54.8,
           54.7,
           46,
           42.3,
           15.7,
           55.5,
           7.3,
           71.4,
           56,
           99.7,
           62,
           34,
           50.8,
           50.8,
           53,
           38.9,
           47.7,
           57,
           50.1,
           49.9,
           0,
           50.7,
           53.4,
           54,
           53.8,
           55.9,
           47.8,
           46.2,
           51.5,
           55.9,
           51.2,
           54.3,
           47.7,
           45.1,
           57.8,
           54.1,
           48.5,
           56.7,
           85.4,
           48.2,
           17.3,
           69.1,
           83.5,
           42.1,
           47.7,
           43.4,
           51,
           51.1,
           52.8,
           57.7,
           52.8,
           56.8,
           36.6,
           55.6,
           48.9,
           59.3,
           42.2,
           53.3,
           67.9,
           47.6,
           46.2,
           64.7,
           59.2,
           40.5,
           48,
           12.7,
           42.9,
           67.3,
           41.4,
           42,
           40,
           50,
           38.7,
           51.9,
           44.7,
           17.5,
           46,
           49.2,
           50.2,
           47,
           55,
           48.5,
           59.2,
           55.7,
           48,
           45.9,
           46.3,
           47.4,
           63,
           57.3,
           54.5,
           43.9,
           41.7,
           51.8,
           60.4,
           44.2,
           100,
           51,
           24.5,
           53.9,
           20.6,
           45.3,
           43.3,
           45.1,
           53.8,
           51.5,
           54.2,
           34.3,
           52.2,
           27.4,
           49,
           46.3,
           4.4,
           23.1,
           57.3,
           43.8,
           40.9,
           55.8,
           57.7,
           47.2,
           49.2,
           56.1,
           66.1,
           49.3,
           51.3,
           38.3,
           48.4,
           48.4,
           46.2,
           50.2,
           40.9,
           49.9,
           48.4,
           48,
           38.4,
           36.7,
           47,
           75.1,
           45.6,
           67.2,
           58.2,
           76.2,
           51,
           39,
           63.9,
           35.7,
           51.1,
           52.6,
           33.5,
           48.5,
           78.5,
           45.3,
           37.4,
           56.8,
           18.9,
           45.6,
           48.6,
           63.2,
           50.2,
           15.9,
           29.7,
           41.6,
           52.2,
           70.2,
           62.4,
           40.7,
           46.5,
           46.6,
           41.6,
           100,
           41.1,
           46.4,
           11.1,
           43.6,
           42.2,
           57.6,
           48.5,
           49,
           48.7,
           22,
           49.9,
           54.7,
           45.6,
           58.8,
           63.7,
           49.3,
           51.5,
           65.9,
           50.7,
           56.2,
           55.5,
           52.2,
           60.7,
           42.5,
           45,
           47.1,
           54,
           56.9,
           53.4,
           39.7,
           14.7,
           53.3,
           42.7,
           45.9,
           57.8,
           50.8,
           44.2,
           71.1,
           46.2,
           52.6,
           50.8,
           45.7,
           50.6,
           54.2,
           47.4,
           48.9,
           45.5,
           51.9,
           56.2,
           56.1,
           44.8,
           47,
           45.5,
           32.7,
           48.9,
           50.1,
           53,
           51.9,
           53.9,
           34.9,
           61.9,
           50.4,
           43.5,
           47,
           100,
           44,
           46.7,
           43.1,
           52.7,
           56.9,
           44.9,
           39.6,
           57.2,
           100,
           46.8,
           46.3,
           48.7,
           70,
           28.2,
           46.8,
           55,
           55.2,
           58.5,
           48,
           50.8,
           47.5,
           45.2,
           53.6,
           50.4,
           49.2,
           32.9,
           43,
           50,
           47.9,
           51.6,
           45.5,
           47.9,
           46.8
          ],
          "colorscale": [
           [
            0,
            "#440154"
           ],
           [
            0.1111111111111111,
            "#482878"
           ],
           [
            0.2222222222222222,
            "#3e4989"
           ],
           [
            0.3333333333333333,
            "#31688e"
           ],
           [
            0.4444444444444444,
            "#26828e"
           ],
           [
            0.5555555555555556,
            "#1f9e89"
           ],
           [
            0.6666666666666666,
            "#35b779"
           ],
           [
            0.7777777777777778,
            "#6ece58"
           ],
           [
            0.8888888888888888,
            "#b5de2b"
           ],
           [
            1,
            "#fde725"
           ]
          ],
          "line": {
           "width": 1.5
          },
          "opacity": 0.4,
          "size": 15
         },
         "mode": "markers",
         "text": [
          "HENRY STREET SCHOOL FOR INTERNATIONAL STUDIES",
          "UNIVERSITY NEIGHBORHOOD HIGH SCHOOL",
          "EAST SIDE COMMUNITY SCHOOL",
          "MARTA VALLE HIGH SCHOOL",
          "NEW EXPLORATIONS INTO SCIENCE, TECHNOLOGY AND MATH HIGH SCHOOL",
          "BARD HIGH SCHOOL EARLY COLLEGE",
          "47 THE AMERICAN SIGN LANGUAGE AND ENGLISH SECONDARY SCHOOL",
          "FOOD AND FINANCE HIGH SCHOOL",
          "ESSEX STREET ACADEMY",
          "HIGH SCHOOL OF HOSPITALITY MANAGEMENT",
          "PACE HIGH SCHOOL",
          "URBAN ASSEMBLY SCHOOL OF DESIGN AND CONSTRUCTION, THE",
          "FACING HISTORY SCHOOL, THE",
          "URBAN ASSEMBLY ACADEMY OF GOVERNMENT AND LAW, THE",
          "LOWER MANHATTAN ARTS ACADEMY",
          "URBAN ASSEMBLY SCHOOL OF BUSINESS FOR YOUNG WOMEN, THE",
          "GRAMERCY ARTS HIGH SCHOOL",
          "NYC ISCHOOL",
          "MANHATTAN BUSINESS ACADEMY",
          "BUSINESS OF SPORTS SCHOOL",
          "THE HIGH SCHOOL FOR LANGUAGE AND DIPLOMACY",
          "HIGH SCHOOL FOR ENVIRONMENTAL STUDIES",
          "PROFESSIONAL PERFORMING ARTS HIGH SCHOOL",
          "BARUCH COLLEGE CAMPUS HIGH SCHOOL",
          "N.Y.C. LAB SCHOOL FOR COLLABORATIVE STUDIES",
          "N.Y.C. MUSEUM SCHOOL",
          "ELEANOR ROOSEVELT HIGH SCHOOL",
          "MILLENNIUM HIGH SCHOOL",
          "LANDMARK HIGH SCHOOL",
          "HIGH SCHOOL FOR HEALTH PROFESSIONS AND HUMAN SERVICES",
          "LEADERSHIP AND PUBLIC SERVICE HIGH SCHOOL",
          "MANHATTAN ACADEMY FOR ARTS & LANGUAGE",
          "HUDSON HIGH SCHOOL OF LEARNING TECHNOLOGIES",
          "INTERNATIONAL HIGH SCHOOL AT UNION SQUARE",
          "MANHATTAN VILLAGE ACADEMY",
          "VANGUARD HIGH SCHOOL",
          "MANHATTAN INTERNATIONAL HIGH SCHOOL",
          "STUYVESANT HIGH SCHOOL",
          "HIGH SCHOOL OF ECONOMICS AND FINANCE",
          "UNITY CENTER FOR URBAN TECHNOLOGIES",
          "TALENT UNLIMITED HIGH SCHOOL",
          "MURRY BERGTRAUM HIGH SCHOOL FOR BUSINESS CAREERS",
          "JACQUELINE KENNEDY ONASSIS HIGH SCHOOL",
          "REPERTORY COMPANY HIGH SCHOOL FOR THEATRE ARTS",
          "MANHATTAN BRIDGES HIGH SCHOOL",
          "NEW DESIGN HIGH SCHOOL",
          "HIGH SCHOOL FOR DUAL LANGUAGE AND ASIAN STUDIES",
          "THE URBAN ASSEMBLY NEW YORK HARBOR SCHOOL",
          "RICHARD R. GREEN HIGH SCHOOL OF TEACHING",
          "THE HIGH SCHOOL OF FASHION INDUSTRIES",
          "HUMANITIES PREPARATORY ACADEMY",
          "CHELSEA CAREER AND TECHNICAL EDUCATION HIGH SCHOOL",
          "ART AND DESIGN HIGH SCHOOL",
          "LIFE SCIENCES SECONDARY SCHOOL",
          "HIGH SCHOOL FOR ARTS, IMAGINATION AND INQUIRY",
          "URBAN ASSEMBLY SCHOOL FOR MEDIA STUDIES, THE",
          "THE URBAN ASSEMBLY SCHOOL FOR GREEN CAREERS",
          "THE GLOBAL LEARNING COLLABORATIVE",
          "WADLEIGH SECONDARY SCHOOL FOR THE PERFORMING & VISUAL ARTS",
          "FRANK MCCOURT HIGH SCHOOL",
          "BEACON HIGH SCHOOL",
          "FIORELLO H. LAGUARDIA HIGH SCHOOL OF MUSIC & ART AND PERFORMING ARTS",
          "HIGH SCHOOL FOR LAW, ADVOCACY AND COMMUNITY JUSTICE",
          "HIGH SCHOOL OF ARTS AND TECHNOLOGY",
          "MANHATTAN / HUNTER SCIENCE HIGH SCHOOL",
          "FREDERICK DOUGLASS ACADEMY II SECONDARY SCHOOL",
          "COALITION SCHOOL FOR SOCIAL CHANGE",
          "MANHATTAN CENTER FOR SCIENCE AND MATHEMATICS",
          "PARK EAST HIGH SCHOOL",
          "CENTRAL PARK EAST HIGH SCHOOL",
          "YOUNG WOMEN'S LEADERSHIP SCHOOL",
          "YOUNG WOMEN'S LEADERSHIP SCHOOL",
          "HERITAGE SCHOOL, THE",
          "MOTT HALL HIGH SCHOOL",
          "COLUMBIA SECONDARY SCHOOL FOR MATH, SCIENCE, AND ENGINEERING",
          "ACADEMY FOR SOCIAL ACTION: A COLLEGE BOARD SCHOOL",
          "URBAN ASSEMBLY SCHOOL FOR THE PERFORMING ARTS",
          "FREDERICK DOUGLASS ACADEMY",
          "THURGOOD MARSHALL ACADEMY FOR LEARNING AND SOCIAL CHANGE",
          "HIGH SCHOOL FOR MATHEMATICS, SCIENCE AND ENGINEERING AT CITY COLLEGE",
          "CITY COLLEGE ACADEMY OF THE ARTS",
          "COMMUNITY HEALTH ACADEMY OF THE HEIGHTS",
          "WASHINGTON HEIGHTS EXPEDITIONARY LEARNING SCHOOL",
          "HIGH SCHOOL FOR EXCELLENCE AND INNOVATION",
          "HIGH SCHOOL FOR INTERNATIONAL BUSINESS AND FINANCE",
          "HIGH SCHOOL FOR MEDIA AND COMMUNICATIONS",
          "HIGH SCHOOL FOR LAW AND PUBLIC SERVICE",
          "HIGH SCHOOL FOR HEALTH CAREERS AND SCIENCES",
          "A. PHILIP RANDOLPH CAMPUS HIGH SCHOOL",
          "GREGORIO LUPERON HIGH SCHOOL FOR SCIENCE AND MATHEMATICS",
          "SOUTH BRONX PREPARATORY: A COLLEGE BOARD SCHOOL",
          "INTERNATIONAL COMMUNITY HIGH SCHOOL",
          "COMMUNITY SCHOOL FOR SOCIAL JUSTICE",
          "MOTT HAVEN VILLAGE PREPARATORY HIGH SCHOOL",
          "UNIVERSITY HEIGHTS SECONDARY SCHOOL",
          "HOSTOSsLINCOLN ACADEMY OF SCIENCE",
          "FOREIGN LANGUAGE ACADEMY OF GLOBAL STUDIES",
          "BRONX LEADERSHIP ACADEMY II HIGH SCHOOL",
          "NEW EXPLORERS HIGH SCHOOL",
          "URBAN ASSEMBLY SCHOOL FOR CAREERS IN SPORTS",
          "BRONX ACADEMY OF LETTERS",
          "ALFRED E. SMITH CAREER AND TECHNICAL EDUCATION HIGH SCHOOL",
          "HEALTH OPPORTUNITIES HIGH SCHOOL",
          "BRONX STUDIO SCHOOL FOR WRITERS AND ARTISTS",
          "WOMEN'S ACADEMY OF EXCELLENCE",
          "RENAISSANCE HIGH SCHOOL FOR MUSICAL THEATER & TECHNOLOGY",
          "PABLO NERUDA ACADEMY FOR ARCHITECTURE AND WORLD STUDIES",
          "MILLENNIUM ART ACADEMY",
          "HOLCOMBE L. RUCKER SCHOOL OF COMMUNITY RESEARCH",
          "ANTONIA PANTOJA PREPARATORY ACADEMY, A COLLEGE BOARD SCHOOL",
          "HERBERT H. LEHMAN HIGH SCHOOL",
          "BRONX BRIDGES HIGH SCHOOL",
          "FELISA RINCON DE GAUTIER INSTITUTE FOR LAW AND PUBLIC POLICY, THE",
          "BANANA KELLY HIGH SCHOOL",
          "BRONX EXPEDITIONARY LEARNING HIGH SCHOOL",
          "EAGLE ACADEMY FOR YOUNG MEN",
          "URBAN ASSEMBLY SCHOOL FOR APPLIED MATH AND SCIENCE, THE",
          "EXIMIUS COLLEGE PREPARATORY ACADEMY: A COLLEGE BOARD SCHOOL",
          "MOTT HALL BRONX HIGH SCHOOL",
          "BRONX CENTER FOR SCIENCE AND MATHEMATICS",
          "VALIDUS PREPARATORY ACADEMY: AN EXPEDITIONARY LEARNING SCHOOL",
          "LEADERSHIP INSTITUTE",
          "MORRIS ACADEMY FOR COLLABORATIVE STUDIES",
          "BRONX EARLY COLLEGE ACADEMY FOR TEACHING & LEARNING",
          "DREAMYARD PREPARATORY SCHOOL",
          "ACADEMY FOR LANGUAGE AND TECHNOLOGY",
          "BRONX INTERNATIONAL HIGH SCHOOL",
          "SCHOOL FOR EXCELLENCE",
          "BRONX HIGH SCHOOL OF BUSINESS",
          "BRONX HIGH SCHOOL FOR MEDICAL SCIENCE",
          "BRONX SCHOOL FOR LAW, GOVERNMENT AND JUSTICE",
          "FREDERICK DOUGLASS ACADEMY III SECONDARY SCHOOL",
          "BRONX LEADERSHIP ACADEMY HIGH SCHOOL",
          "HIGH SCHOOL FOR VIOLIN AND DANCE",
          "RIVERDALE / KINGSBRIDGE ACADEMY (MIDDLE SCHOOL / HIGH SCHOOL 141)",
          "BRONX ENGINEERING AND TECHNOLOGY ACADEMY",
          "THEATRE ARTS PRODUCTION COMPANY SCHOOL",
          "THE MARIE CURIE SCHOOL FOR MEDICINE, NURSING, AND HEALTH PROFESSIONS",
          "WEST BRONX ACADEMY FOR THE FUTURE",
          "KINGSBRIDGE INTERNATIONAL HIGH SCHOOL",
          "BRONX SCHOOL OF LAW AND FINANCE",
          "INTERNATIONAL SCHOOL FOR LIBERAL ARTS",
          "INsTECH ACADEMY (M.S. / HIGH SCHOOL 368)",
          "KNOWLEDGE AND POWER PREPARATORY ACADEMY INTERNATIONAL HIGH SCHOOL (KAPPA)",
          "HIGH SCHOOL FOR TEACHING AND THE PROFESSIONS",
          "BELMONT PREPARATORY HIGH SCHOOL",
          "FORDHAM HIGH SCHOOL FOR THE ARTS",
          "FORDHAM LEADERSHIP ACADEMY FOR BUSINESS AND TECHNOLOGY",
          "BRONX HIGH SCHOOL FOR LAW AND COMMUNITY SERVICE",
          "DEWITT CLINTON HIGH SCHOOL",
          "CELIA CRUZ BRONX HIGH SCHOOL OF MUSIC, THE",
          "BRONX HIGH SCHOOL OF SCIENCE",
          "MARBLE HILL HIGH SCHOOL FOR INTERNATIONAL STUDIES",
          "BRONX THEATRE HIGH SCHOOL",
          "DISCOVERY HIGH SCHOOL",
          "HIGH SCHOOL OF AMERICAN STUDIES AT LEHMAN COLLEGE",
          "BRONX HEALTH SCIENCES HIGH SCHOOL",
          "BRONX HIGH SCHOOL FOR WRITING AND COMMUNICATION ARTS",
          "BRONX LAB SCHOOL",
          "ACADEMY FOR SCHOLARSHIP AND ENTREPRENEURSHIP: A COLLEGE BOARD SCHOOL",
          "HIGH SCHOOL OF COMPUTERS AND TECHNOLOGY",
          "COLLEGIATE INSTITUTE FOR MATH AND SCIENCE",
          "BRONX ACADEMY OF HEALTH CAREERS",
          "ASTOR COLLEGIATE ACADEMY",
          "BRONX HIGH SCHOOL FOR THE VISUAL ARTS",
          "HARRY S TRUMAN HIGH SCHOOL",
          "NEW WORLD HIGH SCHOOL",
          "THE BRONXWOOD PREPARATORY ACADEMY",
          "PELHAM PREPARATORY ACADEMY",
          "HIGH SCHOOL FOR CONTEMPORARY ARTS",
          "BRONX AEROSPACE HIGH SCHOOL",
          "METROPOLITAN HIGH SCHOOL, THE",
          "EXPLORATIONS ACADEMY",
          "BRONX LATIN",
          "EAST BRONX ACADEMY FOR THE FUTURE",
          "PEACE AND DIVERSITY ACADEMY",
          "PAN AMERICAN INTERNATIONAL HIGH SCHOOL AT MONROE",
          "THE CINEMA SCHOOL",
          "BRONX CAREER AND COLLEGE PREPARATORY HIGH SCHOOL",
          "HIGH SCHOOL OF WORLD CULTURES",
          "FANNIE LOU HAMER FREEDOM HIGH SCHOOL",
          "WINGS ACADEMY",
          "MONROE ACADEMY FOR VISUAL ARTS & DESIGN",
          "DR. SUSAN S. MCKINNEY SECONDARY SCHOOL OF THE ARTS",
          "URBAN ASSEMBLY HIGH SCHOOL OF MUSIC AND ART",
          "BROOKLYN COMMUNITY HIGH SCHOOL OF COMMUNICATION, ARTS AND MEDIA",
          "SCIENCE SKILLS CENTER HIGH SCHOOL FOR SCIENCE, TECHNOLOGY AND THE CREATIVE ARTS",
          "BROOKLYN TECHNICAL HIGH SCHOOL",
          "BROOKLYN INTERNATIONAL HIGH SCHOOL",
          "THE URBAN ASSEMBLY SCHOOL FOR LAW AND JUSTICE",
          "ACORN COMMUNITY HIGH SCHOOL",
          "URBAN ASSEMBLY INSTITUTE OF MATH AND SCIENCE FOR YOUNG WOMEN",
          "BEDFORD ACADEMY HIGH SCHOOL",
          "GEORGE WESTINGHOUSE CAREER AND TECHNICAL EDUCATION HIGH SCHOOL",
          "BENJAMIN BANNEKER ACADEMY",
          "CITY POLYTECHNIC HIGH SCHOOL OF ENGINEERING, ARCHITECTURE, AND TECHNOLOGY",
          "JUAN MOREL CAMPOS SECONDARY SCHOOL",
          "FOUNDATIONS ACADEMY",
          "BROOKLYN LATIN SCHOOL, THE",
          "GREEN SCHOOL: AN ACADEMY FOR ENVIRONMENTAL CAREERS",
          "PROGRESS HIGH SCHOOL FOR PROFESSIONAL CAREERS",
          "SCHOOL FOR LEGAL STUDIES",
          "THE HIGH SCHOOL FOR ENTERPRISE, BUSINESS AND TECHNOLOGY",
          "BROOKLYN PREPARATORY HIGH SCHOOL",
          "WILLIAMSBURG HIGH SCHOOL FOR ARCHITECTURE AND DESIGN",
          "WILLIAMSBURG PREPARATORY SCHOOL",
          "LYONS COMMUNITY SCHOOL",
          "AUTOMOTIVE HIGH SCHOOL",
          "FRANCES PERKINS ACADEMY",
          "EL PUENTE ACADEMY FOR PEACE AND JUSTICE",
          "BROOKLYN SCHOOL FOR GLOBAL STUDIES",
          "BROOKLYN SECONDARY SCHOOL FOR COLLABORATIVE STUDIES",
          "SECONDARY SCHOOL FOR LAW",
          "SECONDARY SCHOOL FOR JOURNALISM",
          "PARK SLOPE COLLEGIATE",
          "SCHOOL FOR INTERNATIONAL STUDIES",
          "COBBLE HILL SCHOOL OF AMERICAN STUDIES",
          "BROOKLYN HIGH SCHOOL OF THE ARTS",
          "SUNSET PARK HIGH SCHOOL",
          "FREDERICK DOUGLASS ACADEMY IV SECONDARY SCHOOL",
          "BOYS AND GIRLS HIGH SCHOOL",
          "BROOKLYN HIGH SCHOOL FOR LAW AND TECHNOLOGY",
          "THE BROOKLYN ACADEMY OF GLOBAL FINANCE",
          "ACADEMY FOR COLLEGE PREPARATION AND CAREER EXPLORATION: A COLLEGE BOARD SCHOOL",
          "ACADEMY OF HOSPITALITY AND TOURISM",
          "INTERNATIONAL HIGH SCHOOL AT PROSPECT HEIGHTS",
          "THE HIGH SCHOOL FOR GLOBAL CITIZENSHIP",
          "SCHOOL FOR HUMAN RIGHTS, THE",
          "SCHOOL FOR DEMOCRACY AND LEADERSHIP",
          "HIGH SCHOOL FOR YOUTH AND COMMUNITY DEVELOPMENT AT ERASMUS",
          "HIGH SCHOOL FOR SERVICE & LEARNING AT ERASMUS",
          "SCIENCE, TECHNOLOGY AND RESEARCH EARLY COLLEGE HIGH SCHOOL AT ERASMUS",
          "HIGH SCHOOL FOR PUBLIC SERVICE: HEROES OF TOMORROW",
          "BROOKLYN ACADEMY OF SCIENCE AND THE ENVIRONMENT",
          "BROOKLYN SCHOOL FOR MUSIC & THEATRE",
          "MEDGAR EVERS COLLEGE PREPARATORY SCHOOL",
          "CLARA BARTON HIGH SCHOOL",
          "IT TAKES A VILLAGE ACADEMY",
          "BROOKLYN GENERATION SCHOOL",
          "BROOKLYN THEATRE ARTS HIGH SCHOOL",
          "KURT HAHN EXPEDITIONARY LEARNING SCHOOL",
          "VICTORY COLLEGIATE HIGH SCHOOL",
          "ARTS & MEDIA PREPARATORY ACADEMY",
          "HIGH SCHOOL FOR INNOVATION IN ADVERTISING AND MEDIA",
          "CULTURAL ACADEMY FOR THE ARTS AND SCIENCES",
          "HIGH SCHOOL FOR MEDICAL PROFESSIONS",
          "ACADEMY FOR CONSERVATION AND THE ENVIRONMENT",
          "URBAN ACTION ACADEMY",
          "EAST NEW YORK FAMILY ACADEMY",
          "FDNY HIGH SCHOOL FOR FIRE AND LIFE SAFETY",
          "HIGH SCHOOL FOR CIVIL RIGHTS",
          "PERFORMING ARTS AND TECHNOLOGY HIGH SCHOOL",
          "WORLD ACADEMY FOR TOTAL COMMUNITY HEALTH HIGH SCHOOL",
          "MULTICULTURAL HIGH SCHOOL",
          "TRANSIT TECH CAREER AND TECHNICAL EDUCATION HIGH SCHOOL",
          "ACADEMY OF INNOVATIVE TECHNOLOGY",
          "BROOKLYN LAB SCHOOL",
          "CYPRESS HILLS COLLEGIATE PREPARATORY SCHOOL",
          "W. H. MAXWELL CAREER AND TECHNICAL EDUCATION HIGH SCHOOL",
          "THE SCHOOL FOR CLASSICS: AN ACADEMY OF THINKERS, WRITERS AND PERFORMERS",
          "NEW UTRECHT HIGH SCHOOL",
          "HIGH SCHOOL OF TELECOMMUNICATION ARTS AND TECHNOLOGY",
          "FORT HAMILTON HIGH SCHOOL",
          "FRANKLIN DELANO ROOSEVELT HIGH SCHOOL",
          "THE URBAN ASSEMBLY SCHOOL FOR CRIMINAL JUSTICE",
          "INTERNATIONAL HIGH SCHOOL AT LAFAYETTE",
          "RACHEL CARSON HIGH SCHOOL FOR COASTAL STUDIES",
          "HIGH SCHOOL OF SPORTS MANAGEMENT",
          "ABRAHAM LINCOLN HIGH SCHOOL",
          "KINGSBOROUGH EARLY COLLEGE SCHOOL",
          "EDWARD R. MURROW HIGH SCHOOL",
          "JOHN DEWEY HIGH SCHOOL",
          "LIFE ACADEMY HIGH SCHOOL FOR FILM AND MUSIC",
          "EXPEDITIONARY LEARNING SCHOOL FOR COMMUNITY LEADERS",
          "WILLIAM E. GRADY CAREER AND TECHNICAL EDUCATION HIGH SCHOOL",
          "BROOKLYN STUDIO SECONDARY SCHOOL",
          "MIDWOOD HIGH SCHOOL",
          "JAMES MADISON HIGH SCHOOL",
          "LEON M. GOLDSTEIN HIGH SCHOOL FOR THE SCIENCES",
          "BROOKLYN COLLEGE ACADEMY",
          "BROOKLYN COLLEGIATE: A COLLEGE BOARD SCHOOL",
          "FREDERICK DOUGLASS ACADEMY VII HIGH SCHOOL",
          "TEACHERS PREPARATORY HIGH SCHOOL",
          "ACADEMY OF FINANCE AND ENTERPRISE",
          "HIGH SCHOOL OF APPLIED COMMUNICATION",
          "CIVIC LEADERSHIP ACADEMY",
          "PAN AMERICAN INTERNATIONAL HIGH SCHOOL",
          "BARD HIGH SCHOOL EARLY COLLEGE II",
          "NEWTOWN HIGH SCHOOL",
          "GROVER CLEVELAND HIGH SCHOOL",
          "MIDDLE COLLEGE HIGH SCHOOL AT LAGUARDIA COMMUNITY COLLEGE",
          "INTERNATIONAL HIGH SCHOOL AT LAGUARDIA COMMUNITY COLLEGE",
          "HIGH SCHOOL FOR ARTS AND BUSINESS",
          "ROBERT F. WAGNER, JR. SECONDARY SCHOOL FOR ARTS AND TECHNOLOGY",
          "QUEENS VOCATIONAL AND TECHNICAL HIGH SCHOOL",
          "AVIATION CAREER & TECHNICAL EDUCATION HIGH SCHOOL",
          "QUEENS SCHOOL OF INQUIRY, THE",
          "FLUSHING INTERNATIONAL HIGH SCHOOL",
          "EASTsWEST SCHOOL OF INTERNATIONAL STUDIES",
          "WORLD JOURNALISM PREPARATORY: A COLLEGE BOARD SCHOOL",
          "JOHN BOWNE HIGH SCHOOL",
          "FLUSHING HIGH SCHOOL",
          "TOWNSEND HARRIS HIGH SCHOOL",
          "ROBERT F. KENNEDY COMMUNITY HIGH SCHOOL",
          "BENJAMIN N. CARDOZO HIGH SCHOOL",
          "FRANCIS LEWIS HIGH SCHOOL",
          "MARTIN VAN BUREN HIGH SCHOOL",
          "BAYSIDE HIGH SCHOOL",
          "QUEENS HIGH SCHOOL OF TEACHING, LIBERAL ARTS AND THE SCIENCES",
          "FREDERICK DOUGLASS ACADEMY VI HIGH SCHOOL",
          "CHANNEL VIEW SCHOOL FOR RESEARCH",
          "QUEENS HIGH SCHOOL FOR INFORMATION, RESEARCH, AND TECHNOLOGY",
          "ROBERT H. GODDARD HIGH SCHOOL OF COMMUNICATION ARTS AND TECHNOLOGY",
          "ACADEMY OF MEDICAL TECHNOLOGY: A COLLEGE BOARD SCHOOL",
          "SCHOLARS' ACADEMY",
          "AUGUST MARTIN HIGH SCHOOL",
          "RICHMOND HILL HIGH SCHOOL",
          "JOHN ADAMS HIGH SCHOOL",
          "HIGH SCHOOL FOR CONSTRUCTION TRADES, ENGINEERING AND ARCHITECTURE",
          "YORK EARLY COLLEGE ACADEMY",
          "QUEENS COLLEGIATE: A COLLEGE BOARD SCHOOL",
          "HILLSIDE ARTS & LETTERS ACADEMY",
          "FOREST HILLS HIGH SCHOOL",
          "HILLCREST HIGH SCHOOL",
          "THOMAS A. EDISON CAREER AND TECHNICAL EDUCATION HIGH SCHOOL",
          "QUEENS GATEWAY TO HEALTH SCIENCES SECONDARY SCHOOL",
          "QUEENS METROPOLITAN HIGH SCHOOL",
          "QUEENS HIGH SCHOOL FOR THE SCIENCES AT YORK COLLEGE",
          "HIGH SCHOOL FOR LAW ENFORCEMENT AND PUBLIC SAFETY",
          "YOUNG WOMEN'S LEADERSHIP SCHOOL, QUEENS",
          "QUEENS PREPARATORY ACADEMY",
          "PATHWAYS COLLEGE PREPARATORY SCHOOL: A COLLEGE BOARD SCHOOL",
          "EXCELSIOR PREPARATORY HIGH SCHOOL",
          "GEORGE WASHINGTON CARVER HIGH SCHOOL FOR THE SCIENCES",
          "PREPARATORY ACADEMY FOR WRITERS: A COLLEGE BOARD SCHOOL",
          "CAMBRIA HEIGHTS ACADEMY",
          "MATHEMATICS, SCIENCE RESEARCH AND TECHNOLOGY MAGNET HIGH SCHOOL",
          "HUMANITIES & ARTS MAGNET HIGH SCHOOL",
          "YOUNG WOMEN'S LEADERSHIP SCHOOL, ASTORIA",
          "ACADEMY FOR CAREERS IN TELEVISION AND FILM",
          "WILLIAM CULLEN BRYANT HIGH SCHOOL",
          "LONG ISLAND CITY HIGH SCHOOL",
          "FRANK SINATRA SCHOOL OF THE ARTS HIGH SCHOOL",
          "INFORMATION TECHNOLOGY HIGH SCHOOL",
          "NEWCOMERS HIGH SCHOOL",
          "ACADEMY OF AMERICAN STUDIES",
          "BACCALAUREATE SCHOOL FOR GLOBAL EDUCATION",
          "CSI HIGH SCHOOL FOR INTERNATIONAL STUDIES",
          "GAYNOR MCCOWN EXPEDITIONARY LEARNING SCHOOL",
          "THE MICHAEL J. PETRIDES SCHOOL",
          "NEW DORP HIGH SCHOOL",
          "PORT RICHMOND HIGH SCHOOL",
          "CURTIS HIGH SCHOOL",
          "TOTTENVILLE HIGH SCHOOL",
          "SUSAN E. WAGNER HIGH SCHOOL",
          "RALPH R. MCKEE CAREER AND TECHNICAL EDUCATION HIGH SCHOOL",
          "STATEN ISLAND TECHNICAL HIGH SCHOOL",
          "ACADEMY FOR ENVIRONMENTAL LEADERSHIP",
          "EBC HIGH SCHOOL FOR PUBLIC SERVICE–BUSHWICK",
          "BUSHWICK SCHOOL FOR SOCIAL JUSTICE",
          "ACADEMY OF URBAN PLANNING",
          "ALL CITY LEADERSHIP SECONDARY SCHOOL",
          "BUSHWICK LEADERS HIGH SCHOOL FOR ACADEMIC EXCELLENCE"
         ],
         "type": "scatter",
         "x": [
          38.6,
          42.6,
          45.3,
          53.7,
          50.8,
          68.7,
          57.5,
          55,
          46.6,
          67.8,
          56.3,
          25.1,
          49.4,
          56.1,
          60.1,
          100,
          73.7,
          51.3,
          41,
          27.6,
          52,
          49.6,
          74.7,
          56,
          53,
          57.6,
          67.5,
          61.8,
          51.5,
          70.6,
          53.9,
          45.1,
          39.4,
          38.6,
          61.5,
          53.8,
          55.7,
          40.7,
          45.5,
          37.6,
          78.6,
          50.9,
          59.4,
          78.8,
          48.6,
          61.7,
          48.7,
          39.1,
          67.4,
          92.7,
          57.3,
          35,
          53.3,
          48.4,
          44.3,
          42.1,
          43.1,
          48.6,
          61.6,
          53.4,
          61,
          73.6,
          59.9,
          32.3,
          58.9,
          45.8,
          55.6,
          53.6,
          57.9,
          67.9,
          100,
          100,
          51.4,
          46.5,
          50.4,
          51.3,
          74.6,
          47.8,
          55.9,
          34.2,
          60.4,
          47.7,
          44.2,
          47.2,
          36.2,
          36.5,
          41.4,
          47.3,
          50.1,
          51.1,
          52.6,
          51.4,
          50.8,
          49.9,
          56.8,
          54.8,
          54.7,
          46,
          42.3,
          15.7,
          55.5,
          7.3,
          71.4,
          56,
          99.7,
          62,
          34,
          50.8,
          50.8,
          53,
          38.9,
          47.7,
          57,
          50.1,
          49.9,
          0,
          50.7,
          53.4,
          54,
          53.8,
          55.9,
          47.8,
          46.2,
          51.5,
          55.9,
          51.2,
          54.3,
          47.7,
          45.1,
          57.8,
          54.1,
          48.5,
          56.7,
          85.4,
          48.2,
          17.3,
          69.1,
          83.5,
          42.1,
          47.7,
          43.4,
          51,
          51.1,
          52.8,
          57.7,
          52.8,
          56.8,
          36.6,
          55.6,
          48.9,
          59.3,
          42.2,
          53.3,
          67.9,
          47.6,
          46.2,
          64.7,
          59.2,
          40.5,
          48,
          12.7,
          42.9,
          67.3,
          41.4,
          42,
          40,
          50,
          38.7,
          51.9,
          44.7,
          17.5,
          46,
          49.2,
          50.2,
          47,
          55,
          48.5,
          59.2,
          55.7,
          48,
          45.9,
          46.3,
          47.4,
          63,
          57.3,
          54.5,
          43.9,
          41.7,
          51.8,
          60.4,
          44.2,
          100,
          51,
          24.5,
          53.9,
          20.6,
          45.3,
          43.3,
          45.1,
          53.8,
          51.5,
          54.2,
          34.3,
          52.2,
          27.4,
          49,
          46.3,
          4.4,
          23.1,
          57.3,
          43.8,
          40.9,
          55.8,
          57.7,
          47.2,
          49.2,
          56.1,
          66.1,
          49.3,
          51.3,
          38.3,
          48.4,
          48.4,
          46.2,
          50.2,
          40.9,
          49.9,
          48.4,
          48,
          38.4,
          36.7,
          47,
          75.1,
          45.6,
          67.2,
          58.2,
          76.2,
          51,
          39,
          63.9,
          35.7,
          51.1,
          52.6,
          33.5,
          48.5,
          78.5,
          45.3,
          37.4,
          56.8,
          18.9,
          45.6,
          48.6,
          63.2,
          50.2,
          15.9,
          29.7,
          41.6,
          52.2,
          70.2,
          62.4,
          40.7,
          46.5,
          46.6,
          41.6,
          100,
          41.1,
          46.4,
          11.1,
          43.6,
          42.2,
          57.6,
          48.5,
          49,
          48.7,
          22,
          49.9,
          54.7,
          45.6,
          58.8,
          63.7,
          49.3,
          51.5,
          65.9,
          50.7,
          56.2,
          55.5,
          52.2,
          60.7,
          42.5,
          45,
          47.1,
          54,
          56.9,
          53.4,
          39.7,
          14.7,
          53.3,
          42.7,
          45.9,
          57.8,
          50.8,
          44.2,
          71.1,
          46.2,
          52.6,
          50.8,
          45.7,
          50.6,
          54.2,
          47.4,
          48.9,
          45.5,
          51.9,
          56.2,
          56.1,
          44.8,
          47,
          45.5,
          32.7,
          48.9,
          50.1,
          53,
          51.9,
          53.9,
          34.9,
          61.9,
          50.4,
          43.5,
          47,
          100,
          44,
          46.7,
          43.1,
          52.7,
          56.9,
          44.9,
          39.6,
          57.2,
          100,
          46.8,
          46.3,
          48.7,
          70,
          28.2,
          46.8,
          55,
          55.2,
          58.5,
          48,
          50.8,
          47.5,
          45.2,
          53.6,
          50.4,
          49.2,
          32.9,
          43,
          50,
          47.9,
          51.6,
          45.5,
          47.9,
          46.8
         ],
         "y": [
          1122,
          1172,
          1149,
          1207,
          1621,
          1856,
          1182,
          1194,
          1156,
          1111,
          1293,
          1269,
          1051,
          1148,
          1200,
          1127,
          1176,
          1435,
          1223.4388059701494,
          1223.4388059701494,
          1223.4388059701494,
          1419,
          1522,
          1577,
          1677,
          1419,
          1758,
          1614,
          1170,
          1306,
          1233,
          1223.4388059701494,
          1223.4388059701494,
          1223.4388059701494,
          1372,
          1199,
          1227,
          2096,
          1374,
          1070,
          1416,
          1240,
          1239,
          1253,
          1058,
          1168,
          1424,
          1212,
          1195,
          1257,
          1255,
          1207,
          1315,
          1236,
          1132,
          1144,
          1223.4388059701494,
          1223.4388059701494,
          1109,
          1223.4388059701494,
          1744,
          1707,
          1196,
          1277,
          1446,
          1096,
          1084,
          1430,
          1128,
          1221,
          1326,
          1326,
          1054,
          1210,
          1223.4388059701494,
          1062,
          1077,
          1374,
          1202,
          1847,
          1270,
          1105,
          1174,
          1223.4388059701494,
          1127,
          1098,
          1102,
          1224,
          1309,
          1014,
          1090,
          945,
          1077,
          1097,
          1201,
          1257,
          1186,
          1103,
          1084,
          1181,
          1201,
          1158,
          1095,
          1223.4388059701494,
          1171,
          1158,
          1038,
          1164,
          1084,
          1223.4388059701494,
          1241,
          1223.4388059701494,
          1099,
          1131,
          1049,
          1134,
          1290,
          1169,
          1092,
          1396,
          1075,
          1081,
          1148,
          1223.4388059701494,
          1138,
          951,
          965,
          1074,
          1083,
          1221,
          1224,
          1121,
          1166,
          1039,
          1333,
          1150,
          1190,
          1157,
          1158,
          962,
          1182,
          934,
          1181,
          1180,
          1106,
          1222,
          1077,
          1119,
          1082,
          1255,
          1270,
          1969,
          1263,
          1064,
          1115,
          1920,
          1133,
          1147,
          1135,
          1141,
          1111,
          1348,
          1135,
          1169,
          1268,
          1151,
          1048,
          1112,
          1288,
          1126,
          1163,
          1055,
          1122,
          1251,
          1102,
          1155,
          970,
          1223.4388059701494,
          1223.4388059701494,
          939,
          1029,
          1114,
          1038,
          1074,
          1080,
          1114,
          1211,
          1833,
          981,
          1206,
          1116,
          1223.4388059701494,
          1312,
          1189,
          1391,
          1353,
          1085,
          1223.4388059701494,
          1740,
          1189,
          1114,
          1204,
          1215,
          1090,
          1112,
          1187,
          1103,
          1093,
          1122,
          1035,
          1111,
          1179,
          1203,
          1169,
          1175,
          1212,
          1185,
          1258,
          1223.4388059701494,
          1068,
          1097,
          1092,
          1223.4388059701494,
          1139,
          1045,
          913,
          1176,
          1088,
          1153,
          1027,
          1105,
          1360,
          1273,
          1143,
          1151,
          1436,
          1251,
          963,
          1145,
          1118,
          1092,
          1143,
          1080,
          1183,
          1169,
          1159,
          1111,
          1135,
          1242,
          1023,
          1054,
          1149,
          1106,
          887,
          1193,
          1096,
          1108,
          1129,
          1102,
          1157,
          1272,
          1323,
          1306,
          1244,
          1223.4388059701494,
          1026,
          1237,
          1164,
          1226,
          1223.4388059701494,
          1431,
          1262,
          1124,
          1079,
          1184,
          1313,
          1473,
          1350,
          1627,
          1352,
          1185,
          1091,
          1196,
          1280,
          1219,
          1240,
          951,
          1663,
          1203,
          1211,
          1177,
          1064,
          1174,
          1330,
          1270,
          1364,
          1396,
          1049,
          1271,
          1441,
          1243,
          1216,
          1910,
          1330,
          1514,
          1474,
          1172,
          1449,
          1279,
          1145,
          1252,
          1156,
          1265,
          1094,
          1532,
          1108,
          1154,
          1192,
          1345,
          1223.4388059701494,
          1265,
          1223.4388059701494,
          1407,
          1194,
          1372,
          1538,
          1223.4388059701494,
          1868,
          1196,
          1316,
          1099,
          1173,
          1202,
          1287,
          1100,
          1223.4388059701494,
          1220,
          1151,
          1223.4388059701494,
          1255,
          1275,
          1218,
          1494,
          1239,
          1127,
          1470,
          1636,
          1353,
          1195,
          1426,
          1277,
          1279,
          1301,
          1418,
          1388,
          1235,
          1953,
          1098,
          1154,
          1035,
          1060,
          1315,
          1055
         ]
        }
       ],
       "layout": {
        "shapes": [
         {
          "line": {
           "color": "grey",
           "dash": "dashdot",
           "width": 1
          },
          "type": "line",
          "x0": -8,
          "x1": 108,
          "y0": 1223.438805970149,
          "y1": 1223.438805970149
         },
         {
          "line": {
           "color": "grey",
           "dash": "dashdot",
           "width": 1
          },
          "type": "line",
          "x0": 50,
          "x1": 50,
          "y0": 800,
          "y1": 2200
         }
        ],
        "template": {
         "data": {
          "bar": [
           {
            "error_x": {
             "color": "#2a3f5f"
            },
            "error_y": {
             "color": "#2a3f5f"
            },
            "marker": {
             "line": {
              "color": "#E5ECF6",
              "width": 0.5
             }
            },
            "type": "bar"
           }
          ],
          "barpolar": [
           {
            "marker": {
             "line": {
              "color": "#E5ECF6",
              "width": 0.5
             }
            },
            "type": "barpolar"
           }
          ],
          "carpet": [
           {
            "aaxis": {
             "endlinecolor": "#2a3f5f",
             "gridcolor": "white",
             "linecolor": "white",
             "minorgridcolor": "white",
             "startlinecolor": "#2a3f5f"
            },
            "baxis": {
             "endlinecolor": "#2a3f5f",
             "gridcolor": "white",
             "linecolor": "white",
             "minorgridcolor": "white",
             "startlinecolor": "#2a3f5f"
            },
            "type": "carpet"
           }
          ],
          "choropleth": [
           {
            "colorbar": {
             "outlinewidth": 0,
             "ticks": ""
            },
            "type": "choropleth"
           }
          ],
          "contour": [
           {
            "colorbar": {
             "outlinewidth": 0,
             "ticks": ""
            },
            "colorscale": [
             [
              0,
              "#0d0887"
             ],
             [
              0.1111111111111111,
              "#46039f"
             ],
             [
              0.2222222222222222,
              "#7201a8"
             ],
             [
              0.3333333333333333,
              "#9c179e"
             ],
             [
              0.4444444444444444,
              "#bd3786"
             ],
             [
              0.5555555555555556,
              "#d8576b"
             ],
             [
              0.6666666666666666,
              "#ed7953"
             ],
             [
              0.7777777777777778,
              "#fb9f3a"
             ],
             [
              0.8888888888888888,
              "#fdca26"
             ],
             [
              1,
              "#f0f921"
             ]
            ],
            "type": "contour"
           }
          ],
          "contourcarpet": [
           {
            "colorbar": {
             "outlinewidth": 0,
             "ticks": ""
            },
            "type": "contourcarpet"
           }
          ],
          "heatmap": [
           {
            "colorbar": {
             "outlinewidth": 0,
             "ticks": ""
            },
            "colorscale": [
             [
              0,
              "#0d0887"
             ],
             [
              0.1111111111111111,
              "#46039f"
             ],
             [
              0.2222222222222222,
              "#7201a8"
             ],
             [
              0.3333333333333333,
              "#9c179e"
             ],
             [
              0.4444444444444444,
              "#bd3786"
             ],
             [
              0.5555555555555556,
              "#d8576b"
             ],
             [
              0.6666666666666666,
              "#ed7953"
             ],
             [
              0.7777777777777778,
              "#fb9f3a"
             ],
             [
              0.8888888888888888,
              "#fdca26"
             ],
             [
              1,
              "#f0f921"
             ]
            ],
            "type": "heatmap"
           }
          ],
          "heatmapgl": [
           {
            "colorbar": {
             "outlinewidth": 0,
             "ticks": ""
            },
            "colorscale": [
             [
              0,
              "#0d0887"
             ],
             [
              0.1111111111111111,
              "#46039f"
             ],
             [
              0.2222222222222222,
              "#7201a8"
             ],
             [
              0.3333333333333333,
              "#9c179e"
             ],
             [
              0.4444444444444444,
              "#bd3786"
             ],
             [
              0.5555555555555556,
              "#d8576b"
             ],
             [
              0.6666666666666666,
              "#ed7953"
             ],
             [
              0.7777777777777778,
              "#fb9f3a"
             ],
             [
              0.8888888888888888,
              "#fdca26"
             ],
             [
              1,
              "#f0f921"
             ]
            ],
            "type": "heatmapgl"
           }
          ],
          "histogram": [
           {
            "marker": {
             "colorbar": {
              "outlinewidth": 0,
              "ticks": ""
             }
            },
            "type": "histogram"
           }
          ],
          "histogram2d": [
           {
            "colorbar": {
             "outlinewidth": 0,
             "ticks": ""
            },
            "colorscale": [
             [
              0,
              "#0d0887"
             ],
             [
              0.1111111111111111,
              "#46039f"
             ],
             [
              0.2222222222222222,
              "#7201a8"
             ],
             [
              0.3333333333333333,
              "#9c179e"
             ],
             [
              0.4444444444444444,
              "#bd3786"
             ],
             [
              0.5555555555555556,
              "#d8576b"
             ],
             [
              0.6666666666666666,
              "#ed7953"
             ],
             [
              0.7777777777777778,
              "#fb9f3a"
             ],
             [
              0.8888888888888888,
              "#fdca26"
             ],
             [
              1,
              "#f0f921"
             ]
            ],
            "type": "histogram2d"
           }
          ],
          "histogram2dcontour": [
           {
            "colorbar": {
             "outlinewidth": 0,
             "ticks": ""
            },
            "colorscale": [
             [
              0,
              "#0d0887"
             ],
             [
              0.1111111111111111,
              "#46039f"
             ],
             [
              0.2222222222222222,
              "#7201a8"
             ],
             [
              0.3333333333333333,
              "#9c179e"
             ],
             [
              0.4444444444444444,
              "#bd3786"
             ],
             [
              0.5555555555555556,
              "#d8576b"
             ],
             [
              0.6666666666666666,
              "#ed7953"
             ],
             [
              0.7777777777777778,
              "#fb9f3a"
             ],
             [
              0.8888888888888888,
              "#fdca26"
             ],
             [
              1,
              "#f0f921"
             ]
            ],
            "type": "histogram2dcontour"
           }
          ],
          "mesh3d": [
           {
            "colorbar": {
             "outlinewidth": 0,
             "ticks": ""
            },
            "type": "mesh3d"
           }
          ],
          "parcoords": [
           {
            "line": {
             "colorbar": {
              "outlinewidth": 0,
              "ticks": ""
             }
            },
            "type": "parcoords"
           }
          ],
          "pie": [
           {
            "automargin": true,
            "type": "pie"
           }
          ],
          "scatter": [
           {
            "marker": {
             "colorbar": {
              "outlinewidth": 0,
              "ticks": ""
             }
            },
            "type": "scatter"
           }
          ],
          "scatter3d": [
           {
            "line": {
             "colorbar": {
              "outlinewidth": 0,
              "ticks": ""
             }
            },
            "marker": {
             "colorbar": {
              "outlinewidth": 0,
              "ticks": ""
             }
            },
            "type": "scatter3d"
           }
          ],
          "scattercarpet": [
           {
            "marker": {
             "colorbar": {
              "outlinewidth": 0,
              "ticks": ""
             }
            },
            "type": "scattercarpet"
           }
          ],
          "scattergeo": [
           {
            "marker": {
             "colorbar": {
              "outlinewidth": 0,
              "ticks": ""
             }
            },
            "type": "scattergeo"
           }
          ],
          "scattergl": [
           {
            "marker": {
             "colorbar": {
              "outlinewidth": 0,
              "ticks": ""
             }
            },
            "type": "scattergl"
           }
          ],
          "scattermapbox": [
           {
            "marker": {
             "colorbar": {
              "outlinewidth": 0,
              "ticks": ""
             }
            },
            "type": "scattermapbox"
           }
          ],
          "scatterpolar": [
           {
            "marker": {
             "colorbar": {
              "outlinewidth": 0,
              "ticks": ""
             }
            },
            "type": "scatterpolar"
           }
          ],
          "scatterpolargl": [
           {
            "marker": {
             "colorbar": {
              "outlinewidth": 0,
              "ticks": ""
             }
            },
            "type": "scatterpolargl"
           }
          ],
          "scatterternary": [
           {
            "marker": {
             "colorbar": {
              "outlinewidth": 0,
              "ticks": ""
             }
            },
            "type": "scatterternary"
           }
          ],
          "surface": [
           {
            "colorbar": {
             "outlinewidth": 0,
             "ticks": ""
            },
            "colorscale": [
             [
              0,
              "#0d0887"
             ],
             [
              0.1111111111111111,
              "#46039f"
             ],
             [
              0.2222222222222222,
              "#7201a8"
             ],
             [
              0.3333333333333333,
              "#9c179e"
             ],
             [
              0.4444444444444444,
              "#bd3786"
             ],
             [
              0.5555555555555556,
              "#d8576b"
             ],
             [
              0.6666666666666666,
              "#ed7953"
             ],
             [
              0.7777777777777778,
              "#fb9f3a"
             ],
             [
              0.8888888888888888,
              "#fdca26"
             ],
             [
              1,
              "#f0f921"
             ]
            ],
            "type": "surface"
           }
          ],
          "table": [
           {
            "cells": {
             "fill": {
              "color": "#EBF0F8"
             },
             "line": {
              "color": "white"
             }
            },
            "header": {
             "fill": {
              "color": "#C8D4E3"
             },
             "line": {
              "color": "white"
             }
            },
            "type": "table"
           }
          ]
         },
         "layout": {
          "annotationdefaults": {
           "arrowcolor": "#2a3f5f",
           "arrowhead": 0,
           "arrowwidth": 1
          },
          "coloraxis": {
           "colorbar": {
            "outlinewidth": 0,
            "ticks": ""
           }
          },
          "colorscale": {
           "diverging": [
            [
             0,
             "#8e0152"
            ],
            [
             0.1,
             "#c51b7d"
            ],
            [
             0.2,
             "#de77ae"
            ],
            [
             0.3,
             "#f1b6da"
            ],
            [
             0.4,
             "#fde0ef"
            ],
            [
             0.5,
             "#f7f7f7"
            ],
            [
             0.6,
             "#e6f5d0"
            ],
            [
             0.7,
             "#b8e186"
            ],
            [
             0.8,
             "#7fbc41"
            ],
            [
             0.9,
             "#4d9221"
            ],
            [
             1,
             "#276419"
            ]
           ],
           "sequential": [
            [
             0,
             "#0d0887"
            ],
            [
             0.1111111111111111,
             "#46039f"
            ],
            [
             0.2222222222222222,
             "#7201a8"
            ],
            [
             0.3333333333333333,
             "#9c179e"
            ],
            [
             0.4444444444444444,
             "#bd3786"
            ],
            [
             0.5555555555555556,
             "#d8576b"
            ],
            [
             0.6666666666666666,
             "#ed7953"
            ],
            [
             0.7777777777777778,
             "#fb9f3a"
            ],
            [
             0.8888888888888888,
             "#fdca26"
            ],
            [
             1,
             "#f0f921"
            ]
           ],
           "sequentialminus": [
            [
             0,
             "#0d0887"
            ],
            [
             0.1111111111111111,
             "#46039f"
            ],
            [
             0.2222222222222222,
             "#7201a8"
            ],
            [
             0.3333333333333333,
             "#9c179e"
            ],
            [
             0.4444444444444444,
             "#bd3786"
            ],
            [
             0.5555555555555556,
             "#d8576b"
            ],
            [
             0.6666666666666666,
             "#ed7953"
            ],
            [
             0.7777777777777778,
             "#fb9f3a"
            ],
            [
             0.8888888888888888,
             "#fdca26"
            ],
            [
             1,
             "#f0f921"
            ]
           ]
          },
          "colorway": [
           "#636efa",
           "#EF553B",
           "#00cc96",
           "#ab63fa",
           "#FFA15A",
           "#19d3f3",
           "#FF6692",
           "#B6E880",
           "#FF97FF",
           "#FECB52"
          ],
          "font": {
           "color": "#2a3f5f"
          },
          "geo": {
           "bgcolor": "white",
           "lakecolor": "white",
           "landcolor": "#E5ECF6",
           "showlakes": true,
           "showland": true,
           "subunitcolor": "white"
          },
          "hoverlabel": {
           "align": "left"
          },
          "hovermode": "closest",
          "mapbox": {
           "style": "light"
          },
          "paper_bgcolor": "white",
          "plot_bgcolor": "#E5ECF6",
          "polar": {
           "angularaxis": {
            "gridcolor": "white",
            "linecolor": "white",
            "ticks": ""
           },
           "bgcolor": "#E5ECF6",
           "radialaxis": {
            "gridcolor": "white",
            "linecolor": "white",
            "ticks": ""
           }
          },
          "scene": {
           "xaxis": {
            "backgroundcolor": "#E5ECF6",
            "gridcolor": "white",
            "gridwidth": 2,
            "linecolor": "white",
            "showbackground": true,
            "ticks": "",
            "zerolinecolor": "white"
           },
           "yaxis": {
            "backgroundcolor": "#E5ECF6",
            "gridcolor": "white",
            "gridwidth": 2,
            "linecolor": "white",
            "showbackground": true,
            "ticks": "",
            "zerolinecolor": "white"
           },
           "zaxis": {
            "backgroundcolor": "#E5ECF6",
            "gridcolor": "white",
            "gridwidth": 2,
            "linecolor": "white",
            "showbackground": true,
            "ticks": "",
            "zerolinecolor": "white"
           }
          },
          "shapedefaults": {
           "line": {
            "color": "#2a3f5f"
           }
          },
          "ternary": {
           "aaxis": {
            "gridcolor": "white",
            "linecolor": "white",
            "ticks": ""
           },
           "baxis": {
            "gridcolor": "white",
            "linecolor": "white",
            "ticks": ""
           },
           "bgcolor": "#E5ECF6",
           "caxis": {
            "gridcolor": "white",
            "linecolor": "white",
            "ticks": ""
           }
          },
          "title": {
           "x": 0.05
          },
          "xaxis": {
           "automargin": true,
           "gridcolor": "white",
           "linecolor": "white",
           "ticks": "",
           "title": {
            "standoff": 15
           },
           "zerolinecolor": "white",
           "zerolinewidth": 2
          },
          "yaxis": {
           "automargin": true,
           "gridcolor": "white",
           "linecolor": "white",
           "ticks": "",
           "title": {
            "standoff": 15
           },
           "zerolinecolor": "white",
           "zerolinewidth": 2
          }
         }
        },
        "title": {
         "text": "The NYC schools: <br>SAT score VS share of female students"
        },
        "xaxis": {
         "title": {
          "text": "Share of female students"
         }
        },
        "yaxis": {
         "title": {
          "text": "SAT score"
         }
        }
       }
      },
      "text/html": [
       "<div>\n",
       "        \n",
       "        \n",
       "            <div id=\"1af01f65-21b8-4c14-b596-468d4c51bc7d\" class=\"plotly-graph-div\" style=\"height:525px; width:100%;\"></div>\n",
       "            <script type=\"text/javascript\">\n",
       "                require([\"plotly\"], function(Plotly) {\n",
       "                    window.PLOTLYENV=window.PLOTLYENV || {};\n",
       "                    \n",
       "                if (document.getElementById(\"1af01f65-21b8-4c14-b596-468d4c51bc7d\")) {\n",
       "                    Plotly.newPlot(\n",
       "                        '1af01f65-21b8-4c14-b596-468d4c51bc7d',\n",
       "                        [{\"marker\": {\"color\": [38.6, 42.6, 45.3, 53.7, 50.8, 68.7, 57.5, 55.0, 46.6, 67.8, 56.3, 25.1, 49.4, 56.1, 60.1, 100.0, 73.7, 51.3, 41.0, 27.6, 52.0, 49.6, 74.7, 56.0, 53.0, 57.6, 67.5, 61.8, 51.5, 70.6, 53.9, 45.1, 39.4, 38.6, 61.5, 53.8, 55.7, 40.7, 45.5, 37.6, 78.6, 50.9, 59.4, 78.8, 48.6, 61.7, 48.7, 39.1, 67.4, 92.7, 57.3, 35.0, 53.3, 48.4, 44.3, 42.1, 43.1, 48.6, 61.6, 53.4, 61.0, 73.6, 59.9, 32.3, 58.9, 45.8, 55.6, 53.6, 57.9, 67.9, 100.0, 100.0, 51.4, 46.5, 50.4, 51.3, 74.6, 47.8, 55.9, 34.2, 60.4, 47.7, 44.2, 47.2, 36.2, 36.5, 41.4, 47.3, 50.1, 51.1, 52.6, 51.4, 50.8, 49.9, 56.8, 54.8, 54.7, 46.0, 42.3, 15.7, 55.5, 7.3, 71.4, 56.0, 99.7, 62.0, 34.0, 50.8, 50.8, 53.0, 38.9, 47.7, 57.0, 50.1, 49.9, 0.0, 50.7, 53.4, 54.0, 53.8, 55.9, 47.8, 46.2, 51.5, 55.9, 51.2, 54.3, 47.7, 45.1, 57.8, 54.1, 48.5, 56.7, 85.4, 48.2, 17.3, 69.1, 83.5, 42.1, 47.7, 43.4, 51.0, 51.1, 52.8, 57.7, 52.8, 56.8, 36.6, 55.6, 48.9, 59.3, 42.2, 53.3, 67.9, 47.6, 46.2, 64.7, 59.2, 40.5, 48.0, 12.7, 42.9, 67.3, 41.4, 42.0, 40.0, 50.0, 38.7, 51.9, 44.7, 17.5, 46.0, 49.2, 50.2, 47.0, 55.0, 48.5, 59.2, 55.7, 48.0, 45.9, 46.3, 47.4, 63.0, 57.3, 54.5, 43.9, 41.7, 51.8, 60.4, 44.2, 100.0, 51.0, 24.5, 53.9, 20.6, 45.3, 43.3, 45.1, 53.8, 51.5, 54.2, 34.3, 52.2, 27.4, 49.0, 46.3, 4.4, 23.1, 57.3, 43.8, 40.9, 55.8, 57.7, 47.2, 49.2, 56.1, 66.1, 49.3, 51.3, 38.3, 48.4, 48.4, 46.2, 50.2, 40.9, 49.9, 48.4, 48.0, 38.4, 36.7, 47.0, 75.1, 45.6, 67.2, 58.2, 76.2, 51.0, 39.0, 63.9, 35.7, 51.1, 52.6, 33.5, 48.5, 78.5, 45.3, 37.4, 56.8, 18.9, 45.6, 48.6, 63.2, 50.2, 15.9, 29.7, 41.6, 52.2, 70.2, 62.4, 40.7, 46.5, 46.6, 41.6, 100.0, 41.1, 46.4, 11.1, 43.6, 42.2, 57.6, 48.5, 49.0, 48.7, 22.0, 49.9, 54.7, 45.6, 58.8, 63.7, 49.3, 51.5, 65.9, 50.7, 56.2, 55.5, 52.2, 60.7, 42.5, 45.0, 47.1, 54.0, 56.9, 53.4, 39.7, 14.7, 53.3, 42.7, 45.9, 57.8, 50.8, 44.2, 71.1, 46.2, 52.6, 50.8, 45.7, 50.6, 54.2, 47.4, 48.9, 45.5, 51.9, 56.2, 56.1, 44.8, 47.0, 45.5, 32.7, 48.9, 50.1, 53.0, 51.9, 53.9, 34.9, 61.9, 50.4, 43.5, 47.0, 100.0, 44.0, 46.7, 43.1, 52.7, 56.9, 44.9, 39.6, 57.2, 100.0, 46.8, 46.3, 48.7, 70.0, 28.2, 46.8, 55.0, 55.2, 58.5, 48.0, 50.8, 47.5, 45.2, 53.6, 50.4, 49.2, 32.9, 43.0, 50.0, 47.9, 51.6, 45.5, 47.9, 46.8], \"colorscale\": [[0.0, \"#440154\"], [0.1111111111111111, \"#482878\"], [0.2222222222222222, \"#3e4989\"], [0.3333333333333333, \"#31688e\"], [0.4444444444444444, \"#26828e\"], [0.5555555555555556, \"#1f9e89\"], [0.6666666666666666, \"#35b779\"], [0.7777777777777778, \"#6ece58\"], [0.8888888888888888, \"#b5de2b\"], [1.0, \"#fde725\"]], \"line\": {\"width\": 1.5}, \"opacity\": 0.4, \"size\": 15}, \"mode\": \"markers\", \"text\": [\"HENRY STREET SCHOOL FOR INTERNATIONAL STUDIES\", \"UNIVERSITY NEIGHBORHOOD HIGH SCHOOL\", \"EAST SIDE COMMUNITY SCHOOL\", \"MARTA VALLE HIGH SCHOOL\", \"NEW EXPLORATIONS INTO SCIENCE, TECHNOLOGY AND MATH HIGH SCHOOL\", \"BARD HIGH SCHOOL EARLY COLLEGE\", \"47 THE AMERICAN SIGN LANGUAGE AND ENGLISH SECONDARY SCHOOL\", \"FOOD AND FINANCE HIGH SCHOOL\", \"ESSEX STREET ACADEMY\", \"HIGH SCHOOL OF HOSPITALITY MANAGEMENT\", \"PACE HIGH SCHOOL\", \"URBAN ASSEMBLY SCHOOL OF DESIGN AND CONSTRUCTION, THE\", \"FACING HISTORY SCHOOL, THE\", \"URBAN ASSEMBLY ACADEMY OF GOVERNMENT AND LAW, THE\", \"LOWER MANHATTAN ARTS ACADEMY\", \"URBAN ASSEMBLY SCHOOL OF BUSINESS FOR YOUNG WOMEN, THE\", \"GRAMERCY ARTS HIGH SCHOOL\", \"NYC ISCHOOL\", \"MANHATTAN BUSINESS ACADEMY\", \"BUSINESS OF SPORTS SCHOOL\", \"THE HIGH SCHOOL FOR LANGUAGE AND DIPLOMACY\", \"HIGH SCHOOL FOR ENVIRONMENTAL STUDIES\", \"PROFESSIONAL PERFORMING ARTS HIGH SCHOOL\", \"BARUCH COLLEGE CAMPUS HIGH SCHOOL\", \"N.Y.C. LAB SCHOOL FOR COLLABORATIVE STUDIES\", \"N.Y.C. MUSEUM SCHOOL\", \"ELEANOR ROOSEVELT HIGH SCHOOL\", \"MILLENNIUM HIGH SCHOOL\", \"LANDMARK HIGH SCHOOL\", \"HIGH SCHOOL FOR HEALTH PROFESSIONS AND HUMAN SERVICES\", \"LEADERSHIP AND PUBLIC SERVICE HIGH SCHOOL\", \"MANHATTAN ACADEMY FOR ARTS & LANGUAGE\", \"HUDSON HIGH SCHOOL OF LEARNING TECHNOLOGIES\", \"INTERNATIONAL HIGH SCHOOL AT UNION SQUARE\", \"MANHATTAN VILLAGE ACADEMY\", \"VANGUARD HIGH SCHOOL\", \"MANHATTAN INTERNATIONAL HIGH SCHOOL\", \"STUYVESANT HIGH SCHOOL\", \"HIGH SCHOOL OF ECONOMICS AND FINANCE\", \"UNITY CENTER FOR URBAN TECHNOLOGIES\", \"TALENT UNLIMITED HIGH SCHOOL\", \"MURRY BERGTRAUM HIGH SCHOOL FOR BUSINESS CAREERS\", \"JACQUELINE KENNEDY ONASSIS HIGH SCHOOL\", \"REPERTORY COMPANY HIGH SCHOOL FOR THEATRE ARTS\", \"MANHATTAN BRIDGES HIGH SCHOOL\", \"NEW DESIGN HIGH SCHOOL\", \"HIGH SCHOOL FOR DUAL LANGUAGE AND ASIAN STUDIES\", \"THE URBAN ASSEMBLY NEW YORK HARBOR SCHOOL\", \"RICHARD R. GREEN HIGH SCHOOL OF TEACHING\", \"THE HIGH SCHOOL OF FASHION INDUSTRIES\", \"HUMANITIES PREPARATORY ACADEMY\", \"CHELSEA CAREER AND TECHNICAL EDUCATION HIGH SCHOOL\", \"ART AND DESIGN HIGH SCHOOL\", \"LIFE SCIENCES SECONDARY SCHOOL\", \"HIGH SCHOOL FOR ARTS, IMAGINATION AND INQUIRY\", \"URBAN ASSEMBLY SCHOOL FOR MEDIA STUDIES, THE\", \"THE URBAN ASSEMBLY SCHOOL FOR GREEN CAREERS\", \"THE GLOBAL LEARNING COLLABORATIVE\", \"WADLEIGH SECONDARY SCHOOL FOR THE PERFORMING & VISUAL ARTS\", \"FRANK MCCOURT HIGH SCHOOL\", \"BEACON HIGH SCHOOL\", \"FIORELLO H. LAGUARDIA HIGH SCHOOL OF MUSIC & ART AND PERFORMING ARTS\", \"HIGH SCHOOL FOR LAW, ADVOCACY AND COMMUNITY JUSTICE\", \"HIGH SCHOOL OF ARTS AND TECHNOLOGY\", \"MANHATTAN / HUNTER SCIENCE HIGH SCHOOL\", \"FREDERICK DOUGLASS ACADEMY II SECONDARY SCHOOL\", \"COALITION SCHOOL FOR SOCIAL CHANGE\", \"MANHATTAN CENTER FOR SCIENCE AND MATHEMATICS\", \"PARK EAST HIGH SCHOOL\", \"CENTRAL PARK EAST HIGH SCHOOL\", \"YOUNG WOMEN'S LEADERSHIP SCHOOL\", \"YOUNG WOMEN'S LEADERSHIP SCHOOL\", \"HERITAGE SCHOOL, THE\", \"MOTT HALL HIGH SCHOOL\", \"COLUMBIA SECONDARY SCHOOL FOR MATH, SCIENCE, AND ENGINEERING\", \"ACADEMY FOR SOCIAL ACTION: A COLLEGE BOARD SCHOOL\", \"URBAN ASSEMBLY SCHOOL FOR THE PERFORMING ARTS\", \"FREDERICK DOUGLASS ACADEMY\", \"THURGOOD MARSHALL ACADEMY FOR LEARNING AND SOCIAL CHANGE\", \"HIGH SCHOOL FOR MATHEMATICS, SCIENCE AND ENGINEERING AT CITY COLLEGE\", \"CITY COLLEGE ACADEMY OF THE ARTS\", \"COMMUNITY HEALTH ACADEMY OF THE HEIGHTS\", \"WASHINGTON HEIGHTS EXPEDITIONARY LEARNING SCHOOL\", \"HIGH SCHOOL FOR EXCELLENCE AND INNOVATION\", \"HIGH SCHOOL FOR INTERNATIONAL BUSINESS AND FINANCE\", \"HIGH SCHOOL FOR MEDIA AND COMMUNICATIONS\", \"HIGH SCHOOL FOR LAW AND PUBLIC SERVICE\", \"HIGH SCHOOL FOR HEALTH CAREERS AND SCIENCES\", \"A. PHILIP RANDOLPH CAMPUS HIGH SCHOOL\", \"GREGORIO LUPERON HIGH SCHOOL FOR SCIENCE AND MATHEMATICS\", \"SOUTH BRONX PREPARATORY: A COLLEGE BOARD SCHOOL\", \"INTERNATIONAL COMMUNITY HIGH SCHOOL\", \"COMMUNITY SCHOOL FOR SOCIAL JUSTICE\", \"MOTT HAVEN VILLAGE PREPARATORY HIGH SCHOOL\", \"UNIVERSITY HEIGHTS SECONDARY SCHOOL\", \"HOSTOSsLINCOLN ACADEMY OF SCIENCE\", \"FOREIGN LANGUAGE ACADEMY OF GLOBAL STUDIES\", \"BRONX LEADERSHIP ACADEMY II HIGH SCHOOL\", \"NEW EXPLORERS HIGH SCHOOL\", \"URBAN ASSEMBLY SCHOOL FOR CAREERS IN SPORTS\", \"BRONX ACADEMY OF LETTERS\", \"ALFRED E. SMITH CAREER AND TECHNICAL EDUCATION HIGH SCHOOL\", \"HEALTH OPPORTUNITIES HIGH SCHOOL\", \"BRONX STUDIO SCHOOL FOR WRITERS AND ARTISTS\", \"WOMEN'S ACADEMY OF EXCELLENCE\", \"RENAISSANCE HIGH SCHOOL FOR MUSICAL THEATER & TECHNOLOGY\", \"PABLO NERUDA ACADEMY FOR ARCHITECTURE AND WORLD STUDIES\", \"MILLENNIUM ART ACADEMY\", \"HOLCOMBE L. RUCKER SCHOOL OF COMMUNITY RESEARCH\", \"ANTONIA PANTOJA PREPARATORY ACADEMY, A COLLEGE BOARD SCHOOL\", \"HERBERT H. LEHMAN HIGH SCHOOL\", \"BRONX BRIDGES HIGH SCHOOL\", \"FELISA RINCON DE GAUTIER INSTITUTE FOR LAW AND PUBLIC POLICY, THE\", \"BANANA KELLY HIGH SCHOOL\", \"BRONX EXPEDITIONARY LEARNING HIGH SCHOOL\", \"EAGLE ACADEMY FOR YOUNG MEN\", \"URBAN ASSEMBLY SCHOOL FOR APPLIED MATH AND SCIENCE, THE\", \"EXIMIUS COLLEGE PREPARATORY ACADEMY: A COLLEGE BOARD SCHOOL\", \"MOTT HALL BRONX HIGH SCHOOL\", \"BRONX CENTER FOR SCIENCE AND MATHEMATICS\", \"VALIDUS PREPARATORY ACADEMY: AN EXPEDITIONARY LEARNING SCHOOL\", \"LEADERSHIP INSTITUTE\", \"MORRIS ACADEMY FOR COLLABORATIVE STUDIES\", \"BRONX EARLY COLLEGE ACADEMY FOR TEACHING & LEARNING\", \"DREAMYARD PREPARATORY SCHOOL\", \"ACADEMY FOR LANGUAGE AND TECHNOLOGY\", \"BRONX INTERNATIONAL HIGH SCHOOL\", \"SCHOOL FOR EXCELLENCE\", \"BRONX HIGH SCHOOL OF BUSINESS\", \"BRONX HIGH SCHOOL FOR MEDICAL SCIENCE\", \"BRONX SCHOOL FOR LAW, GOVERNMENT AND JUSTICE\", \"FREDERICK DOUGLASS ACADEMY III SECONDARY SCHOOL\", \"BRONX LEADERSHIP ACADEMY HIGH SCHOOL\", \"HIGH SCHOOL FOR VIOLIN AND DANCE\", \"RIVERDALE / KINGSBRIDGE ACADEMY (MIDDLE SCHOOL / HIGH SCHOOL 141)\", \"BRONX ENGINEERING AND TECHNOLOGY ACADEMY\", \"THEATRE ARTS PRODUCTION COMPANY SCHOOL\", \"THE MARIE CURIE SCHOOL FOR MEDICINE, NURSING, AND HEALTH PROFESSIONS\", \"WEST BRONX ACADEMY FOR THE FUTURE\", \"KINGSBRIDGE INTERNATIONAL HIGH SCHOOL\", \"BRONX SCHOOL OF LAW AND FINANCE\", \"INTERNATIONAL SCHOOL FOR LIBERAL ARTS\", \"INsTECH ACADEMY (M.S. / HIGH SCHOOL 368)\", \"KNOWLEDGE AND POWER PREPARATORY ACADEMY INTERNATIONAL HIGH SCHOOL (KAPPA)\", \"HIGH SCHOOL FOR TEACHING AND THE PROFESSIONS\", \"BELMONT PREPARATORY HIGH SCHOOL\", \"FORDHAM HIGH SCHOOL FOR THE ARTS\", \"FORDHAM LEADERSHIP ACADEMY FOR BUSINESS AND TECHNOLOGY\", \"BRONX HIGH SCHOOL FOR LAW AND COMMUNITY SERVICE\", \"DEWITT CLINTON HIGH SCHOOL\", \"CELIA CRUZ BRONX HIGH SCHOOL OF MUSIC, THE\", \"BRONX HIGH SCHOOL OF SCIENCE\", \"MARBLE HILL HIGH SCHOOL FOR INTERNATIONAL STUDIES\", \"BRONX THEATRE HIGH SCHOOL\", \"DISCOVERY HIGH SCHOOL\", \"HIGH SCHOOL OF AMERICAN STUDIES AT LEHMAN COLLEGE\", \"BRONX HEALTH SCIENCES HIGH SCHOOL\", \"BRONX HIGH SCHOOL FOR WRITING AND COMMUNICATION ARTS\", \"BRONX LAB SCHOOL\", \"ACADEMY FOR SCHOLARSHIP AND ENTREPRENEURSHIP: A COLLEGE BOARD SCHOOL\", \"HIGH SCHOOL OF COMPUTERS AND TECHNOLOGY\", \"COLLEGIATE INSTITUTE FOR MATH AND SCIENCE\", \"BRONX ACADEMY OF HEALTH CAREERS\", \"ASTOR COLLEGIATE ACADEMY\", \"BRONX HIGH SCHOOL FOR THE VISUAL ARTS\", \"HARRY S TRUMAN HIGH SCHOOL\", \"NEW WORLD HIGH SCHOOL\", \"THE BRONXWOOD PREPARATORY ACADEMY\", \"PELHAM PREPARATORY ACADEMY\", \"HIGH SCHOOL FOR CONTEMPORARY ARTS\", \"BRONX AEROSPACE HIGH SCHOOL\", \"METROPOLITAN HIGH SCHOOL, THE\", \"EXPLORATIONS ACADEMY\", \"BRONX LATIN\", \"EAST BRONX ACADEMY FOR THE FUTURE\", \"PEACE AND DIVERSITY ACADEMY\", \"PAN AMERICAN INTERNATIONAL HIGH SCHOOL AT MONROE\", \"THE CINEMA SCHOOL\", \"BRONX CAREER AND COLLEGE PREPARATORY HIGH SCHOOL\", \"HIGH SCHOOL OF WORLD CULTURES\", \"FANNIE LOU HAMER FREEDOM HIGH SCHOOL\", \"WINGS ACADEMY\", \"MONROE ACADEMY FOR VISUAL ARTS & DESIGN\", \"DR. SUSAN S. MCKINNEY SECONDARY SCHOOL OF THE ARTS\", \"URBAN ASSEMBLY HIGH SCHOOL OF MUSIC AND ART\", \"BROOKLYN COMMUNITY HIGH SCHOOL OF COMMUNICATION, ARTS AND MEDIA\", \"SCIENCE SKILLS CENTER HIGH SCHOOL FOR SCIENCE, TECHNOLOGY AND THE CREATIVE ARTS\", \"BROOKLYN TECHNICAL HIGH SCHOOL\", \"BROOKLYN INTERNATIONAL HIGH SCHOOL\", \"THE URBAN ASSEMBLY SCHOOL FOR LAW AND JUSTICE\", \"ACORN COMMUNITY HIGH SCHOOL\", \"URBAN ASSEMBLY INSTITUTE OF MATH AND SCIENCE FOR YOUNG WOMEN\", \"BEDFORD ACADEMY HIGH SCHOOL\", \"GEORGE WESTINGHOUSE CAREER AND TECHNICAL EDUCATION HIGH SCHOOL\", \"BENJAMIN BANNEKER ACADEMY\", \"CITY POLYTECHNIC HIGH SCHOOL OF ENGINEERING, ARCHITECTURE, AND TECHNOLOGY\", \"JUAN MOREL CAMPOS SECONDARY SCHOOL\", \"FOUNDATIONS ACADEMY\", \"BROOKLYN LATIN SCHOOL, THE\", \"GREEN SCHOOL: AN ACADEMY FOR ENVIRONMENTAL CAREERS\", \"PROGRESS HIGH SCHOOL FOR PROFESSIONAL CAREERS\", \"SCHOOL FOR LEGAL STUDIES\", \"THE HIGH SCHOOL FOR ENTERPRISE, BUSINESS AND TECHNOLOGY\", \"BROOKLYN PREPARATORY HIGH SCHOOL\", \"WILLIAMSBURG HIGH SCHOOL FOR ARCHITECTURE AND DESIGN\", \"WILLIAMSBURG PREPARATORY SCHOOL\", \"LYONS COMMUNITY SCHOOL\", \"AUTOMOTIVE HIGH SCHOOL\", \"FRANCES PERKINS ACADEMY\", \"EL PUENTE ACADEMY FOR PEACE AND JUSTICE\", \"BROOKLYN SCHOOL FOR GLOBAL STUDIES\", \"BROOKLYN SECONDARY SCHOOL FOR COLLABORATIVE STUDIES\", \"SECONDARY SCHOOL FOR LAW\", \"SECONDARY SCHOOL FOR JOURNALISM\", \"PARK SLOPE COLLEGIATE\", \"SCHOOL FOR INTERNATIONAL STUDIES\", \"COBBLE HILL SCHOOL OF AMERICAN STUDIES\", \"BROOKLYN HIGH SCHOOL OF THE ARTS\", \"SUNSET PARK HIGH SCHOOL\", \"FREDERICK DOUGLASS ACADEMY IV SECONDARY SCHOOL\", \"BOYS AND GIRLS HIGH SCHOOL\", \"BROOKLYN HIGH SCHOOL FOR LAW AND TECHNOLOGY\", \"THE BROOKLYN ACADEMY OF GLOBAL FINANCE\", \"ACADEMY FOR COLLEGE PREPARATION AND CAREER EXPLORATION: A COLLEGE BOARD SCHOOL\", \"ACADEMY OF HOSPITALITY AND TOURISM\", \"INTERNATIONAL HIGH SCHOOL AT PROSPECT HEIGHTS\", \"THE HIGH SCHOOL FOR GLOBAL CITIZENSHIP\", \"SCHOOL FOR HUMAN RIGHTS, THE\", \"SCHOOL FOR DEMOCRACY AND LEADERSHIP\", \"HIGH SCHOOL FOR YOUTH AND COMMUNITY DEVELOPMENT AT ERASMUS\", \"HIGH SCHOOL FOR SERVICE & LEARNING AT ERASMUS\", \"SCIENCE, TECHNOLOGY AND RESEARCH EARLY COLLEGE HIGH SCHOOL AT ERASMUS\", \"HIGH SCHOOL FOR PUBLIC SERVICE: HEROES OF TOMORROW\", \"BROOKLYN ACADEMY OF SCIENCE AND THE ENVIRONMENT\", \"BROOKLYN SCHOOL FOR MUSIC & THEATRE\", \"MEDGAR EVERS COLLEGE PREPARATORY SCHOOL\", \"CLARA BARTON HIGH SCHOOL\", \"IT TAKES A VILLAGE ACADEMY\", \"BROOKLYN GENERATION SCHOOL\", \"BROOKLYN THEATRE ARTS HIGH SCHOOL\", \"KURT HAHN EXPEDITIONARY LEARNING SCHOOL\", \"VICTORY COLLEGIATE HIGH SCHOOL\", \"ARTS & MEDIA PREPARATORY ACADEMY\", \"HIGH SCHOOL FOR INNOVATION IN ADVERTISING AND MEDIA\", \"CULTURAL ACADEMY FOR THE ARTS AND SCIENCES\", \"HIGH SCHOOL FOR MEDICAL PROFESSIONS\", \"ACADEMY FOR CONSERVATION AND THE ENVIRONMENT\", \"URBAN ACTION ACADEMY\", \"EAST NEW YORK FAMILY ACADEMY\", \"FDNY HIGH SCHOOL FOR FIRE AND LIFE SAFETY\", \"HIGH SCHOOL FOR CIVIL RIGHTS\", \"PERFORMING ARTS AND TECHNOLOGY HIGH SCHOOL\", \"WORLD ACADEMY FOR TOTAL COMMUNITY HEALTH HIGH SCHOOL\", \"MULTICULTURAL HIGH SCHOOL\", \"TRANSIT TECH CAREER AND TECHNICAL EDUCATION HIGH SCHOOL\", \"ACADEMY OF INNOVATIVE TECHNOLOGY\", \"BROOKLYN LAB SCHOOL\", \"CYPRESS HILLS COLLEGIATE PREPARATORY SCHOOL\", \"W. H. MAXWELL CAREER AND TECHNICAL EDUCATION HIGH SCHOOL\", \"THE SCHOOL FOR CLASSICS: AN ACADEMY OF THINKERS, WRITERS AND PERFORMERS\", \"NEW UTRECHT HIGH SCHOOL\", \"HIGH SCHOOL OF TELECOMMUNICATION ARTS AND TECHNOLOGY\", \"FORT HAMILTON HIGH SCHOOL\", \"FRANKLIN DELANO ROOSEVELT HIGH SCHOOL\", \"THE URBAN ASSEMBLY SCHOOL FOR CRIMINAL JUSTICE\", \"INTERNATIONAL HIGH SCHOOL AT LAFAYETTE\", \"RACHEL CARSON HIGH SCHOOL FOR COASTAL STUDIES\", \"HIGH SCHOOL OF SPORTS MANAGEMENT\", \"ABRAHAM LINCOLN HIGH SCHOOL\", \"KINGSBOROUGH EARLY COLLEGE SCHOOL\", \"EDWARD R. MURROW HIGH SCHOOL\", \"JOHN DEWEY HIGH SCHOOL\", \"LIFE ACADEMY HIGH SCHOOL FOR FILM AND MUSIC\", \"EXPEDITIONARY LEARNING SCHOOL FOR COMMUNITY LEADERS\", \"WILLIAM E. GRADY CAREER AND TECHNICAL EDUCATION HIGH SCHOOL\", \"BROOKLYN STUDIO SECONDARY SCHOOL\", \"MIDWOOD HIGH SCHOOL\", \"JAMES MADISON HIGH SCHOOL\", \"LEON M. GOLDSTEIN HIGH SCHOOL FOR THE SCIENCES\", \"BROOKLYN COLLEGE ACADEMY\", \"BROOKLYN COLLEGIATE: A COLLEGE BOARD SCHOOL\", \"FREDERICK DOUGLASS ACADEMY VII HIGH SCHOOL\", \"TEACHERS PREPARATORY HIGH SCHOOL\", \"ACADEMY OF FINANCE AND ENTERPRISE\", \"HIGH SCHOOL OF APPLIED COMMUNICATION\", \"CIVIC LEADERSHIP ACADEMY\", \"PAN AMERICAN INTERNATIONAL HIGH SCHOOL\", \"BARD HIGH SCHOOL EARLY COLLEGE II\", \"NEWTOWN HIGH SCHOOL\", \"GROVER CLEVELAND HIGH SCHOOL\", \"MIDDLE COLLEGE HIGH SCHOOL AT LAGUARDIA COMMUNITY COLLEGE\", \"INTERNATIONAL HIGH SCHOOL AT LAGUARDIA COMMUNITY COLLEGE\", \"HIGH SCHOOL FOR ARTS AND BUSINESS\", \"ROBERT F. WAGNER, JR. SECONDARY SCHOOL FOR ARTS AND TECHNOLOGY\", \"QUEENS VOCATIONAL AND TECHNICAL HIGH SCHOOL\", \"AVIATION CAREER & TECHNICAL EDUCATION HIGH SCHOOL\", \"QUEENS SCHOOL OF INQUIRY, THE\", \"FLUSHING INTERNATIONAL HIGH SCHOOL\", \"EASTsWEST SCHOOL OF INTERNATIONAL STUDIES\", \"WORLD JOURNALISM PREPARATORY: A COLLEGE BOARD SCHOOL\", \"JOHN BOWNE HIGH SCHOOL\", \"FLUSHING HIGH SCHOOL\", \"TOWNSEND HARRIS HIGH SCHOOL\", \"ROBERT F. KENNEDY COMMUNITY HIGH SCHOOL\", \"BENJAMIN N. CARDOZO HIGH SCHOOL\", \"FRANCIS LEWIS HIGH SCHOOL\", \"MARTIN VAN BUREN HIGH SCHOOL\", \"BAYSIDE HIGH SCHOOL\", \"QUEENS HIGH SCHOOL OF TEACHING, LIBERAL ARTS AND THE SCIENCES\", \"FREDERICK DOUGLASS ACADEMY VI HIGH SCHOOL\", \"CHANNEL VIEW SCHOOL FOR RESEARCH\", \"QUEENS HIGH SCHOOL FOR INFORMATION, RESEARCH, AND TECHNOLOGY\", \"ROBERT H. GODDARD HIGH SCHOOL OF COMMUNICATION ARTS AND TECHNOLOGY\", \"ACADEMY OF MEDICAL TECHNOLOGY: A COLLEGE BOARD SCHOOL\", \"SCHOLARS' ACADEMY\", \"AUGUST MARTIN HIGH SCHOOL\", \"RICHMOND HILL HIGH SCHOOL\", \"JOHN ADAMS HIGH SCHOOL\", \"HIGH SCHOOL FOR CONSTRUCTION TRADES, ENGINEERING AND ARCHITECTURE\", \"YORK EARLY COLLEGE ACADEMY\", \"QUEENS COLLEGIATE: A COLLEGE BOARD SCHOOL\", \"HILLSIDE ARTS & LETTERS ACADEMY\", \"FOREST HILLS HIGH SCHOOL\", \"HILLCREST HIGH SCHOOL\", \"THOMAS A. EDISON CAREER AND TECHNICAL EDUCATION HIGH SCHOOL\", \"QUEENS GATEWAY TO HEALTH SCIENCES SECONDARY SCHOOL\", \"QUEENS METROPOLITAN HIGH SCHOOL\", \"QUEENS HIGH SCHOOL FOR THE SCIENCES AT YORK COLLEGE\", \"HIGH SCHOOL FOR LAW ENFORCEMENT AND PUBLIC SAFETY\", \"YOUNG WOMEN'S LEADERSHIP SCHOOL, QUEENS\", \"QUEENS PREPARATORY ACADEMY\", \"PATHWAYS COLLEGE PREPARATORY SCHOOL: A COLLEGE BOARD SCHOOL\", \"EXCELSIOR PREPARATORY HIGH SCHOOL\", \"GEORGE WASHINGTON CARVER HIGH SCHOOL FOR THE SCIENCES\", \"PREPARATORY ACADEMY FOR WRITERS: A COLLEGE BOARD SCHOOL\", \"CAMBRIA HEIGHTS ACADEMY\", \"MATHEMATICS, SCIENCE RESEARCH AND TECHNOLOGY MAGNET HIGH SCHOOL\", \"HUMANITIES & ARTS MAGNET HIGH SCHOOL\", \"YOUNG WOMEN'S LEADERSHIP SCHOOL, ASTORIA\", \"ACADEMY FOR CAREERS IN TELEVISION AND FILM\", \"WILLIAM CULLEN BRYANT HIGH SCHOOL\", \"LONG ISLAND CITY HIGH SCHOOL\", \"FRANK SINATRA SCHOOL OF THE ARTS HIGH SCHOOL\", \"INFORMATION TECHNOLOGY HIGH SCHOOL\", \"NEWCOMERS HIGH SCHOOL\", \"ACADEMY OF AMERICAN STUDIES\", \"BACCALAUREATE SCHOOL FOR GLOBAL EDUCATION\", \"CSI HIGH SCHOOL FOR INTERNATIONAL STUDIES\", \"GAYNOR MCCOWN EXPEDITIONARY LEARNING SCHOOL\", \"THE MICHAEL J. PETRIDES SCHOOL\", \"NEW DORP HIGH SCHOOL\", \"PORT RICHMOND HIGH SCHOOL\", \"CURTIS HIGH SCHOOL\", \"TOTTENVILLE HIGH SCHOOL\", \"SUSAN E. WAGNER HIGH SCHOOL\", \"RALPH R. MCKEE CAREER AND TECHNICAL EDUCATION HIGH SCHOOL\", \"STATEN ISLAND TECHNICAL HIGH SCHOOL\", \"ACADEMY FOR ENVIRONMENTAL LEADERSHIP\", \"EBC HIGH SCHOOL FOR PUBLIC SERVICE\\u2013BUSHWICK\", \"BUSHWICK SCHOOL FOR SOCIAL JUSTICE\", \"ACADEMY OF URBAN PLANNING\", \"ALL CITY LEADERSHIP SECONDARY SCHOOL\", \"BUSHWICK LEADERS HIGH SCHOOL FOR ACADEMIC EXCELLENCE\"], \"type\": \"scatter\", \"x\": [38.6, 42.6, 45.3, 53.7, 50.8, 68.7, 57.5, 55.0, 46.6, 67.8, 56.3, 25.1, 49.4, 56.1, 60.1, 100.0, 73.7, 51.3, 41.0, 27.6, 52.0, 49.6, 74.7, 56.0, 53.0, 57.6, 67.5, 61.8, 51.5, 70.6, 53.9, 45.1, 39.4, 38.6, 61.5, 53.8, 55.7, 40.7, 45.5, 37.6, 78.6, 50.9, 59.4, 78.8, 48.6, 61.7, 48.7, 39.1, 67.4, 92.7, 57.3, 35.0, 53.3, 48.4, 44.3, 42.1, 43.1, 48.6, 61.6, 53.4, 61.0, 73.6, 59.9, 32.3, 58.9, 45.8, 55.6, 53.6, 57.9, 67.9, 100.0, 100.0, 51.4, 46.5, 50.4, 51.3, 74.6, 47.8, 55.9, 34.2, 60.4, 47.7, 44.2, 47.2, 36.2, 36.5, 41.4, 47.3, 50.1, 51.1, 52.6, 51.4, 50.8, 49.9, 56.8, 54.8, 54.7, 46.0, 42.3, 15.7, 55.5, 7.3, 71.4, 56.0, 99.7, 62.0, 34.0, 50.8, 50.8, 53.0, 38.9, 47.7, 57.0, 50.1, 49.9, 0.0, 50.7, 53.4, 54.0, 53.8, 55.9, 47.8, 46.2, 51.5, 55.9, 51.2, 54.3, 47.7, 45.1, 57.8, 54.1, 48.5, 56.7, 85.4, 48.2, 17.3, 69.1, 83.5, 42.1, 47.7, 43.4, 51.0, 51.1, 52.8, 57.7, 52.8, 56.8, 36.6, 55.6, 48.9, 59.3, 42.2, 53.3, 67.9, 47.6, 46.2, 64.7, 59.2, 40.5, 48.0, 12.7, 42.9, 67.3, 41.4, 42.0, 40.0, 50.0, 38.7, 51.9, 44.7, 17.5, 46.0, 49.2, 50.2, 47.0, 55.0, 48.5, 59.2, 55.7, 48.0, 45.9, 46.3, 47.4, 63.0, 57.3, 54.5, 43.9, 41.7, 51.8, 60.4, 44.2, 100.0, 51.0, 24.5, 53.9, 20.6, 45.3, 43.3, 45.1, 53.8, 51.5, 54.2, 34.3, 52.2, 27.4, 49.0, 46.3, 4.4, 23.1, 57.3, 43.8, 40.9, 55.8, 57.7, 47.2, 49.2, 56.1, 66.1, 49.3, 51.3, 38.3, 48.4, 48.4, 46.2, 50.2, 40.9, 49.9, 48.4, 48.0, 38.4, 36.7, 47.0, 75.1, 45.6, 67.2, 58.2, 76.2, 51.0, 39.0, 63.9, 35.7, 51.1, 52.6, 33.5, 48.5, 78.5, 45.3, 37.4, 56.8, 18.9, 45.6, 48.6, 63.2, 50.2, 15.9, 29.7, 41.6, 52.2, 70.2, 62.4, 40.7, 46.5, 46.6, 41.6, 100.0, 41.1, 46.4, 11.1, 43.6, 42.2, 57.6, 48.5, 49.0, 48.7, 22.0, 49.9, 54.7, 45.6, 58.8, 63.7, 49.3, 51.5, 65.9, 50.7, 56.2, 55.5, 52.2, 60.7, 42.5, 45.0, 47.1, 54.0, 56.9, 53.4, 39.7, 14.7, 53.3, 42.7, 45.9, 57.8, 50.8, 44.2, 71.1, 46.2, 52.6, 50.8, 45.7, 50.6, 54.2, 47.4, 48.9, 45.5, 51.9, 56.2, 56.1, 44.8, 47.0, 45.5, 32.7, 48.9, 50.1, 53.0, 51.9, 53.9, 34.9, 61.9, 50.4, 43.5, 47.0, 100.0, 44.0, 46.7, 43.1, 52.7, 56.9, 44.9, 39.6, 57.2, 100.0, 46.8, 46.3, 48.7, 70.0, 28.2, 46.8, 55.0, 55.2, 58.5, 48.0, 50.8, 47.5, 45.2, 53.6, 50.4, 49.2, 32.9, 43.0, 50.0, 47.9, 51.6, 45.5, 47.9, 46.8], \"y\": [1122.0, 1172.0, 1149.0, 1207.0, 1621.0, 1856.0, 1182.0, 1194.0, 1156.0, 1111.0, 1293.0, 1269.0, 1051.0, 1148.0, 1200.0, 1127.0, 1176.0, 1435.0, 1223.4388059701494, 1223.4388059701494, 1223.4388059701494, 1419.0, 1522.0, 1577.0, 1677.0, 1419.0, 1758.0, 1614.0, 1170.0, 1306.0, 1233.0, 1223.4388059701494, 1223.4388059701494, 1223.4388059701494, 1372.0, 1199.0, 1227.0, 2096.0, 1374.0, 1070.0, 1416.0, 1240.0, 1239.0, 1253.0, 1058.0, 1168.0, 1424.0, 1212.0, 1195.0, 1257.0, 1255.0, 1207.0, 1315.0, 1236.0, 1132.0, 1144.0, 1223.4388059701494, 1223.4388059701494, 1109.0, 1223.4388059701494, 1744.0, 1707.0, 1196.0, 1277.0, 1446.0, 1096.0, 1084.0, 1430.0, 1128.0, 1221.0, 1326.0, 1326.0, 1054.0, 1210.0, 1223.4388059701494, 1062.0, 1077.0, 1374.0, 1202.0, 1847.0, 1270.0, 1105.0, 1174.0, 1223.4388059701494, 1127.0, 1098.0, 1102.0, 1224.0, 1309.0, 1014.0, 1090.0, 945.0, 1077.0, 1097.0, 1201.0, 1257.0, 1186.0, 1103.0, 1084.0, 1181.0, 1201.0, 1158.0, 1095.0, 1223.4388059701494, 1171.0, 1158.0, 1038.0, 1164.0, 1084.0, 1223.4388059701494, 1241.0, 1223.4388059701494, 1099.0, 1131.0, 1049.0, 1134.0, 1290.0, 1169.0, 1092.0, 1396.0, 1075.0, 1081.0, 1148.0, 1223.4388059701494, 1138.0, 951.0, 965.0, 1074.0, 1083.0, 1221.0, 1224.0, 1121.0, 1166.0, 1039.0, 1333.0, 1150.0, 1190.0, 1157.0, 1158.0, 962.0, 1182.0, 934.0, 1181.0, 1180.0, 1106.0, 1222.0, 1077.0, 1119.0, 1082.0, 1255.0, 1270.0, 1969.0, 1263.0, 1064.0, 1115.0, 1920.0, 1133.0, 1147.0, 1135.0, 1141.0, 1111.0, 1348.0, 1135.0, 1169.0, 1268.0, 1151.0, 1048.0, 1112.0, 1288.0, 1126.0, 1163.0, 1055.0, 1122.0, 1251.0, 1102.0, 1155.0, 970.0, 1223.4388059701494, 1223.4388059701494, 939.0, 1029.0, 1114.0, 1038.0, 1074.0, 1080.0, 1114.0, 1211.0, 1833.0, 981.0, 1206.0, 1116.0, 1223.4388059701494, 1312.0, 1189.0, 1391.0, 1353.0, 1085.0, 1223.4388059701494, 1740.0, 1189.0, 1114.0, 1204.0, 1215.0, 1090.0, 1112.0, 1187.0, 1103.0, 1093.0, 1122.0, 1035.0, 1111.0, 1179.0, 1203.0, 1169.0, 1175.0, 1212.0, 1185.0, 1258.0, 1223.4388059701494, 1068.0, 1097.0, 1092.0, 1223.4388059701494, 1139.0, 1045.0, 913.0, 1176.0, 1088.0, 1153.0, 1027.0, 1105.0, 1360.0, 1273.0, 1143.0, 1151.0, 1436.0, 1251.0, 963.0, 1145.0, 1118.0, 1092.0, 1143.0, 1080.0, 1183.0, 1169.0, 1159.0, 1111.0, 1135.0, 1242.0, 1023.0, 1054.0, 1149.0, 1106.0, 887.0, 1193.0, 1096.0, 1108.0, 1129.0, 1102.0, 1157.0, 1272.0, 1323.0, 1306.0, 1244.0, 1223.4388059701494, 1026.0, 1237.0, 1164.0, 1226.0, 1223.4388059701494, 1431.0, 1262.0, 1124.0, 1079.0, 1184.0, 1313.0, 1473.0, 1350.0, 1627.0, 1352.0, 1185.0, 1091.0, 1196.0, 1280.0, 1219.0, 1240.0, 951.0, 1663.0, 1203.0, 1211.0, 1177.0, 1064.0, 1174.0, 1330.0, 1270.0, 1364.0, 1396.0, 1049.0, 1271.0, 1441.0, 1243.0, 1216.0, 1910.0, 1330.0, 1514.0, 1474.0, 1172.0, 1449.0, 1279.0, 1145.0, 1252.0, 1156.0, 1265.0, 1094.0, 1532.0, 1108.0, 1154.0, 1192.0, 1345.0, 1223.4388059701494, 1265.0, 1223.4388059701494, 1407.0, 1194.0, 1372.0, 1538.0, 1223.4388059701494, 1868.0, 1196.0, 1316.0, 1099.0, 1173.0, 1202.0, 1287.0, 1100.0, 1223.4388059701494, 1220.0, 1151.0, 1223.4388059701494, 1255.0, 1275.0, 1218.0, 1494.0, 1239.0, 1127.0, 1470.0, 1636.0, 1353.0, 1195.0, 1426.0, 1277.0, 1279.0, 1301.0, 1418.0, 1388.0, 1235.0, 1953.0, 1098.0, 1154.0, 1035.0, 1060.0, 1315.0, 1055.0]}],\n",
       "                        {\"shapes\": [{\"line\": {\"color\": \"grey\", \"dash\": \"dashdot\", \"width\": 1}, \"type\": \"line\", \"x0\": -8, \"x1\": 108, \"y0\": 1223.438805970149, \"y1\": 1223.438805970149}, {\"line\": {\"color\": \"grey\", \"dash\": \"dashdot\", \"width\": 1}, \"type\": \"line\", \"x0\": 50, \"x1\": 50, \"y0\": 800, \"y1\": 2200}], \"template\": {\"data\": {\"bar\": [{\"error_x\": {\"color\": \"#2a3f5f\"}, \"error_y\": {\"color\": \"#2a3f5f\"}, \"marker\": {\"line\": {\"color\": \"#E5ECF6\", \"width\": 0.5}}, \"type\": \"bar\"}], \"barpolar\": [{\"marker\": {\"line\": {\"color\": \"#E5ECF6\", \"width\": 0.5}}, \"type\": \"barpolar\"}], \"carpet\": [{\"aaxis\": {\"endlinecolor\": \"#2a3f5f\", \"gridcolor\": \"white\", \"linecolor\": \"white\", \"minorgridcolor\": \"white\", \"startlinecolor\": \"#2a3f5f\"}, \"baxis\": {\"endlinecolor\": \"#2a3f5f\", \"gridcolor\": \"white\", \"linecolor\": \"white\", \"minorgridcolor\": \"white\", \"startlinecolor\": \"#2a3f5f\"}, \"type\": \"carpet\"}], \"choropleth\": [{\"colorbar\": {\"outlinewidth\": 0, \"ticks\": \"\"}, \"type\": \"choropleth\"}], \"contour\": [{\"colorbar\": {\"outlinewidth\": 0, \"ticks\": \"\"}, \"colorscale\": [[0.0, \"#0d0887\"], [0.1111111111111111, \"#46039f\"], [0.2222222222222222, \"#7201a8\"], [0.3333333333333333, \"#9c179e\"], [0.4444444444444444, \"#bd3786\"], [0.5555555555555556, \"#d8576b\"], [0.6666666666666666, \"#ed7953\"], [0.7777777777777778, \"#fb9f3a\"], [0.8888888888888888, \"#fdca26\"], [1.0, \"#f0f921\"]], \"type\": \"contour\"}], \"contourcarpet\": [{\"colorbar\": {\"outlinewidth\": 0, \"ticks\": \"\"}, \"type\": \"contourcarpet\"}], \"heatmap\": [{\"colorbar\": {\"outlinewidth\": 0, \"ticks\": \"\"}, \"colorscale\": [[0.0, \"#0d0887\"], [0.1111111111111111, \"#46039f\"], [0.2222222222222222, \"#7201a8\"], [0.3333333333333333, \"#9c179e\"], [0.4444444444444444, \"#bd3786\"], [0.5555555555555556, \"#d8576b\"], [0.6666666666666666, \"#ed7953\"], [0.7777777777777778, \"#fb9f3a\"], [0.8888888888888888, \"#fdca26\"], [1.0, \"#f0f921\"]], \"type\": \"heatmap\"}], \"heatmapgl\": [{\"colorbar\": {\"outlinewidth\": 0, \"ticks\": \"\"}, \"colorscale\": [[0.0, \"#0d0887\"], [0.1111111111111111, \"#46039f\"], [0.2222222222222222, \"#7201a8\"], [0.3333333333333333, \"#9c179e\"], [0.4444444444444444, \"#bd3786\"], [0.5555555555555556, \"#d8576b\"], [0.6666666666666666, \"#ed7953\"], [0.7777777777777778, \"#fb9f3a\"], [0.8888888888888888, \"#fdca26\"], [1.0, \"#f0f921\"]], \"type\": \"heatmapgl\"}], \"histogram\": [{\"marker\": {\"colorbar\": {\"outlinewidth\": 0, \"ticks\": \"\"}}, \"type\": \"histogram\"}], \"histogram2d\": [{\"colorbar\": {\"outlinewidth\": 0, \"ticks\": \"\"}, \"colorscale\": [[0.0, \"#0d0887\"], [0.1111111111111111, \"#46039f\"], [0.2222222222222222, \"#7201a8\"], [0.3333333333333333, \"#9c179e\"], [0.4444444444444444, \"#bd3786\"], [0.5555555555555556, \"#d8576b\"], [0.6666666666666666, \"#ed7953\"], [0.7777777777777778, \"#fb9f3a\"], [0.8888888888888888, \"#fdca26\"], [1.0, \"#f0f921\"]], \"type\": \"histogram2d\"}], \"histogram2dcontour\": [{\"colorbar\": {\"outlinewidth\": 0, \"ticks\": \"\"}, \"colorscale\": [[0.0, \"#0d0887\"], [0.1111111111111111, \"#46039f\"], [0.2222222222222222, \"#7201a8\"], [0.3333333333333333, \"#9c179e\"], [0.4444444444444444, \"#bd3786\"], [0.5555555555555556, \"#d8576b\"], [0.6666666666666666, \"#ed7953\"], [0.7777777777777778, \"#fb9f3a\"], [0.8888888888888888, \"#fdca26\"], [1.0, \"#f0f921\"]], \"type\": \"histogram2dcontour\"}], \"mesh3d\": [{\"colorbar\": {\"outlinewidth\": 0, \"ticks\": \"\"}, \"type\": \"mesh3d\"}], \"parcoords\": [{\"line\": {\"colorbar\": {\"outlinewidth\": 0, \"ticks\": \"\"}}, \"type\": \"parcoords\"}], \"pie\": [{\"automargin\": true, \"type\": \"pie\"}], \"scatter\": [{\"marker\": {\"colorbar\": {\"outlinewidth\": 0, \"ticks\": \"\"}}, \"type\": \"scatter\"}], \"scatter3d\": [{\"line\": {\"colorbar\": {\"outlinewidth\": 0, \"ticks\": \"\"}}, \"marker\": {\"colorbar\": {\"outlinewidth\": 0, \"ticks\": \"\"}}, \"type\": \"scatter3d\"}], \"scattercarpet\": [{\"marker\": {\"colorbar\": {\"outlinewidth\": 0, \"ticks\": \"\"}}, \"type\": \"scattercarpet\"}], \"scattergeo\": [{\"marker\": {\"colorbar\": {\"outlinewidth\": 0, \"ticks\": \"\"}}, \"type\": \"scattergeo\"}], \"scattergl\": [{\"marker\": {\"colorbar\": {\"outlinewidth\": 0, \"ticks\": \"\"}}, \"type\": \"scattergl\"}], \"scattermapbox\": [{\"marker\": {\"colorbar\": {\"outlinewidth\": 0, \"ticks\": \"\"}}, \"type\": \"scattermapbox\"}], \"scatterpolar\": [{\"marker\": {\"colorbar\": {\"outlinewidth\": 0, \"ticks\": \"\"}}, \"type\": \"scatterpolar\"}], \"scatterpolargl\": [{\"marker\": {\"colorbar\": {\"outlinewidth\": 0, \"ticks\": \"\"}}, \"type\": \"scatterpolargl\"}], \"scatterternary\": [{\"marker\": {\"colorbar\": {\"outlinewidth\": 0, \"ticks\": \"\"}}, \"type\": \"scatterternary\"}], \"surface\": [{\"colorbar\": {\"outlinewidth\": 0, \"ticks\": \"\"}, \"colorscale\": [[0.0, \"#0d0887\"], [0.1111111111111111, \"#46039f\"], [0.2222222222222222, \"#7201a8\"], [0.3333333333333333, \"#9c179e\"], [0.4444444444444444, \"#bd3786\"], [0.5555555555555556, \"#d8576b\"], [0.6666666666666666, \"#ed7953\"], [0.7777777777777778, \"#fb9f3a\"], [0.8888888888888888, \"#fdca26\"], [1.0, \"#f0f921\"]], \"type\": \"surface\"}], \"table\": [{\"cells\": {\"fill\": {\"color\": \"#EBF0F8\"}, \"line\": {\"color\": \"white\"}}, \"header\": {\"fill\": {\"color\": \"#C8D4E3\"}, \"line\": {\"color\": \"white\"}}, \"type\": \"table\"}]}, \"layout\": {\"annotationdefaults\": {\"arrowcolor\": \"#2a3f5f\", \"arrowhead\": 0, \"arrowwidth\": 1}, \"coloraxis\": {\"colorbar\": {\"outlinewidth\": 0, \"ticks\": \"\"}}, \"colorscale\": {\"diverging\": [[0, \"#8e0152\"], [0.1, \"#c51b7d\"], [0.2, \"#de77ae\"], [0.3, \"#f1b6da\"], [0.4, \"#fde0ef\"], [0.5, \"#f7f7f7\"], [0.6, \"#e6f5d0\"], [0.7, \"#b8e186\"], [0.8, \"#7fbc41\"], [0.9, \"#4d9221\"], [1, \"#276419\"]], \"sequential\": [[0.0, \"#0d0887\"], [0.1111111111111111, \"#46039f\"], [0.2222222222222222, \"#7201a8\"], [0.3333333333333333, \"#9c179e\"], [0.4444444444444444, \"#bd3786\"], [0.5555555555555556, \"#d8576b\"], [0.6666666666666666, \"#ed7953\"], [0.7777777777777778, \"#fb9f3a\"], [0.8888888888888888, \"#fdca26\"], [1.0, \"#f0f921\"]], \"sequentialminus\": [[0.0, \"#0d0887\"], [0.1111111111111111, \"#46039f\"], [0.2222222222222222, \"#7201a8\"], [0.3333333333333333, \"#9c179e\"], [0.4444444444444444, \"#bd3786\"], [0.5555555555555556, \"#d8576b\"], [0.6666666666666666, \"#ed7953\"], [0.7777777777777778, \"#fb9f3a\"], [0.8888888888888888, \"#fdca26\"], [1.0, \"#f0f921\"]]}, \"colorway\": [\"#636efa\", \"#EF553B\", \"#00cc96\", \"#ab63fa\", \"#FFA15A\", \"#19d3f3\", \"#FF6692\", \"#B6E880\", \"#FF97FF\", \"#FECB52\"], \"font\": {\"color\": \"#2a3f5f\"}, \"geo\": {\"bgcolor\": \"white\", \"lakecolor\": \"white\", \"landcolor\": \"#E5ECF6\", \"showlakes\": true, \"showland\": true, \"subunitcolor\": \"white\"}, \"hoverlabel\": {\"align\": \"left\"}, \"hovermode\": \"closest\", \"mapbox\": {\"style\": \"light\"}, \"paper_bgcolor\": \"white\", \"plot_bgcolor\": \"#E5ECF6\", \"polar\": {\"angularaxis\": {\"gridcolor\": \"white\", \"linecolor\": \"white\", \"ticks\": \"\"}, \"bgcolor\": \"#E5ECF6\", \"radialaxis\": {\"gridcolor\": \"white\", \"linecolor\": \"white\", \"ticks\": \"\"}}, \"scene\": {\"xaxis\": {\"backgroundcolor\": \"#E5ECF6\", \"gridcolor\": \"white\", \"gridwidth\": 2, \"linecolor\": \"white\", \"showbackground\": true, \"ticks\": \"\", \"zerolinecolor\": \"white\"}, \"yaxis\": {\"backgroundcolor\": \"#E5ECF6\", \"gridcolor\": \"white\", \"gridwidth\": 2, \"linecolor\": \"white\", \"showbackground\": true, \"ticks\": \"\", \"zerolinecolor\": \"white\"}, \"zaxis\": {\"backgroundcolor\": \"#E5ECF6\", \"gridcolor\": \"white\", \"gridwidth\": 2, \"linecolor\": \"white\", \"showbackground\": true, \"ticks\": \"\", \"zerolinecolor\": \"white\"}}, \"shapedefaults\": {\"line\": {\"color\": \"#2a3f5f\"}}, \"ternary\": {\"aaxis\": {\"gridcolor\": \"white\", \"linecolor\": \"white\", \"ticks\": \"\"}, \"baxis\": {\"gridcolor\": \"white\", \"linecolor\": \"white\", \"ticks\": \"\"}, \"bgcolor\": \"#E5ECF6\", \"caxis\": {\"gridcolor\": \"white\", \"linecolor\": \"white\", \"ticks\": \"\"}}, \"title\": {\"x\": 0.05}, \"xaxis\": {\"automargin\": true, \"gridcolor\": \"white\", \"linecolor\": \"white\", \"ticks\": \"\", \"title\": {\"standoff\": 15}, \"zerolinecolor\": \"white\", \"zerolinewidth\": 2}, \"yaxis\": {\"automargin\": true, \"gridcolor\": \"white\", \"linecolor\": \"white\", \"ticks\": \"\", \"title\": {\"standoff\": 15}, \"zerolinecolor\": \"white\", \"zerolinewidth\": 2}}}, \"title\": {\"text\": \"The NYC schools: <br>SAT score VS share of female students\"}, \"xaxis\": {\"title\": {\"text\": \"Share of female students\"}}, \"yaxis\": {\"title\": {\"text\": \"SAT score\"}}},\n",
       "                        {\"responsive\": true}\n",
       "                    ).then(function(){\n",
       "                            \n",
       "var gd = document.getElementById('1af01f65-21b8-4c14-b596-468d4c51bc7d');\n",
       "var x = new MutationObserver(function (mutations, observer) {{\n",
       "        var display = window.getComputedStyle(gd).display;\n",
       "        if (!display || display === 'none') {{\n",
       "            console.log([gd, 'removed!']);\n",
       "            Plotly.purge(gd);\n",
       "            observer.disconnect();\n",
       "        }}\n",
       "}});\n",
       "\n",
       "// Listen for the removal of the full notebook cells\n",
       "var notebookContainer = gd.closest('#notebook-container');\n",
       "if (notebookContainer) {{\n",
       "    x.observe(notebookContainer, {childList: true});\n",
       "}}\n",
       "\n",
       "// Listen for the clearing of the current output cell\n",
       "var outputEl = gd.closest('.output');\n",
       "if (outputEl) {{\n",
       "    x.observe(outputEl, {childList: true});\n",
       "}}\n",
       "\n",
       "                        })\n",
       "                };\n",
       "                });\n",
       "            </script>\n",
       "        </div>"
      ]
     },
     "metadata": {},
     "output_type": "display_data"
    }
   ],
   "source": [
    "#build scatter plot to map SAT score and share of female students per each school \n",
    "\n",
    "fig = go.Figure(data=go.Scatter(x=combined['female_per'], y=combined['sat_score'],\n",
    "                   marker=dict(\n",
    "                       size=15,\n",
    "                       color = combined['female_per'],\n",
    "                       colorscale='Viridis',\n",
    "                       opacity=0.4),\n",
    "                   mode='markers',marker_line_width=1.5,text=combined['SCHOOL NAME']))\n",
    "\n",
    "fig.add_shape(\n",
    "        # add horizonal line\n",
    "        dict(\n",
    "            type=\"line\",\n",
    "            x0=-8,\n",
    "            y0=combined['sat_score'].mean(),\n",
    "            x1=108,\n",
    "            y1=combined['sat_score'].mean(),\n",
    "            line=dict(\n",
    "                color=\"grey\",\n",
    "                width=1,\n",
    "                dash=\"dashdot\"\n",
    "            )\n",
    "))\n",
    "\n",
    "fig.add_shape(\n",
    "        # add vertical line\n",
    "        dict(\n",
    "            type=\"line\",\n",
    "            x0=50,\n",
    "            y0=800,\n",
    "            x1=50,\n",
    "            y1=2200,\n",
    "            line=dict(\n",
    "                color=\"grey\",\n",
    "                width=1,\n",
    "                dash=\"dashdot\"\n",
    "            )\n",
    "))\n",
    "\n",
    "fig.update_layout(\n",
    "    title=\"The NYC schools: <br>SAT score VS share of female students\",\n",
    "    xaxis_title=\"Share of female students\",\n",
    "    yaxis_title=\"SAT score\",\n",
    ")\n",
    "fig.show()"
   ]
  },
  {
   "cell_type": "markdown",
   "metadata": {},
   "source": [
    "The horizontal line of the graph indicates the average SAT score across NYC high schools. Whereas the vertical line stands for the point where shares of female and male students are equal. We can interpret the graph in several ways. Firstly, it shows that most of the NYC high schools are clustered around the intersection of two lines. Thus, we can confirm our previous suggestion that there is __no difference in SAT scores across male and female students__. Moreover, the better half of __the NYC high schools have more or less equal gender representation__.\n",
    "\n",
    "However, if we look at the extreme values on both sides of the graph, we will notice one interesting pattern. __Schools with predominantly female students__ (_share of females > 60%_) tend to __specialize in liberal arts__. Whereas __high schools with the majority of male students__ (_share of females < 40%_) __are mainly technical schools__."
   ]
  },
  {
   "cell_type": "markdown",
   "metadata": {},
   "source": [
    "## Exploring SAT scores among AP Test takers"
   ]
  },
  {
   "cell_type": "code",
   "execution_count": 21,
   "metadata": {},
   "outputs": [
    {
     "data": {
      "application/vnd.plotly.v1+json": {
       "config": {
        "plotlyServerURL": "https://plot.ly"
       },
       "data": [
        {
         "marker": {
          "color": [
           30.575555960627053,
           9.898477157360407,
           3.177257525083612,
           35.157723747642,
           15.809051456912584,
           20.912292731579605,
           74.15450928381964,
           29.798809735299344,
           37.61773940345369,
           30.79447402239765,
           5.072463768115942,
           22.96983758700696,
           9.312638580931264,
           8.012820512820513,
           38.40144230769231,
           34.13461538461539,
           26.066433566433567,
           29.798809735299344,
           38.86411028730306,
           42.44369939271255,
           52.88067465321564,
           15.27977044476327,
           3.9840637450199203,
           18.055555555555554,
           19.689119170984455,
           29.593772053634442,
           30.57199211045365,
           13.738019169329075,
           30.6481819842865,
           11.538461538461538,
           11.532125205930807,
           73.73076923076923,
           57.09240980258679,
           73.3118444055944,
           9.79020979020979,
           29.06055093555094,
           3.6923076923076925,
           45.799211404306945,
           12.484548825710753,
           54.442551119766314,
           6.109979633401222,
           5.692233478051134,
           11.049723756906078,
           59.460297766749385,
           12.384473197781885,
           30.50327332242226,
           17.280453257790366,
           1.627906976744186,
           10.98360655737705,
           4.377736085053159,
           67.20252403846155,
           11.158798283261802,
           6.25,
           6.97350069735007,
           30.868145012881858,
           35.25378310214376,
           45.59323185648274,
           36.04157713794586,
           12.5968992248062,
           58.917281348788194,
           14.285714285714285,
           26.525911708253357,
           23.850063984075078,
           6.301824212271974,
           28.483188996434034,
           2.663438256658596,
           5.157593123209169,
           19.87878787878788,
           36.97101608992727,
           28.995246326707004,
           9.131403118040089,
           28.736936782593798,
           43.887362637362635,
           2.5821596244131455,
           27.221275559883157,
           4,
           34.499691484985604,
           10.475578406169666,
           6.379310344827586,
           28.078817733990146,
           22.018574428983985,
           24.813239644970416,
           21.43336314847943,
           72.4881158167675,
           17.142857142857142,
           6.468531468531468,
           20.31700288184438,
           4.712812960235641,
           12.840466926070038,
           18.64406779661017,
           10.128617363344052,
           32.83176746917205,
           40.44791415481071,
           35.545136681500324,
           27.748138957816376,
           11.895910780669144,
           4.180064308681672,
           5.9760956175298805,
           4.699738903394255,
           27.050072568940497,
           9.54954954954955,
           1.4905149051490514,
           10.391822827938672,
           25.805769230769233,
           5.540897097625329,
           4.690831556503198,
           35.9411827726591,
           7.056451612903227,
           6.006006006006006,
           29.867788461538463,
           11.967715001391594,
           83.24441687344914,
           35.545136681500324,
           28.60950025584172,
           36.346153846153854,
           5.818181818181818,
           2.6402640264026402,
           25.280898876404496,
           36.448826597131685,
           13.963963963963963,
           1.9178082191780823,
           7.391304347826087,
           28.673076923076923,
           26.172179747230455,
           4.297994269340974,
           5.952380952380952,
           32.01708341286505,
           33.427162216022325,
           6.483790523690773,
           28.357988165680474,
           5.897771952817824,
           4.887218045112782,
           5.673758865248227,
           39.94701119314122,
           9.947643979057592,
           24.0990990990991,
           3.2442748091603053,
           2.7777777777777777,
           3.930817610062893,
           6.438631790744467,
           4.976303317535545,
           9.075907590759076,
           3.5523978685612785,
           39.82371794871795,
           13.107822410147993,
           7.616707616707617,
           33.34078711985689,
           9.312638580931264,
           10.185185185185185,
           8.800192353931234,
           7.328605200945626,
           39.495519415864585,
           18.201754385964914,
           7.640449438202247,
           24.39108622946052,
           51.45888594164456,
           34.22515813099368,
           6.6350710900473935,
           26.769470156399617,
           3.9603960396039604,
           23.45979020979021,
           14.548802946593002,
           26.714046822742475,
           7.228915662650602,
           5.383022774327122,
           5.80936266215454,
           2.9850746268656714,
           31.01654955621302,
           9.072978303747535,
           26.937128633370804,
           31.01654955621302,
           7.374631268436578,
           35.64332766680833,
           30.868145012881858,
           5.169628432956381,
           3.463203463203463,
           31.780503978779844,
           57.86046912728528,
           52.88067465321564,
           34.967166979362105,
           27.050072568940497,
           3.717472118959108,
           27.68859359524596,
           3.837471783295711,
           29.937087274674283,
           4.545454545454546,
           10.058027079303674,
           39.70367591897975,
           35.157723747642,
           6.888888888888889,
           8.755129958960328,
           27.511481056257175,
           11.716621253405995,
           3.7756202804746493,
           14.748603351955309,
           38.51607347876005,
           1.8497109826589597,
           29.78723404255319,
           27.570266272189354,
           32.91552197802198,
           4.681647940074907,
           3.1620553359683794,
           9.631147540983607,
           7.000000000000001,
           6,
           5.37261698440208,
           24.483652021602687,
           17.846313437599743,
           74.58314806580702,
           59.187544107268884,
           36.448826597131685,
           18.645787016451756,
           27.278825825337456,
           6.547619047619048,
           32.748438110113234,
           6.172839506172839,
           3.770739064856712,
           19.03080326752893,
           13.059599813142325,
           29.39153670930437,
           1.3488657265481299,
           12.098765432098766,
           81.15021770682148,
           11.327433628318584,
           40.44791415481071,
           32.176769614425474,
           5.830903790087463,
           33.427162216022325,
           31.780503978779844,
           5.454545454545454,
           30.575555960627053,
           24.76561346522959,
           25.41966426858513,
           10.40339702760085,
           8.980582524271846,
           24.637681159420293,
           8.395522388059701,
           33.77718485702779,
           38.9815245177783,
           33.77718485702779,
           43.887362637362635,
           39.701183431952664,
           44.03714885796797,
           41.62220843672457,
           43.153460252122464,
           28.0497491638796,
           47.09081976417743,
           42.30453972257251,
           29.798809735299344,
           33.86583888552393,
           2.9925187032418954,
           28.483188996434034,
           5.7894736842105265,
           10.83743842364532,
           10.478359908883828,
           31.937833206397563,
           32.50096880449526,
           4.805491990846682,
           7.796610169491526,
           41.488374969082365,
           5.311355311355311,
           19.609375,
           8.350877192982455,
           7.335907335907336,
           34.499691484985604,
           37.61773940345369,
           7.0686070686070686,
           2.7027027027027026,
           5.1252408477842,
           27.33661994784876,
           9.870711089010442,
           10.70110701107011,
           51.40591480232914,
           57.09240980258679,
           13.496741229481815,
           4.4520547945205475,
           19.390942217595004,
           10.500650195058519,
           35.90998043052838,
           20.480769230769234,
           2.586206896551724,
           10.684931506849315,
           5.830388692579505,
           22.61904761904762,
           11.855670103092782,
           28.736936782593798,
           35.25378310214376,
           20.448311593319517,
           6.765163297045102,
           9.666505558240695,
           25.961538461538463,
           26.172179747230455,
           23.91304347826087,
           21.46902598233713,
           1.9736842105263157,
           5.906406179009541,
           21.981064080723367,
           30.575555960627053,
           20.94624125874126,
           10.92436974789916,
           4.808743169398907,
           10.407966591712174,
           53.771929824561404,
           10.679611650485436,
           17.280163599182004,
           16.78709055876686,
           2.9707112970711296,
           14.510278113663846,
           10.788365063030616,
           28.995246326707004,
           6.761006289308176,
           41.62220843672457,
           22.32332978440245,
           24.483652021602687,
           5.178907721280603,
           1.84645286686103,
           5.493230174081238,
           4.134672179562906,
           9.848484848484848,
           26.386267107126006,
           24.39108622946052,
           64.51442307692308,
           19.118414188836724,
           7.7666774089590715,
           8.126110124333925,
           11.36653895274585,
           19.461364427427778,
           51.43540669856459,
           3.544776119402985,
           1.1764705882352942,
           3.4013605442176873,
           5.225225225225225,
           29.126150373328702,
           2.9535864978902953,
           8.456659619450317,
           87.77472527472527,
           5.339805825242718,
           26.825123940508554,
           26.066433566433567,
           30.79447402239765,
           8.251273344651953,
           11.990549320732427,
           14.285714285714285,
           5.561613958560523,
           12.768240343347639,
           14.346590909090908,
           29.324737762237763,
           24.25354251012146,
           31.624717194570138,
           12.385321100917432,
           3.611738148984198,
           9.019060901906089,
           9.678683385579937,
           10.219354838709679,
           8.603145235892692,
           19.115384615384617,
           47.82608695652174,
           35.64332766680833,
           7.755775577557755,
           29.730148883374692,
           19.09547738693467,
           2.6615969581749046,
           7.35930735930736
          ],
          "colorscale": [
           [
            0,
            "#440154"
           ],
           [
            0.1111111111111111,
            "#482878"
           ],
           [
            0.2222222222222222,
            "#3e4989"
           ],
           [
            0.3333333333333333,
            "#31688e"
           ],
           [
            0.4444444444444444,
            "#26828e"
           ],
           [
            0.5555555555555556,
            "#1f9e89"
           ],
           [
            0.6666666666666666,
            "#35b779"
           ],
           [
            0.7777777777777778,
            "#6ece58"
           ],
           [
            0.8888888888888888,
            "#b5de2b"
           ],
           [
            1,
            "#fde725"
           ]
          ],
          "line": {
           "width": 1.5
          },
          "opacity": 0.4,
          "size": 15
         },
         "mode": "markers",
         "text": [
          "HENRY STREET SCHOOL FOR INTERNATIONAL STUDIES",
          "UNIVERSITY NEIGHBORHOOD HIGH SCHOOL",
          "EAST SIDE COMMUNITY SCHOOL",
          "MARTA VALLE HIGH SCHOOL",
          "NEW EXPLORATIONS INTO SCIENCE, TECHNOLOGY AND MATH HIGH SCHOOL",
          "BARD HIGH SCHOOL EARLY COLLEGE",
          "47 THE AMERICAN SIGN LANGUAGE AND ENGLISH SECONDARY SCHOOL",
          "FOOD AND FINANCE HIGH SCHOOL",
          "ESSEX STREET ACADEMY",
          "HIGH SCHOOL OF HOSPITALITY MANAGEMENT",
          "PACE HIGH SCHOOL",
          "URBAN ASSEMBLY SCHOOL OF DESIGN AND CONSTRUCTION, THE",
          "FACING HISTORY SCHOOL, THE",
          "URBAN ASSEMBLY ACADEMY OF GOVERNMENT AND LAW, THE",
          "LOWER MANHATTAN ARTS ACADEMY",
          "URBAN ASSEMBLY SCHOOL OF BUSINESS FOR YOUNG WOMEN, THE",
          "GRAMERCY ARTS HIGH SCHOOL",
          "NYC ISCHOOL",
          "MANHATTAN BUSINESS ACADEMY",
          "BUSINESS OF SPORTS SCHOOL",
          "THE HIGH SCHOOL FOR LANGUAGE AND DIPLOMACY",
          "HIGH SCHOOL FOR ENVIRONMENTAL STUDIES",
          "PROFESSIONAL PERFORMING ARTS HIGH SCHOOL",
          "BARUCH COLLEGE CAMPUS HIGH SCHOOL",
          "N.Y.C. LAB SCHOOL FOR COLLABORATIVE STUDIES",
          "N.Y.C. MUSEUM SCHOOL",
          "ELEANOR ROOSEVELT HIGH SCHOOL",
          "MILLENNIUM HIGH SCHOOL",
          "LANDMARK HIGH SCHOOL",
          "HIGH SCHOOL FOR HEALTH PROFESSIONS AND HUMAN SERVICES",
          "LEADERSHIP AND PUBLIC SERVICE HIGH SCHOOL",
          "MANHATTAN ACADEMY FOR ARTS & LANGUAGE",
          "HUDSON HIGH SCHOOL OF LEARNING TECHNOLOGIES",
          "INTERNATIONAL HIGH SCHOOL AT UNION SQUARE",
          "MANHATTAN VILLAGE ACADEMY",
          "VANGUARD HIGH SCHOOL",
          "MANHATTAN INTERNATIONAL HIGH SCHOOL",
          "STUYVESANT HIGH SCHOOL",
          "HIGH SCHOOL OF ECONOMICS AND FINANCE",
          "UNITY CENTER FOR URBAN TECHNOLOGIES",
          "TALENT UNLIMITED HIGH SCHOOL",
          "MURRY BERGTRAUM HIGH SCHOOL FOR BUSINESS CAREERS",
          "JACQUELINE KENNEDY ONASSIS HIGH SCHOOL",
          "REPERTORY COMPANY HIGH SCHOOL FOR THEATRE ARTS",
          "MANHATTAN BRIDGES HIGH SCHOOL",
          "NEW DESIGN HIGH SCHOOL",
          "HIGH SCHOOL FOR DUAL LANGUAGE AND ASIAN STUDIES",
          "THE URBAN ASSEMBLY NEW YORK HARBOR SCHOOL",
          "RICHARD R. GREEN HIGH SCHOOL OF TEACHING",
          "THE HIGH SCHOOL OF FASHION INDUSTRIES",
          "HUMANITIES PREPARATORY ACADEMY",
          "CHELSEA CAREER AND TECHNICAL EDUCATION HIGH SCHOOL",
          "ART AND DESIGN HIGH SCHOOL",
          "LIFE SCIENCES SECONDARY SCHOOL",
          "HIGH SCHOOL FOR ARTS, IMAGINATION AND INQUIRY",
          "URBAN ASSEMBLY SCHOOL FOR MEDIA STUDIES, THE",
          "THE URBAN ASSEMBLY SCHOOL FOR GREEN CAREERS",
          "THE GLOBAL LEARNING COLLABORATIVE",
          "WADLEIGH SECONDARY SCHOOL FOR THE PERFORMING & VISUAL ARTS",
          "FRANK MCCOURT HIGH SCHOOL",
          "BEACON HIGH SCHOOL",
          "FIORELLO H. LAGUARDIA HIGH SCHOOL OF MUSIC & ART AND PERFORMING ARTS",
          "HIGH SCHOOL FOR LAW, ADVOCACY AND COMMUNITY JUSTICE",
          "HIGH SCHOOL OF ARTS AND TECHNOLOGY",
          "MANHATTAN / HUNTER SCIENCE HIGH SCHOOL",
          "FREDERICK DOUGLASS ACADEMY II SECONDARY SCHOOL",
          "COALITION SCHOOL FOR SOCIAL CHANGE",
          "MANHATTAN CENTER FOR SCIENCE AND MATHEMATICS",
          "PARK EAST HIGH SCHOOL",
          "CENTRAL PARK EAST HIGH SCHOOL",
          "YOUNG WOMEN'S LEADERSHIP SCHOOL",
          "YOUNG WOMEN'S LEADERSHIP SCHOOL",
          "HERITAGE SCHOOL, THE",
          "MOTT HALL HIGH SCHOOL",
          "COLUMBIA SECONDARY SCHOOL FOR MATH, SCIENCE, AND ENGINEERING",
          "ACADEMY FOR SOCIAL ACTION: A COLLEGE BOARD SCHOOL",
          "URBAN ASSEMBLY SCHOOL FOR THE PERFORMING ARTS",
          "FREDERICK DOUGLASS ACADEMY",
          "THURGOOD MARSHALL ACADEMY FOR LEARNING AND SOCIAL CHANGE",
          "HIGH SCHOOL FOR MATHEMATICS, SCIENCE AND ENGINEERING AT CITY COLLEGE",
          "CITY COLLEGE ACADEMY OF THE ARTS",
          "COMMUNITY HEALTH ACADEMY OF THE HEIGHTS",
          "WASHINGTON HEIGHTS EXPEDITIONARY LEARNING SCHOOL",
          "HIGH SCHOOL FOR EXCELLENCE AND INNOVATION",
          "HIGH SCHOOL FOR INTERNATIONAL BUSINESS AND FINANCE",
          "HIGH SCHOOL FOR MEDIA AND COMMUNICATIONS",
          "HIGH SCHOOL FOR LAW AND PUBLIC SERVICE",
          "HIGH SCHOOL FOR HEALTH CAREERS AND SCIENCES",
          "A. PHILIP RANDOLPH CAMPUS HIGH SCHOOL",
          "GREGORIO LUPERON HIGH SCHOOL FOR SCIENCE AND MATHEMATICS",
          "SOUTH BRONX PREPARATORY: A COLLEGE BOARD SCHOOL",
          "INTERNATIONAL COMMUNITY HIGH SCHOOL",
          "COMMUNITY SCHOOL FOR SOCIAL JUSTICE",
          "MOTT HAVEN VILLAGE PREPARATORY HIGH SCHOOL",
          "UNIVERSITY HEIGHTS SECONDARY SCHOOL",
          "HOSTOSsLINCOLN ACADEMY OF SCIENCE",
          "FOREIGN LANGUAGE ACADEMY OF GLOBAL STUDIES",
          "BRONX LEADERSHIP ACADEMY II HIGH SCHOOL",
          "NEW EXPLORERS HIGH SCHOOL",
          "URBAN ASSEMBLY SCHOOL FOR CAREERS IN SPORTS",
          "BRONX ACADEMY OF LETTERS",
          "ALFRED E. SMITH CAREER AND TECHNICAL EDUCATION HIGH SCHOOL",
          "HEALTH OPPORTUNITIES HIGH SCHOOL",
          "BRONX STUDIO SCHOOL FOR WRITERS AND ARTISTS",
          "WOMEN'S ACADEMY OF EXCELLENCE",
          "RENAISSANCE HIGH SCHOOL FOR MUSICAL THEATER & TECHNOLOGY",
          "PABLO NERUDA ACADEMY FOR ARCHITECTURE AND WORLD STUDIES",
          "MILLENNIUM ART ACADEMY",
          "HOLCOMBE L. RUCKER SCHOOL OF COMMUNITY RESEARCH",
          "ANTONIA PANTOJA PREPARATORY ACADEMY, A COLLEGE BOARD SCHOOL",
          "HERBERT H. LEHMAN HIGH SCHOOL",
          "BRONX BRIDGES HIGH SCHOOL",
          "FELISA RINCON DE GAUTIER INSTITUTE FOR LAW AND PUBLIC POLICY, THE",
          "BANANA KELLY HIGH SCHOOL",
          "BRONX EXPEDITIONARY LEARNING HIGH SCHOOL",
          "EAGLE ACADEMY FOR YOUNG MEN",
          "URBAN ASSEMBLY SCHOOL FOR APPLIED MATH AND SCIENCE, THE",
          "EXIMIUS COLLEGE PREPARATORY ACADEMY: A COLLEGE BOARD SCHOOL",
          "MOTT HALL BRONX HIGH SCHOOL",
          "BRONX CENTER FOR SCIENCE AND MATHEMATICS",
          "VALIDUS PREPARATORY ACADEMY: AN EXPEDITIONARY LEARNING SCHOOL",
          "LEADERSHIP INSTITUTE",
          "MORRIS ACADEMY FOR COLLABORATIVE STUDIES",
          "BRONX EARLY COLLEGE ACADEMY FOR TEACHING & LEARNING",
          "DREAMYARD PREPARATORY SCHOOL",
          "ACADEMY FOR LANGUAGE AND TECHNOLOGY",
          "BRONX INTERNATIONAL HIGH SCHOOL",
          "SCHOOL FOR EXCELLENCE",
          "BRONX HIGH SCHOOL OF BUSINESS",
          "BRONX HIGH SCHOOL FOR MEDICAL SCIENCE",
          "BRONX SCHOOL FOR LAW, GOVERNMENT AND JUSTICE",
          "FREDERICK DOUGLASS ACADEMY III SECONDARY SCHOOL",
          "BRONX LEADERSHIP ACADEMY HIGH SCHOOL",
          "HIGH SCHOOL FOR VIOLIN AND DANCE",
          "RIVERDALE / KINGSBRIDGE ACADEMY (MIDDLE SCHOOL / HIGH SCHOOL 141)",
          "BRONX ENGINEERING AND TECHNOLOGY ACADEMY",
          "THEATRE ARTS PRODUCTION COMPANY SCHOOL",
          "THE MARIE CURIE SCHOOL FOR MEDICINE, NURSING, AND HEALTH PROFESSIONS",
          "WEST BRONX ACADEMY FOR THE FUTURE",
          "KINGSBRIDGE INTERNATIONAL HIGH SCHOOL",
          "BRONX SCHOOL OF LAW AND FINANCE",
          "INTERNATIONAL SCHOOL FOR LIBERAL ARTS",
          "INsTECH ACADEMY (M.S. / HIGH SCHOOL 368)",
          "KNOWLEDGE AND POWER PREPARATORY ACADEMY INTERNATIONAL HIGH SCHOOL (KAPPA)",
          "HIGH SCHOOL FOR TEACHING AND THE PROFESSIONS",
          "BELMONT PREPARATORY HIGH SCHOOL",
          "FORDHAM HIGH SCHOOL FOR THE ARTS",
          "FORDHAM LEADERSHIP ACADEMY FOR BUSINESS AND TECHNOLOGY",
          "BRONX HIGH SCHOOL FOR LAW AND COMMUNITY SERVICE",
          "DEWITT CLINTON HIGH SCHOOL",
          "CELIA CRUZ BRONX HIGH SCHOOL OF MUSIC, THE",
          "BRONX HIGH SCHOOL OF SCIENCE",
          "MARBLE HILL HIGH SCHOOL FOR INTERNATIONAL STUDIES",
          "BRONX THEATRE HIGH SCHOOL",
          "DISCOVERY HIGH SCHOOL",
          "HIGH SCHOOL OF AMERICAN STUDIES AT LEHMAN COLLEGE",
          "BRONX HEALTH SCIENCES HIGH SCHOOL",
          "BRONX HIGH SCHOOL FOR WRITING AND COMMUNICATION ARTS",
          "BRONX LAB SCHOOL",
          "ACADEMY FOR SCHOLARSHIP AND ENTREPRENEURSHIP: A COLLEGE BOARD SCHOOL",
          "HIGH SCHOOL OF COMPUTERS AND TECHNOLOGY",
          "COLLEGIATE INSTITUTE FOR MATH AND SCIENCE",
          "BRONX ACADEMY OF HEALTH CAREERS",
          "ASTOR COLLEGIATE ACADEMY",
          "BRONX HIGH SCHOOL FOR THE VISUAL ARTS",
          "HARRY S TRUMAN HIGH SCHOOL",
          "NEW WORLD HIGH SCHOOL",
          "THE BRONXWOOD PREPARATORY ACADEMY",
          "PELHAM PREPARATORY ACADEMY",
          "HIGH SCHOOL FOR CONTEMPORARY ARTS",
          "BRONX AEROSPACE HIGH SCHOOL",
          "METROPOLITAN HIGH SCHOOL, THE",
          "EXPLORATIONS ACADEMY",
          "BRONX LATIN",
          "EAST BRONX ACADEMY FOR THE FUTURE",
          "PEACE AND DIVERSITY ACADEMY",
          "PAN AMERICAN INTERNATIONAL HIGH SCHOOL AT MONROE",
          "THE CINEMA SCHOOL",
          "BRONX CAREER AND COLLEGE PREPARATORY HIGH SCHOOL",
          "HIGH SCHOOL OF WORLD CULTURES",
          "FANNIE LOU HAMER FREEDOM HIGH SCHOOL",
          "WINGS ACADEMY",
          "MONROE ACADEMY FOR VISUAL ARTS & DESIGN",
          "DR. SUSAN S. MCKINNEY SECONDARY SCHOOL OF THE ARTS",
          "URBAN ASSEMBLY HIGH SCHOOL OF MUSIC AND ART",
          "BROOKLYN COMMUNITY HIGH SCHOOL OF COMMUNICATION, ARTS AND MEDIA",
          "SCIENCE SKILLS CENTER HIGH SCHOOL FOR SCIENCE, TECHNOLOGY AND THE CREATIVE ARTS",
          "BROOKLYN TECHNICAL HIGH SCHOOL",
          "BROOKLYN INTERNATIONAL HIGH SCHOOL",
          "THE URBAN ASSEMBLY SCHOOL FOR LAW AND JUSTICE",
          "ACORN COMMUNITY HIGH SCHOOL",
          "URBAN ASSEMBLY INSTITUTE OF MATH AND SCIENCE FOR YOUNG WOMEN",
          "BEDFORD ACADEMY HIGH SCHOOL",
          "GEORGE WESTINGHOUSE CAREER AND TECHNICAL EDUCATION HIGH SCHOOL",
          "BENJAMIN BANNEKER ACADEMY",
          "CITY POLYTECHNIC HIGH SCHOOL OF ENGINEERING, ARCHITECTURE, AND TECHNOLOGY",
          "JUAN MOREL CAMPOS SECONDARY SCHOOL",
          "FOUNDATIONS ACADEMY",
          "BROOKLYN LATIN SCHOOL, THE",
          "GREEN SCHOOL: AN ACADEMY FOR ENVIRONMENTAL CAREERS",
          "PROGRESS HIGH SCHOOL FOR PROFESSIONAL CAREERS",
          "SCHOOL FOR LEGAL STUDIES",
          "THE HIGH SCHOOL FOR ENTERPRISE, BUSINESS AND TECHNOLOGY",
          "BROOKLYN PREPARATORY HIGH SCHOOL",
          "WILLIAMSBURG HIGH SCHOOL FOR ARCHITECTURE AND DESIGN",
          "WILLIAMSBURG PREPARATORY SCHOOL",
          "LYONS COMMUNITY SCHOOL",
          "AUTOMOTIVE HIGH SCHOOL",
          "FRANCES PERKINS ACADEMY",
          "EL PUENTE ACADEMY FOR PEACE AND JUSTICE",
          "BROOKLYN SCHOOL FOR GLOBAL STUDIES",
          "BROOKLYN SECONDARY SCHOOL FOR COLLABORATIVE STUDIES",
          "SECONDARY SCHOOL FOR LAW",
          "SECONDARY SCHOOL FOR JOURNALISM",
          "PARK SLOPE COLLEGIATE",
          "SCHOOL FOR INTERNATIONAL STUDIES",
          "COBBLE HILL SCHOOL OF AMERICAN STUDIES",
          "BROOKLYN HIGH SCHOOL OF THE ARTS",
          "SUNSET PARK HIGH SCHOOL",
          "FREDERICK DOUGLASS ACADEMY IV SECONDARY SCHOOL",
          "BOYS AND GIRLS HIGH SCHOOL",
          "BROOKLYN HIGH SCHOOL FOR LAW AND TECHNOLOGY",
          "THE BROOKLYN ACADEMY OF GLOBAL FINANCE",
          "ACADEMY FOR COLLEGE PREPARATION AND CAREER EXPLORATION: A COLLEGE BOARD SCHOOL",
          "ACADEMY OF HOSPITALITY AND TOURISM",
          "INTERNATIONAL HIGH SCHOOL AT PROSPECT HEIGHTS",
          "THE HIGH SCHOOL FOR GLOBAL CITIZENSHIP",
          "SCHOOL FOR HUMAN RIGHTS, THE",
          "SCHOOL FOR DEMOCRACY AND LEADERSHIP",
          "HIGH SCHOOL FOR YOUTH AND COMMUNITY DEVELOPMENT AT ERASMUS",
          "HIGH SCHOOL FOR SERVICE & LEARNING AT ERASMUS",
          "SCIENCE, TECHNOLOGY AND RESEARCH EARLY COLLEGE HIGH SCHOOL AT ERASMUS",
          "HIGH SCHOOL FOR PUBLIC SERVICE: HEROES OF TOMORROW",
          "BROOKLYN ACADEMY OF SCIENCE AND THE ENVIRONMENT",
          "BROOKLYN SCHOOL FOR MUSIC & THEATRE",
          "MEDGAR EVERS COLLEGE PREPARATORY SCHOOL",
          "CLARA BARTON HIGH SCHOOL",
          "IT TAKES A VILLAGE ACADEMY",
          "BROOKLYN GENERATION SCHOOL",
          "BROOKLYN THEATRE ARTS HIGH SCHOOL",
          "KURT HAHN EXPEDITIONARY LEARNING SCHOOL",
          "VICTORY COLLEGIATE HIGH SCHOOL",
          "ARTS & MEDIA PREPARATORY ACADEMY",
          "HIGH SCHOOL FOR INNOVATION IN ADVERTISING AND MEDIA",
          "CULTURAL ACADEMY FOR THE ARTS AND SCIENCES",
          "HIGH SCHOOL FOR MEDICAL PROFESSIONS",
          "ACADEMY FOR CONSERVATION AND THE ENVIRONMENT",
          "URBAN ACTION ACADEMY",
          "EAST NEW YORK FAMILY ACADEMY",
          "FDNY HIGH SCHOOL FOR FIRE AND LIFE SAFETY",
          "HIGH SCHOOL FOR CIVIL RIGHTS",
          "PERFORMING ARTS AND TECHNOLOGY HIGH SCHOOL",
          "WORLD ACADEMY FOR TOTAL COMMUNITY HEALTH HIGH SCHOOL",
          "MULTICULTURAL HIGH SCHOOL",
          "TRANSIT TECH CAREER AND TECHNICAL EDUCATION HIGH SCHOOL",
          "ACADEMY OF INNOVATIVE TECHNOLOGY",
          "BROOKLYN LAB SCHOOL",
          "CYPRESS HILLS COLLEGIATE PREPARATORY SCHOOL",
          "W. H. MAXWELL CAREER AND TECHNICAL EDUCATION HIGH SCHOOL",
          "THE SCHOOL FOR CLASSICS: AN ACADEMY OF THINKERS, WRITERS AND PERFORMERS",
          "NEW UTRECHT HIGH SCHOOL",
          "HIGH SCHOOL OF TELECOMMUNICATION ARTS AND TECHNOLOGY",
          "FORT HAMILTON HIGH SCHOOL",
          "FRANKLIN DELANO ROOSEVELT HIGH SCHOOL",
          "THE URBAN ASSEMBLY SCHOOL FOR CRIMINAL JUSTICE",
          "INTERNATIONAL HIGH SCHOOL AT LAFAYETTE",
          "RACHEL CARSON HIGH SCHOOL FOR COASTAL STUDIES",
          "HIGH SCHOOL OF SPORTS MANAGEMENT",
          "ABRAHAM LINCOLN HIGH SCHOOL",
          "KINGSBOROUGH EARLY COLLEGE SCHOOL",
          "EDWARD R. MURROW HIGH SCHOOL",
          "JOHN DEWEY HIGH SCHOOL",
          "LIFE ACADEMY HIGH SCHOOL FOR FILM AND MUSIC",
          "EXPEDITIONARY LEARNING SCHOOL FOR COMMUNITY LEADERS",
          "WILLIAM E. GRADY CAREER AND TECHNICAL EDUCATION HIGH SCHOOL",
          "BROOKLYN STUDIO SECONDARY SCHOOL",
          "MIDWOOD HIGH SCHOOL",
          "JAMES MADISON HIGH SCHOOL",
          "LEON M. GOLDSTEIN HIGH SCHOOL FOR THE SCIENCES",
          "BROOKLYN COLLEGE ACADEMY",
          "BROOKLYN COLLEGIATE: A COLLEGE BOARD SCHOOL",
          "FREDERICK DOUGLASS ACADEMY VII HIGH SCHOOL",
          "TEACHERS PREPARATORY HIGH SCHOOL",
          "ACADEMY OF FINANCE AND ENTERPRISE",
          "HIGH SCHOOL OF APPLIED COMMUNICATION",
          "CIVIC LEADERSHIP ACADEMY",
          "PAN AMERICAN INTERNATIONAL HIGH SCHOOL",
          "BARD HIGH SCHOOL EARLY COLLEGE II",
          "NEWTOWN HIGH SCHOOL",
          "GROVER CLEVELAND HIGH SCHOOL",
          "MIDDLE COLLEGE HIGH SCHOOL AT LAGUARDIA COMMUNITY COLLEGE",
          "INTERNATIONAL HIGH SCHOOL AT LAGUARDIA COMMUNITY COLLEGE",
          "HIGH SCHOOL FOR ARTS AND BUSINESS",
          "ROBERT F. WAGNER, JR. SECONDARY SCHOOL FOR ARTS AND TECHNOLOGY",
          "QUEENS VOCATIONAL AND TECHNICAL HIGH SCHOOL",
          "AVIATION CAREER & TECHNICAL EDUCATION HIGH SCHOOL",
          "QUEENS SCHOOL OF INQUIRY, THE",
          "FLUSHING INTERNATIONAL HIGH SCHOOL",
          "EASTsWEST SCHOOL OF INTERNATIONAL STUDIES",
          "WORLD JOURNALISM PREPARATORY: A COLLEGE BOARD SCHOOL",
          "JOHN BOWNE HIGH SCHOOL",
          "FLUSHING HIGH SCHOOL",
          "TOWNSEND HARRIS HIGH SCHOOL",
          "ROBERT F. KENNEDY COMMUNITY HIGH SCHOOL",
          "BENJAMIN N. CARDOZO HIGH SCHOOL",
          "FRANCIS LEWIS HIGH SCHOOL",
          "MARTIN VAN BUREN HIGH SCHOOL",
          "BAYSIDE HIGH SCHOOL",
          "QUEENS HIGH SCHOOL OF TEACHING, LIBERAL ARTS AND THE SCIENCES",
          "FREDERICK DOUGLASS ACADEMY VI HIGH SCHOOL",
          "CHANNEL VIEW SCHOOL FOR RESEARCH",
          "QUEENS HIGH SCHOOL FOR INFORMATION, RESEARCH, AND TECHNOLOGY",
          "ROBERT H. GODDARD HIGH SCHOOL OF COMMUNICATION ARTS AND TECHNOLOGY",
          "ACADEMY OF MEDICAL TECHNOLOGY: A COLLEGE BOARD SCHOOL",
          "SCHOLARS' ACADEMY",
          "AUGUST MARTIN HIGH SCHOOL",
          "RICHMOND HILL HIGH SCHOOL",
          "JOHN ADAMS HIGH SCHOOL",
          "HIGH SCHOOL FOR CONSTRUCTION TRADES, ENGINEERING AND ARCHITECTURE",
          "YORK EARLY COLLEGE ACADEMY",
          "QUEENS COLLEGIATE: A COLLEGE BOARD SCHOOL",
          "HILLSIDE ARTS & LETTERS ACADEMY",
          "FOREST HILLS HIGH SCHOOL",
          "HILLCREST HIGH SCHOOL",
          "THOMAS A. EDISON CAREER AND TECHNICAL EDUCATION HIGH SCHOOL",
          "QUEENS GATEWAY TO HEALTH SCIENCES SECONDARY SCHOOL",
          "QUEENS METROPOLITAN HIGH SCHOOL",
          "QUEENS HIGH SCHOOL FOR THE SCIENCES AT YORK COLLEGE",
          "HIGH SCHOOL FOR LAW ENFORCEMENT AND PUBLIC SAFETY",
          "YOUNG WOMEN'S LEADERSHIP SCHOOL, QUEENS",
          "QUEENS PREPARATORY ACADEMY",
          "PATHWAYS COLLEGE PREPARATORY SCHOOL: A COLLEGE BOARD SCHOOL",
          "EXCELSIOR PREPARATORY HIGH SCHOOL",
          "GEORGE WASHINGTON CARVER HIGH SCHOOL FOR THE SCIENCES",
          "PREPARATORY ACADEMY FOR WRITERS: A COLLEGE BOARD SCHOOL",
          "CAMBRIA HEIGHTS ACADEMY",
          "MATHEMATICS, SCIENCE RESEARCH AND TECHNOLOGY MAGNET HIGH SCHOOL",
          "HUMANITIES & ARTS MAGNET HIGH SCHOOL",
          "YOUNG WOMEN'S LEADERSHIP SCHOOL, ASTORIA",
          "ACADEMY FOR CAREERS IN TELEVISION AND FILM",
          "WILLIAM CULLEN BRYANT HIGH SCHOOL",
          "LONG ISLAND CITY HIGH SCHOOL",
          "FRANK SINATRA SCHOOL OF THE ARTS HIGH SCHOOL",
          "INFORMATION TECHNOLOGY HIGH SCHOOL",
          "NEWCOMERS HIGH SCHOOL",
          "ACADEMY OF AMERICAN STUDIES",
          "BACCALAUREATE SCHOOL FOR GLOBAL EDUCATION",
          "CSI HIGH SCHOOL FOR INTERNATIONAL STUDIES",
          "GAYNOR MCCOWN EXPEDITIONARY LEARNING SCHOOL",
          "THE MICHAEL J. PETRIDES SCHOOL",
          "NEW DORP HIGH SCHOOL",
          "PORT RICHMOND HIGH SCHOOL",
          "CURTIS HIGH SCHOOL",
          "TOTTENVILLE HIGH SCHOOL",
          "SUSAN E. WAGNER HIGH SCHOOL",
          "RALPH R. MCKEE CAREER AND TECHNICAL EDUCATION HIGH SCHOOL",
          "STATEN ISLAND TECHNICAL HIGH SCHOOL",
          "ACADEMY FOR ENVIRONMENTAL LEADERSHIP",
          "EBC HIGH SCHOOL FOR PUBLIC SERVICE–BUSHWICK",
          "BUSHWICK SCHOOL FOR SOCIAL JUSTICE",
          "ACADEMY OF URBAN PLANNING",
          "ALL CITY LEADERSHIP SECONDARY SCHOOL",
          "BUSHWICK LEADERS HIGH SCHOOL FOR ACADEMIC EXCELLENCE"
         ],
         "type": "scatter",
         "x": [
          30.575555960627053,
          9.898477157360407,
          3.177257525083612,
          35.157723747642,
          15.809051456912584,
          20.912292731579605,
          74.15450928381964,
          29.798809735299344,
          37.61773940345369,
          30.79447402239765,
          5.072463768115942,
          22.96983758700696,
          9.312638580931264,
          8.012820512820513,
          38.40144230769231,
          34.13461538461539,
          26.066433566433567,
          29.798809735299344,
          38.86411028730306,
          42.44369939271255,
          52.88067465321564,
          15.27977044476327,
          3.9840637450199203,
          18.055555555555554,
          19.689119170984455,
          29.593772053634442,
          30.57199211045365,
          13.738019169329075,
          30.6481819842865,
          11.538461538461538,
          11.532125205930807,
          73.73076923076923,
          57.09240980258679,
          73.3118444055944,
          9.79020979020979,
          29.06055093555094,
          3.6923076923076925,
          45.799211404306945,
          12.484548825710753,
          54.442551119766314,
          6.109979633401222,
          5.692233478051134,
          11.049723756906078,
          59.460297766749385,
          12.384473197781885,
          30.50327332242226,
          17.280453257790366,
          1.627906976744186,
          10.98360655737705,
          4.377736085053159,
          67.20252403846155,
          11.158798283261802,
          6.25,
          6.97350069735007,
          30.868145012881858,
          35.25378310214376,
          45.59323185648274,
          36.04157713794586,
          12.5968992248062,
          58.917281348788194,
          14.285714285714285,
          26.525911708253357,
          23.850063984075078,
          6.301824212271974,
          28.483188996434034,
          2.663438256658596,
          5.157593123209169,
          19.87878787878788,
          36.97101608992727,
          28.995246326707004,
          9.131403118040089,
          28.736936782593798,
          43.887362637362635,
          2.5821596244131455,
          27.221275559883157,
          4,
          34.499691484985604,
          10.475578406169666,
          6.379310344827586,
          28.078817733990146,
          22.018574428983985,
          24.813239644970416,
          21.43336314847943,
          72.4881158167675,
          17.142857142857142,
          6.468531468531468,
          20.31700288184438,
          4.712812960235641,
          12.840466926070038,
          18.64406779661017,
          10.128617363344052,
          32.83176746917205,
          40.44791415481071,
          35.545136681500324,
          27.748138957816376,
          11.895910780669144,
          4.180064308681672,
          5.9760956175298805,
          4.699738903394255,
          27.050072568940497,
          9.54954954954955,
          1.4905149051490514,
          10.391822827938672,
          25.805769230769233,
          5.540897097625329,
          4.690831556503198,
          35.9411827726591,
          7.056451612903227,
          6.006006006006006,
          29.867788461538463,
          11.967715001391594,
          83.24441687344914,
          35.545136681500324,
          28.60950025584172,
          36.346153846153854,
          5.818181818181818,
          2.6402640264026402,
          25.280898876404496,
          36.448826597131685,
          13.963963963963963,
          1.9178082191780823,
          7.391304347826087,
          28.673076923076923,
          26.172179747230455,
          4.297994269340974,
          5.952380952380952,
          32.01708341286505,
          33.427162216022325,
          6.483790523690773,
          28.357988165680474,
          5.897771952817824,
          4.887218045112782,
          5.673758865248227,
          39.94701119314122,
          9.947643979057592,
          24.0990990990991,
          3.2442748091603053,
          2.7777777777777777,
          3.930817610062893,
          6.438631790744467,
          4.976303317535545,
          9.075907590759076,
          3.5523978685612785,
          39.82371794871795,
          13.107822410147993,
          7.616707616707617,
          33.34078711985689,
          9.312638580931264,
          10.185185185185185,
          8.800192353931234,
          7.328605200945626,
          39.495519415864585,
          18.201754385964914,
          7.640449438202247,
          24.39108622946052,
          51.45888594164456,
          34.22515813099368,
          6.6350710900473935,
          26.769470156399617,
          3.9603960396039604,
          23.45979020979021,
          14.548802946593002,
          26.714046822742475,
          7.228915662650602,
          5.383022774327122,
          5.80936266215454,
          2.9850746268656714,
          31.01654955621302,
          9.072978303747535,
          26.937128633370804,
          31.01654955621302,
          7.374631268436578,
          35.64332766680833,
          30.868145012881858,
          5.169628432956381,
          3.463203463203463,
          31.780503978779844,
          57.86046912728528,
          52.88067465321564,
          34.967166979362105,
          27.050072568940497,
          3.717472118959108,
          27.68859359524596,
          3.837471783295711,
          29.937087274674283,
          4.545454545454546,
          10.058027079303674,
          39.70367591897975,
          35.157723747642,
          6.888888888888889,
          8.755129958960328,
          27.511481056257175,
          11.716621253405995,
          3.7756202804746493,
          14.748603351955309,
          38.51607347876005,
          1.8497109826589597,
          29.78723404255319,
          27.570266272189354,
          32.91552197802198,
          4.681647940074907,
          3.1620553359683794,
          9.631147540983607,
          7.000000000000001,
          6,
          5.37261698440208,
          24.483652021602687,
          17.846313437599743,
          74.58314806580702,
          59.187544107268884,
          36.448826597131685,
          18.645787016451756,
          27.278825825337456,
          6.547619047619048,
          32.748438110113234,
          6.172839506172839,
          3.770739064856712,
          19.03080326752893,
          13.059599813142325,
          29.39153670930437,
          1.3488657265481299,
          12.098765432098766,
          81.15021770682148,
          11.327433628318584,
          40.44791415481071,
          32.176769614425474,
          5.830903790087463,
          33.427162216022325,
          31.780503978779844,
          5.454545454545454,
          30.575555960627053,
          24.76561346522959,
          25.41966426858513,
          10.40339702760085,
          8.980582524271846,
          24.637681159420293,
          8.395522388059701,
          33.77718485702779,
          38.9815245177783,
          33.77718485702779,
          43.887362637362635,
          39.701183431952664,
          44.03714885796797,
          41.62220843672457,
          43.153460252122464,
          28.0497491638796,
          47.09081976417743,
          42.30453972257251,
          29.798809735299344,
          33.86583888552393,
          2.9925187032418954,
          28.483188996434034,
          5.7894736842105265,
          10.83743842364532,
          10.478359908883828,
          31.937833206397563,
          32.50096880449526,
          4.805491990846682,
          7.796610169491526,
          41.488374969082365,
          5.311355311355311,
          19.609375,
          8.350877192982455,
          7.335907335907336,
          34.499691484985604,
          37.61773940345369,
          7.0686070686070686,
          2.7027027027027026,
          5.1252408477842,
          27.33661994784876,
          9.870711089010442,
          10.70110701107011,
          51.40591480232914,
          57.09240980258679,
          13.496741229481815,
          4.4520547945205475,
          19.390942217595004,
          10.500650195058519,
          35.90998043052838,
          20.480769230769234,
          2.586206896551724,
          10.684931506849315,
          5.830388692579505,
          22.61904761904762,
          11.855670103092782,
          28.736936782593798,
          35.25378310214376,
          20.448311593319517,
          6.765163297045102,
          9.666505558240695,
          25.961538461538463,
          26.172179747230455,
          23.91304347826087,
          21.46902598233713,
          1.9736842105263157,
          5.906406179009541,
          21.981064080723367,
          30.575555960627053,
          20.94624125874126,
          10.92436974789916,
          4.808743169398907,
          10.407966591712174,
          53.771929824561404,
          10.679611650485436,
          17.280163599182004,
          16.78709055876686,
          2.9707112970711296,
          14.510278113663846,
          10.788365063030616,
          28.995246326707004,
          6.761006289308176,
          41.62220843672457,
          22.32332978440245,
          24.483652021602687,
          5.178907721280603,
          1.84645286686103,
          5.493230174081238,
          4.134672179562906,
          9.848484848484848,
          26.386267107126006,
          24.39108622946052,
          64.51442307692308,
          19.118414188836724,
          7.7666774089590715,
          8.126110124333925,
          11.36653895274585,
          19.461364427427778,
          51.43540669856459,
          3.544776119402985,
          1.1764705882352942,
          3.4013605442176873,
          5.225225225225225,
          29.126150373328702,
          2.9535864978902953,
          8.456659619450317,
          87.77472527472527,
          5.339805825242718,
          26.825123940508554,
          26.066433566433567,
          30.79447402239765,
          8.251273344651953,
          11.990549320732427,
          14.285714285714285,
          5.561613958560523,
          12.768240343347639,
          14.346590909090908,
          29.324737762237763,
          24.25354251012146,
          31.624717194570138,
          12.385321100917432,
          3.611738148984198,
          9.019060901906089,
          9.678683385579937,
          10.219354838709679,
          8.603145235892692,
          19.115384615384617,
          47.82608695652174,
          35.64332766680833,
          7.755775577557755,
          29.730148883374692,
          19.09547738693467,
          2.6615969581749046,
          7.35930735930736
         ],
         "y": [
          1122,
          1172,
          1149,
          1207,
          1621,
          1856,
          1182,
          1194,
          1156,
          1111,
          1293,
          1269,
          1051,
          1148,
          1200,
          1127,
          1176,
          1435,
          1223.4388059701494,
          1223.4388059701494,
          1223.4388059701494,
          1419,
          1522,
          1577,
          1677,
          1419,
          1758,
          1614,
          1170,
          1306,
          1233,
          1223.4388059701494,
          1223.4388059701494,
          1223.4388059701494,
          1372,
          1199,
          1227,
          2096,
          1374,
          1070,
          1416,
          1240,
          1239,
          1253,
          1058,
          1168,
          1424,
          1212,
          1195,
          1257,
          1255,
          1207,
          1315,
          1236,
          1132,
          1144,
          1223.4388059701494,
          1223.4388059701494,
          1109,
          1223.4388059701494,
          1744,
          1707,
          1196,
          1277,
          1446,
          1096,
          1084,
          1430,
          1128,
          1221,
          1326,
          1326,
          1054,
          1210,
          1223.4388059701494,
          1062,
          1077,
          1374,
          1202,
          1847,
          1270,
          1105,
          1174,
          1223.4388059701494,
          1127,
          1098,
          1102,
          1224,
          1309,
          1014,
          1090,
          945,
          1077,
          1097,
          1201,
          1257,
          1186,
          1103,
          1084,
          1181,
          1201,
          1158,
          1095,
          1223.4388059701494,
          1171,
          1158,
          1038,
          1164,
          1084,
          1223.4388059701494,
          1241,
          1223.4388059701494,
          1099,
          1131,
          1049,
          1134,
          1290,
          1169,
          1092,
          1396,
          1075,
          1081,
          1148,
          1223.4388059701494,
          1138,
          951,
          965,
          1074,
          1083,
          1221,
          1224,
          1121,
          1166,
          1039,
          1333,
          1150,
          1190,
          1157,
          1158,
          962,
          1182,
          934,
          1181,
          1180,
          1106,
          1222,
          1077,
          1119,
          1082,
          1255,
          1270,
          1969,
          1263,
          1064,
          1115,
          1920,
          1133,
          1147,
          1135,
          1141,
          1111,
          1348,
          1135,
          1169,
          1268,
          1151,
          1048,
          1112,
          1288,
          1126,
          1163,
          1055,
          1122,
          1251,
          1102,
          1155,
          970,
          1223.4388059701494,
          1223.4388059701494,
          939,
          1029,
          1114,
          1038,
          1074,
          1080,
          1114,
          1211,
          1833,
          981,
          1206,
          1116,
          1223.4388059701494,
          1312,
          1189,
          1391,
          1353,
          1085,
          1223.4388059701494,
          1740,
          1189,
          1114,
          1204,
          1215,
          1090,
          1112,
          1187,
          1103,
          1093,
          1122,
          1035,
          1111,
          1179,
          1203,
          1169,
          1175,
          1212,
          1185,
          1258,
          1223.4388059701494,
          1068,
          1097,
          1092,
          1223.4388059701494,
          1139,
          1045,
          913,
          1176,
          1088,
          1153,
          1027,
          1105,
          1360,
          1273,
          1143,
          1151,
          1436,
          1251,
          963,
          1145,
          1118,
          1092,
          1143,
          1080,
          1183,
          1169,
          1159,
          1111,
          1135,
          1242,
          1023,
          1054,
          1149,
          1106,
          887,
          1193,
          1096,
          1108,
          1129,
          1102,
          1157,
          1272,
          1323,
          1306,
          1244,
          1223.4388059701494,
          1026,
          1237,
          1164,
          1226,
          1223.4388059701494,
          1431,
          1262,
          1124,
          1079,
          1184,
          1313,
          1473,
          1350,
          1627,
          1352,
          1185,
          1091,
          1196,
          1280,
          1219,
          1240,
          951,
          1663,
          1203,
          1211,
          1177,
          1064,
          1174,
          1330,
          1270,
          1364,
          1396,
          1049,
          1271,
          1441,
          1243,
          1216,
          1910,
          1330,
          1514,
          1474,
          1172,
          1449,
          1279,
          1145,
          1252,
          1156,
          1265,
          1094,
          1532,
          1108,
          1154,
          1192,
          1345,
          1223.4388059701494,
          1265,
          1223.4388059701494,
          1407,
          1194,
          1372,
          1538,
          1223.4388059701494,
          1868,
          1196,
          1316,
          1099,
          1173,
          1202,
          1287,
          1100,
          1223.4388059701494,
          1220,
          1151,
          1223.4388059701494,
          1255,
          1275,
          1218,
          1494,
          1239,
          1127,
          1470,
          1636,
          1353,
          1195,
          1426,
          1277,
          1279,
          1301,
          1418,
          1388,
          1235,
          1953,
          1098,
          1154,
          1035,
          1060,
          1315,
          1055
         ]
        }
       ],
       "layout": {
        "shapes": [
         {
          "line": {
           "color": "grey",
           "dash": "dashdot",
           "width": 1
          },
          "type": "line",
          "x0": -8,
          "x1": 108,
          "y0": 1223.438805970149,
          "y1": 1223.438805970149
         },
         {
          "line": {
           "color": "grey",
           "dash": "dashdot",
           "width": 1
          },
          "type": "line",
          "x0": 21.050294828886546,
          "x1": 21.050294828886546,
          "y0": 800,
          "y1": 2200
         }
        ],
        "template": {
         "data": {
          "bar": [
           {
            "error_x": {
             "color": "#2a3f5f"
            },
            "error_y": {
             "color": "#2a3f5f"
            },
            "marker": {
             "line": {
              "color": "#E5ECF6",
              "width": 0.5
             }
            },
            "type": "bar"
           }
          ],
          "barpolar": [
           {
            "marker": {
             "line": {
              "color": "#E5ECF6",
              "width": 0.5
             }
            },
            "type": "barpolar"
           }
          ],
          "carpet": [
           {
            "aaxis": {
             "endlinecolor": "#2a3f5f",
             "gridcolor": "white",
             "linecolor": "white",
             "minorgridcolor": "white",
             "startlinecolor": "#2a3f5f"
            },
            "baxis": {
             "endlinecolor": "#2a3f5f",
             "gridcolor": "white",
             "linecolor": "white",
             "minorgridcolor": "white",
             "startlinecolor": "#2a3f5f"
            },
            "type": "carpet"
           }
          ],
          "choropleth": [
           {
            "colorbar": {
             "outlinewidth": 0,
             "ticks": ""
            },
            "type": "choropleth"
           }
          ],
          "contour": [
           {
            "colorbar": {
             "outlinewidth": 0,
             "ticks": ""
            },
            "colorscale": [
             [
              0,
              "#0d0887"
             ],
             [
              0.1111111111111111,
              "#46039f"
             ],
             [
              0.2222222222222222,
              "#7201a8"
             ],
             [
              0.3333333333333333,
              "#9c179e"
             ],
             [
              0.4444444444444444,
              "#bd3786"
             ],
             [
              0.5555555555555556,
              "#d8576b"
             ],
             [
              0.6666666666666666,
              "#ed7953"
             ],
             [
              0.7777777777777778,
              "#fb9f3a"
             ],
             [
              0.8888888888888888,
              "#fdca26"
             ],
             [
              1,
              "#f0f921"
             ]
            ],
            "type": "contour"
           }
          ],
          "contourcarpet": [
           {
            "colorbar": {
             "outlinewidth": 0,
             "ticks": ""
            },
            "type": "contourcarpet"
           }
          ],
          "heatmap": [
           {
            "colorbar": {
             "outlinewidth": 0,
             "ticks": ""
            },
            "colorscale": [
             [
              0,
              "#0d0887"
             ],
             [
              0.1111111111111111,
              "#46039f"
             ],
             [
              0.2222222222222222,
              "#7201a8"
             ],
             [
              0.3333333333333333,
              "#9c179e"
             ],
             [
              0.4444444444444444,
              "#bd3786"
             ],
             [
              0.5555555555555556,
              "#d8576b"
             ],
             [
              0.6666666666666666,
              "#ed7953"
             ],
             [
              0.7777777777777778,
              "#fb9f3a"
             ],
             [
              0.8888888888888888,
              "#fdca26"
             ],
             [
              1,
              "#f0f921"
             ]
            ],
            "type": "heatmap"
           }
          ],
          "heatmapgl": [
           {
            "colorbar": {
             "outlinewidth": 0,
             "ticks": ""
            },
            "colorscale": [
             [
              0,
              "#0d0887"
             ],
             [
              0.1111111111111111,
              "#46039f"
             ],
             [
              0.2222222222222222,
              "#7201a8"
             ],
             [
              0.3333333333333333,
              "#9c179e"
             ],
             [
              0.4444444444444444,
              "#bd3786"
             ],
             [
              0.5555555555555556,
              "#d8576b"
             ],
             [
              0.6666666666666666,
              "#ed7953"
             ],
             [
              0.7777777777777778,
              "#fb9f3a"
             ],
             [
              0.8888888888888888,
              "#fdca26"
             ],
             [
              1,
              "#f0f921"
             ]
            ],
            "type": "heatmapgl"
           }
          ],
          "histogram": [
           {
            "marker": {
             "colorbar": {
              "outlinewidth": 0,
              "ticks": ""
             }
            },
            "type": "histogram"
           }
          ],
          "histogram2d": [
           {
            "colorbar": {
             "outlinewidth": 0,
             "ticks": ""
            },
            "colorscale": [
             [
              0,
              "#0d0887"
             ],
             [
              0.1111111111111111,
              "#46039f"
             ],
             [
              0.2222222222222222,
              "#7201a8"
             ],
             [
              0.3333333333333333,
              "#9c179e"
             ],
             [
              0.4444444444444444,
              "#bd3786"
             ],
             [
              0.5555555555555556,
              "#d8576b"
             ],
             [
              0.6666666666666666,
              "#ed7953"
             ],
             [
              0.7777777777777778,
              "#fb9f3a"
             ],
             [
              0.8888888888888888,
              "#fdca26"
             ],
             [
              1,
              "#f0f921"
             ]
            ],
            "type": "histogram2d"
           }
          ],
          "histogram2dcontour": [
           {
            "colorbar": {
             "outlinewidth": 0,
             "ticks": ""
            },
            "colorscale": [
             [
              0,
              "#0d0887"
             ],
             [
              0.1111111111111111,
              "#46039f"
             ],
             [
              0.2222222222222222,
              "#7201a8"
             ],
             [
              0.3333333333333333,
              "#9c179e"
             ],
             [
              0.4444444444444444,
              "#bd3786"
             ],
             [
              0.5555555555555556,
              "#d8576b"
             ],
             [
              0.6666666666666666,
              "#ed7953"
             ],
             [
              0.7777777777777778,
              "#fb9f3a"
             ],
             [
              0.8888888888888888,
              "#fdca26"
             ],
             [
              1,
              "#f0f921"
             ]
            ],
            "type": "histogram2dcontour"
           }
          ],
          "mesh3d": [
           {
            "colorbar": {
             "outlinewidth": 0,
             "ticks": ""
            },
            "type": "mesh3d"
           }
          ],
          "parcoords": [
           {
            "line": {
             "colorbar": {
              "outlinewidth": 0,
              "ticks": ""
             }
            },
            "type": "parcoords"
           }
          ],
          "pie": [
           {
            "automargin": true,
            "type": "pie"
           }
          ],
          "scatter": [
           {
            "marker": {
             "colorbar": {
              "outlinewidth": 0,
              "ticks": ""
             }
            },
            "type": "scatter"
           }
          ],
          "scatter3d": [
           {
            "line": {
             "colorbar": {
              "outlinewidth": 0,
              "ticks": ""
             }
            },
            "marker": {
             "colorbar": {
              "outlinewidth": 0,
              "ticks": ""
             }
            },
            "type": "scatter3d"
           }
          ],
          "scattercarpet": [
           {
            "marker": {
             "colorbar": {
              "outlinewidth": 0,
              "ticks": ""
             }
            },
            "type": "scattercarpet"
           }
          ],
          "scattergeo": [
           {
            "marker": {
             "colorbar": {
              "outlinewidth": 0,
              "ticks": ""
             }
            },
            "type": "scattergeo"
           }
          ],
          "scattergl": [
           {
            "marker": {
             "colorbar": {
              "outlinewidth": 0,
              "ticks": ""
             }
            },
            "type": "scattergl"
           }
          ],
          "scattermapbox": [
           {
            "marker": {
             "colorbar": {
              "outlinewidth": 0,
              "ticks": ""
             }
            },
            "type": "scattermapbox"
           }
          ],
          "scatterpolar": [
           {
            "marker": {
             "colorbar": {
              "outlinewidth": 0,
              "ticks": ""
             }
            },
            "type": "scatterpolar"
           }
          ],
          "scatterpolargl": [
           {
            "marker": {
             "colorbar": {
              "outlinewidth": 0,
              "ticks": ""
             }
            },
            "type": "scatterpolargl"
           }
          ],
          "scatterternary": [
           {
            "marker": {
             "colorbar": {
              "outlinewidth": 0,
              "ticks": ""
             }
            },
            "type": "scatterternary"
           }
          ],
          "surface": [
           {
            "colorbar": {
             "outlinewidth": 0,
             "ticks": ""
            },
            "colorscale": [
             [
              0,
              "#0d0887"
             ],
             [
              0.1111111111111111,
              "#46039f"
             ],
             [
              0.2222222222222222,
              "#7201a8"
             ],
             [
              0.3333333333333333,
              "#9c179e"
             ],
             [
              0.4444444444444444,
              "#bd3786"
             ],
             [
              0.5555555555555556,
              "#d8576b"
             ],
             [
              0.6666666666666666,
              "#ed7953"
             ],
             [
              0.7777777777777778,
              "#fb9f3a"
             ],
             [
              0.8888888888888888,
              "#fdca26"
             ],
             [
              1,
              "#f0f921"
             ]
            ],
            "type": "surface"
           }
          ],
          "table": [
           {
            "cells": {
             "fill": {
              "color": "#EBF0F8"
             },
             "line": {
              "color": "white"
             }
            },
            "header": {
             "fill": {
              "color": "#C8D4E3"
             },
             "line": {
              "color": "white"
             }
            },
            "type": "table"
           }
          ]
         },
         "layout": {
          "annotationdefaults": {
           "arrowcolor": "#2a3f5f",
           "arrowhead": 0,
           "arrowwidth": 1
          },
          "coloraxis": {
           "colorbar": {
            "outlinewidth": 0,
            "ticks": ""
           }
          },
          "colorscale": {
           "diverging": [
            [
             0,
             "#8e0152"
            ],
            [
             0.1,
             "#c51b7d"
            ],
            [
             0.2,
             "#de77ae"
            ],
            [
             0.3,
             "#f1b6da"
            ],
            [
             0.4,
             "#fde0ef"
            ],
            [
             0.5,
             "#f7f7f7"
            ],
            [
             0.6,
             "#e6f5d0"
            ],
            [
             0.7,
             "#b8e186"
            ],
            [
             0.8,
             "#7fbc41"
            ],
            [
             0.9,
             "#4d9221"
            ],
            [
             1,
             "#276419"
            ]
           ],
           "sequential": [
            [
             0,
             "#0d0887"
            ],
            [
             0.1111111111111111,
             "#46039f"
            ],
            [
             0.2222222222222222,
             "#7201a8"
            ],
            [
             0.3333333333333333,
             "#9c179e"
            ],
            [
             0.4444444444444444,
             "#bd3786"
            ],
            [
             0.5555555555555556,
             "#d8576b"
            ],
            [
             0.6666666666666666,
             "#ed7953"
            ],
            [
             0.7777777777777778,
             "#fb9f3a"
            ],
            [
             0.8888888888888888,
             "#fdca26"
            ],
            [
             1,
             "#f0f921"
            ]
           ],
           "sequentialminus": [
            [
             0,
             "#0d0887"
            ],
            [
             0.1111111111111111,
             "#46039f"
            ],
            [
             0.2222222222222222,
             "#7201a8"
            ],
            [
             0.3333333333333333,
             "#9c179e"
            ],
            [
             0.4444444444444444,
             "#bd3786"
            ],
            [
             0.5555555555555556,
             "#d8576b"
            ],
            [
             0.6666666666666666,
             "#ed7953"
            ],
            [
             0.7777777777777778,
             "#fb9f3a"
            ],
            [
             0.8888888888888888,
             "#fdca26"
            ],
            [
             1,
             "#f0f921"
            ]
           ]
          },
          "colorway": [
           "#636efa",
           "#EF553B",
           "#00cc96",
           "#ab63fa",
           "#FFA15A",
           "#19d3f3",
           "#FF6692",
           "#B6E880",
           "#FF97FF",
           "#FECB52"
          ],
          "font": {
           "color": "#2a3f5f"
          },
          "geo": {
           "bgcolor": "white",
           "lakecolor": "white",
           "landcolor": "#E5ECF6",
           "showlakes": true,
           "showland": true,
           "subunitcolor": "white"
          },
          "hoverlabel": {
           "align": "left"
          },
          "hovermode": "closest",
          "mapbox": {
           "style": "light"
          },
          "paper_bgcolor": "white",
          "plot_bgcolor": "#E5ECF6",
          "polar": {
           "angularaxis": {
            "gridcolor": "white",
            "linecolor": "white",
            "ticks": ""
           },
           "bgcolor": "#E5ECF6",
           "radialaxis": {
            "gridcolor": "white",
            "linecolor": "white",
            "ticks": ""
           }
          },
          "scene": {
           "xaxis": {
            "backgroundcolor": "#E5ECF6",
            "gridcolor": "white",
            "gridwidth": 2,
            "linecolor": "white",
            "showbackground": true,
            "ticks": "",
            "zerolinecolor": "white"
           },
           "yaxis": {
            "backgroundcolor": "#E5ECF6",
            "gridcolor": "white",
            "gridwidth": 2,
            "linecolor": "white",
            "showbackground": true,
            "ticks": "",
            "zerolinecolor": "white"
           },
           "zaxis": {
            "backgroundcolor": "#E5ECF6",
            "gridcolor": "white",
            "gridwidth": 2,
            "linecolor": "white",
            "showbackground": true,
            "ticks": "",
            "zerolinecolor": "white"
           }
          },
          "shapedefaults": {
           "line": {
            "color": "#2a3f5f"
           }
          },
          "ternary": {
           "aaxis": {
            "gridcolor": "white",
            "linecolor": "white",
            "ticks": ""
           },
           "baxis": {
            "gridcolor": "white",
            "linecolor": "white",
            "ticks": ""
           },
           "bgcolor": "#E5ECF6",
           "caxis": {
            "gridcolor": "white",
            "linecolor": "white",
            "ticks": ""
           }
          },
          "title": {
           "x": 0.05
          },
          "xaxis": {
           "automargin": true,
           "gridcolor": "white",
           "linecolor": "white",
           "ticks": "",
           "title": {
            "standoff": 15
           },
           "zerolinecolor": "white",
           "zerolinewidth": 2
          },
          "yaxis": {
           "automargin": true,
           "gridcolor": "white",
           "linecolor": "white",
           "ticks": "",
           "title": {
            "standoff": 15
           },
           "zerolinecolor": "white",
           "zerolinewidth": 2
          }
         }
        },
        "title": {
         "text": "The NYC schools:<br> SAT score VS share of AP Test takers"
        },
        "xaxis": {
         "title": {
          "text": "Percentage of AP Test Takers"
         }
        },
        "yaxis": {
         "title": {
          "text": "SAT score"
         }
        }
       }
      },
      "text/html": [
       "<div>\n",
       "        \n",
       "        \n",
       "            <div id=\"7105c5f7-f9f5-47ec-9a6b-84cb2857589a\" class=\"plotly-graph-div\" style=\"height:525px; width:100%;\"></div>\n",
       "            <script type=\"text/javascript\">\n",
       "                require([\"plotly\"], function(Plotly) {\n",
       "                    window.PLOTLYENV=window.PLOTLYENV || {};\n",
       "                    \n",
       "                if (document.getElementById(\"7105c5f7-f9f5-47ec-9a6b-84cb2857589a\")) {\n",
       "                    Plotly.newPlot(\n",
       "                        '7105c5f7-f9f5-47ec-9a6b-84cb2857589a',\n",
       "                        [{\"marker\": {\"color\": [30.575555960627053, 9.898477157360407, 3.177257525083612, 35.157723747642, 15.809051456912584, 20.912292731579605, 74.15450928381964, 29.798809735299344, 37.61773940345369, 30.79447402239765, 5.072463768115942, 22.96983758700696, 9.312638580931264, 8.012820512820513, 38.40144230769231, 34.13461538461539, 26.066433566433567, 29.798809735299344, 38.86411028730306, 42.44369939271255, 52.88067465321564, 15.27977044476327, 3.9840637450199203, 18.055555555555554, 19.689119170984455, 29.593772053634442, 30.57199211045365, 13.738019169329075, 30.6481819842865, 11.538461538461538, 11.532125205930807, 73.73076923076923, 57.09240980258679, 73.3118444055944, 9.79020979020979, 29.06055093555094, 3.6923076923076925, 45.799211404306945, 12.484548825710753, 54.442551119766314, 6.109979633401222, 5.692233478051134, 11.049723756906078, 59.460297766749385, 12.384473197781885, 30.50327332242226, 17.280453257790366, 1.627906976744186, 10.98360655737705, 4.377736085053159, 67.20252403846155, 11.158798283261802, 6.25, 6.97350069735007, 30.868145012881858, 35.25378310214376, 45.59323185648274, 36.04157713794586, 12.5968992248062, 58.917281348788194, 14.285714285714285, 26.525911708253357, 23.850063984075078, 6.301824212271974, 28.483188996434034, 2.663438256658596, 5.157593123209169, 19.87878787878788, 36.97101608992727, 28.995246326707004, 9.131403118040089, 28.736936782593798, 43.887362637362635, 2.5821596244131455, 27.221275559883157, 4.0, 34.499691484985604, 10.475578406169666, 6.379310344827586, 28.078817733990146, 22.018574428983985, 24.813239644970416, 21.43336314847943, 72.4881158167675, 17.142857142857142, 6.468531468531468, 20.31700288184438, 4.712812960235641, 12.840466926070038, 18.64406779661017, 10.128617363344052, 32.83176746917205, 40.44791415481071, 35.545136681500324, 27.748138957816376, 11.895910780669144, 4.180064308681672, 5.9760956175298805, 4.699738903394255, 27.050072568940497, 9.54954954954955, 1.4905149051490514, 10.391822827938672, 25.805769230769233, 5.540897097625329, 4.690831556503198, 35.9411827726591, 7.056451612903227, 6.006006006006006, 29.867788461538463, 11.967715001391594, 83.24441687344914, 35.545136681500324, 28.60950025584172, 36.346153846153854, 5.818181818181818, 2.6402640264026402, 25.280898876404496, 36.448826597131685, 13.963963963963963, 1.9178082191780823, 7.391304347826087, 28.673076923076923, 26.172179747230455, 4.297994269340974, 5.952380952380952, 32.01708341286505, 33.427162216022325, 6.483790523690773, 28.357988165680474, 5.897771952817824, 4.887218045112782, 5.673758865248227, 39.94701119314122, 9.947643979057592, 24.0990990990991, 3.2442748091603053, 2.7777777777777777, 3.930817610062893, 6.438631790744467, 4.976303317535545, 9.075907590759076, 3.5523978685612785, 39.82371794871795, 13.107822410147993, 7.616707616707617, 33.34078711985689, 9.312638580931264, 10.185185185185185, 8.800192353931234, 7.328605200945626, 39.495519415864585, 18.201754385964914, 7.640449438202247, 24.39108622946052, 51.45888594164456, 34.22515813099368, 6.6350710900473935, 26.769470156399617, 3.9603960396039604, 23.45979020979021, 14.548802946593002, 26.714046822742475, 7.228915662650602, 5.383022774327122, 5.80936266215454, 2.9850746268656714, 31.01654955621302, 9.072978303747535, 26.937128633370804, 31.01654955621302, 7.374631268436578, 35.64332766680833, 30.868145012881858, 5.169628432956381, 3.463203463203463, 31.780503978779844, 57.86046912728528, 52.88067465321564, 34.967166979362105, 27.050072568940497, 3.717472118959108, 27.68859359524596, 3.837471783295711, 29.937087274674283, 4.545454545454546, 10.058027079303674, 39.70367591897975, 35.157723747642, 6.888888888888889, 8.755129958960328, 27.511481056257175, 11.716621253405995, 3.7756202804746493, 14.748603351955309, 38.51607347876005, 1.8497109826589597, 29.78723404255319, 27.570266272189354, 32.91552197802198, 4.681647940074907, 3.1620553359683794, 9.631147540983607, 7.000000000000001, 6.0, 5.37261698440208, 24.483652021602687, 17.846313437599743, 74.58314806580702, 59.187544107268884, 36.448826597131685, 18.645787016451756, 27.278825825337456, 6.547619047619048, 32.748438110113234, 6.172839506172839, 3.770739064856712, 19.03080326752893, 13.059599813142325, 29.39153670930437, 1.3488657265481299, 12.098765432098766, 81.15021770682148, 11.327433628318584, 40.44791415481071, 32.176769614425474, 5.830903790087463, 33.427162216022325, 31.780503978779844, 5.454545454545454, 30.575555960627053, 24.76561346522959, 25.41966426858513, 10.40339702760085, 8.980582524271846, 24.637681159420293, 8.395522388059701, 33.77718485702779, 38.9815245177783, 33.77718485702779, 43.887362637362635, 39.701183431952664, 44.03714885796797, 41.62220843672457, 43.153460252122464, 28.0497491638796, 47.09081976417743, 42.30453972257251, 29.798809735299344, 33.86583888552393, 2.9925187032418954, 28.483188996434034, 5.7894736842105265, 10.83743842364532, 10.478359908883828, 31.937833206397563, 32.50096880449526, 4.805491990846682, 7.796610169491526, 41.488374969082365, 5.311355311355311, 19.609375, 8.350877192982455, 7.335907335907336, 34.499691484985604, 37.61773940345369, 7.0686070686070686, 2.7027027027027026, 5.1252408477842, 27.33661994784876, 9.870711089010442, 10.70110701107011, 51.40591480232914, 57.09240980258679, 13.496741229481815, 4.4520547945205475, 19.390942217595004, 10.500650195058519, 35.90998043052838, 20.480769230769234, 2.586206896551724, 10.684931506849315, 5.830388692579505, 22.61904761904762, 11.855670103092782, 28.736936782593798, 35.25378310214376, 20.448311593319517, 6.765163297045102, 9.666505558240695, 25.961538461538463, 26.172179747230455, 23.91304347826087, 21.46902598233713, 1.9736842105263157, 5.906406179009541, 21.981064080723367, 30.575555960627053, 20.94624125874126, 10.92436974789916, 4.808743169398907, 10.407966591712174, 53.771929824561404, 10.679611650485436, 17.280163599182004, 16.78709055876686, 2.9707112970711296, 14.510278113663846, 10.788365063030616, 28.995246326707004, 6.761006289308176, 41.62220843672457, 22.32332978440245, 24.483652021602687, 5.178907721280603, 1.84645286686103, 5.493230174081238, 4.134672179562906, 9.848484848484848, 26.386267107126006, 24.39108622946052, 64.51442307692308, 19.118414188836724, 7.7666774089590715, 8.126110124333925, 11.36653895274585, 19.461364427427778, 51.43540669856459, 3.544776119402985, 1.1764705882352942, 3.4013605442176873, 5.225225225225225, 29.126150373328702, 2.9535864978902953, 8.456659619450317, 87.77472527472527, 5.339805825242718, 26.825123940508554, 26.066433566433567, 30.79447402239765, 8.251273344651953, 11.990549320732427, 14.285714285714285, 5.561613958560523, 12.768240343347639, 14.346590909090908, 29.324737762237763, 24.25354251012146, 31.624717194570138, 12.385321100917432, 3.611738148984198, 9.019060901906089, 9.678683385579937, 10.219354838709679, 8.603145235892692, 19.115384615384617, 47.82608695652174, 35.64332766680833, 7.755775577557755, 29.730148883374692, 19.09547738693467, 2.6615969581749046, 7.35930735930736], \"colorscale\": [[0.0, \"#440154\"], [0.1111111111111111, \"#482878\"], [0.2222222222222222, \"#3e4989\"], [0.3333333333333333, \"#31688e\"], [0.4444444444444444, \"#26828e\"], [0.5555555555555556, \"#1f9e89\"], [0.6666666666666666, \"#35b779\"], [0.7777777777777778, \"#6ece58\"], [0.8888888888888888, \"#b5de2b\"], [1.0, \"#fde725\"]], \"line\": {\"width\": 1.5}, \"opacity\": 0.4, \"size\": 15}, \"mode\": \"markers\", \"text\": [\"HENRY STREET SCHOOL FOR INTERNATIONAL STUDIES\", \"UNIVERSITY NEIGHBORHOOD HIGH SCHOOL\", \"EAST SIDE COMMUNITY SCHOOL\", \"MARTA VALLE HIGH SCHOOL\", \"NEW EXPLORATIONS INTO SCIENCE, TECHNOLOGY AND MATH HIGH SCHOOL\", \"BARD HIGH SCHOOL EARLY COLLEGE\", \"47 THE AMERICAN SIGN LANGUAGE AND ENGLISH SECONDARY SCHOOL\", \"FOOD AND FINANCE HIGH SCHOOL\", \"ESSEX STREET ACADEMY\", \"HIGH SCHOOL OF HOSPITALITY MANAGEMENT\", \"PACE HIGH SCHOOL\", \"URBAN ASSEMBLY SCHOOL OF DESIGN AND CONSTRUCTION, THE\", \"FACING HISTORY SCHOOL, THE\", \"URBAN ASSEMBLY ACADEMY OF GOVERNMENT AND LAW, THE\", \"LOWER MANHATTAN ARTS ACADEMY\", \"URBAN ASSEMBLY SCHOOL OF BUSINESS FOR YOUNG WOMEN, THE\", \"GRAMERCY ARTS HIGH SCHOOL\", \"NYC ISCHOOL\", \"MANHATTAN BUSINESS ACADEMY\", \"BUSINESS OF SPORTS SCHOOL\", \"THE HIGH SCHOOL FOR LANGUAGE AND DIPLOMACY\", \"HIGH SCHOOL FOR ENVIRONMENTAL STUDIES\", \"PROFESSIONAL PERFORMING ARTS HIGH SCHOOL\", \"BARUCH COLLEGE CAMPUS HIGH SCHOOL\", \"N.Y.C. LAB SCHOOL FOR COLLABORATIVE STUDIES\", \"N.Y.C. MUSEUM SCHOOL\", \"ELEANOR ROOSEVELT HIGH SCHOOL\", \"MILLENNIUM HIGH SCHOOL\", \"LANDMARK HIGH SCHOOL\", \"HIGH SCHOOL FOR HEALTH PROFESSIONS AND HUMAN SERVICES\", \"LEADERSHIP AND PUBLIC SERVICE HIGH SCHOOL\", \"MANHATTAN ACADEMY FOR ARTS & LANGUAGE\", \"HUDSON HIGH SCHOOL OF LEARNING TECHNOLOGIES\", \"INTERNATIONAL HIGH SCHOOL AT UNION SQUARE\", \"MANHATTAN VILLAGE ACADEMY\", \"VANGUARD HIGH SCHOOL\", \"MANHATTAN INTERNATIONAL HIGH SCHOOL\", \"STUYVESANT HIGH SCHOOL\", \"HIGH SCHOOL OF ECONOMICS AND FINANCE\", \"UNITY CENTER FOR URBAN TECHNOLOGIES\", \"TALENT UNLIMITED HIGH SCHOOL\", \"MURRY BERGTRAUM HIGH SCHOOL FOR BUSINESS CAREERS\", \"JACQUELINE KENNEDY ONASSIS HIGH SCHOOL\", \"REPERTORY COMPANY HIGH SCHOOL FOR THEATRE ARTS\", \"MANHATTAN BRIDGES HIGH SCHOOL\", \"NEW DESIGN HIGH SCHOOL\", \"HIGH SCHOOL FOR DUAL LANGUAGE AND ASIAN STUDIES\", \"THE URBAN ASSEMBLY NEW YORK HARBOR SCHOOL\", \"RICHARD R. GREEN HIGH SCHOOL OF TEACHING\", \"THE HIGH SCHOOL OF FASHION INDUSTRIES\", \"HUMANITIES PREPARATORY ACADEMY\", \"CHELSEA CAREER AND TECHNICAL EDUCATION HIGH SCHOOL\", \"ART AND DESIGN HIGH SCHOOL\", \"LIFE SCIENCES SECONDARY SCHOOL\", \"HIGH SCHOOL FOR ARTS, IMAGINATION AND INQUIRY\", \"URBAN ASSEMBLY SCHOOL FOR MEDIA STUDIES, THE\", \"THE URBAN ASSEMBLY SCHOOL FOR GREEN CAREERS\", \"THE GLOBAL LEARNING COLLABORATIVE\", \"WADLEIGH SECONDARY SCHOOL FOR THE PERFORMING & VISUAL ARTS\", \"FRANK MCCOURT HIGH SCHOOL\", \"BEACON HIGH SCHOOL\", \"FIORELLO H. LAGUARDIA HIGH SCHOOL OF MUSIC & ART AND PERFORMING ARTS\", \"HIGH SCHOOL FOR LAW, ADVOCACY AND COMMUNITY JUSTICE\", \"HIGH SCHOOL OF ARTS AND TECHNOLOGY\", \"MANHATTAN / HUNTER SCIENCE HIGH SCHOOL\", \"FREDERICK DOUGLASS ACADEMY II SECONDARY SCHOOL\", \"COALITION SCHOOL FOR SOCIAL CHANGE\", \"MANHATTAN CENTER FOR SCIENCE AND MATHEMATICS\", \"PARK EAST HIGH SCHOOL\", \"CENTRAL PARK EAST HIGH SCHOOL\", \"YOUNG WOMEN'S LEADERSHIP SCHOOL\", \"YOUNG WOMEN'S LEADERSHIP SCHOOL\", \"HERITAGE SCHOOL, THE\", \"MOTT HALL HIGH SCHOOL\", \"COLUMBIA SECONDARY SCHOOL FOR MATH, SCIENCE, AND ENGINEERING\", \"ACADEMY FOR SOCIAL ACTION: A COLLEGE BOARD SCHOOL\", \"URBAN ASSEMBLY SCHOOL FOR THE PERFORMING ARTS\", \"FREDERICK DOUGLASS ACADEMY\", \"THURGOOD MARSHALL ACADEMY FOR LEARNING AND SOCIAL CHANGE\", \"HIGH SCHOOL FOR MATHEMATICS, SCIENCE AND ENGINEERING AT CITY COLLEGE\", \"CITY COLLEGE ACADEMY OF THE ARTS\", \"COMMUNITY HEALTH ACADEMY OF THE HEIGHTS\", \"WASHINGTON HEIGHTS EXPEDITIONARY LEARNING SCHOOL\", \"HIGH SCHOOL FOR EXCELLENCE AND INNOVATION\", \"HIGH SCHOOL FOR INTERNATIONAL BUSINESS AND FINANCE\", \"HIGH SCHOOL FOR MEDIA AND COMMUNICATIONS\", \"HIGH SCHOOL FOR LAW AND PUBLIC SERVICE\", \"HIGH SCHOOL FOR HEALTH CAREERS AND SCIENCES\", \"A. PHILIP RANDOLPH CAMPUS HIGH SCHOOL\", \"GREGORIO LUPERON HIGH SCHOOL FOR SCIENCE AND MATHEMATICS\", \"SOUTH BRONX PREPARATORY: A COLLEGE BOARD SCHOOL\", \"INTERNATIONAL COMMUNITY HIGH SCHOOL\", \"COMMUNITY SCHOOL FOR SOCIAL JUSTICE\", \"MOTT HAVEN VILLAGE PREPARATORY HIGH SCHOOL\", \"UNIVERSITY HEIGHTS SECONDARY SCHOOL\", \"HOSTOSsLINCOLN ACADEMY OF SCIENCE\", \"FOREIGN LANGUAGE ACADEMY OF GLOBAL STUDIES\", \"BRONX LEADERSHIP ACADEMY II HIGH SCHOOL\", \"NEW EXPLORERS HIGH SCHOOL\", \"URBAN ASSEMBLY SCHOOL FOR CAREERS IN SPORTS\", \"BRONX ACADEMY OF LETTERS\", \"ALFRED E. SMITH CAREER AND TECHNICAL EDUCATION HIGH SCHOOL\", \"HEALTH OPPORTUNITIES HIGH SCHOOL\", \"BRONX STUDIO SCHOOL FOR WRITERS AND ARTISTS\", \"WOMEN'S ACADEMY OF EXCELLENCE\", \"RENAISSANCE HIGH SCHOOL FOR MUSICAL THEATER & TECHNOLOGY\", \"PABLO NERUDA ACADEMY FOR ARCHITECTURE AND WORLD STUDIES\", \"MILLENNIUM ART ACADEMY\", \"HOLCOMBE L. RUCKER SCHOOL OF COMMUNITY RESEARCH\", \"ANTONIA PANTOJA PREPARATORY ACADEMY, A COLLEGE BOARD SCHOOL\", \"HERBERT H. LEHMAN HIGH SCHOOL\", \"BRONX BRIDGES HIGH SCHOOL\", \"FELISA RINCON DE GAUTIER INSTITUTE FOR LAW AND PUBLIC POLICY, THE\", \"BANANA KELLY HIGH SCHOOL\", \"BRONX EXPEDITIONARY LEARNING HIGH SCHOOL\", \"EAGLE ACADEMY FOR YOUNG MEN\", \"URBAN ASSEMBLY SCHOOL FOR APPLIED MATH AND SCIENCE, THE\", \"EXIMIUS COLLEGE PREPARATORY ACADEMY: A COLLEGE BOARD SCHOOL\", \"MOTT HALL BRONX HIGH SCHOOL\", \"BRONX CENTER FOR SCIENCE AND MATHEMATICS\", \"VALIDUS PREPARATORY ACADEMY: AN EXPEDITIONARY LEARNING SCHOOL\", \"LEADERSHIP INSTITUTE\", \"MORRIS ACADEMY FOR COLLABORATIVE STUDIES\", \"BRONX EARLY COLLEGE ACADEMY FOR TEACHING & LEARNING\", \"DREAMYARD PREPARATORY SCHOOL\", \"ACADEMY FOR LANGUAGE AND TECHNOLOGY\", \"BRONX INTERNATIONAL HIGH SCHOOL\", \"SCHOOL FOR EXCELLENCE\", \"BRONX HIGH SCHOOL OF BUSINESS\", \"BRONX HIGH SCHOOL FOR MEDICAL SCIENCE\", \"BRONX SCHOOL FOR LAW, GOVERNMENT AND JUSTICE\", \"FREDERICK DOUGLASS ACADEMY III SECONDARY SCHOOL\", \"BRONX LEADERSHIP ACADEMY HIGH SCHOOL\", \"HIGH SCHOOL FOR VIOLIN AND DANCE\", \"RIVERDALE / KINGSBRIDGE ACADEMY (MIDDLE SCHOOL / HIGH SCHOOL 141)\", \"BRONX ENGINEERING AND TECHNOLOGY ACADEMY\", \"THEATRE ARTS PRODUCTION COMPANY SCHOOL\", \"THE MARIE CURIE SCHOOL FOR MEDICINE, NURSING, AND HEALTH PROFESSIONS\", \"WEST BRONX ACADEMY FOR THE FUTURE\", \"KINGSBRIDGE INTERNATIONAL HIGH SCHOOL\", \"BRONX SCHOOL OF LAW AND FINANCE\", \"INTERNATIONAL SCHOOL FOR LIBERAL ARTS\", \"INsTECH ACADEMY (M.S. / HIGH SCHOOL 368)\", \"KNOWLEDGE AND POWER PREPARATORY ACADEMY INTERNATIONAL HIGH SCHOOL (KAPPA)\", \"HIGH SCHOOL FOR TEACHING AND THE PROFESSIONS\", \"BELMONT PREPARATORY HIGH SCHOOL\", \"FORDHAM HIGH SCHOOL FOR THE ARTS\", \"FORDHAM LEADERSHIP ACADEMY FOR BUSINESS AND TECHNOLOGY\", \"BRONX HIGH SCHOOL FOR LAW AND COMMUNITY SERVICE\", \"DEWITT CLINTON HIGH SCHOOL\", \"CELIA CRUZ BRONX HIGH SCHOOL OF MUSIC, THE\", \"BRONX HIGH SCHOOL OF SCIENCE\", \"MARBLE HILL HIGH SCHOOL FOR INTERNATIONAL STUDIES\", \"BRONX THEATRE HIGH SCHOOL\", \"DISCOVERY HIGH SCHOOL\", \"HIGH SCHOOL OF AMERICAN STUDIES AT LEHMAN COLLEGE\", \"BRONX HEALTH SCIENCES HIGH SCHOOL\", \"BRONX HIGH SCHOOL FOR WRITING AND COMMUNICATION ARTS\", \"BRONX LAB SCHOOL\", \"ACADEMY FOR SCHOLARSHIP AND ENTREPRENEURSHIP: A COLLEGE BOARD SCHOOL\", \"HIGH SCHOOL OF COMPUTERS AND TECHNOLOGY\", \"COLLEGIATE INSTITUTE FOR MATH AND SCIENCE\", \"BRONX ACADEMY OF HEALTH CAREERS\", \"ASTOR COLLEGIATE ACADEMY\", \"BRONX HIGH SCHOOL FOR THE VISUAL ARTS\", \"HARRY S TRUMAN HIGH SCHOOL\", \"NEW WORLD HIGH SCHOOL\", \"THE BRONXWOOD PREPARATORY ACADEMY\", \"PELHAM PREPARATORY ACADEMY\", \"HIGH SCHOOL FOR CONTEMPORARY ARTS\", \"BRONX AEROSPACE HIGH SCHOOL\", \"METROPOLITAN HIGH SCHOOL, THE\", \"EXPLORATIONS ACADEMY\", \"BRONX LATIN\", \"EAST BRONX ACADEMY FOR THE FUTURE\", \"PEACE AND DIVERSITY ACADEMY\", \"PAN AMERICAN INTERNATIONAL HIGH SCHOOL AT MONROE\", \"THE CINEMA SCHOOL\", \"BRONX CAREER AND COLLEGE PREPARATORY HIGH SCHOOL\", \"HIGH SCHOOL OF WORLD CULTURES\", \"FANNIE LOU HAMER FREEDOM HIGH SCHOOL\", \"WINGS ACADEMY\", \"MONROE ACADEMY FOR VISUAL ARTS & DESIGN\", \"DR. SUSAN S. MCKINNEY SECONDARY SCHOOL OF THE ARTS\", \"URBAN ASSEMBLY HIGH SCHOOL OF MUSIC AND ART\", \"BROOKLYN COMMUNITY HIGH SCHOOL OF COMMUNICATION, ARTS AND MEDIA\", \"SCIENCE SKILLS CENTER HIGH SCHOOL FOR SCIENCE, TECHNOLOGY AND THE CREATIVE ARTS\", \"BROOKLYN TECHNICAL HIGH SCHOOL\", \"BROOKLYN INTERNATIONAL HIGH SCHOOL\", \"THE URBAN ASSEMBLY SCHOOL FOR LAW AND JUSTICE\", \"ACORN COMMUNITY HIGH SCHOOL\", \"URBAN ASSEMBLY INSTITUTE OF MATH AND SCIENCE FOR YOUNG WOMEN\", \"BEDFORD ACADEMY HIGH SCHOOL\", \"GEORGE WESTINGHOUSE CAREER AND TECHNICAL EDUCATION HIGH SCHOOL\", \"BENJAMIN BANNEKER ACADEMY\", \"CITY POLYTECHNIC HIGH SCHOOL OF ENGINEERING, ARCHITECTURE, AND TECHNOLOGY\", \"JUAN MOREL CAMPOS SECONDARY SCHOOL\", \"FOUNDATIONS ACADEMY\", \"BROOKLYN LATIN SCHOOL, THE\", \"GREEN SCHOOL: AN ACADEMY FOR ENVIRONMENTAL CAREERS\", \"PROGRESS HIGH SCHOOL FOR PROFESSIONAL CAREERS\", \"SCHOOL FOR LEGAL STUDIES\", \"THE HIGH SCHOOL FOR ENTERPRISE, BUSINESS AND TECHNOLOGY\", \"BROOKLYN PREPARATORY HIGH SCHOOL\", \"WILLIAMSBURG HIGH SCHOOL FOR ARCHITECTURE AND DESIGN\", \"WILLIAMSBURG PREPARATORY SCHOOL\", \"LYONS COMMUNITY SCHOOL\", \"AUTOMOTIVE HIGH SCHOOL\", \"FRANCES PERKINS ACADEMY\", \"EL PUENTE ACADEMY FOR PEACE AND JUSTICE\", \"BROOKLYN SCHOOL FOR GLOBAL STUDIES\", \"BROOKLYN SECONDARY SCHOOL FOR COLLABORATIVE STUDIES\", \"SECONDARY SCHOOL FOR LAW\", \"SECONDARY SCHOOL FOR JOURNALISM\", \"PARK SLOPE COLLEGIATE\", \"SCHOOL FOR INTERNATIONAL STUDIES\", \"COBBLE HILL SCHOOL OF AMERICAN STUDIES\", \"BROOKLYN HIGH SCHOOL OF THE ARTS\", \"SUNSET PARK HIGH SCHOOL\", \"FREDERICK DOUGLASS ACADEMY IV SECONDARY SCHOOL\", \"BOYS AND GIRLS HIGH SCHOOL\", \"BROOKLYN HIGH SCHOOL FOR LAW AND TECHNOLOGY\", \"THE BROOKLYN ACADEMY OF GLOBAL FINANCE\", \"ACADEMY FOR COLLEGE PREPARATION AND CAREER EXPLORATION: A COLLEGE BOARD SCHOOL\", \"ACADEMY OF HOSPITALITY AND TOURISM\", \"INTERNATIONAL HIGH SCHOOL AT PROSPECT HEIGHTS\", \"THE HIGH SCHOOL FOR GLOBAL CITIZENSHIP\", \"SCHOOL FOR HUMAN RIGHTS, THE\", \"SCHOOL FOR DEMOCRACY AND LEADERSHIP\", \"HIGH SCHOOL FOR YOUTH AND COMMUNITY DEVELOPMENT AT ERASMUS\", \"HIGH SCHOOL FOR SERVICE & LEARNING AT ERASMUS\", \"SCIENCE, TECHNOLOGY AND RESEARCH EARLY COLLEGE HIGH SCHOOL AT ERASMUS\", \"HIGH SCHOOL FOR PUBLIC SERVICE: HEROES OF TOMORROW\", \"BROOKLYN ACADEMY OF SCIENCE AND THE ENVIRONMENT\", \"BROOKLYN SCHOOL FOR MUSIC & THEATRE\", \"MEDGAR EVERS COLLEGE PREPARATORY SCHOOL\", \"CLARA BARTON HIGH SCHOOL\", \"IT TAKES A VILLAGE ACADEMY\", \"BROOKLYN GENERATION SCHOOL\", \"BROOKLYN THEATRE ARTS HIGH SCHOOL\", \"KURT HAHN EXPEDITIONARY LEARNING SCHOOL\", \"VICTORY COLLEGIATE HIGH SCHOOL\", \"ARTS & MEDIA PREPARATORY ACADEMY\", \"HIGH SCHOOL FOR INNOVATION IN ADVERTISING AND MEDIA\", \"CULTURAL ACADEMY FOR THE ARTS AND SCIENCES\", \"HIGH SCHOOL FOR MEDICAL PROFESSIONS\", \"ACADEMY FOR CONSERVATION AND THE ENVIRONMENT\", \"URBAN ACTION ACADEMY\", \"EAST NEW YORK FAMILY ACADEMY\", \"FDNY HIGH SCHOOL FOR FIRE AND LIFE SAFETY\", \"HIGH SCHOOL FOR CIVIL RIGHTS\", \"PERFORMING ARTS AND TECHNOLOGY HIGH SCHOOL\", \"WORLD ACADEMY FOR TOTAL COMMUNITY HEALTH HIGH SCHOOL\", \"MULTICULTURAL HIGH SCHOOL\", \"TRANSIT TECH CAREER AND TECHNICAL EDUCATION HIGH SCHOOL\", \"ACADEMY OF INNOVATIVE TECHNOLOGY\", \"BROOKLYN LAB SCHOOL\", \"CYPRESS HILLS COLLEGIATE PREPARATORY SCHOOL\", \"W. H. MAXWELL CAREER AND TECHNICAL EDUCATION HIGH SCHOOL\", \"THE SCHOOL FOR CLASSICS: AN ACADEMY OF THINKERS, WRITERS AND PERFORMERS\", \"NEW UTRECHT HIGH SCHOOL\", \"HIGH SCHOOL OF TELECOMMUNICATION ARTS AND TECHNOLOGY\", \"FORT HAMILTON HIGH SCHOOL\", \"FRANKLIN DELANO ROOSEVELT HIGH SCHOOL\", \"THE URBAN ASSEMBLY SCHOOL FOR CRIMINAL JUSTICE\", \"INTERNATIONAL HIGH SCHOOL AT LAFAYETTE\", \"RACHEL CARSON HIGH SCHOOL FOR COASTAL STUDIES\", \"HIGH SCHOOL OF SPORTS MANAGEMENT\", \"ABRAHAM LINCOLN HIGH SCHOOL\", \"KINGSBOROUGH EARLY COLLEGE SCHOOL\", \"EDWARD R. MURROW HIGH SCHOOL\", \"JOHN DEWEY HIGH SCHOOL\", \"LIFE ACADEMY HIGH SCHOOL FOR FILM AND MUSIC\", \"EXPEDITIONARY LEARNING SCHOOL FOR COMMUNITY LEADERS\", \"WILLIAM E. GRADY CAREER AND TECHNICAL EDUCATION HIGH SCHOOL\", \"BROOKLYN STUDIO SECONDARY SCHOOL\", \"MIDWOOD HIGH SCHOOL\", \"JAMES MADISON HIGH SCHOOL\", \"LEON M. GOLDSTEIN HIGH SCHOOL FOR THE SCIENCES\", \"BROOKLYN COLLEGE ACADEMY\", \"BROOKLYN COLLEGIATE: A COLLEGE BOARD SCHOOL\", \"FREDERICK DOUGLASS ACADEMY VII HIGH SCHOOL\", \"TEACHERS PREPARATORY HIGH SCHOOL\", \"ACADEMY OF FINANCE AND ENTERPRISE\", \"HIGH SCHOOL OF APPLIED COMMUNICATION\", \"CIVIC LEADERSHIP ACADEMY\", \"PAN AMERICAN INTERNATIONAL HIGH SCHOOL\", \"BARD HIGH SCHOOL EARLY COLLEGE II\", \"NEWTOWN HIGH SCHOOL\", \"GROVER CLEVELAND HIGH SCHOOL\", \"MIDDLE COLLEGE HIGH SCHOOL AT LAGUARDIA COMMUNITY COLLEGE\", \"INTERNATIONAL HIGH SCHOOL AT LAGUARDIA COMMUNITY COLLEGE\", \"HIGH SCHOOL FOR ARTS AND BUSINESS\", \"ROBERT F. WAGNER, JR. SECONDARY SCHOOL FOR ARTS AND TECHNOLOGY\", \"QUEENS VOCATIONAL AND TECHNICAL HIGH SCHOOL\", \"AVIATION CAREER & TECHNICAL EDUCATION HIGH SCHOOL\", \"QUEENS SCHOOL OF INQUIRY, THE\", \"FLUSHING INTERNATIONAL HIGH SCHOOL\", \"EASTsWEST SCHOOL OF INTERNATIONAL STUDIES\", \"WORLD JOURNALISM PREPARATORY: A COLLEGE BOARD SCHOOL\", \"JOHN BOWNE HIGH SCHOOL\", \"FLUSHING HIGH SCHOOL\", \"TOWNSEND HARRIS HIGH SCHOOL\", \"ROBERT F. KENNEDY COMMUNITY HIGH SCHOOL\", \"BENJAMIN N. CARDOZO HIGH SCHOOL\", \"FRANCIS LEWIS HIGH SCHOOL\", \"MARTIN VAN BUREN HIGH SCHOOL\", \"BAYSIDE HIGH SCHOOL\", \"QUEENS HIGH SCHOOL OF TEACHING, LIBERAL ARTS AND THE SCIENCES\", \"FREDERICK DOUGLASS ACADEMY VI HIGH SCHOOL\", \"CHANNEL VIEW SCHOOL FOR RESEARCH\", \"QUEENS HIGH SCHOOL FOR INFORMATION, RESEARCH, AND TECHNOLOGY\", \"ROBERT H. GODDARD HIGH SCHOOL OF COMMUNICATION ARTS AND TECHNOLOGY\", \"ACADEMY OF MEDICAL TECHNOLOGY: A COLLEGE BOARD SCHOOL\", \"SCHOLARS' ACADEMY\", \"AUGUST MARTIN HIGH SCHOOL\", \"RICHMOND HILL HIGH SCHOOL\", \"JOHN ADAMS HIGH SCHOOL\", \"HIGH SCHOOL FOR CONSTRUCTION TRADES, ENGINEERING AND ARCHITECTURE\", \"YORK EARLY COLLEGE ACADEMY\", \"QUEENS COLLEGIATE: A COLLEGE BOARD SCHOOL\", \"HILLSIDE ARTS & LETTERS ACADEMY\", \"FOREST HILLS HIGH SCHOOL\", \"HILLCREST HIGH SCHOOL\", \"THOMAS A. EDISON CAREER AND TECHNICAL EDUCATION HIGH SCHOOL\", \"QUEENS GATEWAY TO HEALTH SCIENCES SECONDARY SCHOOL\", \"QUEENS METROPOLITAN HIGH SCHOOL\", \"QUEENS HIGH SCHOOL FOR THE SCIENCES AT YORK COLLEGE\", \"HIGH SCHOOL FOR LAW ENFORCEMENT AND PUBLIC SAFETY\", \"YOUNG WOMEN'S LEADERSHIP SCHOOL, QUEENS\", \"QUEENS PREPARATORY ACADEMY\", \"PATHWAYS COLLEGE PREPARATORY SCHOOL: A COLLEGE BOARD SCHOOL\", \"EXCELSIOR PREPARATORY HIGH SCHOOL\", \"GEORGE WASHINGTON CARVER HIGH SCHOOL FOR THE SCIENCES\", \"PREPARATORY ACADEMY FOR WRITERS: A COLLEGE BOARD SCHOOL\", \"CAMBRIA HEIGHTS ACADEMY\", \"MATHEMATICS, SCIENCE RESEARCH AND TECHNOLOGY MAGNET HIGH SCHOOL\", \"HUMANITIES & ARTS MAGNET HIGH SCHOOL\", \"YOUNG WOMEN'S LEADERSHIP SCHOOL, ASTORIA\", \"ACADEMY FOR CAREERS IN TELEVISION AND FILM\", \"WILLIAM CULLEN BRYANT HIGH SCHOOL\", \"LONG ISLAND CITY HIGH SCHOOL\", \"FRANK SINATRA SCHOOL OF THE ARTS HIGH SCHOOL\", \"INFORMATION TECHNOLOGY HIGH SCHOOL\", \"NEWCOMERS HIGH SCHOOL\", \"ACADEMY OF AMERICAN STUDIES\", \"BACCALAUREATE SCHOOL FOR GLOBAL EDUCATION\", \"CSI HIGH SCHOOL FOR INTERNATIONAL STUDIES\", \"GAYNOR MCCOWN EXPEDITIONARY LEARNING SCHOOL\", \"THE MICHAEL J. PETRIDES SCHOOL\", \"NEW DORP HIGH SCHOOL\", \"PORT RICHMOND HIGH SCHOOL\", \"CURTIS HIGH SCHOOL\", \"TOTTENVILLE HIGH SCHOOL\", \"SUSAN E. WAGNER HIGH SCHOOL\", \"RALPH R. MCKEE CAREER AND TECHNICAL EDUCATION HIGH SCHOOL\", \"STATEN ISLAND TECHNICAL HIGH SCHOOL\", \"ACADEMY FOR ENVIRONMENTAL LEADERSHIP\", \"EBC HIGH SCHOOL FOR PUBLIC SERVICE\\u2013BUSHWICK\", \"BUSHWICK SCHOOL FOR SOCIAL JUSTICE\", \"ACADEMY OF URBAN PLANNING\", \"ALL CITY LEADERSHIP SECONDARY SCHOOL\", \"BUSHWICK LEADERS HIGH SCHOOL FOR ACADEMIC EXCELLENCE\"], \"type\": \"scatter\", \"x\": [30.575555960627053, 9.898477157360407, 3.177257525083612, 35.157723747642, 15.809051456912584, 20.912292731579605, 74.15450928381964, 29.798809735299344, 37.61773940345369, 30.79447402239765, 5.072463768115942, 22.96983758700696, 9.312638580931264, 8.012820512820513, 38.40144230769231, 34.13461538461539, 26.066433566433567, 29.798809735299344, 38.86411028730306, 42.44369939271255, 52.88067465321564, 15.27977044476327, 3.9840637450199203, 18.055555555555554, 19.689119170984455, 29.593772053634442, 30.57199211045365, 13.738019169329075, 30.6481819842865, 11.538461538461538, 11.532125205930807, 73.73076923076923, 57.09240980258679, 73.3118444055944, 9.79020979020979, 29.06055093555094, 3.6923076923076925, 45.799211404306945, 12.484548825710753, 54.442551119766314, 6.109979633401222, 5.692233478051134, 11.049723756906078, 59.460297766749385, 12.384473197781885, 30.50327332242226, 17.280453257790366, 1.627906976744186, 10.98360655737705, 4.377736085053159, 67.20252403846155, 11.158798283261802, 6.25, 6.97350069735007, 30.868145012881858, 35.25378310214376, 45.59323185648274, 36.04157713794586, 12.5968992248062, 58.917281348788194, 14.285714285714285, 26.525911708253357, 23.850063984075078, 6.301824212271974, 28.483188996434034, 2.663438256658596, 5.157593123209169, 19.87878787878788, 36.97101608992727, 28.995246326707004, 9.131403118040089, 28.736936782593798, 43.887362637362635, 2.5821596244131455, 27.221275559883157, 4.0, 34.499691484985604, 10.475578406169666, 6.379310344827586, 28.078817733990146, 22.018574428983985, 24.813239644970416, 21.43336314847943, 72.4881158167675, 17.142857142857142, 6.468531468531468, 20.31700288184438, 4.712812960235641, 12.840466926070038, 18.64406779661017, 10.128617363344052, 32.83176746917205, 40.44791415481071, 35.545136681500324, 27.748138957816376, 11.895910780669144, 4.180064308681672, 5.9760956175298805, 4.699738903394255, 27.050072568940497, 9.54954954954955, 1.4905149051490514, 10.391822827938672, 25.805769230769233, 5.540897097625329, 4.690831556503198, 35.9411827726591, 7.056451612903227, 6.006006006006006, 29.867788461538463, 11.967715001391594, 83.24441687344914, 35.545136681500324, 28.60950025584172, 36.346153846153854, 5.818181818181818, 2.6402640264026402, 25.280898876404496, 36.448826597131685, 13.963963963963963, 1.9178082191780823, 7.391304347826087, 28.673076923076923, 26.172179747230455, 4.297994269340974, 5.952380952380952, 32.01708341286505, 33.427162216022325, 6.483790523690773, 28.357988165680474, 5.897771952817824, 4.887218045112782, 5.673758865248227, 39.94701119314122, 9.947643979057592, 24.0990990990991, 3.2442748091603053, 2.7777777777777777, 3.930817610062893, 6.438631790744467, 4.976303317535545, 9.075907590759076, 3.5523978685612785, 39.82371794871795, 13.107822410147993, 7.616707616707617, 33.34078711985689, 9.312638580931264, 10.185185185185185, 8.800192353931234, 7.328605200945626, 39.495519415864585, 18.201754385964914, 7.640449438202247, 24.39108622946052, 51.45888594164456, 34.22515813099368, 6.6350710900473935, 26.769470156399617, 3.9603960396039604, 23.45979020979021, 14.548802946593002, 26.714046822742475, 7.228915662650602, 5.383022774327122, 5.80936266215454, 2.9850746268656714, 31.01654955621302, 9.072978303747535, 26.937128633370804, 31.01654955621302, 7.374631268436578, 35.64332766680833, 30.868145012881858, 5.169628432956381, 3.463203463203463, 31.780503978779844, 57.86046912728528, 52.88067465321564, 34.967166979362105, 27.050072568940497, 3.717472118959108, 27.68859359524596, 3.837471783295711, 29.937087274674283, 4.545454545454546, 10.058027079303674, 39.70367591897975, 35.157723747642, 6.888888888888889, 8.755129958960328, 27.511481056257175, 11.716621253405995, 3.7756202804746493, 14.748603351955309, 38.51607347876005, 1.8497109826589597, 29.78723404255319, 27.570266272189354, 32.91552197802198, 4.681647940074907, 3.1620553359683794, 9.631147540983607, 7.000000000000001, 6.0, 5.37261698440208, 24.483652021602687, 17.846313437599743, 74.58314806580702, 59.187544107268884, 36.448826597131685, 18.645787016451756, 27.278825825337456, 6.547619047619048, 32.748438110113234, 6.172839506172839, 3.770739064856712, 19.03080326752893, 13.059599813142325, 29.39153670930437, 1.3488657265481299, 12.098765432098766, 81.15021770682148, 11.327433628318584, 40.44791415481071, 32.176769614425474, 5.830903790087463, 33.427162216022325, 31.780503978779844, 5.454545454545454, 30.575555960627053, 24.76561346522959, 25.41966426858513, 10.40339702760085, 8.980582524271846, 24.637681159420293, 8.395522388059701, 33.77718485702779, 38.9815245177783, 33.77718485702779, 43.887362637362635, 39.701183431952664, 44.03714885796797, 41.62220843672457, 43.153460252122464, 28.0497491638796, 47.09081976417743, 42.30453972257251, 29.798809735299344, 33.86583888552393, 2.9925187032418954, 28.483188996434034, 5.7894736842105265, 10.83743842364532, 10.478359908883828, 31.937833206397563, 32.50096880449526, 4.805491990846682, 7.796610169491526, 41.488374969082365, 5.311355311355311, 19.609375, 8.350877192982455, 7.335907335907336, 34.499691484985604, 37.61773940345369, 7.0686070686070686, 2.7027027027027026, 5.1252408477842, 27.33661994784876, 9.870711089010442, 10.70110701107011, 51.40591480232914, 57.09240980258679, 13.496741229481815, 4.4520547945205475, 19.390942217595004, 10.500650195058519, 35.90998043052838, 20.480769230769234, 2.586206896551724, 10.684931506849315, 5.830388692579505, 22.61904761904762, 11.855670103092782, 28.736936782593798, 35.25378310214376, 20.448311593319517, 6.765163297045102, 9.666505558240695, 25.961538461538463, 26.172179747230455, 23.91304347826087, 21.46902598233713, 1.9736842105263157, 5.906406179009541, 21.981064080723367, 30.575555960627053, 20.94624125874126, 10.92436974789916, 4.808743169398907, 10.407966591712174, 53.771929824561404, 10.679611650485436, 17.280163599182004, 16.78709055876686, 2.9707112970711296, 14.510278113663846, 10.788365063030616, 28.995246326707004, 6.761006289308176, 41.62220843672457, 22.32332978440245, 24.483652021602687, 5.178907721280603, 1.84645286686103, 5.493230174081238, 4.134672179562906, 9.848484848484848, 26.386267107126006, 24.39108622946052, 64.51442307692308, 19.118414188836724, 7.7666774089590715, 8.126110124333925, 11.36653895274585, 19.461364427427778, 51.43540669856459, 3.544776119402985, 1.1764705882352942, 3.4013605442176873, 5.225225225225225, 29.126150373328702, 2.9535864978902953, 8.456659619450317, 87.77472527472527, 5.339805825242718, 26.825123940508554, 26.066433566433567, 30.79447402239765, 8.251273344651953, 11.990549320732427, 14.285714285714285, 5.561613958560523, 12.768240343347639, 14.346590909090908, 29.324737762237763, 24.25354251012146, 31.624717194570138, 12.385321100917432, 3.611738148984198, 9.019060901906089, 9.678683385579937, 10.219354838709679, 8.603145235892692, 19.115384615384617, 47.82608695652174, 35.64332766680833, 7.755775577557755, 29.730148883374692, 19.09547738693467, 2.6615969581749046, 7.35930735930736], \"y\": [1122.0, 1172.0, 1149.0, 1207.0, 1621.0, 1856.0, 1182.0, 1194.0, 1156.0, 1111.0, 1293.0, 1269.0, 1051.0, 1148.0, 1200.0, 1127.0, 1176.0, 1435.0, 1223.4388059701494, 1223.4388059701494, 1223.4388059701494, 1419.0, 1522.0, 1577.0, 1677.0, 1419.0, 1758.0, 1614.0, 1170.0, 1306.0, 1233.0, 1223.4388059701494, 1223.4388059701494, 1223.4388059701494, 1372.0, 1199.0, 1227.0, 2096.0, 1374.0, 1070.0, 1416.0, 1240.0, 1239.0, 1253.0, 1058.0, 1168.0, 1424.0, 1212.0, 1195.0, 1257.0, 1255.0, 1207.0, 1315.0, 1236.0, 1132.0, 1144.0, 1223.4388059701494, 1223.4388059701494, 1109.0, 1223.4388059701494, 1744.0, 1707.0, 1196.0, 1277.0, 1446.0, 1096.0, 1084.0, 1430.0, 1128.0, 1221.0, 1326.0, 1326.0, 1054.0, 1210.0, 1223.4388059701494, 1062.0, 1077.0, 1374.0, 1202.0, 1847.0, 1270.0, 1105.0, 1174.0, 1223.4388059701494, 1127.0, 1098.0, 1102.0, 1224.0, 1309.0, 1014.0, 1090.0, 945.0, 1077.0, 1097.0, 1201.0, 1257.0, 1186.0, 1103.0, 1084.0, 1181.0, 1201.0, 1158.0, 1095.0, 1223.4388059701494, 1171.0, 1158.0, 1038.0, 1164.0, 1084.0, 1223.4388059701494, 1241.0, 1223.4388059701494, 1099.0, 1131.0, 1049.0, 1134.0, 1290.0, 1169.0, 1092.0, 1396.0, 1075.0, 1081.0, 1148.0, 1223.4388059701494, 1138.0, 951.0, 965.0, 1074.0, 1083.0, 1221.0, 1224.0, 1121.0, 1166.0, 1039.0, 1333.0, 1150.0, 1190.0, 1157.0, 1158.0, 962.0, 1182.0, 934.0, 1181.0, 1180.0, 1106.0, 1222.0, 1077.0, 1119.0, 1082.0, 1255.0, 1270.0, 1969.0, 1263.0, 1064.0, 1115.0, 1920.0, 1133.0, 1147.0, 1135.0, 1141.0, 1111.0, 1348.0, 1135.0, 1169.0, 1268.0, 1151.0, 1048.0, 1112.0, 1288.0, 1126.0, 1163.0, 1055.0, 1122.0, 1251.0, 1102.0, 1155.0, 970.0, 1223.4388059701494, 1223.4388059701494, 939.0, 1029.0, 1114.0, 1038.0, 1074.0, 1080.0, 1114.0, 1211.0, 1833.0, 981.0, 1206.0, 1116.0, 1223.4388059701494, 1312.0, 1189.0, 1391.0, 1353.0, 1085.0, 1223.4388059701494, 1740.0, 1189.0, 1114.0, 1204.0, 1215.0, 1090.0, 1112.0, 1187.0, 1103.0, 1093.0, 1122.0, 1035.0, 1111.0, 1179.0, 1203.0, 1169.0, 1175.0, 1212.0, 1185.0, 1258.0, 1223.4388059701494, 1068.0, 1097.0, 1092.0, 1223.4388059701494, 1139.0, 1045.0, 913.0, 1176.0, 1088.0, 1153.0, 1027.0, 1105.0, 1360.0, 1273.0, 1143.0, 1151.0, 1436.0, 1251.0, 963.0, 1145.0, 1118.0, 1092.0, 1143.0, 1080.0, 1183.0, 1169.0, 1159.0, 1111.0, 1135.0, 1242.0, 1023.0, 1054.0, 1149.0, 1106.0, 887.0, 1193.0, 1096.0, 1108.0, 1129.0, 1102.0, 1157.0, 1272.0, 1323.0, 1306.0, 1244.0, 1223.4388059701494, 1026.0, 1237.0, 1164.0, 1226.0, 1223.4388059701494, 1431.0, 1262.0, 1124.0, 1079.0, 1184.0, 1313.0, 1473.0, 1350.0, 1627.0, 1352.0, 1185.0, 1091.0, 1196.0, 1280.0, 1219.0, 1240.0, 951.0, 1663.0, 1203.0, 1211.0, 1177.0, 1064.0, 1174.0, 1330.0, 1270.0, 1364.0, 1396.0, 1049.0, 1271.0, 1441.0, 1243.0, 1216.0, 1910.0, 1330.0, 1514.0, 1474.0, 1172.0, 1449.0, 1279.0, 1145.0, 1252.0, 1156.0, 1265.0, 1094.0, 1532.0, 1108.0, 1154.0, 1192.0, 1345.0, 1223.4388059701494, 1265.0, 1223.4388059701494, 1407.0, 1194.0, 1372.0, 1538.0, 1223.4388059701494, 1868.0, 1196.0, 1316.0, 1099.0, 1173.0, 1202.0, 1287.0, 1100.0, 1223.4388059701494, 1220.0, 1151.0, 1223.4388059701494, 1255.0, 1275.0, 1218.0, 1494.0, 1239.0, 1127.0, 1470.0, 1636.0, 1353.0, 1195.0, 1426.0, 1277.0, 1279.0, 1301.0, 1418.0, 1388.0, 1235.0, 1953.0, 1098.0, 1154.0, 1035.0, 1060.0, 1315.0, 1055.0]}],\n",
       "                        {\"shapes\": [{\"line\": {\"color\": \"grey\", \"dash\": \"dashdot\", \"width\": 1}, \"type\": \"line\", \"x0\": -8, \"x1\": 108, \"y0\": 1223.438805970149, \"y1\": 1223.438805970149}, {\"line\": {\"color\": \"grey\", \"dash\": \"dashdot\", \"width\": 1}, \"type\": \"line\", \"x0\": 21.050294828886546, \"x1\": 21.050294828886546, \"y0\": 800, \"y1\": 2200}], \"template\": {\"data\": {\"bar\": [{\"error_x\": {\"color\": \"#2a3f5f\"}, \"error_y\": {\"color\": \"#2a3f5f\"}, \"marker\": {\"line\": {\"color\": \"#E5ECF6\", \"width\": 0.5}}, \"type\": \"bar\"}], \"barpolar\": [{\"marker\": {\"line\": {\"color\": \"#E5ECF6\", \"width\": 0.5}}, \"type\": \"barpolar\"}], \"carpet\": [{\"aaxis\": {\"endlinecolor\": \"#2a3f5f\", \"gridcolor\": \"white\", \"linecolor\": \"white\", \"minorgridcolor\": \"white\", \"startlinecolor\": \"#2a3f5f\"}, \"baxis\": {\"endlinecolor\": \"#2a3f5f\", \"gridcolor\": \"white\", \"linecolor\": \"white\", \"minorgridcolor\": \"white\", \"startlinecolor\": \"#2a3f5f\"}, \"type\": \"carpet\"}], \"choropleth\": [{\"colorbar\": {\"outlinewidth\": 0, \"ticks\": \"\"}, \"type\": \"choropleth\"}], \"contour\": [{\"colorbar\": {\"outlinewidth\": 0, \"ticks\": \"\"}, \"colorscale\": [[0.0, \"#0d0887\"], [0.1111111111111111, \"#46039f\"], [0.2222222222222222, \"#7201a8\"], [0.3333333333333333, \"#9c179e\"], [0.4444444444444444, \"#bd3786\"], [0.5555555555555556, \"#d8576b\"], [0.6666666666666666, \"#ed7953\"], [0.7777777777777778, \"#fb9f3a\"], [0.8888888888888888, \"#fdca26\"], [1.0, \"#f0f921\"]], \"type\": \"contour\"}], \"contourcarpet\": [{\"colorbar\": {\"outlinewidth\": 0, \"ticks\": \"\"}, \"type\": \"contourcarpet\"}], \"heatmap\": [{\"colorbar\": {\"outlinewidth\": 0, \"ticks\": \"\"}, \"colorscale\": [[0.0, \"#0d0887\"], [0.1111111111111111, \"#46039f\"], [0.2222222222222222, \"#7201a8\"], [0.3333333333333333, \"#9c179e\"], [0.4444444444444444, \"#bd3786\"], [0.5555555555555556, \"#d8576b\"], [0.6666666666666666, \"#ed7953\"], [0.7777777777777778, \"#fb9f3a\"], [0.8888888888888888, \"#fdca26\"], [1.0, \"#f0f921\"]], \"type\": \"heatmap\"}], \"heatmapgl\": [{\"colorbar\": {\"outlinewidth\": 0, \"ticks\": \"\"}, \"colorscale\": [[0.0, \"#0d0887\"], [0.1111111111111111, \"#46039f\"], [0.2222222222222222, \"#7201a8\"], [0.3333333333333333, \"#9c179e\"], [0.4444444444444444, \"#bd3786\"], [0.5555555555555556, \"#d8576b\"], [0.6666666666666666, \"#ed7953\"], [0.7777777777777778, \"#fb9f3a\"], [0.8888888888888888, \"#fdca26\"], [1.0, \"#f0f921\"]], \"type\": \"heatmapgl\"}], \"histogram\": [{\"marker\": {\"colorbar\": {\"outlinewidth\": 0, \"ticks\": \"\"}}, \"type\": \"histogram\"}], \"histogram2d\": [{\"colorbar\": {\"outlinewidth\": 0, \"ticks\": \"\"}, \"colorscale\": [[0.0, \"#0d0887\"], [0.1111111111111111, \"#46039f\"], [0.2222222222222222, \"#7201a8\"], [0.3333333333333333, \"#9c179e\"], [0.4444444444444444, \"#bd3786\"], [0.5555555555555556, \"#d8576b\"], [0.6666666666666666, \"#ed7953\"], [0.7777777777777778, \"#fb9f3a\"], [0.8888888888888888, \"#fdca26\"], [1.0, \"#f0f921\"]], \"type\": \"histogram2d\"}], \"histogram2dcontour\": [{\"colorbar\": {\"outlinewidth\": 0, \"ticks\": \"\"}, \"colorscale\": [[0.0, \"#0d0887\"], [0.1111111111111111, \"#46039f\"], [0.2222222222222222, \"#7201a8\"], [0.3333333333333333, \"#9c179e\"], [0.4444444444444444, \"#bd3786\"], [0.5555555555555556, \"#d8576b\"], [0.6666666666666666, \"#ed7953\"], [0.7777777777777778, \"#fb9f3a\"], [0.8888888888888888, \"#fdca26\"], [1.0, \"#f0f921\"]], \"type\": \"histogram2dcontour\"}], \"mesh3d\": [{\"colorbar\": {\"outlinewidth\": 0, \"ticks\": \"\"}, \"type\": \"mesh3d\"}], \"parcoords\": [{\"line\": {\"colorbar\": {\"outlinewidth\": 0, \"ticks\": \"\"}}, \"type\": \"parcoords\"}], \"pie\": [{\"automargin\": true, \"type\": \"pie\"}], \"scatter\": [{\"marker\": {\"colorbar\": {\"outlinewidth\": 0, \"ticks\": \"\"}}, \"type\": \"scatter\"}], \"scatter3d\": [{\"line\": {\"colorbar\": {\"outlinewidth\": 0, \"ticks\": \"\"}}, \"marker\": {\"colorbar\": {\"outlinewidth\": 0, \"ticks\": \"\"}}, \"type\": \"scatter3d\"}], \"scattercarpet\": [{\"marker\": {\"colorbar\": {\"outlinewidth\": 0, \"ticks\": \"\"}}, \"type\": \"scattercarpet\"}], \"scattergeo\": [{\"marker\": {\"colorbar\": {\"outlinewidth\": 0, \"ticks\": \"\"}}, \"type\": \"scattergeo\"}], \"scattergl\": [{\"marker\": {\"colorbar\": {\"outlinewidth\": 0, \"ticks\": \"\"}}, \"type\": \"scattergl\"}], \"scattermapbox\": [{\"marker\": {\"colorbar\": {\"outlinewidth\": 0, \"ticks\": \"\"}}, \"type\": \"scattermapbox\"}], \"scatterpolar\": [{\"marker\": {\"colorbar\": {\"outlinewidth\": 0, \"ticks\": \"\"}}, \"type\": \"scatterpolar\"}], \"scatterpolargl\": [{\"marker\": {\"colorbar\": {\"outlinewidth\": 0, \"ticks\": \"\"}}, \"type\": \"scatterpolargl\"}], \"scatterternary\": [{\"marker\": {\"colorbar\": {\"outlinewidth\": 0, \"ticks\": \"\"}}, \"type\": \"scatterternary\"}], \"surface\": [{\"colorbar\": {\"outlinewidth\": 0, \"ticks\": \"\"}, \"colorscale\": [[0.0, \"#0d0887\"], [0.1111111111111111, \"#46039f\"], [0.2222222222222222, \"#7201a8\"], [0.3333333333333333, \"#9c179e\"], [0.4444444444444444, \"#bd3786\"], [0.5555555555555556, \"#d8576b\"], [0.6666666666666666, \"#ed7953\"], [0.7777777777777778, \"#fb9f3a\"], [0.8888888888888888, \"#fdca26\"], [1.0, \"#f0f921\"]], \"type\": \"surface\"}], \"table\": [{\"cells\": {\"fill\": {\"color\": \"#EBF0F8\"}, \"line\": {\"color\": \"white\"}}, \"header\": {\"fill\": {\"color\": \"#C8D4E3\"}, \"line\": {\"color\": \"white\"}}, \"type\": \"table\"}]}, \"layout\": {\"annotationdefaults\": {\"arrowcolor\": \"#2a3f5f\", \"arrowhead\": 0, \"arrowwidth\": 1}, \"coloraxis\": {\"colorbar\": {\"outlinewidth\": 0, \"ticks\": \"\"}}, \"colorscale\": {\"diverging\": [[0, \"#8e0152\"], [0.1, \"#c51b7d\"], [0.2, \"#de77ae\"], [0.3, \"#f1b6da\"], [0.4, \"#fde0ef\"], [0.5, \"#f7f7f7\"], [0.6, \"#e6f5d0\"], [0.7, \"#b8e186\"], [0.8, \"#7fbc41\"], [0.9, \"#4d9221\"], [1, \"#276419\"]], \"sequential\": [[0.0, \"#0d0887\"], [0.1111111111111111, \"#46039f\"], [0.2222222222222222, \"#7201a8\"], [0.3333333333333333, \"#9c179e\"], [0.4444444444444444, \"#bd3786\"], [0.5555555555555556, \"#d8576b\"], [0.6666666666666666, \"#ed7953\"], [0.7777777777777778, \"#fb9f3a\"], [0.8888888888888888, \"#fdca26\"], [1.0, \"#f0f921\"]], \"sequentialminus\": [[0.0, \"#0d0887\"], [0.1111111111111111, \"#46039f\"], [0.2222222222222222, \"#7201a8\"], [0.3333333333333333, \"#9c179e\"], [0.4444444444444444, \"#bd3786\"], [0.5555555555555556, \"#d8576b\"], [0.6666666666666666, \"#ed7953\"], [0.7777777777777778, \"#fb9f3a\"], [0.8888888888888888, \"#fdca26\"], [1.0, \"#f0f921\"]]}, \"colorway\": [\"#636efa\", \"#EF553B\", \"#00cc96\", \"#ab63fa\", \"#FFA15A\", \"#19d3f3\", \"#FF6692\", \"#B6E880\", \"#FF97FF\", \"#FECB52\"], \"font\": {\"color\": \"#2a3f5f\"}, \"geo\": {\"bgcolor\": \"white\", \"lakecolor\": \"white\", \"landcolor\": \"#E5ECF6\", \"showlakes\": true, \"showland\": true, \"subunitcolor\": \"white\"}, \"hoverlabel\": {\"align\": \"left\"}, \"hovermode\": \"closest\", \"mapbox\": {\"style\": \"light\"}, \"paper_bgcolor\": \"white\", \"plot_bgcolor\": \"#E5ECF6\", \"polar\": {\"angularaxis\": {\"gridcolor\": \"white\", \"linecolor\": \"white\", \"ticks\": \"\"}, \"bgcolor\": \"#E5ECF6\", \"radialaxis\": {\"gridcolor\": \"white\", \"linecolor\": \"white\", \"ticks\": \"\"}}, \"scene\": {\"xaxis\": {\"backgroundcolor\": \"#E5ECF6\", \"gridcolor\": \"white\", \"gridwidth\": 2, \"linecolor\": \"white\", \"showbackground\": true, \"ticks\": \"\", \"zerolinecolor\": \"white\"}, \"yaxis\": {\"backgroundcolor\": \"#E5ECF6\", \"gridcolor\": \"white\", \"gridwidth\": 2, \"linecolor\": \"white\", \"showbackground\": true, \"ticks\": \"\", \"zerolinecolor\": \"white\"}, \"zaxis\": {\"backgroundcolor\": \"#E5ECF6\", \"gridcolor\": \"white\", \"gridwidth\": 2, \"linecolor\": \"white\", \"showbackground\": true, \"ticks\": \"\", \"zerolinecolor\": \"white\"}}, \"shapedefaults\": {\"line\": {\"color\": \"#2a3f5f\"}}, \"ternary\": {\"aaxis\": {\"gridcolor\": \"white\", \"linecolor\": \"white\", \"ticks\": \"\"}, \"baxis\": {\"gridcolor\": \"white\", \"linecolor\": \"white\", \"ticks\": \"\"}, \"bgcolor\": \"#E5ECF6\", \"caxis\": {\"gridcolor\": \"white\", \"linecolor\": \"white\", \"ticks\": \"\"}}, \"title\": {\"x\": 0.05}, \"xaxis\": {\"automargin\": true, \"gridcolor\": \"white\", \"linecolor\": \"white\", \"ticks\": \"\", \"title\": {\"standoff\": 15}, \"zerolinecolor\": \"white\", \"zerolinewidth\": 2}, \"yaxis\": {\"automargin\": true, \"gridcolor\": \"white\", \"linecolor\": \"white\", \"ticks\": \"\", \"title\": {\"standoff\": 15}, \"zerolinecolor\": \"white\", \"zerolinewidth\": 2}}}, \"title\": {\"text\": \"The NYC schools:<br> SAT score VS share of AP Test takers\"}, \"xaxis\": {\"title\": {\"text\": \"Percentage of AP Test Takers\"}}, \"yaxis\": {\"title\": {\"text\": \"SAT score\"}}},\n",
       "                        {\"responsive\": true}\n",
       "                    ).then(function(){\n",
       "                            \n",
       "var gd = document.getElementById('7105c5f7-f9f5-47ec-9a6b-84cb2857589a');\n",
       "var x = new MutationObserver(function (mutations, observer) {{\n",
       "        var display = window.getComputedStyle(gd).display;\n",
       "        if (!display || display === 'none') {{\n",
       "            console.log([gd, 'removed!']);\n",
       "            Plotly.purge(gd);\n",
       "            observer.disconnect();\n",
       "        }}\n",
       "}});\n",
       "\n",
       "// Listen for the removal of the full notebook cells\n",
       "var notebookContainer = gd.closest('#notebook-container');\n",
       "if (notebookContainer) {{\n",
       "    x.observe(notebookContainer, {childList: true});\n",
       "}}\n",
       "\n",
       "// Listen for the clearing of the current output cell\n",
       "var outputEl = gd.closest('.output');\n",
       "if (outputEl) {{\n",
       "    x.observe(outputEl, {childList: true});\n",
       "}}\n",
       "\n",
       "                        })\n",
       "                };\n",
       "                });\n",
       "            </script>\n",
       "        </div>"
      ]
     },
     "metadata": {},
     "output_type": "display_data"
    }
   ],
   "source": [
    "combined[\"ap_per\"] = combined[\"AP Test Takers \"] / combined[\"total_enrollment\"]*100\n",
    "\n",
    "#build scatter plot to map SAT score and share of female students per each school \n",
    "\n",
    "fig = go.Figure(data=go.Scatter(x=combined['ap_per'], y=combined['sat_score'],\n",
    "                   marker=dict(\n",
    "                       size=15,\n",
    "                       color = combined['ap_per'],\n",
    "                       colorscale='Viridis',\n",
    "                       opacity=0.4),\n",
    "                   mode='markers',marker_line_width=1.5,text=combined['SCHOOL NAME']))\n",
    "\n",
    "fig.add_shape(\n",
    "        # add horizonal line\n",
    "        dict(\n",
    "            type=\"line\",\n",
    "            x0=-8,\n",
    "            y0=combined['sat_score'].mean(),\n",
    "            x1=108,\n",
    "            y1=combined['sat_score'].mean(),\n",
    "            line=dict(\n",
    "                color=\"grey\",\n",
    "                width=1,\n",
    "                dash=\"dashdot\"\n",
    "            )\n",
    "))\n",
    "\n",
    "fig.add_shape(\n",
    "        # add vertical line\n",
    "        dict(\n",
    "            type=\"line\",\n",
    "            x0=combined['ap_per'].mean(),\n",
    "            y0=800,\n",
    "            x1=combined['ap_per'].mean(),\n",
    "            y1=2200,\n",
    "            line=dict(\n",
    "                color=\"grey\",\n",
    "                width=1,\n",
    "                dash=\"dashdot\"\n",
    "            )\n",
    "))\n",
    "\n",
    "fig.update_layout(\n",
    "    title=\"The NYC schools:<br> SAT score VS share of AP Test takers\",\n",
    "    xaxis_title=\"Percentage of AP Test Takers\",\n",
    "    yaxis_title=\"SAT score\",\n",
    ")\n",
    "fig.show()"
   ]
  },
  {
   "cell_type": "markdown",
   "metadata": {},
   "source": [
    "__Advanced Placement (AP)__ is a program in the United States and Canada created by the College Board which offers college-level curricula and examinations to high school students.\n",
    "\n",
    "According to the graph above we can make two distinct observations:\n",
    "- __Schools with SAT score above 1400__ tend to be selective college-preparatory public high schools with admission based on rigorous academic standards and criteria. It is not surprising that students from those school succeed on the SAT.\n",
    "- __Schools with SAT score below 1400 and above-average share of AP-test takers__ mainly cater to otherwise disadvantaged students. The range of AP courses is little and often limits to English literature and language - it is surprising, that these schools nonetheless score low on SAT's reading and writing sections.\n",
    "- __Schools with average SAT score and very high shares of AP-test takers__ most probably had missing data, so their SAT score was imputed. They are there not investigated any further.\n",
    "\n",
    "All in all, it looks like the share of AP-test takers is not a strong indicator for SAT-performance."
   ]
  },
  {
   "cell_type": "markdown",
   "metadata": {},
   "source": [
    "## Exploring districts with schools with the highest SAT score"
   ]
  },
  {
   "cell_type": "code",
   "execution_count": 22,
   "metadata": {},
   "outputs": [
    {
     "data": {
      "image/png": "[encoded data removed]",
      "text/plain": [
       "<Figure size 432x288 with 1 Axes>"
      ]
     },
     "metadata": {},
     "output_type": "display_data"
    }
   ],
   "source": [
    "from pylab import rcParams\n",
    "\n",
    "districts = combined.groupby(\"school_dist\").agg(numpy.mean)\n",
    "districts.reset_index(inplace=True)\n",
    "\n",
    "m = Basemap(\n",
    "    projection='merc', \n",
    "    llcrnrlat=40.496044, \n",
    "    urcrnrlat=40.915256, \n",
    "    llcrnrlon=-74.255735, \n",
    "    urcrnrlon=-73.700272,\n",
    "    resolution='h'\n",
    ")\n",
    "\n",
    "m.drawmapboundary(fill_color='#85A6D9')\n",
    "m.drawcoastlines(color='#6D5F47', linewidth=.4)\n",
    "m.drawrivers(color='#6D5F47', linewidth=.4)\n",
    "m.fillcontinents(color='white',lake_color='#85A6D9')\n",
    "\n",
    "longitudes = districts[\"lon\"].tolist()\n",
    "latitudes = districts[\"lat\"].tolist()\n",
    "m.scatter(longitudes, latitudes, s=50, zorder=2, latlon=True, c=districts[\"sat_score\"], cmap=\"summer\")\n",
    "rcParams['figure.figsize'] = (12,10)\n",
    "\n",
    "plt.show()"
   ]
  },
  {
   "cell_type": "markdown",
   "metadata": {},
   "source": [
    "The graph shows that high SAT scores can be expected from schools that are located either in Manhattan, Staten Island and some parts of Brooklyn and Queens. \n",
    "## Conclusions\n",
    "__NB__: This was mainly a technical challenge to learn data analysis techniques and tools in Python. Please refer to \"results\" at the beginning of this document or the respective headings of the individual sections for an overview of insights gained from the data.\n",
    "\n",
    "In this guided project we have applied the learnings of Step 2 of Dataquest's \"Data Analyst\" learning path. Some of the concepts include:\n",
    "\n",
    "- data aggregation using pandas methods like 'groupby;\n",
    "- regular expressions;\n",
    "- vectorized string operations;\n",
    "- combining dataset with joins and concatenation;\n",
    "- plotting with matplotlib and plotly."
   ]
  }
 ],
 "metadata": {
  "kernelspec": {
   "display_name": "Python 3",
   "language": "python",
   "name": "python3"
  },
  "language_info": {
   "codemirror_mode": {
    "name": "ipython",
    "version": 3
   },
   "file_extension": ".py",
   "mimetype": "text/x-python",
   "name": "python",
   "nbconvert_exporter": "python",
   "pygments_lexer": "ipython3",
   "version": "3.6.5"
  }
 },
 "nbformat": 4,
 "nbformat_minor": 2
}
